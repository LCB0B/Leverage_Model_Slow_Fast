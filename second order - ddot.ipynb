{
 "cells": [
  {
   "cell_type": "code",
   "execution_count": 149,
   "metadata": {},
   "outputs": [],
   "source": [
    "\n",
    "import numpy as np\n",
    "import matplotlib.pyplot as plt\n",
    "%matplotlib qt\n",
    "\n",
    "from sympy.solvers import solve\n",
    "from sympy import Symbol"
   ]
  },
  {
   "cell_type": "code",
   "execution_count": 150,
   "metadata": {},
   "outputs": [],
   "source": [
    "def second_order_minus(x,y,sgn,delta):\n",
    "    if sgn :\n",
    "        return(2*(-y+ 2*x**2/delta  +  2*np.sqrt(x**3+x**4/delta**2 +2*x**2 * y /delta+0.5*y**2)))\n",
    "    else : \n",
    "        sqr = x**3+x**4/delta**2 +2*x**2 * y /delta+0.5*y**2\n",
    "        return(2*(-y+ 2*x**2/delta  - 2*np.sqrt(x**3+x**4/delta**2 +2*x**2 * y /delta+0.5*y**2)))\n",
    "\n",
    "\n",
    "    \n",
    "    \n",
    "def second_order(x,y,sgn,delta):\n",
    "    if sgn :\n",
    "        return(2*(y+ 2*x**2/delta  +  2*np.sqrt(x**3+x**4/delta**2 +x**2 * y * (2+y/2) /delta)))\n",
    "    else : \n",
    "        sqr = x**3+x**4/delta**2 +2*x**2 * y /delta\n",
    "        return(2*(y + 2*x**2/delta -  2*np.sqrt(x**3+x**4/delta**2 +x**2 * y * (2+y/2)/delta)))\n",
    "\n",
    "def second_order(x,y,sgn,delta): # ddot in first derivative, dot order one, 2 for ln.\n",
    "    return(2*(-delta * x - y + delta/4*(1/4)*(y/x)**2*(1-4*x/y)))\n",
    "    \n",
    "def second_order(x,y,sgn,delta): # ddot in first derivative, dot and ln order one.\n",
    "    return(2*(-delta * x - y + delta/4*(y/x)**2))\n",
    "\n"
   ]
  },
  {
   "cell_type": "code",
   "execution_count": 151,
   "metadata": {},
   "outputs": [],
   "source": [
    "def sys(iv1, iv2, dt, time,function,sgn,delta):\n",
    "    n = int(time/dt)\n",
    "    t = np.linspace(0,time,n)\n",
    "    x = [iv1]* n\n",
    "    y = [iv2]* n\n",
    "    \n",
    "    for i in range(1,n):\n",
    "        y[i] = y[i-1] + function(x[i-1],y[i-1],sgn,delta)*dt\n",
    "        x[i] = x[i-1] + y[i-1]*dt\n",
    "        #z.append(z[i] + (h(x[i],y[i],z[i])) * dt)\n",
    "    return x, y\n",
    "\n",
    "def imp(sigma,delta):\n",
    "    return(-2 - np.sqrt(4-2*(delta*sigma+sigma**2/delta)),-2 + np.sqrt(4-2*(delta*sigma+sigma**2/delta)))\n",
    "\n",
    "def ddot(sigma,delta):\n",
    "    return(2*sigma**2/delta - 2*np.sqrt(sigma**4/delta**2+sigma**3),2*sigma**2/delta + 2*np.sqrt(sigma**4/delta**2+sigma**3))\n",
    "\n"
   ]
  },
  {
   "cell_type": "code",
   "execution_count": 152,
   "metadata": {},
   "outputs": [],
   "source": [
    "time = 2000\n",
    "dt = 0.01\n",
    "delta = 0.1\n",
    "sgn = False\n",
    "x,y = sys(0.1,0.1, dt,time,second_order,sgn,delta)\n",
    "\n",
    "n = int(time/dt)\n",
    "t = np.linspace(0,time,n)\n"
   ]
  },
  {
   "cell_type": "code",
   "execution_count": 153,
   "metadata": {},
   "outputs": [
    {
     "name": "stdout",
     "output_type": "stream",
     "text": [
      "301043081.3700448\n"
     ]
    }
   ],
   "source": [
    "fig = plt.figure(figsize=(15,5))\n",
    "fig.subplots_adjust(wspace = 0.5, hspace = 0.3)\n",
    "ax1 = fig.add_subplot(1,2,1)\n",
    "ax2 = fig.add_subplot(1,2,2)\n",
    "\n",
    "\n",
    "#ax1.plot(z, 'g-', label='prey')\n",
    "ax1.set_title(\"Dynamics in time\")\n",
    "ax1.set_xlabel(\"t\")\n",
    "ax1.grid()\n",
    "\n",
    "    \n",
    "ax1.plot(t,x, 'r-', label=r'$\\sigma=0$')\n",
    "ax1.plot(t,y, 'b-', label=r'$\\dot{\\sigma}=0$')\n",
    "\n",
    "a = np.linspace(0,0.4,10000)\n",
    "\n",
    "#ax2.plot(a,np.array(imp(a,delta))[0],'r+-')\n",
    "#ax2.plot(a,np.array(imp(a,delta))[1],'r+-')\n",
    "#ax2.plot(a,np.array(ddot(a,delta))[0])\n",
    "#ax2.plot(a,np.array(ddot(a,delta))[1])\n",
    "#ax2.plot(delta**2/3,imp(delta**2/3,delta),'go')\n",
    "ax2.plot(x, y,'g+',alpha=0.7)\n",
    "plt.grid()\n",
    "plt.show()\n",
    "print(x[-1])"
   ]
  },
  {
   "cell_type": "code",
   "execution_count": 114,
   "metadata": {},
   "outputs": [
    {
     "name": "stderr",
     "output_type": "stream",
     "text": [
      "C:\\Users\\kk\\Anaconda3\\lib\\site-packages\\ipykernel_launcher.py:23: RuntimeWarning: divide by zero encountered in true_divide\n"
     ]
    },
    {
     "ename": "NameError",
     "evalue": "name 'imp_domain' is not defined",
     "output_type": "error",
     "traceback": [
      "\u001b[1;31m---------------------------------------------------------------------------\u001b[0m",
      "\u001b[1;31mNameError\u001b[0m                                 Traceback (most recent call last)",
      "\u001b[1;32m<ipython-input-114-be8e12690135>\u001b[0m in \u001b[0;36m<module>\u001b[1;34m\u001b[0m\n\u001b[0;32m     25\u001b[0m \u001b[1;33m\u001b[0m\u001b[0m\n\u001b[0;32m     26\u001b[0m \u001b[0ma\u001b[0m\u001b[1;33m=\u001b[0m \u001b[0mnp\u001b[0m\u001b[1;33m.\u001b[0m\u001b[0mlinspace\u001b[0m\u001b[1;33m(\u001b[0m\u001b[1;36m10\u001b[0m\u001b[1;33m**\u001b[0m\u001b[1;33m-\u001b[0m\u001b[1;36m5\u001b[0m\u001b[1;33m,\u001b[0m\u001b[1;36m1\u001b[0m\u001b[1;33m,\u001b[0m\u001b[1;36m1000\u001b[0m\u001b[1;33m)\u001b[0m\u001b[1;33m\u001b[0m\u001b[1;33m\u001b[0m\u001b[0m\n\u001b[1;32m---> 27\u001b[1;33m \u001b[0max\u001b[0m\u001b[1;33m.\u001b[0m\u001b[0mplot\u001b[0m\u001b[1;33m(\u001b[0m\u001b[0ma\u001b[0m\u001b[1;33m,\u001b[0m\u001b[0mimp_domain\u001b[0m\u001b[1;33m(\u001b[0m\u001b[0ma\u001b[0m\u001b[1;33m,\u001b[0m\u001b[0mdelta\u001b[0m\u001b[1;33m)\u001b[0m\u001b[1;33m,\u001b[0m\u001b[0mcolor\u001b[0m\u001b[1;33m=\u001b[0m\u001b[1;34m'red'\u001b[0m\u001b[1;33m,\u001b[0m \u001b[0mlinestyle\u001b[0m\u001b[1;33m=\u001b[0m\u001b[1;34m'--'\u001b[0m\u001b[1;33m,\u001b[0m \u001b[0mlw\u001b[0m\u001b[1;33m=\u001b[0m\u001b[1;36m0.9\u001b[0m\u001b[1;33m,\u001b[0m \u001b[0mlabel\u001b[0m\u001b[1;33m=\u001b[0m\u001b[1;34m'sqrt=0'\u001b[0m\u001b[1;33m)\u001b[0m\u001b[1;33m\u001b[0m\u001b[1;33m\u001b[0m\u001b[0m\n\u001b[0m\u001b[0;32m     28\u001b[0m \u001b[1;33m\u001b[0m\u001b[0m\n\u001b[0;32m     29\u001b[0m \u001b[0max\u001b[0m\u001b[1;33m.\u001b[0m\u001b[0mset_xlabel\u001b[0m\u001b[1;33m(\u001b[0m\u001b[1;34mr'$\\sigma$'\u001b[0m\u001b[1;33m)\u001b[0m\u001b[1;33m\u001b[0m\u001b[1;33m\u001b[0m\u001b[0m\n",
      "\u001b[1;31mNameError\u001b[0m: name 'imp_domain' is not defined"
     ]
    }
   ],
   "source": [
    "\n",
    "x0,x1,y0,y1 = 0,1,-1,1\n",
    "\n",
    "x = np.linspace(x0,x1,40)\n",
    "y = np.linspace(y0,y1,30)\n",
    "\n",
    "fig, ax = plt.subplots()\n",
    "\n",
    "\n",
    "ax.grid()\n",
    "X, Y = np.meshgrid(x, y)\n",
    "u = Y\n",
    "v = second_order(X,Y,sgn,delta)\n",
    "\n",
    "n = -2\n",
    "color_array = np.sqrt(((v-n)/2)**2 + ((u-n)/2)**2)\n",
    "\n",
    "ax.set_xlim([x0,x1])\n",
    "ax.set_ylim([y0,y1])\n",
    "\n",
    "ax.quiver(X,Y,u,v, alpha=0.8)\n",
    "\n",
    "\n",
    "a= np.linspace(10**-5,1,1000)\n",
    "\n",
    "a= np.linspace(10**-5,1,1000)\n",
    "ax.plot(a,imp_domain(a,delta),color='red', linestyle='--', lw=0.9, label='sqrt=0')\n",
    "\n",
    "ax.set_xlabel(r'$\\sigma$')\n",
    "ax.set_ylabel(r'$\\dot{\\sigma}$')    \n",
    "    \n",
    "plt.savefig('quiver_plot_2nd.png', dpi=800)\n",
    "plt.show()"
   ]
  },
  {
   "cell_type": "code",
   "execution_count": null,
   "metadata": {},
   "outputs": [],
   "source": []
  }
 ],
 "metadata": {
  "kernelspec": {
   "display_name": "Python 3",
   "language": "python",
   "name": "python3"
  },
  "language_info": {
   "codemirror_mode": {
    "name": "ipython",
    "version": 3
   },
   "file_extension": ".py",
   "mimetype": "text/x-python",
   "name": "python",
   "nbconvert_exporter": "python",
   "pygments_lexer": "ipython3",
   "version": "3.7.3"
  }
 },
 "nbformat": 4,
 "nbformat_minor": 2
}
