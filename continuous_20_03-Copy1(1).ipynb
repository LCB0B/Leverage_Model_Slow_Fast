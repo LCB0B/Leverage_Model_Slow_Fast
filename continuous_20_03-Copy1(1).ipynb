{
 "cells": [
  {
   "cell_type": "code",
   "execution_count": 77,
   "metadata": {},
   "outputs": [],
   "source": [
    "\n",
    "import numpy as np\n",
    "import matplotlib.pyplot as plt\n",
    "%matplotlib qt\n",
    "\n",
    "from sympy.solvers import solve\n",
    "from sympy import Symbol\n",
    "import math\n",
    "import random\n",
    "import matplotlib.pyplot as plt\n",
    "from mpl_toolkits.mplot3d import Axes3D\n",
    "from matplotlib import cm\n",
    "from matplotlib.ticker import LinearLocator, FormatStrFormatter\n",
    "from numpy import linalg as LA\n",
    "\n",
    "import time"
   ]
  },
  {
   "cell_type": "code",
   "execution_count": 78,
   "metadata": {},
   "outputs": [],
   "source": [
    "def function(x,E,theta,eta,w,delta,alpha,s_0,b,rho):\n",
    "\n",
    "    lambda_ = alpha*(x[4]+s_0)**b\n",
    "    \n",
    "    \n",
    "    A = x[2]*x[3]/w\n",
    "    mu = 25\n",
    "    \n",
    "    #dot_W = x[0]*rho*((mu/x[2]-1)+float(np.random.normal(0,0.22,1)))\n",
    "    dot_W = x[0]*rho*((mu/x[2]-1))\n",
    "    #dot_W = 0\n",
    "    dot_L = theta*(lambda_*(A-x[1])-A)\n",
    "    \n",
    "    #dot_L = theta*(lambda_*(E*lambda_-x[1])-E*lambda_ )\n",
    "    \n",
    "    dot_p = (x[2]* (1-x[3]) * dot_W / x[0] + eta*(w-x[0])*(E-A+x[1])+ w*dot_L ) / (1-x[3]*w-(1-x[3])*x[0])\n",
    "    #dot_p = ( eta*(w-x[0])*(E-A+x[1])+ w*dot_L ) \n",
    "    \n",
    "    \n",
    "    # / (1-x[3]*w-(1-x[3])*x[0])\n",
    "    dot_n = x[3]* (-(1-w)*dot_p/x[2] + 1/A*(eta*(E-A+x[1])+dot_L))\n",
    "    #dot_n = 0\n",
    "    \n",
    "    #dot_s = -delta*(x[4]) + delta * (np.log(1-dot_p/x[2]))**2\n",
    "    #dot_s = -delta*(x[4]) + delta * (np.log(1-dot_p/x[2]))**2\n",
    "    dot_s = -delta*(x[4]) + delta * (-0.1*dot_p/x[2])**2\n",
    "    \n",
    "    \n",
    "    return([dot_W, dot_L, dot_p, dot_n, dot_s])\n",
    "   "
   ]
  },
  {
   "cell_type": "code",
   "execution_count": 79,
   "metadata": {},
   "outputs": [],
   "source": [
    "def sys(iv, dt, time,function,E,theta,eta,w,delta,alpha,s_0,b,rho):\n",
    "    n = int(time/dt)\n",
    "    t = np.linspace(0,time,n)\n",
    "    x = np.array([[ i for i in iv]]*n)\n",
    "    n_ord = len(iv)\n",
    "    \n",
    "    a = iv\n",
    "    \n",
    "    for i in range(1,n):\n",
    "        X = function(a,E,theta,eta,w,delta,alpha,s_0,b,rho)\n",
    "        X[0] = X[0] \n",
    "        a = a + np.array(X)*dt\n",
    "        x[i] = a\n",
    "    return np.array(x)\n"
   ]
  },
  {
   "cell_type": "code",
   "execution_count": 83,
   "metadata": {},
   "outputs": [],
   "source": [
    "rho= 0.1\n",
    "#rho = 100\n",
    "E = 2\n",
    "mu = 25\n",
    "theta = 10\n",
    "eta = 10\n",
    "w = 0.5\n",
    "\n",
    "delta = 2\n",
    "alpha = 0.01\n",
    "#alpha = 0.1\n",
    "\n",
    "s_0 = 10**-6\n",
    "b = -0.5"
   ]
  },
  {
   "cell_type": "code",
   "execution_count": 86,
   "metadata": {},
   "outputs": [
    {
     "name": "stdout",
     "output_type": "stream",
     "text": [
      "--- 0.35243797302246094 seconds ---\n"
     ]
    }
   ],
   "source": [
    "T = 300\n",
    "dt = 10**-2\n",
    "delta = 0.5\n",
    "\n",
    "start_time = time.time()\n",
    "\n",
    "p0 = 20\n",
    "L0 = 20\n",
    "x= sys([0.3,L0,p0,0.5,1], dt,T,function,E,theta,eta,w,delta,alpha,s_0,b,rho)\n",
    "\n",
    "print(\"--- %s seconds ---\" % (time.time() - start_time))\n",
    "\n",
    "\n",
    "n = int(T/dt)\n",
    "t = np.linspace(0,T,n)"
   ]
  },
  {
   "cell_type": "code",
   "execution_count": 89,
   "metadata": {},
   "outputs": [],
   "source": [
    "fig = plt.figure(figsize=(5,5))\n",
    "fig.subplots_adjust(wspace = 0.5, hspace = 0.3)\n",
    "ax1 = fig.add_subplot(5,1,1)\n",
    "ax2 = fig.add_subplot(5,1,2)\n",
    "ax3 = fig.add_subplot(5,1,3)\n",
    "ax4 = fig.add_subplot(5,1,4)\n",
    "ax5 = fig.add_subplot(5,1,5)\n",
    "\n",
    "n = int(T/dt)\n",
    "t = np.linspace(0,T,n)\n",
    "\n",
    "#lambda_ = alpha * (x[:,4] + s_0)**b\n",
    "w = 0.5\n",
    "#A = x[:,2]*x[:,3]/w\n",
    "\n",
    "T1 = 0\n",
    "T2 = 20000\n",
    "#xx= np.array([x[500*i] for i in range(int(len(x)//1000))])\n",
    "#t = np.array([t[500*i] for i in range(int(len(t)//1000))])\n",
    "xx = x\n",
    "lambda_ = alpha * (xx[:,4] + s_0)**b\n",
    "\n",
    "tau = 1\n",
    "#ax1.plot(t,10*(A-x[:,1])/x[:,2], 'r-',label ='W')\n",
    "ax1.plot(tau*t,xx[:,0], 'k-',label ='W')\n",
    "ax1.set_ylabel(r'$W$')\n",
    "\n",
    "\n",
    "ax2.plot(tau*t,xx[:,1], 'k-',label ='L')\n",
    "#ax2.plot(t,x[:,1]-(1-1/lambda_)*x[:,2]*x[:,3]/w, 'c-',label ='L')\n",
    "#ax2.plot(t,x[:,1]-(lambda_-1)*E, 'b-',label ='L')\n",
    "ax2.set_ylabel(r'$L$')\n",
    "\n",
    "\n",
    "ax3.plot(tau*t,xx[:,2], 'k-',label ='p')\n",
    "# num = (1-n)*rho*mu+eta*(w-W)*(E+L)-w*theta*lambda_*L\n",
    "# denom = (1-n)*rho + eta*(w-W)*n/w -theta*n*(lambda_-1)\n",
    "# ax3.plot(t,num/denom,'k--',alpha=0.5)\n",
    "ax3.set_ylabel(r'$p$')\n",
    "\n",
    "\n",
    "ax4.plot(tau*t,xx[:,3], 'k-',label ='n')\n",
    "#ax4.plot(t,w/x[:,2] * (E+x[:,1]), 'r--',alpha=0.4)\n",
    "ax4.set_ylabel(r'$n$')\n",
    "\n",
    "\n",
    "#ax5.plot(t,A/E, 'k--',label ='s',alpha=0.5)\n",
    "ax5.plot(tau*t,lambda_, 'k-',label ='s')\n",
    "\n",
    "#ax5.plot(t,(np.log(1-theta*lambda_*(E*(lambda_-1)-x[:,1]) / (x[:,1]+10)))**2, 'g--',label ='s')\n",
    "ax5.set_ylabel(r'$ \\lambda $')\n",
    "ax5.set_xlabel(r'$ t $')\n",
    "\n",
    "\n",
    "plt.grid()\n",
    "plt.show()\n"
   ]
  },
  {
   "cell_type": "code",
   "execution_count": null,
   "metadata": {},
   "outputs": [],
   "source": []
  },
  {
   "cell_type": "markdown",
   "metadata": {},
   "source": [
    "## Eigenvalues"
   ]
  },
  {
   "cell_type": "code",
   "execution_count": 25,
   "metadata": {},
   "outputs": [],
   "source": [
    "def eigenvalue_dis(value):\n",
    "    tau = dt\n",
    "    #parameter\n",
    "    theta,eta,s0,alpha,bb,mu,rho,w,tv = [10,10,0,0.075,-0.5,25,0.1,0.5,0.1]\n",
    "\n",
    "    #value\n",
    "    W,L,p,n,s = value\n",
    "    \n",
    "    Mat = np.zeros((5,5))\n",
    "    A = n*p / w\n",
    "    lambda_ = alpha*(s+s0)**bb\n",
    "    \n",
    "    Mat[0,0] = rho*(mu/p-1)\n",
    "    Mat[0,2] = -W*rho*mu/p**2\n",
    "\n",
    "    Mat[1,1] = -theta*lambda_\n",
    "    Mat[1,2] = theta*(lambda_-1)*n/w\n",
    "    Mat[1,3] = theta*(lambda_-1)*p/w\n",
    "    Mat[1,4] = theta*(A-L)\n",
    "\n",
    "    dot_L = theta*(lambda_*(A-L)-A)\n",
    "    dot_p = ((1-n)*rho*(mu-p)*eta*(w-W)*(E-A+L)+w*dot_L) / (1-n*w-(1-n)*W)\n",
    "\n",
    "    df3dW = -eta*(E-A+L) / (1-w*n-(1-n)*W) + (1-n)*dot_p / (1-n*w-(1-n)*W)**2\n",
    "    df3dl = ( (w-W)*eta + w*Mat[1,1] ) / (1-w*n-(1-n)*W)\n",
    "    df3dp =  ( (1-n)*(-rho)-(w-W)*eta*n/w + w*Mat[1,2] ) / (1-w*n-(1-n)*W)\n",
    "    df3dn =  ( -rho*(mu-p)-(w-W)*eta*p/w + w*Mat[1,3] ) / (1-w*n-(1-n)*W) - (-w+W)*((1-n)*rho*(mu/p-1)*eta*(E-A+L)+w*dot_L) / (1-w*n-(1-n)*W)**2\n",
    "    df3dlambda = w*(theta*(A-L)) / (1-w*n-(1-n)*W)\n",
    "\n",
    "    Mat[2,0] = df3dW\n",
    "    Mat[2,1] = df3dl\n",
    "    Mat[2,2] = df3dp\n",
    "    Mat[2,3] = df3dn\n",
    "    Mat[2,4] = df3dlambda\n",
    "\n",
    "    \n",
    "    df4dl = w/p*(eta+Mat[1,1])\n",
    "    df4dp = -w/p**2*(eta*(E-A+L)+theta*(lambda_*(A-L)-A)) + w/p * (eta*(-n/w)+Mat[1,2])\n",
    "    df4dn = w/p*(-eta*p/w+Mat[1,3])\n",
    "    df4dlambda = w/(n*p)*theta*(A-L)\n",
    "\n",
    "    Mat[3,0] = -(1-w)*n/p * df3dW\n",
    "    Mat[3,1] = -(1-w)*n/p * df3dl + df4dl\n",
    "    Mat[3,2] = -(1-w)*n * (df3dp/p-dot_p/p**2) + df4dp\n",
    "    Mat[3,3] = -(1-w)/p *(dot_p + n*df3dn) + df4dn\n",
    "    Mat[3,4] = -(1-w)*n/p * df3dlambda + df4dlambda\n",
    "\n",
    "\n",
    "    a0 = ((1-n)*rho*(mu-p)*eta*(w-W)*(E-A+L)+w*theta*(-A)) / (p*(1-n*w-(1-n)*W))\n",
    "    a1 = w*theta*(A-L) / (p*(1-n*w-(1-n)*W))\n",
    "\n",
    "\n",
    "\n",
    "    Mat[4,0] = delta / (2*alpha**2) * tv**2 *lambda_**2*2*dot_p/p * df3dW /p\n",
    "    Mat[4,1] = delta / (2*alpha**2) * tv**2 *lambda_**2*2*dot_p/p * df3dl /p\n",
    "    Mat[4,2] = delta / (2*alpha**2) * tv**2 *lambda_**2*2*dot_p/p * (df3dp /p - dot_p/p**2)\n",
    "    Mat[4,3] = delta / (2*alpha**2) * tv**2 *lambda_**2*2*dot_p/p * (df3dn /p)\n",
    "    Mat[4,4] = delta / (2*alpha**2) * (alpha**2 - 3*s0*lambda_**2 + tv**2*lambda_**2*(3*a0**2+2*4*a0*a1*lambda_+5*a1**2*lambda_**2))\n",
    "\n",
    "    Mat = tau * Mat\n",
    "    for i in range(5):\n",
    "        Mat[i,i] = 1 + Mat[i,i]\n",
    "    eigva, v = LA.eig(Mat)\n",
    "    return(eigva,v)"
   ]
  },
  {
   "cell_type": "code",
   "execution_count": 26,
   "metadata": {},
   "outputs": [],
   "source": [
    "def eigenvalue(value):\n",
    "\n",
    "    #parameter\n",
    "    theta,eta,s0,alpha,bb,mu,rho,w,tv = [10,10,0,0.075,-0.5,25,0.1,0.5,0.1]\n",
    "\n",
    "    #value\n",
    "    W,L,p,n,s = value\n",
    "    \n",
    "    Mat = np.zeros((5,5))\n",
    "    A = n*p / w\n",
    "    lambda_ = alpha*(s+s0)**bb\n",
    "    \n",
    "    Mat[0,0] = rho*(mu/p-1)\n",
    "    Mat[0,2] = -W*rho*mu/p**2\n",
    "\n",
    "    Mat[1,1] = -theta*lambda_\n",
    "    Mat[1,2] = theta*(lambda_-1)*n/w\n",
    "    Mat[1,3] = theta*(lambda_-1)*p/w\n",
    "    Mat[1,4] = theta*(A-L)\n",
    "\n",
    "    dot_L = theta*(lambda_*(A-L)-A)\n",
    "    dot_p = ((1-n)*rho*(mu-p)+eta*(w-W)*(E-A+L)+w*dot_L) / (1-n*w-(1-n)*W)\n",
    "\n",
    "    #df3dW = -eta*(E-A+L) / (1-w*n-(1-n)*W) - (1-n)*dot_p / (1-n*w-(1-n)*W)**2\n",
    "    df3dW = -eta*(E-A+L) / (1-w*n-(1-n)*W) + (1-n)*dot_p / (1-n*w-(1-n)*W)**2 # change sign\n",
    "    df3dl = ( (w-W)*eta + w*Mat[1,1] ) / (1-w*n-(1-n)*W)\n",
    "    df3dp =  ( (1-n)*(-rho)-(w-W)*eta*n/w + w*Mat[1,2] ) / (1-w*n-(1-n)*W)\n",
    "    df3dn =  ( -rho*(mu-p)-(w-W)*eta*p/w + w*Mat[1,3] ) / (1-w*n-(1-n)*W) - (-w+W)*((1-n)*rho*(mu-p)+eta*(E-A+L)+w*dot_L) / (1-w*n-(1-n)*W)**2\n",
    "    df3dlambda = w*(theta*(A-L)) / (1-w*n-(1-n)*W)\n",
    "\n",
    "    Mat[2,0] = df3dW\n",
    "    Mat[2,1] = df3dl\n",
    "    Mat[2,2] = df3dp\n",
    "    Mat[2,3] = df3dn\n",
    "    Mat[2,4] = df3dlambda\n",
    "\n",
    "    \n",
    "    df4dl = w/p*(eta+Mat[1,1])\n",
    "    df4dp = -w/p**2*(eta*(E-A+L)+theta*(lambda_*(A-L)-A)) + w/p * (eta*(-n/w)+Mat[1,2])\n",
    "    df4dn = w/p*(-eta*p/w+Mat[1,3])\n",
    "    df4dlambda = w/p*theta*(A-L)\n",
    "\n",
    "    Mat[3,0] = -(1-w)*n/p * df3dW\n",
    "    Mat[3,1] = -(1-w)*n/p * df3dl + df4dl\n",
    "    Mat[3,2] = -(1-w)*n * (df3dp/p-dot_p/p**2) + df4dp\n",
    "    Mat[3,3] = -(1-w)/p *(dot_p + n*df3dn) + df4dn\n",
    "    Mat[3,4] = -(1-w)*n/p * df3dlambda + df4dlambda\n",
    "\n",
    "\n",
    "    a0 = ((1-n)*rho*(mu-p)*eta*(w-W)*(E-A+L)+w*theta*(-A)) / (p*(1-n*w-(1-n)*W))\n",
    "    a1 = w*theta*(A-L) / (p*(1-n*w-(1-n)*W))\n",
    "\n",
    "\n",
    "\n",
    "    #Mat[4,0] = delta / (2*alpha**2) * tv**2 *lambda_**2*2*dot_p/p * df3dW /p\n",
    "    #Mat[4,1] = delta / (2*alpha**2) * tv**2 *lambda_**2*2*dot_p/p * df3dl /p\n",
    "    #Mat[4,2] = delta / (2*alpha**2) * tv**2 *lambda_**2*2*dot_p/p * (df3dp /p - dot_p/p**2)\n",
    "    #Mat[4,3] = delta / (2*alpha**2) * tv**2 *lambda_**2*2*dot_p/p * (df3dn /p)\n",
    "    #Mat[4,4] = delta / (2*alpha**2) * (alpha**2 - 3*s0*lambda_**2 + tv**2*lambda_**2*(3*a0**2+2*4*a0*a1*lambda_+5*a1**2*lambda_**2))\n",
    "\n",
    "    \n",
    "    Mat[4,0] = - delta / (2*alpha**2) * tv**2 *lambda_**3*2*dot_p/p * df3dW /p\n",
    "    Mat[4,1] = - delta / (2*alpha**2) * tv**2 *lambda_**3*2*dot_p/p * df3dl /p\n",
    "    Mat[4,2] = - delta / (2*alpha**2) * tv**2 *lambda_**3*2*dot_p/p * (df3dp /p - dot_p/p**2)\n",
    "    Mat[4,3] = - delta / (2*alpha**2) * tv**2 *lambda_**3*2*dot_p/p * (df3dn /p)\n",
    "    Mat[4,4] = delta / (2*alpha**2) * (alpha**2 - 3*s0*lambda_**2 - tv**2*lambda_**2*(3*a0**2+2*4*a0*a1*lambda_+5*a1**2*lambda_**2))\n",
    "\n",
    "    \n",
    "    eigva, v = LA.eig(Mat)\n",
    "    return(eigva,v)"
   ]
  },
  {
   "cell_type": "code",
   "execution_count": 27,
   "metadata": {},
   "outputs": [],
   "source": [
    "list_v = np.copy(x)"
   ]
  },
  {
   "cell_type": "code",
   "execution_count": 28,
   "metadata": {},
   "outputs": [],
   "source": [
    "def resort(x):\n",
    "    list_v = np.array([eigenvalue(value)[0] for value in x])\n",
    "    for i in range(len(x)):\n",
    "        order = [0,0,0,0,0]\n",
    "        eig = eigenvalue(x[i])\n",
    "        order[0],order[1] = eig[0].imag.argsort()[0],eig[0].imag.argsort()[-1]\n",
    "        order[2],order[3] = eig[0].real.argsort()[0],eig[0].real.argsort()[1]\n",
    "        order[4] = list(set(([0,1,2,3,4])) - set((order[0:4])))[0]\n",
    "        order = np.array(order)\n",
    "        list_v[i] = eig[0][order]\n",
    "    return(list_v)"
   ]
  },
  {
   "cell_type": "markdown",
   "metadata": {},
   "source": [
    "## Summer modif "
   ]
  },
  {
   "cell_type": "code",
   "execution_count": 29,
   "metadata": {},
   "outputs": [],
   "source": [
    "#list_values = resort(x)\n",
    "list_values = np.array([eigenvalue(value)[0] for value in x])"
   ]
  },
  {
   "cell_type": "code",
   "execution_count": 30,
   "metadata": {},
   "outputs": [],
   "source": [
    "T1 = 0\n",
    "T2 = 20000"
   ]
  },
  {
   "cell_type": "code",
   "execution_count": 31,
   "metadata": {
    "scrolled": true
   },
   "outputs": [
    {
     "name": "stderr",
     "output_type": "stream",
     "text": [
      "/home/lcbob/anaconda3/lib/python3.7/site-packages/numpy/core/_asarray.py:85: ComplexWarning: Casting complex values to real discards the imaginary part\n",
      "  return array(a, dtype, copy=False, order=order)\n",
      "/home/lcbob/anaconda3/lib/python3.7/site-packages/numpy/core/_asarray.py:85: ComplexWarning: Casting complex values to real discards the imaginary part\n",
      "  return array(a, dtype, copy=False, order=order)\n",
      "/home/lcbob/anaconda3/lib/python3.7/site-packages/numpy/core/_asarray.py:85: ComplexWarning: Casting complex values to real discards the imaginary part\n",
      "  return array(a, dtype, copy=False, order=order)\n",
      "/home/lcbob/anaconda3/lib/python3.7/site-packages/numpy/core/_asarray.py:85: ComplexWarning: Casting complex values to real discards the imaginary part\n",
      "  return array(a, dtype, copy=False, order=order)\n",
      "/home/lcbob/anaconda3/lib/python3.7/site-packages/numpy/core/_asarray.py:85: ComplexWarning: Casting complex values to real discards the imaginary part\n",
      "  return array(a, dtype, copy=False, order=order)\n"
     ]
    }
   ],
   "source": [
    "plt.figure(figsize=(41,41))\n",
    "for i in range(5):\n",
    "    plt.plot(t[T1:T2],list_values[:,i][T1:T2],'.',markersize=0.1)\n",
    "plt.grid()"
   ]
  },
  {
   "cell_type": "code",
   "execution_count": 32,
   "metadata": {
    "scrolled": false
   },
   "outputs": [
    {
     "name": "stdout",
     "output_type": "stream",
     "text": [
      "[-2.05248015e-04-2.98229966e-05j -6.65908140e-01+1.31461889e-02j\n",
      " -7.45777429e-01+0.00000000e+00j -1.41502362e-02+3.04519225e-03j\n",
      " -9.09234058e-05+8.82161632e-07j]\n",
      "[-2.05248015e-04+2.98229966e-05j -6.65908140e-01-1.31461889e-02j\n",
      " -7.45777429e-01-0.00000000e+00j -1.41502362e-02-3.04519225e-03j\n",
      " -9.09234058e-05-8.82161632e-07j]\n",
      "[ 6.08501952e-03+0.j -2.85237863e-02+0.j  9.99573875e-01+0.j\n",
      " -1.19796215e-03+0.j  3.78905623e-06+0.j]\n",
      "[-0.01019267+0.j -0.0229152 +0.j  0.99968317+0.j -0.00107591+0.j\n",
      "  0.0018467 +0.j]\n",
      "[ 0.01042444+0.j  0.48810341+0.j -0.83378287+0.j  0.01178668+0.j\n",
      "  0.25751425+0.j]\n"
     ]
    }
   ],
   "source": [
    "eig_vects = eigenvalue(x[5550])[1]\n",
    "\n",
    "for i in range(len(eig_vects)):\n",
    "    print(eig_vects[:,i])"
   ]
  },
  {
   "cell_type": "code",
   "execution_count": 33,
   "metadata": {},
   "outputs": [
    {
     "data": {
      "text/plain": [
       "array([-10.02473853+1.45860207j, -10.02473853-1.45860207j,\n",
       "        -0.44974333+0.j        ,   0.29034474+0.j        ,\n",
       "         0.23929766+0.j        ])"
      ]
     },
     "execution_count": 33,
     "metadata": {},
     "output_type": "execute_result"
    }
   ],
   "source": [
    "eigenvalue(x[5550])[0]"
   ]
  },
  {
   "cell_type": "code",
   "execution_count": null,
   "metadata": {},
   "outputs": [],
   "source": []
  },
  {
   "cell_type": "code",
   "execution_count": null,
   "metadata": {},
   "outputs": [],
   "source": []
  },
  {
   "cell_type": "code",
   "execution_count": null,
   "metadata": {},
   "outputs": [],
   "source": []
  },
  {
   "cell_type": "code",
   "execution_count": 36,
   "metadata": {},
   "outputs": [
    {
     "name": "stdout",
     "output_type": "stream",
     "text": [
      "30000 0 20000 30000 30000\n"
     ]
    }
   ],
   "source": [
    "T1 = 0\n",
    "T2 = 20000\n",
    "lambda_ = alpha*(x[:,4]+s_0)**b\n",
    "print(len(x),T1,T2,len(t),len(lambda_))\n"
   ]
  },
  {
   "cell_type": "code",
   "execution_count": 70,
   "metadata": {
    "scrolled": false
   },
   "outputs": [
    {
     "name": "stdout",
     "output_type": "stream",
     "text": [
      "0\n",
      "1\n",
      "2\n",
      "3\n",
      "4\n"
     ]
    },
    {
     "name": "stderr",
     "output_type": "stream",
     "text": [
      "/home/lcbob/anaconda3/lib/python3.7/site-packages/ipykernel_launcher.py:7: MatplotlibDeprecationWarning: Adding an axes using the same arguments as a previous axes currently reuses the earlier instance.  In a future version, a new instance will always be created and returned.  Meanwhile, this warning can be suppressed, and the future behavior ensured, by passing a unique label to each axes instance.\n",
      "  import sys\n",
      "/home/lcbob/anaconda3/lib/python3.7/site-packages/ipykernel_launcher.py:8: MatplotlibDeprecationWarning: Adding an axes using the same arguments as a previous axes currently reuses the earlier instance.  In a future version, a new instance will always be created and returned.  Meanwhile, this warning can be suppressed, and the future behavior ensured, by passing a unique label to each axes instance.\n",
      "  \n",
      "/home/lcbob/anaconda3/lib/python3.7/site-packages/ipykernel_launcher.py:9: MatplotlibDeprecationWarning: Adding an axes using the same arguments as a previous axes currently reuses the earlier instance.  In a future version, a new instance will always be created and returned.  Meanwhile, this warning can be suppressed, and the future behavior ensured, by passing a unique label to each axes instance.\n",
      "  if __name__ == '__main__':\n",
      "/home/lcbob/anaconda3/lib/python3.7/site-packages/ipykernel_launcher.py:7: MatplotlibDeprecationWarning: Adding an axes using the same arguments as a previous axes currently reuses the earlier instance.  In a future version, a new instance will always be created and returned.  Meanwhile, this warning can be suppressed, and the future behavior ensured, by passing a unique label to each axes instance.\n",
      "  import sys\n",
      "/home/lcbob/anaconda3/lib/python3.7/site-packages/ipykernel_launcher.py:8: MatplotlibDeprecationWarning: Adding an axes using the same arguments as a previous axes currently reuses the earlier instance.  In a future version, a new instance will always be created and returned.  Meanwhile, this warning can be suppressed, and the future behavior ensured, by passing a unique label to each axes instance.\n",
      "  \n",
      "/home/lcbob/anaconda3/lib/python3.7/site-packages/ipykernel_launcher.py:9: MatplotlibDeprecationWarning: Adding an axes using the same arguments as a previous axes currently reuses the earlier instance.  In a future version, a new instance will always be created and returned.  Meanwhile, this warning can be suppressed, and the future behavior ensured, by passing a unique label to each axes instance.\n",
      "  if __name__ == '__main__':\n",
      "/home/lcbob/anaconda3/lib/python3.7/site-packages/ipykernel_launcher.py:7: MatplotlibDeprecationWarning: Adding an axes using the same arguments as a previous axes currently reuses the earlier instance.  In a future version, a new instance will always be created and returned.  Meanwhile, this warning can be suppressed, and the future behavior ensured, by passing a unique label to each axes instance.\n",
      "  import sys\n",
      "/home/lcbob/anaconda3/lib/python3.7/site-packages/ipykernel_launcher.py:8: MatplotlibDeprecationWarning: Adding an axes using the same arguments as a previous axes currently reuses the earlier instance.  In a future version, a new instance will always be created and returned.  Meanwhile, this warning can be suppressed, and the future behavior ensured, by passing a unique label to each axes instance.\n",
      "  \n",
      "/home/lcbob/anaconda3/lib/python3.7/site-packages/ipykernel_launcher.py:9: MatplotlibDeprecationWarning: Adding an axes using the same arguments as a previous axes currently reuses the earlier instance.  In a future version, a new instance will always be created and returned.  Meanwhile, this warning can be suppressed, and the future behavior ensured, by passing a unique label to each axes instance.\n",
      "  if __name__ == '__main__':\n",
      "/home/lcbob/anaconda3/lib/python3.7/site-packages/ipykernel_launcher.py:7: MatplotlibDeprecationWarning: Adding an axes using the same arguments as a previous axes currently reuses the earlier instance.  In a future version, a new instance will always be created and returned.  Meanwhile, this warning can be suppressed, and the future behavior ensured, by passing a unique label to each axes instance.\n",
      "  import sys\n",
      "/home/lcbob/anaconda3/lib/python3.7/site-packages/ipykernel_launcher.py:8: MatplotlibDeprecationWarning: Adding an axes using the same arguments as a previous axes currently reuses the earlier instance.  In a future version, a new instance will always be created and returned.  Meanwhile, this warning can be suppressed, and the future behavior ensured, by passing a unique label to each axes instance.\n",
      "  \n",
      "/home/lcbob/anaconda3/lib/python3.7/site-packages/ipykernel_launcher.py:9: MatplotlibDeprecationWarning: Adding an axes using the same arguments as a previous axes currently reuses the earlier instance.  In a future version, a new instance will always be created and returned.  Meanwhile, this warning can be suppressed, and the future behavior ensured, by passing a unique label to each axes instance.\n",
      "  if __name__ == '__main__':\n"
     ]
    }
   ],
   "source": [
    "fig = plt.figure(figsize=(8,8))\n",
    "\n",
    "\n",
    "for i in range(5):\n",
    "    print(i)\n",
    "    fig.subplots_adjust(wspace = 0.5, hspace = 0.3)\n",
    "    ax1 = fig.add_subplot(3,1,1)\n",
    "    ax2 = fig.add_subplot(3,1,2)\n",
    "    ax3 = fig.add_subplot(3,1,3)\n",
    "    \n",
    "    ax1.plot(t[T1:T2],lambda_[T1:T2], 'g-',label ='s',markersize=0.1)\n",
    "        \n",
    "    ax2.plot(t[T1:T2],list_values[:,i][T1:T2].real,'+--',markersize=1,alpha=0.5)\n",
    "    #ax2.plot(tt[T1:T2],0+0*list_values[:,i][T1:T2].real,'k--',alpha=0.5)\n",
    "    #ax2.plot(t[T1:T2],-1+0*list_values[:,i][T1:T2].real,'k--',alpha=0.5)\n",
    "    #ax2.plot(t[T1:T2],np.absolute(list_values[:,i][T1:T2]),'-',alpha=0.5)\n",
    "    \n",
    "    ax3.plot(t[T1:T2],list_values[:,i][T1:T2].imag,'.',markersize=0.5)\n",
    "\n",
    "ax1.set_ylabel('$\\lambda$')        \n",
    "ax2.set_ylabel('$Re(\\lambda_i)$')        \n",
    "ax3.set_ylabel('$Imag(\\lambda_i)$')         \n",
    "ax3.set_xlabel('$t$')     \n",
    "\n",
    "plt.show()"
   ]
  },
  {
   "cell_type": "code",
   "execution_count": 18,
   "metadata": {},
   "outputs": [
    {
     "data": {
      "text/plain": [
       "30000"
      ]
     },
     "execution_count": 18,
     "metadata": {},
     "output_type": "execute_result"
    }
   ],
   "source": [
    "len(x)"
   ]
  },
  {
   "cell_type": "code",
   "execution_count": 15,
   "metadata": {
    "scrolled": true
   },
   "outputs": [
    {
     "name": "stdout",
     "output_type": "stream",
     "text": [
      "(-11.105960400037466+11.98555558844652j) \n",
      " [-7.88765710e-05-8.50625395e-05j -6.96186134e-01+1.14389987e-01j\n",
      " -7.07545208e-01+0.00000000e+00j -1.26562519e-02+3.81003335e-02j\n",
      " -2.78320003e-03-2.04560521e-05j]\n",
      "(-11.105960400037466-11.98555558844652j) \n",
      " [-7.88765710e-05+8.50625395e-05j -6.96186134e-01-1.14389987e-01j\n",
      " -7.07545208e-01-0.00000000e+00j -1.26562519e-02-3.81003335e-02j\n",
      " -2.78320003e-03+2.04560521e-05j]\n",
      "(1.6747941916300277+0j) \n",
      " [ 0.00118529+0.j  0.67539118+0.j -0.73721697+0.j -0.01870966+0.j\n",
      " -0.00253645+0.j]\n",
      "(-0.011201969154594836+0j) \n",
      " [ 0.05528734+0.j -0.91655178+0.j  0.39561769+0.j  0.01888229+0.j\n",
      "  0.00250141+0.j]\n",
      "(0.4485088514210197+0j) \n",
      " [ 6.04282043e-03+0.j  1.14977672e-01+0.j -9.93346509e-01+0.j\n",
      " -2.48600754e-03+0.j -3.90299383e-04+0.j]\n"
     ]
    }
   ],
   "source": [
    "w,v = eigenvalue(x[int(14000)])\n",
    "for i in range(len(w)):\n",
    "    print(w[i],'\\n',v[:,i])"
   ]
  },
  {
   "cell_type": "code",
   "execution_count": 40,
   "metadata": {},
   "outputs": [
    {
     "name": "stdout",
     "output_type": "stream",
     "text": [
      "(-365797.8308187609+0j) \n",
      " [-3.03705356e-13+0.j -5.46725487e-05+0.j -5.94831281e-05+0.j\n",
      " -8.89165793e-07+0.j  9.99999997e-01+0.j]\n",
      "(0.18823106890795385+1.2288172037474299j) \n",
      " [ 1.70279220e-04-0.0008996j   7.09458616e-01+0.j\n",
      " -6.09730072e-01-0.01776397j  1.68034093e-02+0.00011816j\n",
      " -3.52196508e-01+0.01601767j]\n",
      "(0.18823106890795385-1.2288172037474299j) \n",
      " [ 1.70279220e-04+0.0008996j   7.09458616e-01-0.j\n",
      " -6.09730072e-01+0.01776397j  1.68034093e-02-0.00011816j\n",
      " -3.52196508e-01-0.01601767j]\n",
      "(-0.633128866519828+51.766056549309205j) \n",
      " [ 1.45380067e-05-5.04209151e-06j -1.29057281e-01-3.68999726e-01j\n",
      " -1.34881304e-01-4.04638127e-01j  9.57512765e-04-5.98756071e-03j\n",
      " -8.15611226e-01+0.00000000e+00j]\n",
      "(-0.633128866519828-51.766056549309205j) \n",
      " [ 1.45380067e-05+5.04209151e-06j -1.29057281e-01+3.68999726e-01j\n",
      " -1.34881304e-01+4.04638127e-01j  9.57512765e-04+5.98756071e-03j\n",
      " -8.15611226e-01-0.00000000e+00j]\n"
     ]
    }
   ],
   "source": [
    "w,v = eigenvalue(x[int(2860)])\n",
    "for i in range(len(w)):\n",
    "    print(w[i],'\\n',v[:,i])"
   ]
  },
  {
   "cell_type": "code",
   "execution_count": 46,
   "metadata": {},
   "outputs": [
    {
     "name": "stdout",
     "output_type": "stream",
     "text": [
      "(-15703.40558640296+0j) \n",
      " [-1.64809928e-10+0.j -1.27166021e-03+0.j -1.38339432e-03+0.j\n",
      " -2.07208290e-05+0.j  9.99998234e-01+0.j]\n",
      "(0.00414572149142315+0.8619668911141425j) \n",
      " [-2.15034778e-05+0.00160566j -6.37786425e-01+0.03422485j\n",
      "  7.39928883e-01+0.j         -1.67223266e-02+0.00069028j\n",
      "  2.08764702e-01-0.02640061j]\n",
      "(0.00414572149142315-0.8619668911141425j) \n",
      " [-2.15034778e-05-0.00160566j -6.37786425e-01-0.03422485j\n",
      "  7.39928883e-01-0.j         -1.67223266e-02-0.00069028j\n",
      "  2.08764702e-01+0.02640061j]\n",
      "(-4.347478290365381+22.075522015427264j) \n",
      " [-3.88094280e-05+3.01205483e-05j  2.47583912e-01+4.72995629e-01j\n",
      "  2.65387325e-01+5.27825343e-01j -2.31604009e-04+8.02346619e-03j\n",
      "  6.04882539e-01+0.00000000e+00j]\n",
      "(-4.347478290365381-22.075522015427264j) \n",
      " [-3.88094280e-05-3.01205483e-05j  2.47583912e-01-4.72995629e-01j\n",
      "  2.65387325e-01-5.27825343e-01j -2.31604009e-04-8.02346619e-03j\n",
      "  6.04882539e-01-0.00000000e+00j]\n"
     ]
    }
   ],
   "source": [
    "w,v = eigenvalue(x[int(2862)])\n",
    "for i in range(len(w)):\n",
    "    print(w[i],'\\n',v[:,i])"
   ]
  },
  {
   "cell_type": "code",
   "execution_count": 90,
   "metadata": {
    "scrolled": false
   },
   "outputs": [
    {
     "name": "stdout",
     "output_type": "stream",
     "text": [
      "(-8160121.898026429+0j) \n",
      " [ 5.76133101e-16+0.j  2.45737795e-06+0.j  2.93134362e-06+0.j\n",
      "  3.13539077e-08+0.j -1.00000000e+00+0.j]\n",
      "(1.2275039622186275+1.5817907326982443j) \n",
      " [-3.07171537e-04+0.00035563j -4.88462881e-01-0.00929019j\n",
      "  5.89329425e-01+0.02673378j -1.21423200e-02-0.0003417j\n",
      "  6.42764395e-01+0.j        ]\n",
      "(1.2275039622186275-1.5817907326982443j) \n",
      " [-3.07171537e-04-0.00035563j -4.88462881e-01+0.00929019j\n",
      "  5.89329425e-01-0.02673378j -1.21423200e-02+0.0003417j\n",
      "  6.42764395e-01-0.j        ]\n",
      "(22.65405295038444+102.18292653999696j) \n",
      " [-4.39459315e-06-3.85749950e-07j  3.67062433e-02+2.40685722e-01j\n",
      "  3.75470078e-02+2.85444266e-01j -9.78189479e-04+2.58800868e-03j\n",
      "  9.26189599e-01+0.00000000e+00j]\n",
      "(22.65405295038444-102.18292653999696j) \n",
      " [-4.39459315e-06+3.85749950e-07j  3.67062433e-02-2.40685722e-01j\n",
      "  3.75470078e-02-2.85444266e-01j -9.78189479e-04-2.58800868e-03j\n",
      "  9.26189599e-01-0.00000000e+00j]\n"
     ]
    }
   ],
   "source": [
    "\n",
    "w,v = eigenvalue(x[int(2863)])\n",
    "for i in range(len(w)):\n",
    "    print(w[i],'\\n',v[:,i])"
   ]
  },
  {
   "cell_type": "code",
   "execution_count": 68,
   "metadata": {
    "scrolled": true
   },
   "outputs": [
    {
     "name": "stdout",
     "output_type": "stream",
     "text": [
      "(-699.2147524594908+0j) \n",
      " [-1.12104809e-07+0.j -2.89399528e-02+0.j -3.47981175e-02+0.j\n",
      " -5.56225842e-04+0.j  9.98975105e-01+0.j]\n",
      "(-0.13199421352982577+0.8932381296302329j) \n",
      " [ 3.29720847e-04+0.00226495j -3.80344940e-01+0.02120602j\n",
      "  9.17183875e-01+0.j         -1.16103310e-02+0.00063337j\n",
      "  1.13254833e-01-0.02635667j]\n",
      "(-0.13199421352982577-0.8932381296302329j) \n",
      " [ 3.29720847e-04-0.00226495j -3.80344940e-01-0.02120602j\n",
      "  9.17183875e-01-0.j         -1.16103310e-02-0.00063337j\n",
      "  1.13254833e-01+0.02635667j]\n",
      "(-7.576483797765469+9.90033511863931j) \n",
      " [-8.13267570e-05-1.06298730e-04j -5.66138484e-01+5.02996457e-03j\n",
      " -7.40667820e-01+0.00000000e+00j -8.28244681e-03-5.65508901e-03j\n",
      " -2.66029412e-01+2.44950715e-01j]\n",
      "(-7.576483797765469-9.90033511863931j) \n",
      " [-8.13267570e-05+1.06298730e-04j -5.66138484e-01-5.02996457e-03j\n",
      " -7.40667820e-01-0.00000000e+00j -8.28244681e-03+5.65508901e-03j\n",
      " -2.66029412e-01-2.44950715e-01j]\n"
     ]
    }
   ],
   "source": [
    "\n",
    "w,v = eigenvalue(x[int(4200)])\n",
    "for i in range(len(w)):\n",
    "    print(w[i],'\\n',v[:,i])"
   ]
  },
  {
   "cell_type": "code",
   "execution_count": 247,
   "metadata": {},
   "outputs": [
    {
     "name": "stdout",
     "output_type": "stream",
     "text": [
      "5528.925619834711 1044.4897959183675\n"
     ]
    }
   ],
   "source": [
    "print(669/0.121 ,-255.9/-0.245 )"
   ]
  },
  {
   "cell_type": "markdown",
   "metadata": {},
   "source": [
    "### Test _Slow-Fast"
   ]
  },
  {
   "cell_type": "code",
   "execution_count": 199,
   "metadata": {},
   "outputs": [],
   "source": [
    "l_a0 = np.linspace(-4,4,300)\n",
    "l_a1 = np.linspace(-1,1,50)\n",
    "#l_a1 = np.logspace(np.log(0.1)/np.log(10), np.log(120)/np.log(10), 100)\n",
    "# a1 = 1\n",
    "# root_real = [np.real([np.roots([-a1**2,-2*a0*a1,-a0**2-s_0,0,alpha**2 ])[i] for a0 in l_a0]) for i in range(4)]\n",
    "# root_imag = np.imag([np.roots([-a1**2,-2*a0*a1,-a0**2-s_0,0,alpha**2 ]) for a0 in l_a0])\n"
   ]
  },
  {
   "cell_type": "code",
   "execution_count": 200,
   "metadata": {},
   "outputs": [],
   "source": [
    "def pos_or_nan(x):\n",
    "    if x >= 0:\n",
    "        return(x)\n",
    "    else:\n",
    "        return(np.nan)\n",
    "    \n",
    "def lim_or_nan(x,c):\n",
    "    if abs(x) < c:\n",
    "        return(x)\n",
    "    else:\n",
    "        return(np.nan)"
   ]
  },
  {
   "cell_type": "code",
   "execution_count": 230,
   "metadata": {},
   "outputs": [],
   "source": [
    "fig = plt.figure()\n",
    "ax = fig.add_subplot(111, projection='3d')\n",
    "\n",
    "a0,a1 = l_a0[0],l_a1[0]\n",
    "\n",
    "#color = ['b','r','g','k','y']\n",
    "color = ['b']*5\n",
    "\n",
    "opacity = [0.2]*5\n",
    "for a1 in l_a1:\n",
    "    root_real = [np.real([np.roots([-(a1)**2,2*a0*(a1),-a0**2-s_0,0,alpha**2,0 ])[i] for a0 in l_a0]) for i in range(len(np.roots([-(-a1+a0)**2,2*a0*(-a1+a0),-a0**2-s_0,0,alpha**2,0 ])))]\n",
    "    for i in range(len(root_real)):\n",
    "        z = [pos_or_nan(j) for j in root_real[i]]\n",
    "        ax.plot(l_a0,[a1]*len(l_a0),z,c=color[i],alpha=opacity[i])\n",
    "        \n",
    "ax.set_zlim3d(0.5,40)\n",
    "\n",
    "plt.show()"
   ]
  },
  {
   "cell_type": "code",
   "execution_count": 235,
   "metadata": {
    "scrolled": true
   },
   "outputs": [],
   "source": [
    "T1,T2 = int(50/dt),int(150/dt)\n",
    "\n",
    "W,L,p,n,s = np.transpose(x)\n",
    "A = n*p /w\n",
    "# x_a0 = rho*(mu/p-1)\n",
    "# x_a1 = -rho*(mu/p-1)*E*p/w\n",
    "\n",
    "x_a0 = - (rho*(mu/p-1)*(1-n) + 1/p *eta*(w-W)*(E-n*p/w+L)- theta *n) \n",
    "x_a1 = (theta*w*(A-L)) / (p)\n",
    "\n",
    "T1, T2 = 5,60\n",
    "ax.plot(x_a0[T1:T2],x_a1[T1:T2],lambda_[T1:T2],'g-',alpha=0.8)\n",
    "ax.plot([x_a0[T1]],[x_a1[T1]],[lambda_[T1]],'r.',alpha=0.5)\n",
    "\n",
    "T1,T2 = int(50/dt),int(150/dt)\n",
    "ax.plot(x_a0[T1:T2],x_a1[T1:T2],lambda_[T1:T2],'k-',alpha=0.5)\n",
    "\n",
    "\n",
    "x_a0 =  theta *n \n",
    "x_a1 = (theta*n*(E/(E+L)))\n",
    "#ax.plot(x_a0[T1:T2],x_a1[T1:T2],lambda_[T1:T2],'k.-',alpha=0.5)        \n",
    "        \n",
    "        \n",
    "# x_a0 = (plt.plot(delta*x[:,4])\n",
    "# ax.plot(x_a0[T1:T2],x_a1[T1:T2],lambda_[T1:T2],'k-',alpha=0.8)\n",
    "# ax.set_zlim3d(-1,20)\n",
    "\n",
    "ax.set_xlabel('$a_0$')\n",
    "ax.set_ylabel('$a_1$')\n",
    "ax.set_zlabel('$\\lambda$')\n",
    "\n",
    "plt.show()\n"
   ]
  },
  {
   "cell_type": "code",
   "execution_count": 210,
   "metadata": {},
   "outputs": [],
   "source": [
    "\n",
    "x_a0 =  theta *n\n",
    "#x_a1 = theta*w*(A-L)/p\n",
    "x_a1 = theta*(-W/p*(E-A+L)+w*E/p+(1-n)*rho*(mu/p-1))\n",
    "\n",
    "# x_a0 = (rho*(mu/p-1)*(1-n) + 1/p *eta*(w-W)*(E-n*p/w+L)- theta *n) \n",
    "# x_a1 = (theta*w*(p*n/w-L)) / (p)\n",
    "\n",
    "ax.plot(x_a0[T1:T2],x_a1[T1:T2],lambda_[T1:T2],'k-',alpha=0.5)\n",
    "plt.show()"
   ]
  },
  {
   "cell_type": "code",
   "execution_count": 65,
   "metadata": {},
   "outputs": [],
   "source": [
    "plt.figure()\n",
    "# plt.plot(eta*(w-W)*(E-n*p/w+L))\n",
    "# plt.plot(L-(1-1/lambda_)*A)\n",
    "# plt.plot(x[:,4])\n",
    "# plt.plot(lambda_)\n",
    "#plt.plot(delta*x[:,4])\n",
    "#plt.plot( ((rho*(mu/p-1)*(1-n)+1/p * eta*(w-W)*(E-A+L) + theta*w/p*(lambda_*(A-L)-A)) / (1-n*w-(1-n)*W))**2)\n",
    "\n",
    "dotp = ((rho*(mu/p-1)*(1-n)+1/p * eta*(w-W)*(E-A+L) + theta*w/p*(lambda_*(A-L)-A)) / (1-n*w-(1-n)*W))\n",
    "plt.plot( ((rho*(mu/p-1)*(1-n)*p+eta*(w-W)*(E-A+L) + theta*w*(lambda_*(A-L)-A)) / (1-n*w-(1-n)*W)))\n",
    "plt.plot(theta*(lambda_*(A-L)-A))\n",
    "plt.plot((-(1-w)*dotp/p+1/A*(eta*(E-A+L)+theta*(lambda_*(A-L)-A))))\n",
    "plt.plot((-delta*(-s+(dotp/p)**2)))\n",
    "plt.plot(n*dotp+eta*(E-A+L)+theta*(lambda_*(A-L)-A),'k-')\n",
    "plt.plot(rho*(mu/p-1),'y')\n",
    "plt.show()"
   ]
  },
  {
   "cell_type": "markdown",
   "metadata": {},
   "source": [
    "## Stability on the slow Manifold"
   ]
  },
  {
   "cell_type": "code",
   "execution_count": 91,
   "metadata": {},
   "outputs": [],
   "source": [
    "def derivative(z,x_a0,x_a1):\n",
    "    lambda_ = np.array(z)\n",
    "    alpha =0.1\n",
    "    s_0 = 10**-6\n",
    "    der = (delta)*(-5*lambda_**4*x_a1**2 -4*lambda_**3*2*x_a0*x_a1 -3* lambda_**2*(x_a0**2+s_0) + alpha**2)\n",
    "    return(der)\n",
    "    "
   ]
  },
  {
   "cell_type": "code",
   "execution_count": 94,
   "metadata": {},
   "outputs": [],
   "source": [
    "fig = plt.figure()\n",
    "ax = fig.add_subplot(111, projection='3d')\n",
    "\n",
    "a0,a1 = l_a0[0],l_a1[0]\n",
    "for a1 in l_a1:\n",
    "    root_real = [np.real([np.roots([-a1**2,-2*a0*a1,-a0**2-s_0,0,alpha**2 ])[i] for a0 in l_a0]) for i in range(len(np.roots([-a1,-2*a0*a1,-a0-s_0,0,alpha ])))]\n",
    "    for i in range(len(root_real)):\n",
    "        z = [pos_or_nan(j) for j in root_real[i]]\n",
    "        y = np.array([a1]*len(l_a0))\n",
    "        ax.plot(l_a0,y,derivative(z,l_a0,y),'m-',alpha=0.5)\n",
    "plt.show()"
   ]
  },
  {
   "cell_type": "code",
   "execution_count": 95,
   "metadata": {},
   "outputs": [],
   "source": [
    "\n",
    "lim_der = 5000\n",
    "\n",
    "der = (delta)*(-5*lambda_**4*x_a1**2 -4*lambda_**3*2*x_a0*x_a1 -3* lambda_**2*(x_a0**2+s_0) + alpha**2)[T1:T2]\n",
    "der = [lim_or_nan(x,lim_der) for x in der]\n",
    "ax.plot(x_a0[T1:T2],x_a1[T1:T2],der,'k-.',alpha=0.8,markersize=0.5,linewidth=0.4)\n",
    "\n",
    "ax.set_zlim3d(-20,20)\n",
    "\n",
    "plt.show()"
   ]
  },
  {
   "cell_type": "code",
   "execution_count": 78,
   "metadata": {},
   "outputs": [
    {
     "data": {
      "text/plain": [
       "25000"
      ]
     },
     "execution_count": 78,
     "metadata": {},
     "output_type": "execute_result"
    }
   ],
   "source": [
    "\n"
   ]
  },
  {
   "cell_type": "code",
   "execution_count": null,
   "metadata": {},
   "outputs": [],
   "source": []
  }
 ],
 "metadata": {
  "kernelspec": {
   "display_name": "Python 3",
   "language": "python",
   "name": "python3"
  },
  "language_info": {
   "codemirror_mode": {
    "name": "ipython",
    "version": 3
   },
   "file_extension": ".py",
   "mimetype": "text/x-python",
   "name": "python",
   "nbconvert_exporter": "python",
   "pygments_lexer": "ipython3",
   "version": "3.7.6"
  }
 },
 "nbformat": 4,
 "nbformat_minor": 2
}
