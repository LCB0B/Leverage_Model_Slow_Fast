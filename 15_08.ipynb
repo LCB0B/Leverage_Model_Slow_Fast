{
 "cells": [
  {
   "cell_type": "code",
   "execution_count": 2,
   "metadata": {},
   "outputs": [],
   "source": [
    "\n",
    "import numpy as np\n",
    "import matplotlib.pyplot as plt\n",
    "%matplotlib qt\n",
    "\n",
    "from sympy.solvers import solve\n",
    "from sympy import Symbol\n",
    "import math\n",
    "import random\n",
    "import matplotlib.pyplot as plt\n",
    "from mpl_toolkits.mplot3d import Axes3D\n",
    "from matplotlib import cm\n",
    "from matplotlib.ticker import LinearLocator, FormatStrFormatter\n",
    "from numpy import linalg as LA\n",
    "\n",
    "import time"
   ]
  },
  {
   "cell_type": "code",
   "execution_count": 3,
   "metadata": {},
   "outputs": [],
   "source": [
    "def function(y,E,theta,eta,w,delta,alpha,s_0,b,rho,tv):\n",
    "    \n",
    "    mu = 25\n",
    "    W,L,p,n,lambda_ = y \n",
    "    \n",
    "    A = p*n/w\n",
    "    \n",
    "    #dot_W = x[0]*rho*((mu/x[2]-1)+float(np.random.normal(0,0.22,1)))\n",
    "    dot_W = W*rho*((mu/p-1))\n",
    "    #dot_W = 0\n",
    "    dot_L = (theta*(lambda_*(A-L)-A))\n",
    "    #dot_L = theta*(lambda_*(E*lambda_-x[1])-E*lambda_ )\n",
    "    \n",
    "    dot_p = (p* (1-n) * dot_W / W + eta*(w-W)*(E-A+L)+ w*dot_L ) / (1-n*w-(1-n)*W)\n",
    "    #dot_p = ( eta*(w-x[0])*(E-A+x[1])+ w*dot_L ) \n",
    "    # / (1-x[3]*w-(1-x[3])*x[0])\n",
    "    dot_n = n* (-(1-w)*dot_p/p + 1/A*(eta*(E-A+L)+dot_L))\n",
    "\n",
    "    #dot_s = -delta*(x[4]) + delta * (np.log(1-dot_p/x[2]))**2\n",
    "    #dot_s = -delta*(x[4]) + delta * (np.log(1-dot_p/x[2]))**2\n",
    "    #dot_s = -delta*(s) + delta * tv**2*(-dot_p/p)**2\n",
    "    a1 = w/p * theta * (A - L) / (1-n*w-(1-n)*W)\n",
    "    a0 = (theta*n-(1-n)*rho*(mu/p-1)-eta/p*(w-W)*(E-A+L)) / (1-n*w-(1-n)*W)\n",
    "\n",
    "    dot_lambda = lambda_*delta/2 * (1- (lambda_/alpha)**2 * (s_0 + tv**2*(a1*lambda_-a0)**2))\n",
    "\n",
    "    return([dot_W, dot_L, dot_p, dot_n, dot_lambda])\n",
    "   "
   ]
  },
  {
   "cell_type": "code",
   "execution_count": 4,
   "metadata": {},
   "outputs": [],
   "source": [
    "def sys(iv, dt, time,function,E,theta,eta,w,delta,alpha,s_0,b,rho,tv, scale_v):\n",
    "    n = int(time/dt)\n",
    "    t = np.linspace(0,time,n)\n",
    "    x = np.array([[ i for i in iv]]*n)\n",
    "    n_ord = len(iv)\n",
    "    \n",
    "    #scale_v = np.array([w,2*theta,mu,w,theta])\n",
    "    \n",
    "    #scale_v = np.array([1,1,1,1,1])\n",
    "    a = iv/scale_v\n",
    "\n",
    "    \n",
    "    \n",
    "    for i in range(1,n):\n",
    "        X = function(a*scale_v,E,theta,eta,w,delta,alpha,s_0,b,rho,tv)\n",
    "        X[0] = X[0] \n",
    "        a = a + (np.array(X)*dt)/scale_v \n",
    "        #print('a = ',a)\n",
    "        x[i] = a\n",
    "    return np.array(x)\n"
   ]
  },
  {
   "cell_type": "code",
   "execution_count": 26,
   "metadata": {},
   "outputs": [],
   "source": [
    "rho= 0.1\n",
    "#rho = 100\n",
    "\n",
    "E = 2\n",
    "mu = 25\n",
    "theta = 10\n",
    "eta = 10\n",
    "w = 0.5\n",
    "\n",
    "#tv = 10**-1\n",
    "#alpha = 10**-2\n",
    "#s_0 = 10**-6\n",
    "\n",
    "\n",
    "tv = 10**-1\n",
    "alpha = 0.01\n",
    "s_0 = 10**-6\n",
    "#s_0=0\n",
    "\n",
    "b = -0.5"
   ]
  },
  {
   "cell_type": "code",
   "execution_count": 29,
   "metadata": {},
   "outputs": [
    {
     "name": "stdout",
     "output_type": "stream",
     "text": [
      "--- 15.07826542854309 seconds ---\n"
     ]
    }
   ],
   "source": [
    "T = 100\n",
    "dt = 10**-4\n",
    "delta = 0.5\n",
    "\n",
    "start_time = time.time()\n",
    "\n",
    "p0 = 25\n",
    "L0 = 20\n",
    "#x= sys([0.2,L0,p0,0.5,1], dt,T,function,E,theta,eta,w,delta,alpha,s_0,b,rho,tv)\n",
    "#ss = (alpha/0.1)**2-10**-6\n",
    "\n",
    "scale_v = np.array([0.449,16.30,30.39,0.30,9.178])\n",
    "scale_v = np.array([0.08367570934367924,18.025539887517258,13.782762702144932,0.29302765940913145,9.057653504809467])\n",
    "\n",
    "x= sys([0.3,-4,30,1,0.1], dt,T,function,E,theta,eta,w,delta,alpha,s_0,b,rho,tv, scale_v)\n",
    "\n",
    "print(\"--- %s seconds ---\" % (time.time() - start_time))\n",
    "\n",
    "\n",
    "n = int(T/dt)\n",
    "t = np.linspace(0,T,n)"
   ]
  },
  {
   "cell_type": "code",
   "execution_count": 30,
   "metadata": {},
   "outputs": [],
   "source": [
    "fig = plt.figure(figsize=(5,5))\n",
    "fig.subplots_adjust(wspace = 0.5, hspace = 0.3)\n",
    "ax1 = fig.add_subplot(5,1,1)\n",
    "ax2 = fig.add_subplot(5,1,2)\n",
    "ax3 = fig.add_subplot(5,1,3)\n",
    "ax4 = fig.add_subplot(5,1,4)\n",
    "ax5 = fig.add_subplot(5,1,5)\n",
    "\n",
    "n = int(T/dt)\n",
    "t = np.linspace(0,T,n)\n",
    "\n",
    "#lambda_ = alpha * (x[:,4] + s_0)**b\n",
    "w = 0.5\n",
    "#A = x[:,2]*x[:,3]/w\n",
    "\n",
    "T1 = 100\n",
    "T2 = 300\n",
    "#xx= np.array([x[500*i] for i in range(int(len(x)//1000))])\n",
    "#t = np.array([t[500*i] for i in range(int(len(t)//1000))])\n",
    "lambda_ = x[:,4]\n",
    "\n",
    "tau = 1\n",
    "#ax1.plot(t,10*(A-x[:,1])/x[:,2], 'r-',label ='W')\n",
    "ax1.plot(tau*t,x[:,0], 'k-',label ='W')\n",
    "ax1.set_ylabel(r'$W$')\n",
    "\n",
    "\n",
    "#ax2.plot(t,(1-1/lambda_)*x[:,2]*x[:,3]/w, 'k',label ='L',alpha = 0.2)\n",
    "ax2.plot(tau*t,x[:,1], 'k-',label ='L')\n",
    "#ax2.plot(t,x[:,1]-(lambda_-1)*E, 'b-',label ='L')\n",
    "ax2.set_ylabel(r'$L$')\n",
    "\n",
    "\n",
    "\n",
    "###### AX3 P ######\n",
    "\n",
    "ax3.plot(tau*t,x[:,2], 'k-',label ='p')\n",
    "\n",
    "\n",
    "\n",
    "###### AX4 ######\n",
    "\n",
    "ax4.plot(tau*t,x[:,3], 'k-',label ='n')\n",
    "#ax4.plot(t,w/x[:,2] * (E+x[:,1]), 'r--',alpha=0.4)\n",
    "ax4.set_ylabel(r'$n$')\n",
    "\n",
    "\n",
    "#ax5.plot(t,A/E, 'k--',label ='s',alpha=0.5)\n",
    "ax5.plot(tau*t,lambda_, 'k-',label ='s')\n",
    "\n",
    "#ax5.plot(t,(np.log(1-theta*lambda_*(E*(lambda_-1)-x[:,1]) / (x[:,1]+10)))**2, 'g--',label ='s')\n",
    "ax5.set_ylabel(r'$ \\lambda $')\n",
    "ax5.set_xlabel(r'$ t $')\n",
    "\n",
    "#ax1.set_ylim([0,1])\n",
    "#ax2.set_ylim([0,1])\n",
    "#ax3.set_ylim([0,1])\n",
    "#ax4.set_ylim([0,1])\n",
    "#ax5.set_ylim([0,1])\n",
    "\n",
    "plt.grid()\n",
    "plt.show()\n"
   ]
  },
  {
   "cell_type": "code",
   "execution_count": 411,
   "metadata": {},
   "outputs": [],
   "source": [
    "### PLOT AGAINST SLOW MANI CANDIDATES"
   ]
  },
  {
   "cell_type": "code",
   "execution_count": 39,
   "metadata": {},
   "outputs": [],
   "source": [
    "W,L,p,n,lambda_ = np.transpose(x * scale_v)\n"
   ]
  },
  {
   "cell_type": "code",
   "execution_count": 41,
   "metadata": {},
   "outputs": [
    {
     "data": {
      "text/plain": [
       "[<matplotlib.lines.Line2D at 0x7f7c2cc415d0>]"
      ]
     },
     "execution_count": 41,
     "metadata": {},
     "output_type": "execute_result"
    }
   ],
   "source": [
    "plt.figure\n",
    "\n",
    "A = n*p/w\n",
    "\n",
    "plt.plot(t,L/scale_v[1])\n",
    "plt.plot(t,A*(1-1/lambda_)/scale_v[1])"
   ]
  },
  {
   "cell_type": "code",
   "execution_count": 32,
   "metadata": {},
   "outputs": [
    {
     "ename": "IndexError",
     "evalue": "index 1000000 is out of bounds for axis 0 with size 1000000",
     "output_type": "error",
     "traceback": [
      "\u001b[0;31m---------------------------------------------------------------------------\u001b[0m",
      "\u001b[0;31mIndexError\u001b[0m                                Traceback (most recent call last)",
      "\u001b[0;32m<ipython-input-32-c9340833ab77>\u001b[0m in \u001b[0;36m<module>\u001b[0;34m\u001b[0m\n\u001b[1;32m     99\u001b[0m \u001b[0;32mfrom\u001b[0m \u001b[0mnumpy\u001b[0m \u001b[0;32mimport\u001b[0m \u001b[0mmeshgrid\u001b[0m\u001b[0;34m\u001b[0m\u001b[0;34m\u001b[0m\u001b[0m\n\u001b[1;32m    100\u001b[0m \u001b[0md\u001b[0m \u001b[0;34m=\u001b[0m \u001b[0;36m0.01\u001b[0m\u001b[0;34m\u001b[0m\u001b[0;34m\u001b[0m\u001b[0m\n\u001b[0;32m--> 101\u001b[0;31m \u001b[0mxrange\u001b[0m \u001b[0;34m=\u001b[0m \u001b[0marange\u001b[0m\u001b[0;34m(\u001b[0m\u001b[0mt\u001b[0m\u001b[0;34m[\u001b[0m\u001b[0mT1\u001b[0m\u001b[0;34m]\u001b[0m\u001b[0;34m,\u001b[0m \u001b[0mt\u001b[0m\u001b[0;34m[\u001b[0m\u001b[0mT2\u001b[0m\u001b[0;34m]\u001b[0m\u001b[0;34m,\u001b[0m \u001b[0mdt\u001b[0m\u001b[0;34m)\u001b[0m\u001b[0;34m\u001b[0m\u001b[0;34m\u001b[0m\u001b[0m\n\u001b[0m\u001b[1;32m    102\u001b[0m \u001b[0myrange\u001b[0m \u001b[0;34m=\u001b[0m \u001b[0marange\u001b[0m\u001b[0;34m(\u001b[0m\u001b[0;34m-\u001b[0m\u001b[0;36m1\u001b[0m\u001b[0;34m,\u001b[0m \u001b[0;36m11\u001b[0m\u001b[0;34m,\u001b[0m \u001b[0md\u001b[0m\u001b[0;34m)\u001b[0m\u001b[0;34m\u001b[0m\u001b[0;34m\u001b[0m\u001b[0m\n\u001b[1;32m    103\u001b[0m \u001b[0mX\u001b[0m\u001b[0;34m,\u001b[0m \u001b[0mY\u001b[0m \u001b[0;34m=\u001b[0m \u001b[0mmeshgrid\u001b[0m\u001b[0;34m(\u001b[0m\u001b[0mxrange\u001b[0m\u001b[0;34m,\u001b[0m\u001b[0myrange\u001b[0m\u001b[0;34m)\u001b[0m\u001b[0;34m\u001b[0m\u001b[0;34m\u001b[0m\u001b[0m\n",
      "\u001b[0;31mIndexError\u001b[0m: index 1000000 is out of bounds for axis 0 with size 1000000"
     ]
    }
   ],
   "source": [
    "fig = plt.figure(figsize=(5,5))\n",
    "fig.subplots_adjust(wspace = 0.5, hspace = 0.3)\n",
    "ax1 = fig.add_subplot(5,1,1)\n",
    "ax2 = fig.add_subplot(5,1,2)\n",
    "ax3 = fig.add_subplot(5,1,3)\n",
    "ax4 = fig.add_subplot(5,1,4)\n",
    "ax5 = fig.add_subplot(5,1,5)\n",
    "\n",
    "n = int(T/dt)\n",
    "t = np.linspace(0,T,n)\n",
    "\n",
    "# variable letter\n",
    "w = 0.5\n",
    "W,L,p,n,lambda_ = np.transpose(x * scale_v)\n",
    "\n",
    "A = n*p/w\n",
    "#a1 = w/p * theta * (A - L) / (1-n*w-(1-n)*W)\n",
    "#a0 = (theta*n-(1-n)*rho*(mu/p-1)-eta/p*(w-W)*(E-A+L)) / (1-n*w-(1-n)*W)\n",
    "tv,s_0,alpha =  0.1, 10**-6, 0.01\n",
    "\n",
    "T1,T2 = 3500,4000\n",
    "T1,T2 = 3585,7360\n",
    "#T1,T2 = 3585,3620\n",
    "T1,T2 = 5000,18000\n",
    "T1,T2 = 300000,1000000\n",
    "#T1,T2 = 17000,17200\n",
    "\n",
    "size = 1.1\n",
    "\n",
    "#ax1.plot(t,10*(A-x[:,1])/x[:,2], 'r-',label ='W')\n",
    "#ax1.plot(t[T1:T2],W[T1:T2], 'k-',label ='W')\n",
    "ax1.plot(t[T1:T2],A[T1:T2], 'k-',label ='W')\n",
    "\n",
    "\n",
    "num = (1-n)*rho*mu + eta*(w-W)*(E+L) - w * theta*lambda_*L\n",
    "dem =  (1-n)*rho + eta*n*(w-W)/w + theta*n*(1-lambda_)\n",
    "\n",
    "a_ = eta*(w-W) - theta * (lambda_-1)*(w-W)\n",
    "b_ = - eta*((E+L)/p *w*(w-W) + (w**2-2*w*W+W)/w) + theta * ((lambda_-1)*(w-W) + w*L*lambda_ / p *(w-W)) + (1-w)*rho*(mu/p-1)\n",
    "c_ = eta*(E+L)/p *(w**2-2*w*W+W) - theta * w * L *lambda_ /p * (w-W) - (1-w)*rho*(mu/p-1)\n",
    "\n",
    "DELTA = b_**2 - 4*a_*c_\n",
    "D_ = [i*(i>0) for i in DELTA]\n",
    "d_ = np.sqrt(D_)\n",
    "\n",
    "#ax1.plot(t[T1:T2],(1/(w*lambda_[T1:T2]))*num[T1:T2]/dem[T1:T2] * (-b_[T1:T2] + d_[T1:T2] )/ (2*a_[T1:T2]),'b--',label ='n',alpha=0.5)\n",
    "#ax1.plot(t[T1:T2],(1/(w*lambda_[T1:T2]))*num[T1:T2]/dem[T1:T2] * (-b_[T1:T2] - d_[T1:T2] )/ (2*a_[T1:T2]),'g--',label ='n',alpha=0.5)\n",
    "\n",
    "ax1.plot(t[T1:T2],(1/(w))*num[T1:T2]/dem[T1:T2] * (-b_[T1:T2] + d_[T1:T2] )/ (2*a_[T1:T2]),'b--',label ='n',alpha=0.5)\n",
    "ax1.plot(t[T1:T2],(1/(w))*num[T1:T2]/dem[T1:T2] * (-b_[T1:T2] - d_[T1:T2] )/ (2*a_[T1:T2]),'g--',label ='n',alpha=0.5)\n",
    "\n",
    "#ax1.plot(t[T1:T2],0*A[T1:T2]-E, 'b--',label ='W')\n",
    "ax1.set_ylabel(r'$W$')\n",
    "#ax1.set_ylim([-5,50])\n",
    "\n",
    "#### AX2 #####\n",
    "\n",
    "ax2.plot(t[T1:T2],L[T1:T2], 'k-',label ='L')\n",
    "L_sm = A*(1-1/lambda_)\n",
    "ax2.plot(t[T1:T2], L_sm[T1:T2]//scale_v[1], 'b--',label ='L',alpha=0.5)\n",
    "ax2.set_ylabel(r'$L$')\n",
    "\n",
    "#ax2.set_ylim([np.min(L[T1:T2])*size,np.max(L[T1:T2])*size])\n",
    "\n",
    "\n",
    "###### AX3 P ######\n",
    "\n",
    "ax3.plot(t[T1:T2],p[T1:T2], 'k-',label ='p')\n",
    "\n",
    "num = (1-n)*rho*mu + eta*(w-W)*(E+L) - w * theta*lambda_*L\n",
    "dem =  (1-n)*rho + eta*n*(w-W)/w + theta*n*(1-lambda_)\n",
    "\n",
    "ax3.plot(t[T1:T2],num[T1:T2]/dem[T1:T2] /scale_v[2] , 'b--',label ='p',alpha=0.5)\n",
    "#ax3.set_ylim([np.min(p[T1:T2])/size,np.max(p[T1:T2])*size])\n",
    "\n",
    "###### AX4 ######\n",
    "\n",
    "ax4.plot(t[T1:T2],n[T1:T2], 'k-',label ='n')\n",
    "ax4.set_ylabel(r'$n$')\n",
    "a_ = eta*(w-W) - theta * (lambda_-1)*(w-W)\n",
    "b_ = - eta*((E+L)/p *w*(w-W) + (w**2-2*w*W+W)/w) + theta * ((lambda_-1)*(w-W) + w*L*lambda_ / p *(w-W)) + (1-w)*rho*(mu/p-1)\n",
    "c_ = eta*(E+L)/p *(w**2-2*w*W+W) - theta * w * L *lambda_ /p * (w-W) - (1-w)*rho*(mu/p-1)\n",
    "\n",
    "DELTA = b_**2 - 4*a_*c_\n",
    "D_ = [i*(i>0) for i in DELTA]\n",
    "d_ = np.sqrt(D_)\n",
    "\n",
    "ax4.plot(t[T1:T2],(-b_[T1:T2] + d_[T1:T2] )/ (2*a_[T1:T2]) /scale_v[3],'b--',label ='n',alpha=0.5)\n",
    "ax4.plot(t[T1:T2],(-b_[T1:T2] - d_[T1:T2] )/ (2*a_[T1:T2])/scale_v[3],'g--',label ='n',alpha=0.5)\n",
    "#ax4.set_ylim([-0.1,np.max(n[T1:T2])*size])\n",
    "\n",
    "#ax5.plot(t,A/E, 'k--',label ='s',alpha=0.5)\n",
    "\n",
    "#ax5.plot(t,(np.log(1-theta*lambda_*(E*(lambda_-1)-x[:,1]) / (x[:,1]+10)))**2, 'g--',label ='s')\n",
    "ax5.set_ylabel(r'$ \\lambda $')\n",
    "ax5.set_xlabel(r'$ t $')\n",
    "\n",
    "from numpy import arange\n",
    "from numpy import meshgrid\n",
    "d = 0.01\n",
    "xrange = arange(t[T1], t[T2], dt)\n",
    "yrange = arange(-1, 11, d)\n",
    "X, Y = meshgrid(xrange,yrange)\n",
    "# F is one side of the equation, G is the other\n",
    "#F = delta*X**3 + X**2 * Y - delta/4 * Y**2  # Cusp with approximation\n",
    "\n",
    "#F = -b*delta*Y*(1-Y**2/alpha**2 * (s_0 + tv**2*(a1[(X/dt).astype(int)]*Y-a0[(X/dt).astype(int)])**2))\n",
    "#F = -b*delta*Y*(1-Y**2/alpha**2 * (s_0 + tv**2*(a1[(X/dt).astype(int)]*Y-a0[(X/dt).astype(int)])**2))\n",
    "\n",
    "\n",
    "\n",
    "#### #ALTER ####\n",
    "a_ = (1-w)*rho*(mu/p-1) + eta * (w-W)*(1-w)/ (lambda_*w)\n",
    "b_ = -(1-w)*(rho*(mu/p-1)  + eta*(w-W)*E/p) - eta/lambda_\n",
    "c_ = eta*E*w/p\n",
    "DELTA = b_**2 - 4*a_*c_\n",
    "D_ = [i*(i>0) for i in DELTA]\n",
    "d_ = np.sqrt(D_)\n",
    "\n",
    "nmoins = (-b_- d_ )/ (2*a_)\n",
    "#n = nmoins\n",
    "A = p*n/w\n",
    "#L = A*(1-1/lambda_)\n",
    "\n",
    "\n",
    "#a1 = w/p[(X/dt).astype(int)] * theta * (A[(X/dt).astype(int)] - L[(X/dt).astype(int)]) / (1-n[(X/dt).astype(int)]*w-(1-n[(X/dt).astype(int)])*W[(X/dt).astype(int)])\n",
    "#a0 = theta*n[(X/dt).astype(int)]-(1-n[(X/dt).astype(int)])*rho*(mu/p[(X/dt).astype(int)]-1)-eta/p[(X/dt).astype(int)]*(w-W[(X/dt).astype(int)])*(E-A[(X/dt).astype(int)]+L[(X/dt).astype(int)]) / (1-n[(X/dt).astype(int)]*w-(1-n[(X/dt).astype(int)])*W[(X/dt).astype(int)])\n",
    "\n",
    "a1 = w/p * theta * (A - L) / (1-n*w-(1-n)*W)\n",
    "a0 = (theta*n-(1-n)*rho*(mu/p-1)-eta/p*(w-W)*(E-A+L)) / (1-n*w-(1-n)*W)\n",
    "\n",
    "G = -b*delta*Y*(1-Y**2/alpha**2 * (s_0 + tv**2*(a1[(X/dt).astype(int)]*Y-a0[(X/dt).astype(int)])**2))\n",
    "\n",
    "#plt.grid()\n",
    "#ax5.contour(X, Y, F , [0])\n",
    "ax5.contour(X, Y, G , [0])\n",
    "ax5.plot(t[T1:T2],lambda_[T1:T2], 'g-',label ='s',alpha=0.5)\n",
    "#ax5.set_xlim([34,75.5])\n",
    "#ax5.set_xlim([35.834,36.208])\n",
    "\n",
    "plt.show()\n"
   ]
  },
  {
   "cell_type": "code",
   "execution_count": 388,
   "metadata": {},
   "outputs": [
    {
     "data": {
      "text/plain": [
       "<matplotlib.legend.Legend at 0x7f4a7283d4d0>"
      ]
     },
     "execution_count": 388,
     "metadata": {},
     "output_type": "execute_result"
    }
   ],
   "source": [
    "#### PLOT THE DOT ################\n",
    "\n",
    "\n",
    "fig = plt.figure(figsize=(5,5))\n",
    "\n",
    "T1,T2 = 5585,20360\n",
    "\n",
    "\n",
    "dot_W = x[:,0]*rho*((mu/x[:,2]-1))\n",
    "dot_L = theta*(lambda_*(A-x[:,1])-A)\n",
    "dot_p = (x[:,2]* (1-x[:,3]) * dot_W / x[:,0] + eta*(w-x[:,0])*(E-A+x[:,1])+ w*dot_L ) / (1-x[:,3]*w-(1-x[:,3])*x[:,0])\n",
    "dot_n = x[:,3]* (-(1-w)*dot_p/x[:,2] + 1/A*(eta*(E-A+x[:,1])+dot_L))\n",
    "\n",
    "dot_lambda_ = lambda_*delta/2 * (1- (lambda_/alpha)**2 * (s_0 + tv**2*(a1*lambda_-a0)**2))\n",
    "\n",
    "plt.plot(t[T1:T2],dot_W[T1:T2]/(np.max(W[T1:T2])-np.min(W[T1:T2])),label='W',alpha=0.5)\n",
    ",\n",
    "#ax1.plot(t[T1:T2],0*A[T1:T2]-E, 'b--',label ='W')\n",
    "\n",
    "#### AX2 #####\n",
    "\n",
    "plt.plot(t[T1:T2],dot_L[T1:T2]/ Lampl, '-',label ='L',alpha=0.5)\n",
    "\n",
    "###### AX3 P ######\n",
    "\n",
    "plt.plot(t[T1:T2],dot_p[T1:T2]/ pampl, '-',label ='p',alpha=0.5)\n",
    "\n",
    "#ax3.set_ylim([0,40])\n",
    "\n",
    "###### AX4 ######\n",
    "\n",
    "plt.plot(t[T1:T2],dot_n[T1:T2]/nampl, '-',label ='n',alpha=0.5)\n",
    "\n",
    "\n",
    "\n",
    "plt.plot(t[T1:T2],dot_lambda_[T1:T2]/lambdaampl, '-',label ='s',alpha=0.5)\n",
    "\n",
    "plt.ylim([-1,1])\n",
    "plt.legend()"
   ]
  },
  {
   "cell_type": "code",
   "execution_count": null,
   "metadata": {},
   "outputs": [],
   "source": [
    "plt.figure()\n",
    "T1,T2 = 3570,4860\n",
    "\n",
    "plt.plot(t[T1:T2],a0[T1:T2], '-',label ='s')\n",
    "plt.plot(t[T1:T2],a1[T1:T2], '-',label ='s')\n",
    "plt.plot(t[T1:T2],lambda_[T1:T2], '-',label ='s',alpha=0.1)"
   ]
  },
  {
   "cell_type": "code",
   "execution_count": 148,
   "metadata": {},
   "outputs": [
    {
     "name": "stdout",
     "output_type": "stream",
     "text": [
      "2820 2804\n"
     ]
    }
   ],
   "source": [
    "print(np.argmin(a0[T1:T2]),np.argmax(a1[T1:T2]))"
   ]
  },
  {
   "cell_type": "code",
   "execution_count": 149,
   "metadata": {},
   "outputs": [
    {
     "data": {
      "text/plain": [
       "3656"
      ]
     },
     "execution_count": 149,
     "metadata": {},
     "output_type": "execute_result"
    }
   ],
   "source": [
    "3570 +86"
   ]
  },
  {
   "cell_type": "code",
   "execution_count": 150,
   "metadata": {},
   "outputs": [
    {
     "data": {
      "text/plain": [
       "[<matplotlib.lines.Line2D at 0x7fdcb36d15d0>]"
      ]
     },
     "execution_count": 150,
     "metadata": {},
     "output_type": "execute_result"
    }
   ],
   "source": [
    "plt.figure()\n",
    "T1,T2 = 3585,7360\n",
    "#T1,T2 = 3585,3620\n",
    "\n",
    "#ax1.plot(t,10*(A-x[:,1])/x[:,2], 'r-',label ='W')\n",
    "#ax1.plot(t[T1:T2],W[T1:T2], 'k-',label ='W')\n",
    "plt.plot(t[T1:T2],A[T1:T2]-L[T1:T2], 'k-',label ='W')\n",
    "\n",
    "\n",
    "num = (1-n)*rho*mu + eta*(w-W)*(E+L) - w * theta*lambda_*L\n",
    "dem =  (1-n)*rho + eta*n*(w-W)/w + theta*n*(1-lambda_)\n",
    "\n",
    "a_ = eta*(w-W) - theta * (lambda_-1)*(w-W)\n",
    "b_ = - eta*((E+L)/p *w*(w-W) + (w**2-2*w*W+W)/w) + theta * ((lambda_-1)*(w-W) + w*L*lambda_ / p *(w-W)) + (1-w)*rho*(mu/p-1)\n",
    "c_ = eta*(E+L)/p *(w**2-2*w*W+W) - theta * w * L *lambda_ /p * (w-W) - (1-w)*rho*(mu/p-1)\n",
    "\n",
    "DELTA = b_**2 - 4*a_*c_\n",
    "D_ = [i*(i>0) for i in DELTA]\n",
    "d_ = np.sqrt(D_)\n",
    "\n",
    "plt.plot(t[T1:T2],(1/(w*lambda_[T1:T2]))*num[T1:T2]/dem[T1:T2] * (-b_[T1:T2] + d_[T1:T2] )/ (2*a_[T1:T2]),'b--',label ='n',alpha=0.5)\n",
    "plt.plot(t[T1:T2],(1/(w*lambda_[T1:T2]))*num[T1:T2]/dem[T1:T2] * (-b_[T1:T2] - d_[T1:T2] )/ (2*a_[T1:T2]),'g--',label ='n',alpha=0.5)\n",
    "\n",
    "#plt.ylim([-5,10])"
   ]
  },
  {
   "cell_type": "code",
   "execution_count": 151,
   "metadata": {},
   "outputs": [],
   "source": [
    "plt.figure()\n",
    "T1,T2 = 3500,4000\n",
    "\n",
    "plt.plot(t[T1:T2],A[T1:T2]- L[T1:T2], 'k-',label ='L')\n",
    "L_sm = A*(1-1/lambda_)\n",
    "#plt.plot(t[T1:T2], L_sm[T1:T2-], 'b--',label ='L',alpha=0.5)"
   ]
  },
  {
   "cell_type": "code",
   "execution_count": 152,
   "metadata": {},
   "outputs": [],
   "source": [
    "# amplitude"
   ]
  },
  {
   "cell_type": "code",
   "execution_count": 32,
   "metadata": {},
   "outputs": [],
   "source": [
    "def min_max(l):\n",
    "    return(np.min(l),np.max(l))"
   ]
  },
  {
   "cell_type": "code",
   "execution_count": 35,
   "metadata": {
    "scrolled": true
   },
   "outputs": [
    {
     "ename": "TypeError",
     "evalue": "'int' object is not subscriptable",
     "output_type": "error",
     "traceback": [
      "\u001b[0;31m---------------------------------------------------------------------------\u001b[0m",
      "\u001b[0;31mTypeError\u001b[0m                                 Traceback (most recent call last)",
      "\u001b[0;32m<ipython-input-35-5283bfc55e9b>\u001b[0m in \u001b[0;36m<module>\u001b[0;34m\u001b[0m\n\u001b[1;32m      1\u001b[0m \u001b[0mLm\u001b[0m\u001b[0;34m,\u001b[0m\u001b[0mLM\u001b[0m \u001b[0;34m=\u001b[0m \u001b[0mmin_max\u001b[0m\u001b[0;34m(\u001b[0m\u001b[0mL\u001b[0m\u001b[0;34m[\u001b[0m\u001b[0mT1\u001b[0m\u001b[0;34m:\u001b[0m\u001b[0mT2\u001b[0m\u001b[0;34m]\u001b[0m\u001b[0;34m)\u001b[0m\u001b[0;34m\u001b[0m\u001b[0;34m\u001b[0m\u001b[0m\n\u001b[1;32m      2\u001b[0m \u001b[0mpm\u001b[0m\u001b[0;34m,\u001b[0m\u001b[0mpM\u001b[0m \u001b[0;34m=\u001b[0m \u001b[0mmin_max\u001b[0m\u001b[0;34m(\u001b[0m\u001b[0mp\u001b[0m\u001b[0;34m[\u001b[0m\u001b[0mT1\u001b[0m\u001b[0;34m:\u001b[0m\u001b[0mT2\u001b[0m\u001b[0;34m]\u001b[0m\u001b[0;34m)\u001b[0m\u001b[0;34m\u001b[0m\u001b[0;34m\u001b[0m\u001b[0m\n\u001b[0;32m----> 3\u001b[0;31m \u001b[0mnm\u001b[0m\u001b[0;34m,\u001b[0m\u001b[0mnM\u001b[0m \u001b[0;34m=\u001b[0m \u001b[0mmin_max\u001b[0m\u001b[0;34m(\u001b[0m\u001b[0mn\u001b[0m\u001b[0;34m[\u001b[0m\u001b[0mT1\u001b[0m\u001b[0;34m:\u001b[0m\u001b[0mT2\u001b[0m\u001b[0;34m]\u001b[0m\u001b[0;34m)\u001b[0m\u001b[0;34m\u001b[0m\u001b[0;34m\u001b[0m\u001b[0m\n\u001b[0m\u001b[1;32m      4\u001b[0m \u001b[0mlambdam\u001b[0m\u001b[0;34m,\u001b[0m\u001b[0mlambdaM\u001b[0m \u001b[0;34m=\u001b[0m \u001b[0mmin_max\u001b[0m\u001b[0;34m(\u001b[0m\u001b[0mlambda_\u001b[0m\u001b[0;34m[\u001b[0m\u001b[0mT1\u001b[0m\u001b[0;34m:\u001b[0m\u001b[0mT2\u001b[0m\u001b[0;34m]\u001b[0m\u001b[0;34m)\u001b[0m\u001b[0;34m\u001b[0m\u001b[0;34m\u001b[0m\u001b[0m\n\u001b[1;32m      5\u001b[0m \u001b[0;34m\u001b[0m\u001b[0m\n",
      "\u001b[0;31mTypeError\u001b[0m: 'int' object is not subscriptable"
     ]
    }
   ],
   "source": [
    "\n",
    "\n",
    "Lm,LM = min_max(L[T1:T2])\n",
    "pm,pM = min_max(p[T1:T2])\n",
    "nm,nM = min_max(n[T1:T2])\n",
    "lambdam,lambdaM = min_max(lambda_[T1:T2])\n",
    "\n",
    "Lampl = -Lm + LM\n",
    "pampl = -pm + pM\n",
    "nampl = -nm + nM\n",
    "lambdaampl  = -lambdam + lambdaM\n"
   ]
  },
  {
   "cell_type": "code",
   "execution_count": 442,
   "metadata": {},
   "outputs": [],
   "source": [
    "from matplotlib import ticker, cm, colors"
   ]
  },
  {
   "cell_type": "code",
   "execution_count": 156,
   "metadata": {},
   "outputs": [
    {
     "data": {
      "text/plain": [
       "0.01"
      ]
     },
     "execution_count": 156,
     "metadata": {},
     "output_type": "execute_result"
    }
   ],
   "source": [
    "dt"
   ]
  },
  {
   "cell_type": "code",
   "execution_count": null,
   "metadata": {},
   "outputs": [],
   "source": [
    "plt.figure()\n",
    "plt.plot(t[T1:T2],a0[T1:T2])"
   ]
  },
  {
   "cell_type": "code",
   "execution_count": 21,
   "metadata": {},
   "outputs": [
    {
     "data": {
      "text/plain": [
       "[<matplotlib.lines.Line2D at 0x7fd11034de50>]"
      ]
     },
     "execution_count": 21,
     "metadata": {},
     "output_type": "execute_result"
    }
   ],
   "source": [
    "# plot lambda slow manifold\n",
    "\n",
    "from numpy import arange\n",
    "from numpy import meshgrid\n",
    "\n",
    "fig, ax = plt.subplots()\n",
    "\n",
    "\n",
    "\n",
    "\n",
    "d = 0.01\n",
    "T1,T2 = 3500,6532\n",
    "\n",
    "xrange = arange(t[T1], t[T2], dt)\n",
    "yrange = arange(0, 11, d)\n",
    "X, Y = meshgrid(xrange,yrange)\n",
    "\n",
    "# F is one side of the equation, G is the other\n",
    "\n",
    "G = alpha**2 - Y**2*(3*s_0+3*tv**2*a0[(X/dt).astype(int)]**2) + Y**3 * 8*a0[(X/dt).astype(int)]*a1[(X/dt).astype(int)]*tv**2 - Y**4 *5*tv**2*a1[(X/dt).astype(int)]**2\n",
    "\n",
    "#G =  -b*delta*Y*(1-Y**2/alpha**2 * (s_0 + tv**2*(a1[(X/dt).astype(int)]*Y-a0[(X/dt).astype(int)])**2))\n",
    "\n",
    "#cs = ax.contourf(X, Y, G, locator=ticker.LogLocator(), cmap=cm.PuBu_r)\n",
    "\n",
    "#cs = ax.contourf(X, Y, G)\n",
    "\n",
    "cs = ax.contourf(X, Y, G, [-1,-0.1,0,0.1,1])\n",
    "\n",
    "cbar = fig.colorbar(cs)\n",
    "\n",
    "#F = delta*X**3 + X**2 * Y - delta/4 * Y**2  # Cusp with approximation\n",
    "F = -b*delta*Y*(1-Y**2/alpha**2 * (s_0 + tv**2*(a1[(X/dt).astype(int)]*Y-a0[(X/dt).astype(int)])**2))\n",
    "\n",
    "plt.grid()\n",
    "plt.contour(X, Y, F , [0])\n",
    "\n",
    "plt.plot(t[T1:T2],lambda_[T1:T2], 'r+--',label ='s')\n"
   ]
  },
  {
   "cell_type": "code",
   "execution_count": 14,
   "metadata": {},
   "outputs": [
    {
     "data": {
      "text/plain": [
       "<matplotlib.contour.QuadContourSet at 0x7fc6e189ebd0>"
      ]
     },
     "execution_count": 14,
     "metadata": {},
     "output_type": "execute_result"
    }
   ],
   "source": [
    "fig = plt.figure()\n",
    "ax = fig.add_subplot(111, projection='3d')\n",
    "ax.contour(X,Y,G)"
   ]
  },
  {
   "cell_type": "code",
   "execution_count": 18,
   "metadata": {},
   "outputs": [
    {
     "data": {
      "text/plain": [
       "49.73998242714025"
      ]
     },
     "execution_count": 18,
     "metadata": {},
     "output_type": "execute_result"
    }
   ],
   "source": [
    "np.max(G)"
   ]
  },
  {
   "cell_type": "code",
   "execution_count": 9,
   "metadata": {},
   "outputs": [
    {
     "data": {
      "text/plain": [
       "[<matplotlib.lines.Line2D at 0x7fc6f2cbcd90>]"
      ]
     },
     "execution_count": 9,
     "metadata": {},
     "output_type": "execute_result"
    }
   ],
   "source": [
    "#num = (1-n)*rho*mu+eta*(w-W)*(E+L)-w*theta*lambda_*L\n",
    "#denom = (1-n)*rho + eta*(w-W)*n/w -theta*n*(lambda_-1)\n",
    "num = (1-n)*rho*mu+eta*(w-W)*(E)\n",
    "denom = (1-n)*rho - eta*(w-W)*n/ (w* lambda_)\n",
    "\n",
    "A = x[:,2]*x[:,3]/w\n",
    "mu = 25\n",
    "#dot_W = x[0]*rho*((mu/x[2]-1)+float(np.random.normal(0,0.22,1)))\n",
    "dot_W = x[:,0]*rho*((mu/x[:,2]-1))\n",
    "#dot_W = 0\n",
    "dot_L = theta*(lambda_*(A-x[:,1])-A)\n",
    "#ax3.plot(t,num/denom,'k',alpha=0.5)\n",
    "#ax3.plot(tau*t,xx[:,2], 'k-',label ='p')\n",
    "dot_p = (x[:,2]* (1-x[:,3]) * dot_W / x[:,0] + eta*(w-x[:,0])*(E-A+x[:,1])+ w*dot_L ) / (1-x[:,3]*w-(1-x[:,3])*x[:,0])\n",
    "dot_n = x[:,3]* (-(1-w)*dot_p/x[:,2] + 1/A*(eta*(E-A+x[:,1])+dot_L))\n",
    "\n",
    "plt.figure()\n",
    "T1,T2 = 3600,6332\n",
    "T1,T2 = 3500,6332\n",
    "plt.plot(t[T1:T2],L[T1:T2])\n",
    "plt.plot(t[T1:T2],A[T1:T2]*(1-1/lambda_[T1:T2]))\n",
    "\n",
    "plt.plot(t[T1:T2],p[T1:T2])\n",
    "#num = (1-n)*rho*mu + eta*(w-W)*(E+L) - w *theta*lambda_*L\n",
    "#dem =  (1-n)*rho + eta*n/w * (w-W) + theta*n*(lambda_-1)\n",
    "\n",
    "num = (1-n)*rho*mu + eta*(w-W)*E\n",
    "dem =  (1-n)*rho + eta*n/(w*lambda_) *(w-W) \n",
    "plt.plot(t[T1:T2],num[T1:T2]/dem[T1:T2])\n",
    "\n",
    "#plt.plot(t[T1:T2],a0[T1:T2])\n",
    "#plt.plot(t,dot_n / x[:,3])\n",
    "#plt.plot(t[T1:T2],a1[T1:T2])\n",
    "#plt.plot(t[T1:T2],theta*w*A[T1:T2]/ (p[T1:T2] * lambda_[T1:T2] * (1-n[T1:T2]*w-(1-n[T1:T2])*W[T1:T2])))\n",
    "\n",
    "#plt.plot(t,theta*x[:,3]/lambda_ /(1-x[:,3]*w-(1-x[:,3])*x[:,0]))\n",
    "plt.plot(t[T1:T2],lambda_[T1:T2]/10)\n",
    "\n"
   ]
  },
  {
   "cell_type": "markdown",
   "metadata": {},
   "source": [
    "## Slow Manifold"
   ]
  },
  {
   "cell_type": "markdown",
   "metadata": {},
   "source": [
    "##### - Implicit function countour method"
   ]
  },
  {
   "cell_type": "code",
   "execution_count": 410,
   "metadata": {},
   "outputs": [],
   "source": [
    "W,L,p,n,s = np.transpose(x)\n",
    "w=0.5\n",
    "\n",
    "A = n*p/w\n",
    "a1 = w/p * theta * (A - L) / (1-n*w-(1-n)*W)\n",
    "a0 = (theta*n-(1-n)*rho*(mu/p-1)-eta/p*(w-W)*(E-A+L)) / (1-n*w-(1-n)*W)\n",
    "\n",
    "tv,s_0,alpha =  0.1, 10**-6, 0.01\n",
    "lambda_ = alpha * (s + s_0)**b"
   ]
  },
  {
   "cell_type": "code",
   "execution_count": 411,
   "metadata": {},
   "outputs": [],
   "source": [
    "T1 = 1000\n",
    "scale = 2\n",
    "xmin, xmax, ymin, ymax, zmin, zmax = np.min([np.min(a0[T1:])/scale,np.min(a0[T1:])*scale]),np.max(a0[T1:])*scale, np.min([np.min(a1[T1:])/scale,np.min(a1[T1:])*scale]),np.max(a1[T1:])*scale,-1,np.max(lambda_[T1:])*1.1\n",
    "#xmin, xmax, ymin, ymax = -0.1,0.1,-0.1,0.1"
   ]
  },
  {
   "cell_type": "code",
   "execution_count": 412,
   "metadata": {},
   "outputs": [],
   "source": [
    "def plot_implicit(fn,tv,s_0,alpha,xmin, xmax, ymin, ymax, zmin, zmax ):\n",
    "    ''' create a plot of an implicit function\n",
    "    fn  ...implicit function (plot where fn==0)\n",
    "    bbox ..the x,y,and z limits of plotted interval'''\n",
    "    fig = plt.figure()\n",
    "    ax = fig.add_subplot(111, projection='3d')\n",
    "    A = np.linspace(xmin, xmax, 500) # resolution of the contour\n",
    "    B = np.linspace(ymin, ymax, 100) # number of slices\n",
    "    C = np.linspace(0, zmax, 100)\n",
    "    A1,A2 = np.meshgrid(A,C) # grid on which the contour is plotted\n",
    "\n",
    "    \n",
    "\n",
    "    for y in B: # plot contours in the XZ plane\n",
    "        X,Z = A1,A2\n",
    "        Y = fn(X,y,Z,tv,s_0,alpha)\n",
    "        cset = ax.contour(X, Y+y, Z, [y], zdir='y',alpha=0.2)\n",
    "\n",
    "\n",
    "    # must set plot limits because the contour will likely extend\n",
    "    # way beyond the displayed level.  Otherwise matplotlib extends the plot limits\n",
    "    # to encompass all values in the contour.\n",
    "    ax.set_zlim3d(zmin,zmax)\n",
    "    ax.set_xlim3d(xmin,xmax)\n",
    "    ax.set_ylim3d(ymin,ymax)\n",
    "\n",
    "    plt.show()"
   ]
  },
  {
   "cell_type": "code",
   "execution_count": 413,
   "metadata": {},
   "outputs": [
    {
     "name": "stdout",
     "output_type": "stream",
     "text": [
      "tv,s_0,alpha =  0.1 1e-06 0.01\n"
     ]
    },
    {
     "name": "stderr",
     "output_type": "stream",
     "text": [
      "/home/lcbob/anaconda3/lib/python3.7/site-packages/ipykernel_launcher.py:5: RuntimeWarning: More than 20 figures have been opened. Figures created through the pyplot interface (`matplotlib.pyplot.figure`) are retained until explicitly closed and may consume too much memory. (To control this warning, see the rcParam `figure.max_open_warning`).\n",
      "  \"\"\"\n"
     ]
    }
   ],
   "source": [
    "def goursat_tangle(x,y,z,tv,s_0,alpha):\n",
    "    #t,s_0,alpha = 1,10**-2,1\n",
    "    return tv**2*(y*z-x)**2*z**2+s_0*z**2-alpha**2\n",
    "    #return tv**2*(y*z-x)**2+s_0-alpha**2/z**2\n",
    "\n",
    "#tv,s_0,alpha = 1,0.01,1\n",
    "tv,s_0,alpha =  0.1, 10**-6, 0.01\n",
    "#tv,s_0,alpha =  1, 0., 1\n",
    "\n",
    "print('tv,s_0,alpha = ',tv,s_0,alpha)\n",
    "plot_implicit(goursat_tangle,tv,s_0,alpha,xmin, xmax, ymin, ymax, zmin, zmax)"
   ]
  },
  {
   "cell_type": "code",
   "execution_count": 414,
   "metadata": {},
   "outputs": [
    {
     "data": {
      "text/plain": [
       "Text(0.5, 0, 'a0')"
      ]
     },
     "execution_count": 414,
     "metadata": {},
     "output_type": "execute_result"
    }
   ],
   "source": [
    "T1,T2 = 15000,18000 #10\n",
    "\n",
    "plt.plot(a0[T1:T2],a1[T1:T2],lambda_[T1:T2],'+--')\n",
    "plt.plot(a0[0:1],a1[0:1],lambda_[0:1],'g+--')\n",
    "\n",
    "plt.xlabel('a0')"
   ]
  },
  {
   "cell_type": "code",
   "execution_count": 90,
   "metadata": {},
   "outputs": [
    {
     "data": {
      "text/plain": [
       "Text(0.5, 0, 'a0')"
      ]
     },
     "execution_count": 90,
     "metadata": {},
     "output_type": "execute_result"
    }
   ],
   "source": [
    "#T1,T2 = 3610,4700 #10\n",
    "#T1,T2 = 2280,4100 #100\n",
    "#T1,T2 = 3600,5000 #1\n",
    "\n",
    "\n",
    "T1,T2 = 3300,6000 #10\n",
    "\n",
    "plt.plot(a0[T1:T2],a1[T1:T2],lambda_[T1:T2],'+--')\n",
    "\n",
    "n_plus = (-b_+ d_ )/ (2*a_)\n",
    "n_minus = (-b_ - d_ )/ (2*a_)\n",
    "\n",
    "A_plus = A*n_plus/n\n",
    "A_minus = A*n_minus/n\n",
    "\n",
    "a0_plus =(theta*n_plus-(1-n_plus)*rho*(mu/p-1)-eta/p*(w-W)*(E-A_plus+L)) / (1-n_plus*w-(1-n_plus)*W)\n",
    "a0_minus =(theta*n_minus-(1-n_minus)*rho*(mu/p-1)-eta/p*(w-W)*(E-A_minus+L)) / (1-n_minus*w-(1-n_minus)*W)\n",
    "\n",
    "#a0_plus =(theta*n_plus)/ (1-n_plus*w-(1-n_plus)*W)\n",
    "#a0_minus =(theta*n_minus) / (1-n*w-(1-n)*W)\n",
    "\n",
    "#plt.plot(a0_plus[T1:T2],a1[T1:T2],lambda_[T1:T2],'.')\n",
    "#plt.plot(a0_minus[T1:T2],a1[T1:T2],lambda_[T1:T2],'.')\n",
    "\n",
    "#plt.plot(np.linspace(0,10,2700),np.linspace(0,10,2700)/lambda_[T1:T2],0*lambda_[T1:T2],'-')\n",
    "\n",
    "T1,T2 = 4200,6500\n",
    "\n",
    "plt.plot(a0[T1:T2],a0[T1:T2]/lambda_[T1:T2],lambda_[T1:T2],'-')\n",
    "\n",
    "plt.xlabel('a0')"
   ]
  },
  {
   "cell_type": "code",
   "execution_count": 29,
   "metadata": {},
   "outputs": [],
   "source": [
    "xmin, xmax, ymin, ymax, zmin, zmax = -1,10,-1,10,-1,10"
   ]
  },
  {
   "cell_type": "markdown",
   "metadata": {},
   "source": [
    "# N  FASTTTT"
   ]
  },
  {
   "cell_type": "code",
   "execution_count": 25,
   "metadata": {},
   "outputs": [],
   "source": [
    "scale = 1.5\n",
    "T1= 1000\n",
    "w=0.5\n",
    "xmin, xmax, ymin, ymax, zmin, zmax = np.min(p[T1:])*(1/scale),np.max(p[T1:])*scale, np.min(L[T1:])*scale,np.max(L[T1:])*scale,-1,np.max(lambda_[T1:])*1.1\n"
   ]
  },
  {
   "cell_type": "code",
   "execution_count": 26,
   "metadata": {},
   "outputs": [
    {
     "name": "stdout",
     "output_type": "stream",
     "text": [
      "11.053180509890227 46.012311060289306 -2.5830953785863175 24.463067590622856 -1 10.098448434227649\n"
     ]
    }
   ],
   "source": [
    "print(xmin, xmax, ymin, ymax, zmin, zmax)"
   ]
  },
  {
   "cell_type": "code",
   "execution_count": 27,
   "metadata": {},
   "outputs": [],
   "source": [
    "def plot_implicit(fn,tv,s_0,alpha,xmin, xmax, ymin, ymax, zmin, zmax ):\n",
    "    ''' create a plot of an implicit function\n",
    "    fn  ...implicit function (plot where fn==0)\n",
    "    bbox ..the x,y,and z limits of plotted interval'''\n",
    "    A = np.linspace(xmin, xmax, 200) # resolution of the contour\n",
    "    B = np.linspace(ymin, ymax,200) # number of slices\n",
    "    C = np.linspace(0, zmax, 200)\n",
    "    A1,A2 = np.meshgrid(A,C) # grid on which the contour is plotted\n",
    "\n",
    "    for z in B: # plot contours in the XY plane\n",
    "        X,Y = A1,A2\n",
    "        Z = fn(X,Y,z,tv,s_0,alpha)\n",
    "        cset = ax.contour(X, Y, Z+z, [z], zdir='z',alpha=0.2)\n",
    "        # [z] defines the only level to plot for this contour for this value of z\n",
    "\n",
    "\n",
    "    for x in B: # plot contours in the YZ plane\n",
    "        Y,Z = A1,A2\n",
    "        X = fn(x,Y,Z,tv,s_0,alpha)\n",
    "        cset = ax.contour(X+x, Y, Z, [x], zdir='x',alpha=0.2)\n",
    "\n",
    "    for y in B: # plot contours in the XZ plane\n",
    "        X,Z = A1,A2\n",
    "        Y = fn(X,y,Z,tv,s_0,alpha)\n",
    "        cset = ax.contour(X, Y+y, Z, [y], zdir='y',alpha=0.2)\n",
    "\n",
    " \n",
    "\n",
    "    # must set plot limits because the contour will likely extend\n",
    "    # way beyond the displayed level.  Otherwise matplotlib extends the plot limits\n",
    "    # to encompass all values in the contour.\n",
    "    ax.set_zlim3d(zmin,zmax)\n",
    "    ax.set_xlim3d(xmin,xmax)\n",
    "    ax.set_ylim3d(ymin,ymax)\n",
    "\n",
    "    plt.show()"
   ]
  },
  {
   "cell_type": "code",
   "execution_count": 29,
   "metadata": {},
   "outputs": [
    {
     "name": "stdout",
     "output_type": "stream",
     "text": [
      "tv,s_0,alpha =  0.1 1e-06 0.01\n"
     ]
    },
    {
     "name": "stderr",
     "output_type": "stream",
     "text": [
      "/home/lcbob/anaconda3/lib/python3.7/site-packages/ipykernel_launcher.py:13: UserWarning: No contour levels were found within the data range.\n",
      "  del sys.path[0]\n",
      "/home/lcbob/anaconda3/lib/python3.7/site-packages/ipykernel_launcher.py:20: UserWarning: No contour levels were found within the data range.\n",
      "/home/lcbob/anaconda3/lib/python3.7/site-packages/ipykernel_launcher.py:25: UserWarning: No contour levels were found within the data range.\n"
     ]
    }
   ],
   "source": [
    "def goursat_tangle_plus(x,y,z,tv,s_0,alpha):\n",
    "    #t,s_0,alpha = 1,10**-2,1*\n",
    "    W=0.3\n",
    "    a_ = eta*(w-W) - theta * (z-1)*(w-W)\n",
    "    b_ = - eta*((E+y)/x *w*(w-W) + (w**2-2*w*W+W)/w) + theta * ((z-1)*(w-W) + w*y*z/ x *(w-W)) + (1-w)*rho*(mu/x-1)\n",
    "    c_ = eta*(E+y)/x *(w**2-2*w*W+W) - theta * w * y *z/x * (w-W) - (1-w)*rho*(mu/x-1)\n",
    "    DELTA = b_**2 - 4*a_*c_\n",
    "    D_ = [i*(i>0) for i in DELTA]\n",
    "    d_ = np.sqrt(D_)\n",
    "    n = (-b_+ d_ )/ (2*a_)\n",
    "    #n =  np.array([i *(i <3)*(i>-3) for i in n])\n",
    "    carre = (1-n*w - (1-n)*W)\n",
    "    return delta/2 * z * (1-z**2/alpha**2 * (s_0 + (tv*theta/carre * ((n- w*y/x)*z-n))**2))\n",
    "    #return tv**2*(y*z-x)**2+s_0-alpha**2/z**2\n",
    "    \n",
    "def goursat_tangle_moins(x,y,z,tv,s_0,alpha):\n",
    "    #t,s_0,alpha = 1,10**-2,1*\n",
    "    W=0.3\n",
    "    a_ = eta*(w-W) - theta * (z-1)*(w-W)\n",
    "    b_ = - eta*((E+y)/x *w*(w-W) + (w**2-2*w*W+W)/w) + theta * ((z-1)*(w-W) + w*y*z/ x *(w-W)) + (1-w)*rho*(mu/x-1)\n",
    "    c_ = eta*(E+y)/x *(w**2-2*w*W+W) - theta * w * y *z/x * (w-W) - (1-w)*rho*(mu/x-1)\n",
    "    DELTA = b_**2 - 4*a_*c_\n",
    "    D_ = [i*(i>0) for i in DELTA]\n",
    "    d_ = np.sqrt(D_)\n",
    "    n = (-b_- d_ )/ (2*a_)\n",
    "    #n =  np.array([i *(i <3)*(i>-3) for i in n])\n",
    "    carre = (1-n*w - (1-n)*W)\n",
    "    return delta/2 * z * (1-z**2/alpha**2 * (s_0 + (tv*theta/carre * ((n- w*y/x)*z-n))**2))\n",
    "    #return tv**2*(y*z-x)**2+s_0-alpha**2/z**2\n",
    "\n",
    "#tv,s_0,alpha = 1,0.01,1\n",
    "tv,s_0,alpha =  0.1, 10**-6, 0.01\n",
    "\n",
    "\n",
    "print('tv,s_0,alpha = ',tv,s_0,alpha)\n",
    "\n",
    "fig = plt.figure()\n",
    "ax = fig.add_subplot(111, projection='3d')\n",
    "plot_implicit(goursat_tangle_plus,tv,s_0,alpha,xmin, xmax, ymin, ymax, zmin, zmax)#\n",
    "#plot_implicit(goursat_tangle_moins,tv,s_0,alpha,xmin, xmax, ymin, ymax, zmin, zmax)"
   ]
  },
  {
   "cell_type": "code",
   "execution_count": null,
   "metadata": {},
   "outputs": [],
   "source": [
    "#T1,T2 = 3610,4700 #10\n",
    "#T1,T2 = 2280,4100 #100\n",
    "#T1,T2 = 3600,5000 #1\n",
    "\n",
    "#fig = plt.figure()\n",
    "#ax = fig.add_subplot(111, projection='3d')\n",
    "T1,T2 = 9500,15000 #10\n",
    "\n",
    "plt.plot(p[T1:T2],L[T1:T2],lambda_[T1:T2],'+--')\n",
    "plt.plot(p[0:1],L[0:1],lambda_[0:1],'g.')\n",
    "plt.xlabel('p')"
   ]
  },
  {
   "cell_type": "markdown",
   "metadata": {},
   "source": [
    "## 11/08 TRY (LAST TRY ?)"
   ]
  },
  {
   "cell_type": "code",
   "execution_count": 64,
   "metadata": {},
   "outputs": [],
   "source": [
    "scale = 1.5\n",
    "T1= 1000\n",
    "w=0.5\n",
    "xmin, xmax, ymin, ymax, zmin, zmax = np.min(p[T1:])*(1/scale),np.max(p[T1:])*scale, np.min(W[T1:])/scale,np.max(W[T1:])*scale,-1,np.max(lambda_[T1:])*1.1\n"
   ]
  },
  {
   "cell_type": "code",
   "execution_count": 65,
   "metadata": {},
   "outputs": [
    {
     "name": "stdout",
     "output_type": "stream",
     "text": [
      "11.053180509890227 46.012311060289306 0.24194207380380325 0.6815938343000727 -1 10.098448434227649\n"
     ]
    }
   ],
   "source": [
    "print(xmin, xmax, ymin, ymax, zmin, zmax)"
   ]
  },
  {
   "cell_type": "code",
   "execution_count": 12,
   "metadata": {},
   "outputs": [],
   "source": [
    "def plot_implicit(fn,tv,s_0,alpha,xmin, xmax, ymin, ymax, zmin, zmax ):\n",
    "    ''' create a plot of an implicit function\n",
    "    fn  ...implicit function (plot where fn==0)\n",
    "    bbox ..the x,y,and z limits of plotted interval'''\n",
    "    A = np.linspace(xmin, xmax, 300) # resolution of the contour\n",
    "    B = np.linspace(ymin, ymax,300) # number of slices\n",
    "    C = np.linspace(zmin, zmax, 300)\n",
    "    A1,A2 = np.meshgrid(A,C) # grid on which the contour is plotted\n",
    "\n",
    "    \n",
    "\n",
    "    for y in B: # plot contours in the XZ plane\n",
    "        X,Z = A1,A2\n",
    "        Y = fn(X,y,Z,tv,s_0,alpha)\n",
    "        cset = ax.contour(X, Y+y, Z, [y], zdir='y',alpha=0.2)\n",
    "\n",
    " \n",
    "\n",
    "    # must set plot limits because the contour will likely extend\n",
    "    # way beyond the displayed level.  Otherwise matplotlib extends the plot limits\n",
    "    # to encompass all values in the contour.\n",
    "    ax.set_zlim3d(zmin,zmax)\n",
    "    ax.set_xlim3d(xmin,xmax)\n",
    "    ax.set_ylim3d(ymin,ymax)\n",
    "\n",
    "    plt.show()"
   ]
  },
  {
   "cell_type": "code",
   "execution_count": 89,
   "metadata": {},
   "outputs": [
    {
     "name": "stdout",
     "output_type": "stream",
     "text": [
      "tv,s_0,alpha =  0.1 1e-06 0.01\n"
     ]
    }
   ],
   "source": [
    "def goursat_tangle_plus(x,y,z,tv,s_0,alpha):\n",
    "    #t,s_0,alpha = 1,10**-2,1*\n",
    "    a_ = (1-w)*rho*(mu/x-1) + eta * (w-y)*(1-w)/ (z*w)\n",
    "    b_ = -(1-w)*(rho*(mu/x-1)  + eta*(w-y)*E/x) - eta/z\n",
    "    c_ = eta*E*w/x\n",
    "    DELTA = b_**2 - 4*a_*c_\n",
    "    D_ = [i*(i>0) for i in DELTA]\n",
    "    d_ = np.sqrt(D_)\n",
    "    n = (-b_+ d_ )/ (2*a_)\n",
    "    A =x*n/w\n",
    "    L = A*(1-1/z)\n",
    "\n",
    "    a1 = w/x * theta * (A - L) / (1-n*w-(1-n)*y)\n",
    "    a0 = (theta*n-(1-n)*rho*(mu/x-1)-eta/p*(w-y)*(E-A+L)) / (1-n*w-(1-n)*y)\n",
    "\n",
    "    #n =  np.array([i *(i <3)*(i>-3) for i in n])\n",
    "    return(z*(1-z**2/alpha**2 * (s_0 + tv**2*(a1*z-a0)**2)))\n",
    "    #return(1-z**2/alpha**2 * (s_0 + (tv/(1-n*w - (1-n)*y) * ((1-n)*rho*(mu/x-1) + eta/x*(w-y)*(E-n*x/(w*z))))**2))\n",
    "    #return tv**2*(y*z-x)**2+s_0-alpha**2/z**2\n",
    "    \n",
    "def goursat_tangle_moin(x,y,z,tv,s_0,alpha):\n",
    "    #t,s_0,alpha = 1,10**-2,1*\n",
    "    a_ = (1-w)*rho*(mu/x-1) + eta * (w-y)*(1-w)/ (z*w)\n",
    "    b_ = -(1-w)*(rho*(mu/x-1)  + eta*(w-y)*E/x) - eta/z\n",
    "    c_ = eta*E*w/x\n",
    "    DELTA = b_**2 - 4*a_*c_\n",
    "    D_ = [i*(i>0) for i in DELTA]\n",
    "    d_ = np.sqrt(D_)\n",
    "    n = (-b_- d_ )/ (2*a_)\n",
    "    \n",
    "    \n",
    "    A =p*n/w\n",
    "    L = A*(1-1/z)\n",
    "\n",
    "    p = x\n",
    "    W = y\n",
    "    \n",
    "    a1 = w/p * theta * (A - L) / (1-n*w-(1-n)*W)\n",
    "    a0 = (theta*n-(1-n)*rho*(mu/p-1)-eta/p*(w-W)*(E-A+L)) / (1-n*w-(1-n)*W)\n",
    "    #n =  np.array([i *(i <3)*(i>-3) for i in n])\n",
    "    return(z*(1-z**2/alpha**2 * (s_0 + tv**2*(a1*z-a0)**2)))\n",
    "    #return(1-z**2/alpha**2 * (s_0 + (tv/(1-n*w - (1-n)*y) * ((1-n)*rho*(mu/x-1) + eta/x*(w-y)*(E-n*x/(w*z))))**2))\n",
    "    #return tv**2*(y*z-x)**2+s_0-alpha**2/z**2\n",
    "    \n",
    "    \n",
    "#tv,s_0,alpha = 1,0.01,1\n",
    "tv,s_0,alpha =  0.1, 10**-6, 0.01\n",
    "\n",
    "\n",
    "print('tv,s_0,alpha = ',tv,s_0,alpha)\n",
    "\n",
    "fig = plt.figure()\n",
    "ax = fig.add_subplot(111, projection='3d')\n",
    "#plot_implicit(goursat_tangle_plus,tv,s_0,alpha,xmin, xmax, ymin, ymax, zmin, zmax)\n",
    "plot_implicit(goursat_tangle_moin,tv,s_0,alpha,xmin, xmax, ymin, ymax, zmin, zmax)"
   ]
  },
  {
   "cell_type": "code",
   "execution_count": 87,
   "metadata": {},
   "outputs": [
    {
     "data": {
      "text/plain": [
       "Text(0.05215269767243335, -0.060859025653183955, 'p')"
      ]
     },
     "execution_count": 87,
     "metadata": {},
     "output_type": "execute_result"
    }
   ],
   "source": [
    "#T1,T2 = 3610,4700 #10\n",
    "#T1,T2 = 2280,4100 #100\n",
    "#T1,T2 = 3600,5000 #1\n",
    "\n",
    "#fig = plt.figure()<\n",
    "\n",
    "\n",
    "#ax = fig.add_subplot(111, projection='3d')\n",
    "T1,T2 = 9500,15000 #10\n",
    "\n",
    "plt.plot(p[T1:T2],W[T1:T2],lambda_[T1:T2],'+--')\n",
    "plt.plot(p[0:1],W[0:1],lambda_[0:1],'g.')\n",
    "plt.xlabel('p')"
   ]
  },
  {
   "cell_type": "code",
   "execution_count": 9,
   "metadata": {},
   "outputs": [],
   "source": [
    "## lambda and L"
   ]
  },
  {
   "cell_type": "code",
   "execution_count": 16,
   "metadata": {},
   "outputs": [],
   "source": [
    "scale = 1.5\n",
    "T1= 1000\n",
    "w=0.5\n",
    "xmin, xmax, ymin, ymax, zmin, zmax = np.min(p[T1:])*(1/scale),np.max(p[T1:])*scale, np.min(n[T1:])/scale,np.max(n[T1:])*scale,-1,np.max(lambda_[T1:])*1.1\n",
    "ymin = -0.5"
   ]
  },
  {
   "cell_type": "code",
   "execution_count": 17,
   "metadata": {},
   "outputs": [
    {
     "name": "stdout",
     "output_type": "stream",
     "text": [
      "tv,s_0,alpha =  0.1 1e-06 0.01\n"
     ]
    }
   ],
   "source": [
    "def goursat_tangle_moin(x,y,z,tv,s_0,alpha):\n",
    "    #t,s_0,alpha = 1,10**-2,1*\n",
    "    A =x*y/w\n",
    "    L = A*(1-1/z)\n",
    "    W = 0.4\n",
    "    n = y\n",
    "    p = x\n",
    "    a1 = w/p * theta * (A - L) / (1-n*w-(1-n)*W)\n",
    "    a0 = (theta*n-(1-n)*rho*(mu/p-1)-eta/p*(w-W)*(E-A+L)) / (1-n*w-(1-n)*W)\n",
    "    #n =  np.array([i *(i <3)*(i>-3) for i in n])\n",
    "    return(z*(1-z**2/alpha**2 * (s_0 + tv**2*(a1*z-a0)**2)))\n",
    "    #return(1-z**2/alpha**2 * (s_0 + (tv/(1-n*w - (1-n)*y) * ((1-n)*rho*(mu/x-1) + eta/x*(w-y)*(E-n*x/(w*z))))**2))\n",
    "    #return tv**2*(y*z-x)**2+s_0-alpha**2/z**2\n",
    "    \n",
    "    \n",
    "#tv,s_0,alpha = 1,0.01,1\n",
    "tv,s_0,alpha =  0.1, 10**-6, 0.01\n",
    "\n",
    "\n",
    "print('tv,s_0,alpha = ',tv,s_0,alpha)\n",
    "\n",
    "fig = plt.figure()\n",
    "ax = fig.add_subplot(111, projection='3d')\n",
    "#plot_implicit(goursat_tangle_plus,tv,s_0,alpha,xmin, xmax, ymin, ymax, zmin, zmax)\n",
    "plot_implicit(goursat_tangle_moin,tv,s_0,alpha,xmin, xmax, ymin, ymax, zmin, zmax)"
   ]
  },
  {
   "cell_type": "code",
   "execution_count": 18,
   "metadata": {},
   "outputs": [
    {
     "data": {
      "text/plain": [
       "Text(-0.018105044898267187, -0.09266768761940895, 'p')"
      ]
     },
     "execution_count": 18,
     "metadata": {},
     "output_type": "execute_result"
    }
   ],
   "source": [
    "#T1,T2 = 3610,4700 #10\n",
    "#T1,T2 = 2280,4100 #100\n",
    "#T1,T2 = 3600,5000 #1\n",
    "\n",
    "#fig = plt.figure()<\n",
    "\n",
    "\n",
    "#ax = fig.add_subplot(111, projection='3d')\n",
    "T1,T2 = 9500,15000 #10\n",
    "\n",
    "plt.plot(p[T1:T2],n[T1:T2],lambda_[T1:T2],'+--')\n",
    "plt.plot(p[0:1],n[0:1],lambda_[0:1],'g.')\n",
    "plt.xlabel('p')"
   ]
  },
  {
   "cell_type": "code",
   "execution_count": 44,
   "metadata": {},
   "outputs": [],
   "source": [
    "\n",
    "a_ = (1-w)*rho*(mu/p-1) + eta * (w-W)*(1-w)/ (lambda_*w)\n",
    "b_ = -(1-w)*(rho*(mu/p-1)  + eta*(w-W)*E/p) - eta/lambda_\n",
    "c_ = eta*E*w/p\n",
    "DELTA = b_**2 - 4*a_*c_\n",
    "D_ = [i*(i>0) for i in DELTA]\n",
    "d_ = np.sqrt(D_)\n",
    "nplus = (-b_+ d_ )/ (2*a_)\n",
    "nmoins = (-b_- d_ )/ (2*a_)"
   ]
  },
  {
   "cell_type": "code",
   "execution_count": 53,
   "metadata": {},
   "outputs": [
    {
     "data": {
      "text/plain": [
       "[<matplotlib.lines.Line2D at 0x7fd53409e410>]"
      ]
     },
     "execution_count": 53,
     "metadata": {},
     "output_type": "execute_result"
    }
   ],
   "source": [
    "plt.figure()\n",
    "\n",
    "T1,T2 = 3600,17000\n",
    "#plt.plot(t[T1:T2],nplus[T1:T2],'--')\n",
    "plt.plot(t[T1:T2],nmoins[T1:T2],'--')\n",
    "plt.plot(t[T1:T2],n[T1:T2])\n"
   ]
  },
  {
   "cell_type": "code",
   "execution_count": null,
   "metadata": {},
   "outputs": [],
   "source": [
    "-b*delta*Y*(1-Y**2/alpha**2 * (s_0 + (tv/(1-nmoins*w - (1-nmoins)*W[(X/dt).astype(int)]) * ((1-nmoins)*rho*(mu/p[(X/dt).astype(int)]-1) + eta/p[(X/dt).astype(int)]*(w-W[(X/dt).astype(int)])*(E-nmoins*p[(X/dt).astype(int)]/(w*Y))))**2))\n"
   ]
  },
  {
   "cell_type": "code",
   "execution_count": 54,
   "metadata": {},
   "outputs": [
    {
     "data": {
      "text/plain": [
       "[<matplotlib.lines.Line2D at 0x7fd5682d4c10>]"
      ]
     },
     "execution_count": 54,
     "metadata": {},
     "output_type": "execute_result"
    }
   ],
   "source": [
    "plt.figure()\n",
    "d = 0.01\n",
    "xrange = arange(t[T1], t[T2], dt)\n",
    "yrange = arange(-1, 11, d)\n",
    "X, Y = meshgrid(xrange,yrange)\n",
    "# F is one side of the equation, G is the other\n",
    "#F = delta*X**3 + X**2 * Y - delta/4 * Y**2  # Cusp with approximation\n",
    "\n",
    "#F = -b*delta*Y*(1-Y**2/alpha**2 * (s_0 + tv**2*(a1[(X/dt).astype(int)]*Y-a0[(X/dt).astype(int)])**2))\n",
    "A = n_\n",
    "F = -b*delta*Y*(1-Y**2/alpha**2 * (s_0 + (tv/(1-nmoins[(X/dt).astype(int)]*w - (1-nmoins[(X/dt).astype(int)])*W[(X/dt).astype(int)]) * ((1-nmoins[(X/dt).astype(int)])*rho*(mu/p[(X/dt).astype(int)]-1) + eta/p[(X/dt).astype(int)]*(w-W[(X/dt).astype(int)])*(E-nmoins[(X/dt).astype(int)]*p[(X/dt).astype(int)]/(w*Y))))**2))\n",
    "\n",
    "\n",
    "#plt.grid()\n",
    "#ax5.contour(X, Y, F , [0])\n",
    "plt.contour(X, Y, F , [0])\n",
    "plt.plot(t[T1:T2],lambda_[T1:T2], 'g-',label ='s',alpha=0.5)"
   ]
  },
  {
   "cell_type": "code",
   "execution_count": null,
   "metadata": {},
   "outputs": [],
   "source": []
  },
  {
   "cell_type": "code",
   "execution_count": null,
   "metadata": {},
   "outputs": [],
   "source": []
  },
  {
   "cell_type": "code",
   "execution_count": null,
   "metadata": {},
   "outputs": [],
   "source": []
  },
  {
   "cell_type": "code",
   "execution_count": 514,
   "metadata": {},
   "outputs": [
    {
     "data": {
      "text/plain": [
       "Text(0.5, 0, 'p')"
      ]
     },
     "execution_count": 514,
     "metadata": {},
     "output_type": "execute_result"
    }
   ],
   "source": []
  },
  {
   "cell_type": "code",
   "execution_count": 240,
   "metadata": {},
   "outputs": [],
   "source": [
    "x,y,z = p,L,lambda_\n",
    "a_ = eta*(w-W) - theta * (z-1)*(w-W)\n",
    "b_ = - eta*((E+y)/x *w*(w-W) + (w**2-2*w*W+W)/w) + theta * ((z-1)*(w-W) + w*y*z/ x *(w-W)) + (1-w)*rho*(mu/x-1)\n",
    "c_ = eta*(E+y)/x *(w**2-2*w*W+W) - theta * w * y *z/x * (w-W) - (1-w)*rho*(mu/x-1)\n",
    "DELTA = b_**2 - 4*a_*c_\n",
    "D_ = [i*(i>0) for i in DELTA]\n",
    "d_ = np.sqrt(D_)\n",
    "n = (-b_+ d_ )/ (2*a_)\n",
    "n = [i *(i <3)*(i>-3) for i in n]"
   ]
  },
  {
   "cell_type": "code",
   "execution_count": 241,
   "metadata": {},
   "outputs": [
    {
     "data": {
      "text/plain": [
       "[<matplotlib.lines.Line2D at 0x7fdc5e740d90>]"
      ]
     },
     "execution_count": 241,
     "metadata": {},
     "output_type": "execute_result"
    }
   ],
   "source": [
    "plt.figure()\n",
    "plt.plot(n)"
   ]
  },
  {
   "cell_type": "code",
   "execution_count": 268,
   "metadata": {},
   "outputs": [
    {
     "data": {
      "text/plain": [
       "Text(0.5, 0, 'p')"
      ]
     },
     "execution_count": 268,
     "metadata": {},
     "output_type": "execute_result"
    }
   ],
   "source": []
  },
  {
   "cell_type": "markdown",
   "metadata": {},
   "source": [
    "# L slow ma"
   ]
  },
  {
   "cell_type": "code",
   "execution_count": 25,
   "metadata": {},
   "outputs": [],
   "source": [
    "W,L,p,n,s = np.transpose(x)\n",
    "A = n*p/w\n",
    "\n",
    "a1 = w/p * theta * (A - L) / (1-n*w-(1-n)*W)\n",
    "a0 = (theta*n-(1-n)*rho*(mu/p-1)-eta/p*(w-W)*(E-A+L)) / (1-n*w-(1-n)*W)\n",
    "\n",
    "tv,s_0,alpha =  0.1, 10**-6, 0.01\n",
    "lambda_ = alpha * (s + s_0)**b"
   ]
  },
  {
   "cell_type": "code",
   "execution_count": 59,
   "metadata": {},
   "outputs": [
    {
     "name": "stdout",
     "output_type": "stream",
     "text": [
      "15.047357672776052 33.751562588499716 0.007453993842569434 0.3309918229540748 0.1 10.091490754439295\n"
     ]
    }
   ],
   "source": [
    "T1,T2 = 3000,30000\n",
    "T1,T2 = 3610,5100\n",
    "T1,T2 = 3010,5100\n",
    "\n",
    "scale = 1.1\n",
    "xmin, xmax, ymin, ymax, zmin, zmax = np.min(p[T1:])*(1/scale),np.max(p[T1:])*scale, np.min(n[T1:])*(1/scale),np.max(n[T1:])*scale,0.1,np.max(lambda_[T1:])*1.1\n",
    "print(xmin, xmax, ymin, ymax, zmin, zmax)"
   ]
  },
  {
   "cell_type": "code",
   "execution_count": 60,
   "metadata": {},
   "outputs": [
    {
     "data": {
      "text/plain": [
       "0.42145849382072886"
      ]
     },
     "execution_count": 60,
     "metadata": {},
     "output_type": "execute_result"
    }
   ],
   "source": [
    "np.mean(W)"
   ]
  },
  {
   "cell_type": "code",
   "execution_count": 68,
   "metadata": {},
   "outputs": [],
   "source": [
    "def plot_implicit(fn,tv,s_0,alpha,xmin, xmax, ymin, ymax, zmin, zmax ):\n",
    "    ''' create a plot of an implicit function\n",
    "    fn  ...implicit function (plot where fn==0)\n",
    "    bbox ..the x,y,and z limits of plotted interval'''\n",
    "    A = np.linspace(xmin, xmax, 100) # resolution of the contour\n",
    "    B = np.linspace(ymin, ymax,100) # number of slices\n",
    "    C = np.linspace(zmin, zmax, 100)\n",
    "    A1,A2 = np.meshgrid(A,C) # grid on which the contour is plotted\n",
    "\n",
    "\n",
    "    for y in B: # plot contours in the XZ plane\n",
    "        X,Z = A1,A2\n",
    "        Y = fn(X,y,Z,tv,s_0,alpha)\n",
    "        cset = ax.contour(X, Y+y, Z, [y], zdir='y',alpha=0.2)\n",
    "\n",
    " \n",
    "\n",
    "    # must set plot limits because the contour will likely extend\n",
    "    # way beyond the displayed level.  Otherwise matplotlib extends the plot limits\n",
    "    # to encompass all values in the contour.\n",
    "    ax.set_zlim3d(zmin,zmax)\n",
    "    ax.set_xlim3d(xmin,xmax)\n",
    "    ax.set_ylim3d(ymin,ymax)\n",
    "\n",
    "    plt.show()"
   ]
  },
  {
   "cell_type": "code",
   "execution_count": 75,
   "metadata": {},
   "outputs": [
    {
     "name": "stdout",
     "output_type": "stream",
     "text": [
      "tv,s_0,alpha =  0.1 1e-06 0.01\n"
     ]
    }
   ],
   "source": [
    "\n",
    "\n",
    "def goursat_tangle(x,y,z,tv,s_0,alpha):\n",
    "    #t,s_0,alpha = 1,10**-2,1*\n",
    "    W=0.3\n",
    "    \n",
    "    #n =  np.array([i *(i <3)*(i>-3) for i in n])\n",
    "    L = x*y /w * (1-z**-1)\n",
    "    \n",
    "    #L =  np.array([L *(L>-2) for i in L])\n",
    "    return delta/2 * z * (1-z**2/alpha**2 * (s_0 + (tv*theta/(1-y*w - (1-y)*W) * ((y- w*L/x)*z-y))**2))\n",
    "    #return tv**2*(y*z-x)**2+s_0-alpha**2/z**2\n",
    "\n",
    "#tv,s_0,alpha = 1,0.01,1\n",
    "tv,s_0,alpha =  0.1, 10**-6, 0.01\n",
    "\n",
    "\n",
    "print('tv,s_0,alpha = ',tv,s_0,alpha)\n",
    "\n",
    "fig = plt.figure()\n",
    "ax = fig.add_subplot(111, projection='3d')\n",
    "#plot_implicit(goursat_tangle_plus,tv,s_0,alpha,xmin, xmax, ymin, ymax, zmin, zmax)\n",
    "plot_implicit(goursat_tangle,tv,s_0,alpha,xmin, xmax, ymin, ymax, zmin, zmax)\n"
   ]
  },
  {
   "cell_type": "code",
   "execution_count": 66,
   "metadata": {},
   "outputs": [
    {
     "data": {
      "text/plain": [
       "Text(0.0005634247941578097, -0.08979996982597734, 'A')"
      ]
     },
     "execution_count": 66,
     "metadata": {},
     "output_type": "execute_result"
    }
   ],
   "source": [
    "\n",
    "\n",
    "plt.plot(p[T1:T2],L[T1:T2],lambda_[T1:T2],'+--')\n",
    "plt.plot(A[0:1],lambda_[0:1],L[0:1],'g.')\n",
    "plt.xlabel('A')"
   ]
  },
  {
   "cell_type": "markdown",
   "metadata": {},
   "source": [
    "other graph"
   ]
  },
  {
   "cell_type": "code",
   "execution_count": 39,
   "metadata": {},
   "outputs": [
    {
     "data": {
      "text/plain": [
       "[<mpl_toolkits.mplot3d.art3d.Line3D at 0x7f6e7fe41450>]"
      ]
     },
     "execution_count": 39,
     "metadata": {},
     "output_type": "execute_result"
    }
   ],
   "source": [
    "fig = plt.figure()\n",
    "ax = fig.add_subplot(111, projection='3d')\n",
    "T1,T2 = 3600,6332\n",
    "\n",
    "plt.plot(a0[T1:T2],p[T1:T2],lambda_[T1:T2],'.',markersize = 0.4)\n",
    "#ax.set_xlim3d(0,1)"
   ]
  },
  {
   "cell_type": "code",
   "execution_count": 176,
   "metadata": {},
   "outputs": [
    {
     "data": {
      "text/plain": [
       "[<matplotlib.lines.Line2D at 0x7f85b0053990>]"
      ]
     },
     "execution_count": 176,
     "metadata": {},
     "output_type": "execute_result"
    }
   ],
   "source": [
    "plt.figure()\n",
    "\n",
    "#T1,T2 = 3610,4100\n",
    "T1,T2 = 3600,7500\n",
    "\n",
    "plt.plot(a0[T1:T2],a1[T1:T2],'+--')\n",
    "plt.plot(0*a0[T1:T2],a1[T1:T2],'+--')"
   ]
  },
  {
   "cell_type": "code",
   "execution_count": 145,
   "metadata": {},
   "outputs": [
    {
     "data": {
      "text/plain": [
       "71"
      ]
     },
     "execution_count": 145,
     "metadata": {},
     "output_type": "execute_result"
    }
   ],
   "source": [
    "np.argmin(a0[T1:T2])"
   ]
  },
  {
   "cell_type": "code",
   "execution_count": 283,
   "metadata": {},
   "outputs": [
    {
     "data": {
      "text/plain": [
       "Text(-0.03495305906203494, -0.09081071126310043, 'a0')"
      ]
     },
     "execution_count": 283,
     "metadata": {},
     "output_type": "execute_result"
    }
   ],
   "source": [
    "T1,T2 = 2000,10000\n",
    "\n",
    "plt.plot(a0[T1:T2],a1[T1:T2],lambda_[T1:T2],'.')\n",
    "\n",
    "#plt.plot(a0[0:1],a1[0:1],lambda_[0:1],'g.')\n",
    "plt.xlabel('a0')"
   ]
  },
  {
   "cell_type": "code",
   "execution_count": 377,
   "metadata": {},
   "outputs": [
    {
     "name": "stderr",
     "output_type": "stream",
     "text": [
      "/home/lcbob/anaconda3/lib/python3.7/site-packages/ipykernel_launcher.py:1: RuntimeWarning: More than 20 figures have been opened. Figures created through the pyplot interface (`matplotlib.pyplot.figure`) are retained until explicitly closed and may consume too much memory. (To control this warning, see the rcParam `figure.max_open_warning`).\n",
      "  \"\"\"Entry point for launching an IPython kernel.\n"
     ]
    },
    {
     "data": {
      "text/plain": [
       "[<matplotlib.lines.Line2D at 0x7f1a45ac95d0>]"
      ]
     },
     "execution_count": 377,
     "metadata": {},
     "output_type": "execute_result"
    }
   ],
   "source": [
    "\n",
    "fig = plt.figure(figsize=(5,5))\n",
    "\n",
    "ax1 = fig.add_subplot(3,1,1)\n",
    "ax2 = fig.add_subplot(3,1,2)\n",
    "ax3 = fig.add_subplot(3,1,3)\n",
    "\n",
    "ax1.plot(t,lambda_)\n",
    "ax2.plot(t,tv**2*(a1*lambda_ - a0)**2 + s_0 - (lambda_/alpha)**-2)\n",
    "ax3.plot(t,a0)\n"
   ]
  },
  {
   "cell_type": "code",
   "execution_count": 165,
   "metadata": {},
   "outputs": [
    {
     "data": {
      "text/plain": [
       "[<mpl_toolkits.mplot3d.art3d.Line3D at 0x7f1a7b899510>]"
      ]
     },
     "execution_count": 165,
     "metadata": {},
     "output_type": "execute_result"
    }
   ],
   "source": [
    "plt.plot(theta*n / (1-n*w-(1-n)*W), theta*n/lambda_ /(1-n*w-(1-n)*W) ,lambda_)"
   ]
  },
  {
   "cell_type": "code",
   "execution_count": 166,
   "metadata": {
    "scrolled": true
   },
   "outputs": [
    {
     "data": {
      "text/plain": [
       "[<mpl_toolkits.mplot3d.art3d.Line3D at 0x7f1a7e843c90>]"
      ]
     },
     "execution_count": 166,
     "metadata": {},
     "output_type": "execute_result"
    }
   ],
   "source": [
    "plt.plot(theta*n / (1-n*w-(1-n)*W),w/p * theta*(A-L) /(1-n*w-(1-n)*W) ,lambda_)"
   ]
  },
  {
   "cell_type": "code",
   "execution_count": 81,
   "metadata": {},
   "outputs": [
    {
     "data": {
      "text/plain": [
       "[<mpl_toolkits.mplot3d.art3d.Line3D at 0x7efc12600b90>]"
      ]
     },
     "execution_count": 81,
     "metadata": {},
     "output_type": "execute_result"
    }
   ],
   "source": [
    "plt.plot(theta*n / (1-n*w-(1-n)*W),a1,lambda_)"
   ]
  },
  {
   "cell_type": "code",
   "execution_count": 210,
   "metadata": {},
   "outputs": [
    {
     "data": {
      "text/plain": [
       "[<matplotlib.lines.Line2D at 0x7fc189efda90>]"
      ]
     },
     "execution_count": 210,
     "metadata": {},
     "output_type": "execute_result"
    }
   ],
   "source": [
    "plt.figure()\n",
    "dot_L = theta*(lambda_*(A-L)-A)\n",
    "#plt.plot(t,dot_L)\n",
    "plt.plot(t,a1)\n",
    "plt.plot(t,w/p * theta*(E) /(1-n*w-(1-n)*W),alpha=0.5)"
   ]
  },
  {
   "cell_type": "code",
   "execution_count": 90,
   "metadata": {},
   "outputs": [
    {
     "data": {
      "text/plain": [
       "[<matplotlib.lines.Line2D at 0x7efc070e0890>]"
      ]
     },
     "execution_count": 90,
     "metadata": {},
     "output_type": "execute_result"
    }
   ],
   "source": [
    "plt.figure()\n",
    "plt.plot(t,(1-1/lambda_)*A,alpha=0.5)\n",
    "plt.plot(t,L,alpha=0.5)"
   ]
  },
  {
   "cell_type": "markdown",
   "metadata": {},
   "source": [
    "## $p$ slow or fast ?"
   ]
  },
  {
   "cell_type": "code",
   "execution_count": 62,
   "metadata": {},
   "outputs": [
    {
     "name": "stderr",
     "output_type": "stream",
     "text": [
      "/home/lcbob/anaconda3/lib/python3.7/site-packages/ipykernel_launcher.py:17: RuntimeWarning: More than 20 figures have been opened. Figures created through the pyplot interface (`matplotlib.pyplot.figure`) are retained until explicitly closed and may consume too much memory. (To control this warning, see the rcParam `figure.max_open_warning`).\n"
     ]
    },
    {
     "data": {
      "text/plain": [
       "[<matplotlib.lines.Line2D at 0x7f6e8a0ad8d0>]"
      ]
     },
     "execution_count": 62,
     "metadata": {},
     "output_type": "execute_result"
    }
   ],
   "source": [
    "#num = (1-n)*rho*mu+eta*(w-W)*(E+L)-w*theta*lambda_*L\n",
    "#denom = (1-n)*rho + eta*(w-W)*n/w -theta*n*(lambda_-1)\n",
    "num = (1-n)*rho*mu+eta*(w-W)*(E)\n",
    "denom = (1-n)*rho - eta*(w-W)*n/ (w* lambda_)\n",
    "\n",
    "A = x[:,2]*x[:,3]/w\n",
    "mu = 25\n",
    "#dot_W = x[0]*rho*((mu/x[2]-1)+float(np.random.normal(0,0.22,1)))\n",
    "dot_W = x[:,0]*rho*((mu/x[:,2]-1))\n",
    "#dot_W = 0\n",
    "dot_L = theta*(lambda_*(A-x[:,1])-A)\n",
    "#ax3.plot(t,num/denom,'k',alpha=0.5)\n",
    "#ax3.plot(tau*t,xx[:,2], 'k-',label ='p')\n",
    "dot_p = (x[:,2]* (1-x[:,3]) * dot_W / x[:,0] + eta*(w-x[:,0])*(E-A+x[:,1])+ w*dot_L ) / (1-x[:,3]*w-(1-x[:,3])*x[:,0])\n",
    "dot_n = x[:,3]* (-(1-w)*dot_p/x[:,2] + 1/A*(eta*(E-A+x[:,1])+dot_L))\n",
    "\n",
    "plt.figure()\n",
    "T1,T2 = 3600,6332\n",
    "T1,T2 = 3500,6332\n",
    "\n",
    "plt.plot(t[T1:T2],p[T1:T2])\n",
    "\n",
    "# L SLAVED\n",
    "#num = (1-n)*rho*mu + eta*(w-W)*E\n",
    "#dem =  (1-n)*rho + eta*n/(w*lambda_) *(w-W) \n",
    "#plt.plot(t[T1:T2],num[T1:T2]/dem[T1:T2],'--')\n",
    "\n",
    "# L FREE\n",
    "num = (1-n)*rho*mu + eta*(w-W)*(E+L)\n",
    "dem =  (1-n)*rho + eta*n/w*(w-W) \n",
    "\n",
    "plt.plot(t[T1:T2],num[T1:T2]/dem[T1:T2],'--')\n",
    "\n",
    "plt.plot(t[T1:T2],L[T1:T2])\n",
    "plt.plot(t[T1:T2],(1-1/lambda_[T1:T2])*A[T1:T2],'--')\n",
    "\n",
    "\n",
    "#plt.plot(t[T1:T2],(-a0[T1:T2]+a1[T1:T2]*lambda_[T1:T2])*p[T1:T2])\n",
    "#plt.plot(t[T1:T2],dot_p[T1:T2])\n",
    "\n",
    "#plt.plot(t[T1:T2],a0[T1:T2])\n",
    "#plt.plot(t,dot_n / x[:,3])\n",
    "#plt.plot(t[T1:T2],a1[T1:T2])\n",
    "#plt.plot(t[T1:T2],theta*w*A[T1:T2]/ (p[T1:T2] * lambda_[T1:T2] * (1-n[T1:T2]*w-(1-n[T1:T2])*W[T1:T2])))\n",
    "\n",
    "#plt.plot(t,theta*x[:,3]/lambda_ /(1-x[:,3]*w-(1-x[:,3])*x[:,0]))\n",
    "#plt.plot(t[T1:T2],lambda_[T1:T2]/10)\n"
   ]
  },
  {
   "cell_type": "code",
   "execution_count": null,
   "metadata": {},
   "outputs": [],
   "source": []
  },
  {
   "cell_type": "code",
   "execution_count": null,
   "metadata": {},
   "outputs": [],
   "source": []
  },
  {
   "cell_type": "code",
   "execution_count": 206,
   "metadata": {},
   "outputs": [],
   "source": [
    "# A- L and A /lambda\n"
   ]
  },
  {
   "cell_type": "code",
   "execution_count": 207,
   "metadata": {},
   "outputs": [
    {
     "name": "stderr",
     "output_type": "stream",
     "text": [
      "/home/lcbob/anaconda3/lib/python3.7/site-packages/ipykernel_launcher.py:1: RuntimeWarning: More than 20 figures have been opened. Figures created through the pyplot interface (`matplotlib.pyplot.figure`) are retained until explicitly closed and may consume too much memory. (To control this warning, see the rcParam `figure.max_open_warning`).\n",
      "  \"\"\"Entry point for launching an IPython kernel.\n"
     ]
    },
    {
     "data": {
      "text/plain": [
       "[<matplotlib.lines.Line2D at 0x7f6e4db11550>]"
      ]
     },
     "execution_count": 207,
     "metadata": {},
     "output_type": "execute_result"
    }
   ],
   "source": [
    "plt.figure()\n",
    "\n",
    "plt.plot(t[T1:T2],A[T1:T2]-L[T1:T2])\n",
    "plt.plot(t[T1:T2],A[T1:T2]/lambda_[T1:T2],'+--')"
   ]
  },
  {
   "cell_type": "markdown",
   "metadata": {},
   "source": [
    "# Compare $\\dot{n}$ and $\\dot{n}_{slow }$"
   ]
  },
  {
   "cell_type": "code",
   "execution_count": 367,
   "metadata": {},
   "outputs": [],
   "source": [
    "a_ = (1-w)*rho*(mu/p-1)+ eta*(1-w)/(w*lambda_)\n",
    "b_ = -((1-w)*(rho*(mu/p-1)+E*eta/lambda_) + eta/lambda_)\n",
    "c_ = eta*w*E / p"
   ]
  },
  {
   "cell_type": "code",
   "execution_count": 368,
   "metadata": {},
   "outputs": [],
   "source": [
    "DELTA = b_**2 - 4*a_*c_\n",
    "D_ = [i*(i>0) for i in DELTA]\n",
    "d_ = np.sqrt(D_)"
   ]
  },
  {
   "cell_type": "code",
   "execution_count": 369,
   "metadata": {},
   "outputs": [],
   "source": [
    "dot_L = theta*(lambda_*(A-L)-A)\n",
    "dot_p = ((1-n)*rho*(mu-p)+eta*(w-W)*(E-A+L)+w*dot_L) / (1-n*w-(1-n)*W)\n",
    "df3dn =  ( -rho*(mu-p)-(w-W)*eta*p/w + w*theta*(lambda_-1)*p/w ) / (1-w*n-(1-n)*W) - (-w+W)*((1-n)*rho*(mu-p)+eta*(E-A+L)+w*dot_L) / (1-w*n-(1-n)*W)**2\n",
    "\n",
    "df4dn = w/p*(-eta*p/w+theta*(lambda_-1)*p/w)\n",
    "\n",
    "dfndn = -(1-w)/p *(dot_p + n*df3dn) + df4dn"
   ]
  },
  {
   "cell_type": "code",
   "execution_count": 370,
   "metadata": {},
   "outputs": [
    {
     "data": {
      "text/plain": [
       "[<matplotlib.lines.Line2D at 0x7f6e3dcfc690>]"
      ]
     },
     "execution_count": 370,
     "metadata": {},
     "output_type": "execute_result"
    }
   ],
   "source": [
    "plt.figure()\n",
    "T1,T2 = 3600,6332\n",
    "T1,T2 = 3500,6632\n",
    "size = 45\n",
    "plt.plot(t[T1:T2],n[T1:T2]*size)\n",
    "#plt.plot(t[T1:T2],n[T1:T2]-(-b_[T1:T2] - d_[T1:T2] )/ (2*a_[T1:T2]) )\n",
    "#plt.plot(t[T1:T2],(-b_[T1:T2] + d_[T1:T2] )/ (2*a_[T1:T2])*size,'--')\n",
    "plt.plot(t[T1:T2],(-b_[T1:T2] - d_[T1:T2] )/ (2*a_[T1:T2])*size,'--')\n",
    "#plt.plot(t[T1:T2],(dfndn[T1:T2]>0))\n",
    "#plt.plot(t[T1:T2],lambda_[T1:T2])\n"
   ]
  },
  {
   "cell_type": "markdown",
   "metadata": {},
   "source": [
    "####  Compare $\\dot{n}$ and $\\dot{n}_{slow }$ (BIS)"
   ]
  },
  {
   "cell_type": "code",
   "execution_count": 371,
   "metadata": {},
   "outputs": [],
   "source": [
    "a_ = eta*(w-W) - theta * (lambda_-1)*(w-W)\n",
    "b_ = - eta*((E+L)/p *w*(w-W) + (w**2-2*w*W+W)/w) + theta * ((lambda_-1)*(w-W) + w*L*lambda_ / p *(w-W)) + (1-w)*rho*(mu/p-1)\n",
    "c_ = eta*(E+L)/p *(w**2-2*w*W+W) - theta * w * L *lambda_ /p * (w-W) - (1-w)*rho*(mu/p-1)"
   ]
  },
  {
   "cell_type": "code",
   "execution_count": 372,
   "metadata": {},
   "outputs": [],
   "source": [
    "DELTA = b_**2 - 4*a_*c_\n",
    "D_ = [i*(i>0) for i in DELTA]\n",
    "d_ = np.sqrt(D_)"
   ]
  },
  {
   "cell_type": "code",
   "execution_count": 373,
   "metadata": {},
   "outputs": [
    {
     "data": {
      "text/plain": [
       "[<matplotlib.lines.Line2D at 0x7f6e3dbdf490>]"
      ]
     },
     "execution_count": 373,
     "metadata": {},
     "output_type": "execute_result"
    }
   ],
   "source": [
    "plt.figure()\n",
    "\n",
    "plt.plot(t[T1:T2],DELTA[T1:T2]>0)\n"
   ]
  },
  {
   "cell_type": "code",
   "execution_count": 374,
   "metadata": {},
   "outputs": [
    {
     "data": {
      "text/plain": [
       "[<matplotlib.lines.Line2D at 0x7f6e3da4dbd0>]"
      ]
     },
     "execution_count": 374,
     "metadata": {},
     "output_type": "execute_result"
    }
   ],
   "source": [
    "plt.figure()\n",
    "T1,T2 = 3600,6332\n",
    "T1,T2 = 3500,6632\n",
    "\n",
    "\n",
    "size = 45\n",
    "plt.plot(t[T1:T2],n[T1:T2]*size)\n",
    "#plt.plot(t[T1:T2],n[T1:T2]-(-b_[T1:T2] - d_[T1:T2] )/ (2*a_[T1:T2]) )\n",
    "plt.plot(t[T1:T2],(-b_[T1:T2] + d_[T1:T2] )/ (2*a_[T1:T2])*size,'--')\n",
    "plt.plot(t[T1:T2],(-b_[T1:T2] - d_[T1:T2] )/ (2*a_[T1:T2])*size,'--')"
   ]
  },
  {
   "cell_type": "code",
   "execution_count": 261,
   "metadata": {},
   "outputs": [
    {
     "name": "stderr",
     "output_type": "stream",
     "text": [
      "/home/lcbob/anaconda3/lib/python3.7/site-packages/ipykernel_launcher.py:1: RuntimeWarning: More than 20 figures have been opened. Figures created through the pyplot interface (`matplotlib.pyplot.figure`) are retained until explicitly closed and may consume too much memory. (To control this warning, see the rcParam `figure.max_open_warning`).\n",
      "  \"\"\"Entry point for launching an IPython kernel.\n"
     ]
    },
    {
     "data": {
      "text/plain": [
       "[<matplotlib.lines.Line2D at 0x7f6e4e97eb50>]"
      ]
     },
     "execution_count": 261,
     "metadata": {},
     "output_type": "execute_result"
    }
   ],
   "source": [
    "\n"
   ]
  },
  {
   "cell_type": "code",
   "execution_count": 260,
   "metadata": {
    "scrolled": true
   },
   "outputs": [
    {
     "name": "stderr",
     "output_type": "stream",
     "text": [
      "/home/lcbob/anaconda3/lib/python3.7/site-packages/ipykernel_launcher.py:2: RuntimeWarning: More than 20 figures have been opened. Figures created through the pyplot interface (`matplotlib.pyplot.figure`) are retained until explicitly closed and may consume too much memory. (To control this warning, see the rcParam `figure.max_open_warning`).\n",
      "  \n"
     ]
    },
    {
     "data": {
      "text/plain": [
       "[<matplotlib.lines.Line2D at 0x7f6e4eb14510>]"
      ]
     },
     "execution_count": 260,
     "metadata": {},
     "output_type": "execute_result"
    }
   ],
   "source": [
    "# dot n slow manifold\n",
    "plt.figure()\n",
    "T1,T2 = 3000,6500\n",
    "\n",
    "plt.plot(t[T1:T2],dot_n[T1:T2]/n[T1:T2])\n",
    "dot_n_hat = w /p *eta *(E-A/lambda_)\n",
    "\n",
    "num = (1-n)*rho*mu + eta*(w-W)*(E)\n",
    "dem =  (1-n)*rho + eta*n*(w-W)/(w*lambda_)\n",
    "\n",
    "dot_n_hat = dem*w / num *eta *E - eta*n/lambda_\n",
    "\n",
    "plt.plot(t[T1:T2],dot_n_hat[T1:T2])\n",
    "#plt.plot(t[T1:T2],dot_L[T1:T2])\n",
    "\n"
   ]
  },
  {
   "cell_type": "markdown",
   "metadata": {},
   "source": [
    "## P slow manifold"
   ]
  },
  {
   "cell_type": "code",
   "execution_count": null,
   "metadata": {},
   "outputs": [],
   "source": []
  },
  {
   "cell_type": "code",
   "execution_count": 306,
   "metadata": {},
   "outputs": [
    {
     "name": "stderr",
     "output_type": "stream",
     "text": [
      "/home/lcbob/anaconda3/lib/python3.7/site-packages/ipykernel_launcher.py:1: RuntimeWarning: More than 20 figures have been opened. Figures created through the pyplot interface (`matplotlib.pyplot.figure`) are retained until explicitly closed and may consume too much memory. (To control this warning, see the rcParam `figure.max_open_warning`).\n",
      "  \"\"\"Entry point for launching an IPython kernel.\n"
     ]
    },
    {
     "data": {
      "text/plain": [
       "[<matplotlib.lines.Line2D at 0x7f6e41cfd650>]"
      ]
     },
     "execution_count": 306,
     "metadata": {},
     "output_type": "execute_result"
    }
   ],
   "source": [
    "plt.figure()\n",
    "\n",
    "plt.plot(t[T1:T2],p[T1:T2])\n",
    "\n",
    "\n",
    "# L SLAVED\n",
    "num = (1-n)*rho*mu + eta*(w-W)*(E)\n",
    "dem =  (1-n)*rho + eta*n*(w-W)/(w*lambda_)\n",
    "\n",
    "#plt.plot(t[T1:T2],num[T1:T2]/dem[T1:T2],'--')\n",
    "\n",
    "# L FREE\n",
    "num = (1-n)*rho*mu + eta*(w-W)*(E+L)\n",
    "dem =  (1-n)*rho + eta*n*(w-W)/w\n",
    "\n",
    "#plt.plot(t[T1:T2],num[T1:T2]/dem[T1:T2],'--')\n",
    "\n",
    "\n",
    "\n",
    "# L FREE FREE\n",
    "num = (1-n)*rho*mu + eta*(w-W)*(E+L) - w * theta*lambda_*L\n",
    "dem =  (1-n)*rho + eta*n*(w-W)/w + theta*n*(1-lambda_)\n",
    "\n",
    "plt.plot(t[T1:T2],num[T1:T2]/dem[T1:T2],'--')\n",
    "\n",
    "\n",
    "#plt.plot(t[T1:T2],(dot_p[T1:T2])*20 ,'--')\n",
    "\n",
    "plt.plot(t[T1:T2],L[T1:T2],'r')\n",
    "plt.plot(t[T1:T2],(1-1/lambda_[T1:T2])*A[T1:T2],'r--')"
   ]
  },
  {
   "cell_type": "code",
   "execution_count": 142,
   "metadata": {},
   "outputs": [
    {
     "data": {
      "text/plain": [
       "[<matplotlib.lines.Line2D at 0x7f6e9c2f5790>]"
      ]
     },
     "execution_count": 142,
     "metadata": {},
     "output_type": "execute_result"
    }
   ],
   "source": [
    "T1,T2 = 3400,6032\n",
    "\n",
    "plt.figure()\n",
    "#plt.plot(a0,lambda_)\n",
    "plt.plot(a1[T1:T2],lambda_[T1:T2],'+--')\n",
    "#plt.plot(a0[T1:T2],lambda_[T1:T2],'+--')\n",
    "\n",
    "#plt.plot(a0,a0)"
   ]
  },
  {
   "cell_type": "code",
   "execution_count": 219,
   "metadata": {},
   "outputs": [
    {
     "name": "stderr",
     "output_type": "stream",
     "text": [
      "/home/lcbob/anaconda3/lib/python3.7/site-packages/ipykernel_launcher.py:1: RuntimeWarning: More than 20 figures have been opened. Figures created through the pyplot interface (`matplotlib.pyplot.figure`) are retained until explicitly closed and may consume too much memory. (To control this warning, see the rcParam `figure.max_open_warning`).\n",
      "  \"\"\"Entry point for launching an IPython kernel.\n"
     ]
    },
    {
     "data": {
      "text/plain": [
       "[<matplotlib.lines.Line2D at 0x7f6e4f76f450>]"
      ]
     },
     "execution_count": 219,
     "metadata": {},
     "output_type": "execute_result"
    }
   ],
   "source": [
    "plt.figure()\n",
    "#a1_hat = (w/p * theta * (A-L) )/(1-n*w-(1-n)*W)\n",
    "a1_hat = (n*theta/lambda_)/(1-n*w-(1-n)*W)\n",
    "plt.plot(t[T1:T2],a1_hat[T1:T2])\n",
    "plt.plot(t[T1:T2],a1[T1:T2])"
   ]
  },
  {
   "cell_type": "code",
   "execution_count": null,
   "metadata": {},
   "outputs": [],
   "source": [
    "#######################################\"\""
   ]
  },
  {
   "cell_type": "code",
   "execution_count": 231,
   "metadata": {},
   "outputs": [
    {
     "name": "stderr",
     "output_type": "stream",
     "text": [
      "/home/lcbob/anaconda3/lib/python3.7/site-packages/ipykernel_launcher.py:1: RuntimeWarning: More than 20 figures have been opened. Figures created through the pyplot interface (`matplotlib.pyplot.figure`) are retained until explicitly closed and may consume too much memory. (To control this warning, see the rcParam `figure.max_open_warning`).\n",
      "  \"\"\"Entry point for launching an IPython kernel.\n"
     ]
    },
    {
     "data": {
      "text/plain": [
       "[<matplotlib.lines.Line2D at 0x7f6e4ea05c50>]"
      ]
     },
     "execution_count": 231,
     "metadata": {},
     "output_type": "execute_result"
    }
   ],
   "source": [
    "plt.figure()\n",
    "T1,T2 = 3500,6632\n",
    "\n",
    "#a1_hat = (w/p * theta * (A-L) )/(1-n*w-(1-n)*W)\n",
    "L_hat = A*(1-1/lambda_)\n",
    "plt.plot(t[T1:T2],L[T1:T2])\n",
    "plt.plot(t[T1:T2],L_hat[T1:T2])\n"
   ]
  },
  {
   "cell_type": "code",
   "execution_count": null,
   "metadata": {},
   "outputs": [],
   "source": [
    "################################################################\"\"\"\"\"\""
   ]
  },
  {
   "cell_type": "code",
   "execution_count": 186,
   "metadata": {},
   "outputs": [
    {
     "name": "stderr",
     "output_type": "stream",
     "text": [
      "/home/lcbob/anaconda3/lib/python3.7/site-packages/ipykernel_launcher.py:1: RuntimeWarning: More than 20 figures have been opened. Figures created through the pyplot interface (`matplotlib.pyplot.figure`) are retained until explicitly closed and may consume too much memory. (To control this warning, see the rcParam `figure.max_open_warning`).\n",
      "  \"\"\"Entry point for launching an IPython kernel.\n"
     ]
    },
    {
     "data": {
      "text/plain": [
       "[<matplotlib.lines.Line2D at 0x7f6e6419d490>]"
      ]
     },
     "execution_count": 186,
     "metadata": {},
     "output_type": "execute_result"
    }
   ],
   "source": [
    "plt.figure()\n",
    "zz = L/p\n",
    "plt.plot(t[T1:T2],zz[T1:T2])\n",
    "plt.plot(t[T1:T2],lambda_[T1:T2])"
   ]
  },
  {
   "cell_type": "code",
   "execution_count": 47,
   "metadata": {},
   "outputs": [
    {
     "data": {
      "text/plain": [
       "[<matplotlib.lines.Line2D at 0x7fa3800d41d0>]"
      ]
     },
     "execution_count": 47,
     "metadata": {},
     "output_type": "execute_result"
    }
   ],
   "source": [
    "plt.figure()\n",
    "T1,T2 = 12000, 22000\n",
    "#a1_hat1 = (theta * n)/(1-n*w-(1-n)*W)\n",
    "#a1_hat2 = (w/p * theta * (L) )/(1-n*w-(1-n)*W)\n",
    "\n",
    "#a1_hat = (1-n*w-(1-n)*W)\n",
    "\n",
    "\n",
    "#plt.plot(t[T1:T2],a1_hat[T1:T2])\n",
    "#plt.plot(t[T1:T2],a1_hat2[T1:T2])\n",
    "#plt.plot(t[T1:T2],a0[T1:T2],)\n",
    "#\n",
    "plt.plot(t[T1:T2],a1[T1:T2])\n",
    "plt.plot(t[T1:T2],(5*1.8)*(A[T1:T2]-L[T1:T2])/p[T1:T2])\n",
    "\n",
    "#plt.plot(t[T1:T2],a1_hat[T1:T2])\n",
    "\n"
   ]
  },
  {
   "cell_type": "code",
   "execution_count": 76,
   "metadata": {},
   "outputs": [
    {
     "data": {
      "text/plain": [
       "3677"
      ]
     },
     "execution_count": 76,
     "metadata": {},
     "output_type": "execute_result"
    }
   ],
   "source": [
    "len(n[T1:T2])\n",
    "T1 + np.argmin(n[T1:T2])\n"
   ]
  },
  {
   "cell_type": "code",
   "execution_count": 52,
   "metadata": {},
   "outputs": [
    {
     "data": {
      "text/plain": [
       "1.0"
      ]
     },
     "execution_count": 52,
     "metadata": {},
     "output_type": "execute_result"
    }
   ],
   "source": []
  },
  {
   "cell_type": "code",
   "execution_count": 77,
   "metadata": {},
   "outputs": [
    {
     "ename": "ValueError",
     "evalue": "operands could not be broadcast together with shapes (30000,) (2,) ",
     "output_type": "error",
     "traceback": [
      "\u001b[0;31m---------------------------------------------------------------------------\u001b[0m",
      "\u001b[0;31mValueError\u001b[0m                                Traceback (most recent call last)",
      "\u001b[0;32m<ipython-input-77-21937bcabc0e>\u001b[0m in \u001b[0;36m<module>\u001b[0;34m\u001b[0m\n\u001b[1;32m      2\u001b[0m \u001b[0;34m\u001b[0m\u001b[0m\n\u001b[1;32m      3\u001b[0m \u001b[0;34m\u001b[0m\u001b[0m\n\u001b[0;32m----> 4\u001b[0;31m \u001b[0mA\u001b[0m \u001b[0;34m=\u001b[0m \u001b[0mx\u001b[0m\u001b[0;34m[\u001b[0m\u001b[0;34m:\u001b[0m\u001b[0;34m,\u001b[0m\u001b[0;36m2\u001b[0m\u001b[0;34m]\u001b[0m\u001b[0;34m*\u001b[0m\u001b[0mx\u001b[0m\u001b[0;34m[\u001b[0m\u001b[0;34m:\u001b[0m\u001b[0;34m,\u001b[0m\u001b[0;36m3\u001b[0m\u001b[0;34m]\u001b[0m\u001b[0;34m/\u001b[0m\u001b[0mw\u001b[0m\u001b[0;34m\u001b[0m\u001b[0;34m\u001b[0m\u001b[0m\n\u001b[0m\u001b[1;32m      5\u001b[0m \u001b[0mmu\u001b[0m \u001b[0;34m=\u001b[0m \u001b[0;36m25\u001b[0m\u001b[0;34m\u001b[0m\u001b[0;34m\u001b[0m\u001b[0m\n\u001b[1;32m      6\u001b[0m \u001b[0;34m\u001b[0m\u001b[0m\n",
      "\u001b[0;31mValueError\u001b[0m: operands could not be broadcast together with shapes (30000,) (2,) "
     ]
    }
   ],
   "source": [
    "lambda_ = alpha*(x[:,4]+s_0)**b\n",
    "\n",
    "\n",
    "A = x[:,2]*x[:,3]/w\n",
    "mu = 25\n",
    "\n",
    "#dot_W = x[0]*rho*((mu/x[2]-1)+float(np.random.normal(0,0.22,1)))\n",
    "dot_W = x[:,0]*rho*((mu/x[:,2]-1))\n",
    "#dot_W = 0\n",
    "dot_L = theta*(lambda_*(A-x[:,1])-A)\n",
    "dot_p = (x[:,2]* (1-x[:,3]) * dot_W / x[:,0] + eta*(w-x[:,0])*(E-A+x[:,1])+ w*dot_L ) / (1-x[:,3]*w-(1-x[:,3])*x[:,0])\n",
    "dot_n = x[:,3]* (-(1-w)*dot_p/x[:,2] + 1/A*(eta*(E-A+x[:,1])+dot_L))"
   ]
  },
  {
   "cell_type": "code",
   "execution_count": 124,
   "metadata": {},
   "outputs": [
    {
     "data": {
      "text/plain": [
       "[<matplotlib.lines.Line2D at 0x7f6e56d96c50>]"
      ]
     },
     "execution_count": 124,
     "metadata": {},
     "output_type": "execute_result"
    }
   ],
   "source": [
    "plt.figure()\n",
    "#plt.plot(a0,lambda_)\n",
    "plt.plot(a1[T1:T2],lambda_[T1:T2],'+--')\n",
    "\n",
    "#plt.plot(a0,a0)"
   ]
  },
  {
   "cell_type": "code",
   "execution_count": 20,
   "metadata": {},
   "outputs": [
    {
     "data": {
      "text/plain": [
       "[<matplotlib.lines.Line2D at 0x7efc444cc7d0>]"
      ]
     },
     "execution_count": 20,
     "metadata": {},
     "output_type": "execute_result"
    }
   ],
   "source": [
    "\n",
    "plt.figure()\n",
    "\n",
    "\n",
    "\n",
    "plt.plot(t,dot_n)\n",
    "plt.plot(t,eta*(E*w/x[:,2] - x[:,3]/lambda_),alpha=0.3)\n",
    "#plt.plot(t,w/x[:,2]*(eta*(E-A+x[:,1])),alpha=0.5)\n",
    "#plt.plot(t,-x[:,3]*(1-w)*dot_p/x[:,2] + w/x[:,2]*(eta*(E-A+x[:,1])),alpha=0.2)"
   ]
  },
  {
   "cell_type": "code",
   "execution_count": null,
   "metadata": {},
   "outputs": [],
   "source": []
  },
  {
   "cell_type": "markdown",
   "metadata": {},
   "source": [
    "## $\\dot{\\lambda}$ and $ \\dot{L}$"
   ]
  },
  {
   "cell_type": "code",
   "execution_count": null,
   "metadata": {},
   "outputs": [],
   "source": []
  },
  {
   "cell_type": "code",
   "execution_count": 134,
   "metadata": {},
   "outputs": [],
   "source": [
    "dot_L = theta*(lambda_*(A-L)-A)\n",
    "dot_lambda = lambda_*delta*0.5*(1-(tv**2*(a1*lambda_-a0)**2 + s_0)*(alpha/lambda_)**-2)"
   ]
  },
  {
   "cell_type": "code",
   "execution_count": 158,
   "metadata": {},
   "outputs": [
    {
     "data": {
      "text/plain": [
       "[<matplotlib.lines.Line2D at 0x7f85b50b3a10>]"
      ]
     },
     "execution_count": 158,
     "metadata": {},
     "output_type": "execute_result"
    }
   ],
   "source": [
    "fig = plt.figure()\n",
    "\n",
    "T1,T2 = 3586,3700\n",
    "#TT = 10\n",
    "#T1,T2 = 3671-TT,3671+TT\n",
    "\n",
    "plt.plot(t[T1:T2],dot_lambda[T1:T2])\n",
    "plt.plot(t[T1:T2],dot_L[T1:T2])\n",
    "plt.plot(t[T1:T2],lambda_[T1:T2])\n",
    "\n",
    "#plt.plot(t[3671]+0*t[T1:T2],dot_L[T1:T2])"
   ]
  },
  {
   "cell_type": "code",
   "execution_count": null,
   "metadata": {},
   "outputs": [],
   "source": []
  },
  {
   "cell_type": "code",
   "execution_count": null,
   "metadata": {},
   "outputs": [],
   "source": []
  },
  {
   "cell_type": "markdown",
   "metadata": {},
   "source": [
    "\n",
    "### Castastriphe in L ?\n"
   ]
  },
  {
   "cell_type": "code",
   "execution_count": 119,
   "metadata": {},
   "outputs": [
    {
     "ename": "TypeError",
     "evalue": "'int' object is not subscriptable",
     "output_type": "error",
     "traceback": [
      "\u001b[0;31m---------------------------------------------------------------------------\u001b[0m",
      "\u001b[0;31mTypeError\u001b[0m                                 Traceback (most recent call last)",
      "\u001b[0;32m<ipython-input-119-82fc18a21fab>\u001b[0m in \u001b[0;36m<module>\u001b[0;34m\u001b[0m\n\u001b[1;32m      3\u001b[0m \u001b[0mT1\u001b[0m\u001b[0;34m,\u001b[0m\u001b[0mT2\u001b[0m \u001b[0;34m=\u001b[0m \u001b[0;36m3600\u001b[0m\u001b[0;34m,\u001b[0m\u001b[0;36m10332\u001b[0m\u001b[0;34m\u001b[0m\u001b[0;34m\u001b[0m\u001b[0m\n\u001b[1;32m      4\u001b[0m \u001b[0;34m\u001b[0m\u001b[0m\n\u001b[0;32m----> 5\u001b[0;31m \u001b[0mplt\u001b[0m\u001b[0;34m.\u001b[0m\u001b[0mplot\u001b[0m\u001b[0;34m(\u001b[0m\u001b[0mn\u001b[0m\u001b[0;34m[\u001b[0m\u001b[0mT1\u001b[0m\u001b[0;34m:\u001b[0m\u001b[0mT2\u001b[0m\u001b[0;34m]\u001b[0m\u001b[0;34m,\u001b[0m\u001b[0mp\u001b[0m\u001b[0;34m[\u001b[0m\u001b[0mT1\u001b[0m\u001b[0;34m:\u001b[0m\u001b[0mT2\u001b[0m\u001b[0;34m]\u001b[0m\u001b[0;34m,\u001b[0m\u001b[0mL\u001b[0m\u001b[0;34m[\u001b[0m\u001b[0mT1\u001b[0m\u001b[0;34m:\u001b[0m\u001b[0mT2\u001b[0m\u001b[0;34m]\u001b[0m\u001b[0;34m,\u001b[0m\u001b[0;34m'+--'\u001b[0m\u001b[0;34m,\u001b[0m\u001b[0mmarkersize\u001b[0m \u001b[0;34m=\u001b[0m \u001b[0;36m0.4\u001b[0m\u001b[0;34m)\u001b[0m\u001b[0;34m\u001b[0m\u001b[0;34m\u001b[0m\u001b[0m\n\u001b[0m\u001b[1;32m      6\u001b[0m \u001b[0;31m#ax.set_xlim3d(0,1)\u001b[0m\u001b[0;34m\u001b[0m\u001b[0;34m\u001b[0m\u001b[0;34m\u001b[0m\u001b[0m\n",
      "\u001b[0;31mTypeError\u001b[0m: 'int' object is not subscriptable"
     ]
    }
   ],
   "source": [
    "fig = plt.figure()\n",
    "ax = fig.add_subplot(111, projection='3d')\n",
    "T1,T2 = 3600,6332\n",
    "\n",
    "plt.plot(n[T1:T2],p[T1:T2],L[T1:T2],'+--',markersize = 0.4)\n",
    "#ax.set_xlim3d(0,1)"
   ]
  },
  {
   "cell_type": "code",
   "execution_count": null,
   "metadata": {},
   "outputs": [],
   "source": [
    "def goursat_tangle(x,y,z,tv,s_0,alpha):\n",
    "    #t,s_0,alpha = 1,10**-2,1\n",
    "    return tv**2*(y*z-x)**2*z**2+s_0*z**2-alpha**2\n",
    "    #return tv**2*(y*z-x)**2+s_0-alpha**2/z**2\n",
    "\n",
    "#tv,s_0,alpha = 1,0.01,1\n",
    "tv,s_0,alpha =  0.1, 10**-6, 0.01\n",
    "\n",
    "print('tv,s_0,alpha = ',tv,s_0,alpha)\n",
    "plot_implicit(goursat_tangle,tv,s_0,alpha)"
   ]
  },
  {
   "cell_type": "code",
   "execution_count": null,
   "metadata": {},
   "outputs": [],
   "source": []
  },
  {
   "cell_type": "code",
   "execution_count": null,
   "metadata": {},
   "outputs": [],
   "source": []
  },
  {
   "cell_type": "code",
   "execution_count": 412,
   "metadata": {},
   "outputs": [],
   "source": [
    "w = 0.5\n",
    "W,L,p,n,s = np.transpose(x)\n",
    "A = n*p/w\n",
    "#a1 = w/p * theta * (A - L) / (1-n*w-(1-n)*W)\n",
    "#a0 = (theta*n-(1-n)*rho*(mu/p-1)-eta/p*(w-W)*(E-A+L)) / (1-n*w-(1-n)*W)\n",
    "\n",
    "tv,s_0,alpha =  0.1, 10**-6, 0.01\n",
    "lambda_ = alpha * (s + s_0)**b"
   ]
  },
  {
   "cell_type": "code",
   "execution_count": 413,
   "metadata": {},
   "outputs": [],
   "source": [
    "def min_max(l):\n",
    "    return(np.min(l),np.max(l))\n",
    "\n",
    "T1,T2 = 13200,20332\n",
    "Wm,WM = min_max(W[T1:T2])\n",
    "\n",
    "Lm,LM = min_max(L[T1:T2])\n",
    "pm,pM = min_max(p[T1:T2])\n",
    "nm,nM = min_max(n[T1:T2])\n",
    "lambdam,lambdaM = min_max(lambda_[T1:T2])\n",
    "\n",
    "Wampl = -Wm + WM\n",
    "Lampl = -Lm + LM\n",
    "pampl = -pm + pM\n",
    "nampl = -nm + nM\n",
    "lambdaampl  = -lambdam + lambdaM"
   ]
  },
  {
   "cell_type": "code",
   "execution_count": 414,
   "metadata": {},
   "outputs": [],
   "source": [
    "ampl_v = [Wampl,Lampl ,pampl,nampl ,lambdaampl]\n",
    "max_v = [WM,LM,pM,nM,lambdaM]"
   ]
  },
  {
   "cell_type": "code",
   "execution_count": 415,
   "metadata": {},
   "outputs": [],
   "source": [
    "xampl = x/ampl_v\n",
    "xmax = x/max_v"
   ]
  },
  {
   "cell_type": "code",
   "execution_count": 416,
   "metadata": {
    "scrolled": true
   },
   "outputs": [
    {
     "data": {
      "text/plain": [
       "[4.201242474119821,\n",
       " -0.194763297045274,\n",
       " 1.1734579852359721,\n",
       " -0.16053139529679458,\n",
       " 0.10982162973895944]"
      ]
     },
     "execution_count": 416,
     "metadata": {},
     "output_type": "execute_result"
    }
   ],
   "source": [
    "max_v"
   ]
  },
  {
   "cell_type": "code",
   "execution_count": 423,
   "metadata": {},
   "outputs": [
    {
     "data": {
      "text/plain": [
       "array([ 0.08367571, 18.02553989, 13.7827627 ,  0.29302766,  9.0576535 ])"
      ]
     },
     "execution_count": 423,
     "metadata": {},
     "output_type": "execute_result"
    }
   ],
   "source": [
    "scale_v"
   ]
  },
  {
   "cell_type": "markdown",
   "metadata": {},
   "source": [
    "# Eigenvalues"
   ]
  },
  {
   "cell_type": "code",
   "execution_count": 417,
   "metadata": {},
   "outputs": [],
   "source": [
    "def eigenvalue(value,scale_v):\n",
    "\n",
    "    #parameter\n",
    "    theta,eta,s0,alpha,bb,mu,rho,w,tv = [10,10,10**-6,0.01,-0.5,25,0.1,0.5,0.1]\n",
    "       #theta,eta,s0,alpha,bb,mu,rho,w,tv = [10,10,0,0.01,-0.5,25,0.1,0.5,0.1]\n",
    "\n",
    "    #value\n",
    "    W,L,p,n,lambda_ = value * scale_v\n",
    "    \n",
    "    Mat = np.zeros((5,5))\n",
    "    A = n*p / w\n",
    "    \n",
    "    Mat[0,0] = rho*(mu/p-1)\n",
    "    Mat[0,2] = -W*rho*mu/p**2\n",
    "\n",
    "    Mat[1,1] = -theta*lambda_\n",
    "    Mat[1,2] = theta*(lambda_-1)*n/w\n",
    "    Mat[1,3] = theta*(lambda_-1)*p/w\n",
    "    Mat[1,4] = theta*(A-L)\n",
    "\n",
    "    dot_L = theta*(lambda_*(A-L)-A)\n",
    "    dot_p = ((1-n)*rho*(mu-p)+eta*(w-W)*(E-A+L)+w*dot_L) / (1-n*w-(1-n)*W)\n",
    "\n",
    "    #df3dW = -eta*(E-A+L) / (1-w*n-(1-n)*W) - (1-n)*dot_p / (1-n*w-(1-n)*W)**2\n",
    "    df3dW = -eta*(E-A+L) / (1-w*n-(1-n)*W) + (1-n)*dot_p / (1-n*w-(1-n)*W)**2 # change sign\n",
    "    df3dl = ( (w-W)*eta + w*Mat[1,1] ) / (1-w*n-(1-n)*W)\n",
    "    df3dp =  ( (1-n)*(-rho)-(w-W)*eta*n/w + w*Mat[1,2] ) / (1-w*n-(1-n)*W)\n",
    "    df3dn =  ( -rho*(mu-p)-(w-W)*eta*p/w + w*Mat[1,3] ) / (1-w*n-(1-n)*W) - (-w+W)*((1-n)*rho*(mu-p)+eta*(E-A+L)+w*dot_L) / (1-w*n-(1-n)*W)**2\n",
    "    df3dlambda = w*(theta*(A-L)) / (1-w*n-(1-n)*W)\n",
    "\n",
    "    Mat[2,0] = df3dW\n",
    "    Mat[2,1] = df3dl\n",
    "    Mat[2,2] = df3dp\n",
    "    Mat[2,3] = df3dn\n",
    "    Mat[2,4] = df3dlambda\n",
    "\n",
    "    \n",
    "    df4dl = w/p*(eta+Mat[1,1])\n",
    "    df4dp = -w/p**2*(eta*(E-A+L)+theta*(lambda_*(A-L)-A)) + w/p * (eta*(-n/w)+Mat[1,2])\n",
    "    df4dn = w/p*(-eta*p/w+Mat[1,3])\n",
    "    df4dlambda = w/p*theta*(A-L)\n",
    "\n",
    "    Mat[3,0] = -(1-w)*n/p * df3dW\n",
    "    Mat[3,1] = -(1-w)*n/p * df3dl + df4dl\n",
    "    Mat[3,2] = -(1-w)*n * (df3dp/p-dot_p/p**2) + df4dp\n",
    "    Mat[3,3] = -(1-w)/p *(dot_p + n*df3dn) + df4dn\n",
    "    Mat[3,4] = -(1-w)*n/p * df3dlambda + df4dlambda\n",
    "\n",
    "\n",
    "    a0 = ((1-n)*rho*(mu-p)*eta*(w-W)*(E-A+L)+w*theta*(-A)) / (p*(1-n*w-(1-n)*W))\n",
    "    a1 = w*theta*(A-L) / (p*(1-n*w-(1-n)*W))\n",
    "\n",
    "\n",
    "\n",
    "    #Mat[4,0] = delta / (2*alpha**2) * tv**2 *lambda_**2*2*dot_p/p * df3dW /p\n",
    "    #Mat[4,1] = delta / (2*alpha**2) * tv**2 *lambda_**2*2*dot_p/p * df3dl /p\n",
    "    #Mat[4,2] = delta / (2*alpha**2) * tv**2 *lambda_**2*2*dot_p/p * (df3dp /p - dot_p/p**2)\n",
    "    #Mat[4,3] = delta / (2*alpha**2) * tv**2 *lambda_**2*2*dot_p/p * (df3dn /p)\n",
    "    #Mat[4,4] = delta / (2*alpha**2) * (alpha**2 - 3*s0*lambda_**2 + tv**2*lambda_**2*(3*a0**2+2*4*a0*a1*lambda_+5*a1**2*lambda_**2))\n",
    "\n",
    "    \n",
    "    Mat[4,0] = - delta / (2*alpha**2) * tv**2 *lambda_**3*2*dot_p/p * df3dW /p\n",
    "    Mat[4,1] = - delta / (2*alpha**2) * tv**2 *lambda_**3*2*dot_p/p * df3dl /p\n",
    "    Mat[4,2] = - delta / (2*alpha**2) * tv**2 *lambda_**3*2*dot_p/p * (df3dp /p - dot_p/p**2)\n",
    "    Mat[4,3] = - delta / (2*alpha**2) * tv**2 *lambda_**3*2*dot_p/p * (df3dn /p)\n",
    "    Mat[4,4] = delta / (2*alpha**2) * (alpha**2 - 3*s0*lambda_**2 - tv**2*lambda_**2*(3*a0**2+2*4*a0*a1*lambda_+5*a1**2*lambda_**2))\n",
    "\n",
    "    P = np.zeros((5,5))\n",
    "    for i in range(5):\n",
    "        P[i,i] = 1/scale_v[i]\n",
    "    \n",
    "    Mat_2 = np.dot(np.dot(P,Mat),LA.inv(P))\n",
    "    eigva, v = LA.eig(Mat_2)\n",
    "    return(eigva,v)"
   ]
  },
  {
   "cell_type": "code",
   "execution_count": 418,
   "metadata": {},
   "outputs": [
    {
     "name": "stdout",
     "output_type": "stream",
     "text": [
      "--- 188.34072065353394 seconds ---\n"
     ]
    }
   ],
   "source": [
    "start_time = time.time()\n",
    "list_values = np.array([eigenvalue(value,scale_v)[0] for value in x])\n",
    "print(\"--- %s seconds ---\" % (time.time() - start_time))\n"
   ]
  },
  {
   "cell_type": "code",
   "execution_count": 434,
   "metadata": {},
   "outputs": [],
   "source": [
    "T1,T2 = 1600000,2000000\n",
    "T1,T2 = 1000000,1900000\n",
    "W,L,p,n,lambda_ = np.transpose(x)"
   ]
  },
  {
   "cell_type": "code",
   "execution_count": 435,
   "metadata": {},
   "outputs": [],
   "source": [
    "xrange = arange(t[T1], t[T2], dt)"
   ]
  },
  {
   "cell_type": "code",
   "execution_count": null,
   "metadata": {},
   "outputs": [
    {
     "name": "stdout",
     "output_type": "stream",
     "text": [
      "0\n",
      "1\n",
      "2\n"
     ]
    },
    {
     "name": "stderr",
     "output_type": "stream",
     "text": [
      "/home/lcbob/anaconda3/lib/python3.7/site-packages/ipykernel_launcher.py:7: MatplotlibDeprecationWarning: Adding an axes using the same arguments as a previous axes currently reuses the earlier instance.  In a future version, a new instance will always be created and returned.  Meanwhile, this warning can be suppressed, and the future behavior ensured, by passing a unique label to each axes instance.\n",
      "  import sys\n",
      "/home/lcbob/anaconda3/lib/python3.7/site-packages/ipykernel_launcher.py:8: MatplotlibDeprecationWarning: Adding an axes using the same arguments as a previous axes currently reuses the earlier instance.  In a future version, a new instance will always be created and returned.  Meanwhile, this warning can be suppressed, and the future behavior ensured, by passing a unique label to each axes instance.\n",
      "  \n",
      "/home/lcbob/anaconda3/lib/python3.7/site-packages/ipykernel_launcher.py:9: MatplotlibDeprecationWarning: Adding an axes using the same arguments as a previous axes currently reuses the earlier instance.  In a future version, a new instance will always be created and returned.  Meanwhile, this warning can be suppressed, and the future behavior ensured, by passing a unique label to each axes instance.\n",
      "  if __name__ == '__main__':\n",
      "/home/lcbob/anaconda3/lib/python3.7/site-packages/ipykernel_launcher.py:7: MatplotlibDeprecationWarning: Adding an axes using the same arguments as a previous axes currently reuses the earlier instance.  In a future version, a new instance will always be created and returned.  Meanwhile, this warning can be suppressed, and the future behavior ensured, by passing a unique label to each axes instance.\n",
      "  import sys\n",
      "/home/lcbob/anaconda3/lib/python3.7/site-packages/ipykernel_launcher.py:8: MatplotlibDeprecationWarning: Adding an axes using the same arguments as a previous axes currently reuses the earlier instance.  In a future version, a new instance will always be created and returned.  Meanwhile, this warning can be suppressed, and the future behavior ensured, by passing a unique label to each axes instance.\n",
      "  \n",
      "/home/lcbob/anaconda3/lib/python3.7/site-packages/ipykernel_launcher.py:9: MatplotlibDeprecationWarning: Adding an axes using the same arguments as a previous axes currently reuses the earlier instance.  In a future version, a new instance will always be created and returned.  Meanwhile, this warning can be suppressed, and the future behavior ensured, by passing a unique label to each axes instance.\n",
      "  if __name__ == '__main__':\n",
      "/home/lcbob/anaconda3/lib/python3.7/site-packages/ipykernel_launcher.py:7: MatplotlibDeprecationWarning: Adding an axes using the same arguments as a previous axes currently reuses the earlier instance.  In a future version, a new instance will always be created and returned.  Meanwhile, this warning can be suppressed, and the future behavior ensured, by passing a unique label to each axes instance.\n",
      "  import sys\n",
      "/home/lcbob/anaconda3/lib/python3.7/site-packages/ipykernel_launcher.py:8: MatplotlibDeprecationWarning: Adding an axes using the same arguments as a previous axes currently reuses the earlier instance.  In a future version, a new instance will always be created and returned.  Meanwhile, this warning can be suppressed, and the future behavior ensured, by passing a unique label to each axes instance.\n",
      "  \n",
      "/home/lcbob/anaconda3/lib/python3.7/site-packages/ipykernel_launcher.py:9: MatplotlibDeprecationWarning: Adding an axes using the same arguments as a previous axes currently reuses the earlier instance.  In a future version, a new instance will always be created and returned.  Meanwhile, this warning can be suppressed, and the future behavior ensured, by passing a unique label to each axes instance.\n",
      "  if __name__ == '__main__':\n"
     ]
    },
    {
     "name": "stdout",
     "output_type": "stream",
     "text": [
      "3\n",
      "4\n"
     ]
    },
    {
     "name": "stderr",
     "output_type": "stream",
     "text": [
      "/home/lcbob/anaconda3/lib/python3.7/site-packages/ipykernel_launcher.py:7: MatplotlibDeprecationWarning: Adding an axes using the same arguments as a previous axes currently reuses the earlier instance.  In a future version, a new instance will always be created and returned.  Meanwhile, this warning can be suppressed, and the future behavior ensured, by passing a unique label to each axes instance.\n",
      "  import sys\n",
      "/home/lcbob/anaconda3/lib/python3.7/site-packages/ipykernel_launcher.py:8: MatplotlibDeprecationWarning: Adding an axes using the same arguments as a previous axes currently reuses the earlier instance.  In a future version, a new instance will always be created and returned.  Meanwhile, this warning can be suppressed, and the future behavior ensured, by passing a unique label to each axes instance.\n",
      "  \n",
      "/home/lcbob/anaconda3/lib/python3.7/site-packages/ipykernel_launcher.py:9: MatplotlibDeprecationWarning: Adding an axes using the same arguments as a previous axes currently reuses the earlier instance.  In a future version, a new instance will always be created and returned.  Meanwhile, this warning can be suppressed, and the future behavior ensured, by passing a unique label to each axes instance.\n",
      "  if __name__ == '__main__':\n"
     ]
    }
   ],
   "source": [
    "fig = plt.figure(figsize=(8,8))\n",
    "\n",
    "\n",
    "for i in range(5):\n",
    "    print(i)\n",
    "    fig.subplots_adjust(wspace = 0.5, hspace = 0.3)\n",
    "    ax1 = fig.add_subplot(3,1,1)\n",
    "    ax2 = fig.add_subplot(3,1,2)\n",
    "    ax3 = fig.add_subplot(3,1,3)\n",
    "    \n",
    "    #ax1.plot(t[T1:T2],lambda_[T1:T2], 'g-',label ='s',markersize=0.1)\n",
    "        \n",
    "    ax2.plot(t[T1:T2],list_values[:,i][T1:T2].real,'-',markersize=1,alpha=0.5)\n",
    "    #ax2.plot(tt[T1:T2],0+0*list_values[:,i][T1:T2].real,'k--',alpha=0.5)\n",
    "    #ax2.plot(t[T1:T2],-1+0*list_values[:,i][T1:T2].real,'k--',alpha=0.5)\n",
    "    #ax2.plot(t[T1:T2],np.absolute(list_values[:,i][T1:T2]),'-',alpha=0.5)\n",
    "    \n",
    "    ax3.plot(t[T1:T2],list_values[:,i][T1:T2].imag,'.',markersize=0.5)\n",
    "\n",
    "from numpy import arange\n",
    "from numpy import meshgrid\n",
    "d = 0.01\n",
    "xrange = arange(t[T1], t[T2], dt)\n",
    "yrange = arange(-1, 11, d)\n",
    "X, Y = meshgrid(xrange,yrange)\n",
    "# F is one side of the equation, G is the other\n",
    "#F = delta*X**3 + X**2 * Y - delta/4 * Y**2  # Cusp with approximation\n",
    "\n",
    "#F = -b*delta*Y*(1-Y**2/alpha**2 * (s_0 + tv**2*(a1[(X/dt).astype(int)]*Y-a0[(X/dt).astype(int)])**2))\n",
    "#F = -b*delta*Y*(1-Y**2/alpha**2 * (s_0 + tv**2*(a1[(X/dt).astype(int)]*Y-a0[(X/dt).astype(int)])**2))\n",
    "\n",
    "A = p*n/w\n",
    "\n",
    "a1 = w/p * theta * (A - L) / (1-n*w-(1-n)*W)\n",
    "a0 = (theta*n-(1-n)*rho*(mu/p-1)-eta/p*(w-W)*(E-A+L)) / (1-n*w-(1-n)*W)\n",
    "\n",
    "G = -b*delta*Y*(1-Y**2/alpha**2 * (s_0 + tv**2*(a1[(X/dt).astype(int)]*Y-a0[(X/dt).astype(int)])**2))\n",
    "\n",
    "ax1.contour(X, Y, G , [0])\n",
    "\n",
    "\n",
    "ax1.set_ylabel('$\\lambda$')        \n",
    "ax2.set_ylabel('$Re(\\lambda_i)$') \n",
    "#ax2.set_ylim([-20,5]) \n",
    "\n",
    "ax2.grid()\n",
    "ax3.set_ylabel('$Imag(\\lambda_i)$')         \n",
    "ax3.set_xlabel('$t$')     \n",
    "\n",
    "plt.show()"
   ]
  },
  {
   "cell_type": "code",
   "execution_count": 407,
   "metadata": {
    "scrolled": false
   },
   "outputs": [
    {
     "name": "stdout",
     "output_type": "stream",
     "text": [
      "(-437.22842099596136+0j) \n",
      " [-8.44964852e-06+0.j -2.19857338e-02+0.j -2.35070767e-02+0.j\n",
      " -1.70540530e-02+0.j  9.99336382e-01+0.j]\n",
      "(0.22649031136926187+0j) \n",
      " [-0.52496316+0.j -0.0775106 +0.j  0.81021031+0.j -0.24843378+0.j\n",
      "  0.0156747 +0.j]\n",
      "(-0.9075784070165275+0j) \n",
      " [-0.16445424+0.j  0.10422218+0.j -0.93291714+0.j  0.30260106+0.j\n",
      " -0.01381151+0.j]\n",
      "(-9.614153216388143+3.30053237139188j) \n",
      " [-0.01023243-0.00351866j -0.57679791-0.12904546j -0.69882746+0.j\n",
      " -0.28345333+0.285528j    0.01448741-0.00962454j]\n",
      "(-9.614153216388143-3.30053237139188j) \n",
      " [-0.01023243+0.00351866j -0.57679791+0.12904546j -0.69882746-0.j\n",
      " -0.28345333-0.285528j    0.01448741+0.00962454j]\n"
     ]
    }
   ],
   "source": [
    "w,v = eigenvalue(x[int(1149980)],scale_v)\n",
    "for i in range(len(w)):\n",
    "    vect = v[:,i]\n",
    "    vect = vect\n",
    "    print(w[i],'\\n',vect)"
   ]
  },
  {
   "cell_type": "code",
   "execution_count": 386,
   "metadata": {},
   "outputs": [
    {
     "name": "stdout",
     "output_type": "stream",
     "text": [
      "(-286.37291205239103+0j) \n",
      " [-1.95793315e-05+0.j -3.28186657e-02+0.j -3.51127213e-02+0.j\n",
      " -2.56351574e-02+0.j  9.98515333e-01+0.j]\n",
      "(0.23592591295598123+0j) \n",
      " [-0.513275  +0.j -0.09847506+0.j  0.80784678+0.j -0.27216574+0.j\n",
      "  0.01268183+0.j]\n",
      "(-0.8626587216618975+0j) \n",
      " [-0.17333651+0.j  0.12766894+0.j -0.91974833+0.j  0.32801426+0.j\n",
      " -0.01116876+0.j]\n",
      "(-9.724924647004233+3.7014512549947214j) \n",
      " [-0.01005964-0.00383492j -0.57751975-0.11044505j -0.70059746+0.j\n",
      " -0.30021972+0.27011122j  0.01216778-0.00895102j]\n",
      "(-9.724924647004233-3.7014512549947214j) \n",
      " [-0.01005964+0.00383492j -0.57751975+0.11044505j -0.70059746-0.j\n",
      " -0.30021972-0.27011122j  0.01216778+0.00895102j]\n"
     ]
    }
   ],
   "source": [
    "w,v = eigenvalue(x[int(1700500)],scale_v)\n",
    "for i in range(len(w)):\n",
    "    vect = v[:,i]\n",
    "    vect = vect\n",
    "    print(w[i],'\\n',vect)"
   ]
  },
  {
   "cell_type": "code",
   "execution_count": 365,
   "metadata": {
    "scrolled": true
   },
   "outputs": [
    {
     "name": "stdout",
     "output_type": "stream",
     "text": [
      "-0.1297541868239006 \n",
      " [ 0.92414587 -0.00097347  0.38165161 -0.01715379 -0.00111984]\n",
      "-0.012495267691697023 \n",
      " [ 9.96512988e-01 -6.90736249e-05  8.33634541e-02 -3.51940888e-03\n",
      " -9.60863956e-05]\n",
      "0.3150230050320131 \n",
      " [-0.35379889  0.44102247  0.29584035  0.62337982  0.45188673]\n",
      "-11.151464432417944 \n",
      " [ 0.0161522   0.44635212  0.50665462  0.73742431 -0.00392046]\n",
      "-9.076373395385286 \n",
      " [ 0.02225257  0.53716377  0.56832216  0.62285689 -0.00437322]\n"
     ]
    }
   ],
   "source": [
    "w,v = eigenvalue(x[int(1750000)],scale_v)\n",
    "for i in range(len(w)):\n",
    "    vect = v[:,i]\n",
    "    vect = vect\n",
    "    print(w[i],'\\n',vect)"
   ]
  },
  {
   "cell_type": "code",
   "execution_count": 367,
   "metadata": {
    "scrolled": true
   },
   "outputs": [
    {
     "name": "stdout",
     "output_type": "stream",
     "text": [
      "(0.40196909272048353+0j) \n",
      " [-0.26687931+0.j  0.47721833+0.j  0.37731224+0.j  0.56147937+0.j\n",
      "  0.49337054+0.j]\n",
      "(-0.017714913022658187+0j) \n",
      " [-9.97494868e-01+0.j  1.03617078e-03+0.j -7.02132313e-02+0.j\n",
      "  8.48687403e-03+0.j  9.94621462e-04+0.j]\n",
      "(-0.13056135138439498+0j) \n",
      " [-0.90285852+0.j  0.01873908+0.j -0.42385876+0.j  0.06716212+0.j\n",
      "  0.01812005+0.j]\n",
      "(-10.866164631826559+0.8587849764271362j) \n",
      " [-0.01374456+0.00156053j -0.43349831+0.10874937j -0.52353506+0.10172205j\n",
      " -0.71330572+0.j          0.08102082-0.01599006j]\n",
      "(-10.866164631826559-0.8587849764271362j) \n",
      " [-0.01374456-0.00156053j -0.43349831-0.10874937j -0.52353506-0.10172205j\n",
      " -0.71330572-0.j          0.08102082+0.01599006j]\n"
     ]
    }
   ],
   "source": [
    "w,v = eigenvalue(x[int(1800000)],scale_v)\n",
    "for i in range(len(w)):\n",
    "    vect = v[:,i]\n",
    "    vect = vect\n",
    "    print(w[i],'\\n',vect)"
   ]
  },
  {
   "cell_type": "code",
   "execution_count": 374,
   "metadata": {
    "scrolled": true
   },
   "outputs": [
    {
     "name": "stdout",
     "output_type": "stream",
     "text": [
      "-37.99238843198019 \n",
      " [ 0.00186795  0.27737143  0.31390276  0.29378745 -0.85919473]\n",
      "-0.022197626350893944 \n",
      " [ 9.97918655e-01 -4.01329012e-05  6.31039411e-02 -1.32725007e-02\n",
      "  2.98639289e-04]\n",
      "-0.13241618456519946 \n",
      " [-0.87185322 -0.00506975 -0.4802617   0.09549617 -0.00868556]\n",
      "-4.0466819442859245 \n",
      " [-0.03348501 -0.53436317 -0.59830634 -0.43630412 -0.40620561]\n",
      "-9.383228983006036 \n",
      " [ 0.00658667  0.31902166  0.27319667 -0.13484206  0.89742019]\n"
     ]
    }
   ],
   "source": [
    "w,v = eigenvalue(x[int(1850000)],scale_v)\n",
    "for i in range(len(w)):\n",
    "    vect = v[:,i]\n",
    "    vect = vect\n",
    "    print(w[i],'\\n',vect)"
   ]
  },
  {
   "cell_type": "code",
   "execution_count": 375,
   "metadata": {},
   "outputs": [
    {
     "name": "stdout",
     "output_type": "stream",
     "text": [
      "(-370.6495268255994+0j) \n",
      " [-1.25357168e-05+0.j -2.66742057e-02+0.j -2.88105040e-02+0.j\n",
      " -2.13784363e-02+0.j  9.99000202e-01+0.j]\n",
      "(-2.840050726199367+9.143008957822623j) \n",
      " [-0.00321778-0.01042079j -0.6193867 +0.03280429j -0.64714247+0.j\n",
      " -0.42368574-0.06012575j -0.0308997 +0.11087001j]\n",
      "(-2.840050726199367-9.143008957822623j) \n",
      " [-0.00321778+0.01042079j -0.6193867 -0.03280429j -0.64714247-0.j\n",
      " -0.42368574+0.06012575j -0.0308997 -0.11087001j]\n",
      "(-0.01980344121678737+0j) \n",
      " [-9.99796612e-01+0.j  3.14100538e-04+0.j -1.84408065e-02+0.j\n",
      "  8.15914064e-03+0.j -8.13881198e-06+0.j]\n",
      "(-0.10836595547003745+0j) \n",
      " [-0.84829913+0.j  0.01397265+0.j -0.4815081 +0.j  0.21986885+0.j\n",
      " -0.000998  +0.j]\n"
     ]
    }
   ],
   "source": [
    "w,v = eigenvalue(x[int(1950000)],scale_v)\n",
    "for i in range(len(w)):\n",
    "    vect = v[:,i]\n",
    "    vect = vect\n",
    "    print(w[i],'\\n',vect)"
   ]
  },
  {
   "cell_type": "code",
   "execution_count": 373,
   "metadata": {},
   "outputs": [
    {
     "data": {
      "text/plain": [
       "array([[ 1.86795189e-03,  9.97918655e-01, -8.71853221e-01,\n",
       "        -3.34850096e-02,  6.58666924e-03],\n",
       "       [ 2.77371431e-01, -4.01329012e-05, -5.06975258e-03,\n",
       "        -5.34363165e-01,  3.19021659e-01],\n",
       "       [ 3.13902765e-01,  6.31039411e-02, -4.80261702e-01,\n",
       "        -5.98306345e-01,  2.73196669e-01],\n",
       "       [ 2.93787453e-01, -1.32725007e-02,  9.54961678e-02,\n",
       "        -4.36304121e-01, -1.34842062e-01],\n",
       "       [-8.59194732e-01,  2.98639289e-04, -8.68555612e-03,\n",
       "        -4.06205605e-01,  8.97420189e-01]])"
      ]
     },
     "execution_count": 373,
     "metadata": {},
     "output_type": "execute_result"
    }
   ],
   "source": [
    "v"
   ]
  },
  {
   "cell_type": "code",
   "execution_count": 139,
   "metadata": {
    "scrolled": false
   },
   "outputs": [
    {
     "name": "stdout",
     "output_type": "stream",
     "text": [
      "(0.31690928509310523+0j) \n",
      " [ 0.32787869+0.j  0.09468591+0.j -0.90783972+0.j  0.24356168+0.j\n",
      " -0.00590788+0.j]\n",
      "(-0.7000921146858844+0j) \n",
      " [ 0.14273985+0.j -0.11143162+0.j  0.94549351+0.j -0.27061473+0.j\n",
      "  0.00424537+0.j]\n",
      "(-9.905572541222917+3.4054118322130207j) \n",
      " [-0.00584257-0.00148867j -0.51223891+0.j         -0.58225127+0.04733088j\n",
      " -0.56725538+0.27260407j -0.01478993-0.00279384j]\n",
      "(-9.905572541222917-3.4054118322130207j) \n",
      " [-0.00584257+0.00148867j -0.51223891+0.j         -0.58225127-0.04733088j\n",
      " -0.56725538-0.27260407j -0.01478993+0.00279384j]\n",
      "(-5.718923342851809+0j) \n",
      " [0.00858299+0.j 0.31206755+0.j 0.45469509+0.j 0.5888161 +0.j\n",
      " 0.59083682+0.j]\n"
     ]
    }
   ],
   "source": [
    "w,v = eigenvalue(x[int(3600)])\n",
    "for i in range(len(w)):\n",
    "    vect = v[:,i]/[0.26,Lampl,pampl,nampl,lambdaampl]\n",
    "    #vect = v[:,i]\n",
    "    vect = vect/np.linalg.norm(vect)\n",
    "    print(w[i],'\\n',vect)"
   ]
  },
  {
   "cell_type": "code",
   "execution_count": 133,
   "metadata": {},
   "outputs": [
    {
     "name": "stdout",
     "output_type": "stream",
     "text": [
      "-10.633916407308297 \n",
      " [-7.40853340e-03 -4.12778802e-01 -4.49719132e-01 -7.92029971e-01\n",
      "  1.83521371e-05]\n",
      "-9.46492958692964 \n",
      " [-8.80924310e-03 -4.50727909e-01 -4.76226289e-01 -7.54967066e-01\n",
      "  1.93795853e-05]\n",
      "-0.1761494455347795 \n",
      " [ 6.17107408e-01 -4.12901148e-03  7.86437966e-01 -2.60139144e-02\n",
      " -1.38646916e-05]\n",
      "0.05176607393417011 \n",
      " [-9.99783846e-01 -1.07482511e-04  2.07794295e-02 -6.81401208e-04\n",
      "  2.06886908e-07]\n",
      "0.2510826849601126 \n",
      " [-0.18543596  0.41450005  0.21388972  0.75067168  0.42958867]\n"
     ]
    }
   ],
   "source": [
    "w,v = eigenvalue(x[int(3640)])\n",
    "for i in range(len(w)):\n",
    "    vect = v[:,i]/[0.26,Lampl,pampl,nampl,lambdaampl]\n",
    "    vect = vect/np.linalg.norm(vect)\n",
    "    print(w[i],'\\n',vect)"
   ]
  },
  {
   "cell_type": "code",
   "execution_count": 109,
   "metadata": {},
   "outputs": [
    {
     "data": {
      "text/plain": [
       "[<matplotlib.lines.Line2D at 0x7efd5eba5950>]"
      ]
     },
     "execution_count": 109,
     "metadata": {},
     "output_type": "execute_result"
    }
   ],
   "source": [
    "T1,T2 = 3586,3593\n",
    "plt.figure()\n",
    "\n",
    "plt.plot(t[T1:T2],lambda_[T1:T2],'+--')"
   ]
  },
  {
   "cell_type": "markdown",
   "metadata": {},
   "source": [
    "## fast eigenvalues"
   ]
  },
  {
   "cell_type": "code",
   "execution_count": 57,
   "metadata": {},
   "outputs": [],
   "source": [
    "def fast_eigenvalue(value):\n",
    "\n",
    "    #parameter\n",
    "    theta,eta,s0,alpha,bb,mu,rho,w,tv = [10,10,10**-6,0.01,-0.5,25,0.1,0.5,0.1]\n",
    "       #theta,eta,s0,alpha,bb,mu,rho,w,tv = [10,10,0,0.01,-0.5,25,0.1,0.5,0.1]\n",
    "\n",
    "    #value\n",
    "    W,L,p,n,s = value\n",
    "    \n",
    "    Mat = np.zeros((2,2))\n",
    "    A = n*p / w\n",
    "    lambda_ = alpha*(s+s0)**bb\n",
    "    \n",
    "\n",
    "    Mat[0,0] = -theta*lambda_\n",
    "    Mat[0,1] = theta*(A-L)\n",
    "\n",
    "    dot_L = theta*(lambda_*(A-L)-A)\n",
    "    dot_p = ((1-n)*rho*(mu-p)+eta*(w-W)*(E-A+L)+w*dot_L) / (1-n*w-(1-n)*W)\n",
    "\n",
    "    #df3dW = -eta*(E-A+L) / (1-w*n-(1-n)*W) - (1-n)*dot_p / (1-n*w-(1-n)*W)**2\n",
    "    df3dW = -eta*(E-A+L) / (1-w*n-(1-n)*W) + (1-n)*dot_p / (1-n*w-(1-n)*W)**2 # change sign\n",
    "    df3dl = ( (w-W)*eta + w*Mat[1,1] ) / (1-w*n-(1-n)*W)\n",
    "    df3dp =  ( (1-n)*(-rho)-(w-W)*eta*n/w + w*theta*(lambda_-1)*n/w ) / (1-w*n-(1-n)*W)\n",
    "    df3dlambda = w*(theta*(A-L)) / (1-w*n-(1-n)*W)\n",
    "\n",
    "\n",
    "    \n",
    "    df4dl = w/p*(eta+Mat[0,0])\n",
    "    df4dp = -w/p**2*(eta*(E-A+L)+theta*(lambda_*(A-L)-A)) + w/p * (eta*(-n/w)+theta*(lambda_-1)*n/w)\n",
    "    df4dlambda = w/p*theta*(A-L)\n",
    "\n",
    "    a0 = ((1-n)*rho*(mu-p)*eta*(w-W)*(E-A+L)+w*theta*(-A)) / (p*(1-n*w-(1-n)*W))\n",
    "    a1 = w*theta*(A-L) / (p*(1-n*w-(1-n)*W))\n",
    "\n",
    "\n",
    "\n",
    "    #Mat[4,0] = delta / (2*alpha**2) * tv**2 *lambda_**2*2*dot_p/p * df3dW /p\n",
    "    #Mat[4,1] = delta / (2*alpha**2) * tv**2 *lambda_**2*2*dot_p/p * df3dl /p\n",
    "    #Mat[4,2] = delta / (2*alpha**2) * tv**2 *lambda_**2*2*dot_p/p * (df3dp /p - dot_p/p**2)\n",
    "    #Mat[4,3] = delta / (2*alpha**2) * tv**2 *lambda_**2*2*dot_p/p * (df3dn /p)\n",
    "    #Mat[4,4] = delta / (2*alpha**2) * (alpha**2 - 3*s0*lambda_**2 + tv**2*lambda_**2*(3*a0**2+2*4*a0*a1*lambda_+5*a1**2*lambda_**2))\n",
    "\n",
    "    \n",
    "    Mat[1,0] = - delta / (2*alpha**2) * tv**2 *lambda_**3*2*dot_p/p * df3dl /p\n",
    "    Mat[1,1] = delta / (2*alpha**2) * (alpha**2 - 3*s0*lambda_**2 - tv**2*lambda_**2*(3*a0**2+2*4*a0*a1*lambda_+5*a1**2*lambda_**2))\n",
    "\n",
    "    \n",
    "    eigva, v = LA.eig(Mat)\n",
    "    return(eigva,v)"
   ]
  },
  {
   "cell_type": "code",
   "execution_count": 58,
   "metadata": {},
   "outputs": [],
   "source": [
    "list_values = np.array([fast_eigenvalue(value)[0] for value in x])"
   ]
  },
  {
   "cell_type": "code",
   "execution_count": 73,
   "metadata": {},
   "outputs": [
    {
     "name": "stdout",
     "output_type": "stream",
     "text": [
      "0\n",
      "1\n"
     ]
    },
    {
     "name": "stderr",
     "output_type": "stream",
     "text": [
      "/home/lcbob/anaconda3/lib/python3.7/site-packages/ipykernel_launcher.py:9: MatplotlibDeprecationWarning: Adding an axes using the same arguments as a previous axes currently reuses the earlier instance.  In a future version, a new instance will always be created and returned.  Meanwhile, this warning can be suppressed, and the future behavior ensured, by passing a unique label to each axes instance.\n",
      "  if __name__ == '__main__':\n",
      "/home/lcbob/anaconda3/lib/python3.7/site-packages/ipykernel_launcher.py:10: MatplotlibDeprecationWarning: Adding an axes using the same arguments as a previous axes currently reuses the earlier instance.  In a future version, a new instance will always be created and returned.  Meanwhile, this warning can be suppressed, and the future behavior ensured, by passing a unique label to each axes instance.\n",
      "  # Remove the CWD from sys.path while we load stuff.\n",
      "/home/lcbob/anaconda3/lib/python3.7/site-packages/ipykernel_launcher.py:11: MatplotlibDeprecationWarning: Adding an axes using the same arguments as a previous axes currently reuses the earlier instance.  In a future version, a new instance will always be created and returned.  Meanwhile, this warning can be suppressed, and the future behavior ensured, by passing a unique label to each axes instance.\n",
      "  # This is added back by InteractiveShellApp.init_path()\n"
     ]
    }
   ],
   "source": [
    "fig = plt.figure(figsize=(8,8))\n",
    "\n",
    "T1,T2 = 3590,6232\n",
    "\n",
    "\n",
    "for i in range(2):\n",
    "    print(i)\n",
    "    fig.subplots_adjust(wspace = 0.5, hspace = 0.3)\n",
    "    ax1 = fig.add_subplot(3,1,1)\n",
    "    ax2 = fig.add_subplot(3,1,2)\n",
    "    ax3 = fig.add_subplot(3,1,3)\n",
    "    \n",
    "    ax1.plot(t[T1:T2],lambda_[T1:T2], 'g-',label ='s',markersize=0.1)\n",
    "        \n",
    "    #ax2.plot(t[T1:T2],list_values[:,i][T1:T2].real,'+--',alpha=0.5)\n",
    "    ax2.plot(t[T1:T2],list_values[:,i][T1:T2].real,'-',alpha=0.5)\n",
    "\n",
    "    #ax2.plot(tt[T1:T2],0+0*list_values[:,i][T1:T2].real,'k--',alpha=0.5)\n",
    "    #ax2.plot(t[T1:T2],-1+0*list_values[:,i][T1:T2].real,'k--',alpha=0.5)\n",
    "    #ax2.plot(t[T1:T2],np.absolute(list_values[:,i][T1:T2]),'-',alpha=0.5)\n",
    "    \n",
    "    ax3.plot(t[T1:T2],list_values[:,i][T1:T2].imag,'.',markersize=0.5)\n",
    "\n",
    "ax1.set_ylabel('$\\lambda$')        \n",
    "ax2.set_ylabel('$Re(\\lambda_i)$') \n",
    "ax2.grid()\n",
    "ax3.set_ylabel('$Imag(\\lambda_i)$')         \n",
    "ax3.set_xlabel('$t$')     \n",
    "\n",
    "plt.show()"
   ]
  },
  {
   "cell_type": "code",
   "execution_count": 60,
   "metadata": {},
   "outputs": [
    {
     "name": "stdout",
     "output_type": "stream",
     "text": [
      "-1.384076733854978 \n",
      " [-9.99999778e-01 -6.66272588e-04]\n",
      "0.2367471915016806 \n",
      " [-0.99667775 -0.0814461 ]\n"
     ]
    }
   ],
   "source": [
    "w,v = fast_eigenvalue(x[int(3670)])\n",
    "for i in range(len(w)):\n",
    "    print(w[i],'\\n',v[:,i])"
   ]
  },
  {
   "cell_type": "code",
   "execution_count": 61,
   "metadata": {
    "scrolled": false
   },
   "outputs": [
    {
     "name": "stdout",
     "output_type": "stream",
     "text": [
      "-1.4079619125645009 \n",
      " [-9.99999758e-01 -6.95012703e-04]\n",
      "0.23585406351220992 \n",
      " [-0.99658398 -0.08258558]\n"
     ]
    }
   ],
   "source": [
    "w,v = fast_eigenvalue(x[int(3677)])\n",
    "for i in range(len(w)):\n",
    "    print(w[i],'\\n',v[:,i])"
   ]
  },
  {
   "cell_type": "code",
   "execution_count": 68,
   "metadata": {},
   "outputs": [
    {
     "name": "stdout",
     "output_type": "stream",
     "text": [
      "-3.1323236672128782 \n",
      " [-0.99999924 -0.00123188]\n",
      "0.21585882890536953 \n",
      " [-0.98609385 -0.16618939]\n"
     ]
    }
   ],
   "source": [
    "w,v = fast_eigenvalue(x[int(4000)])\n",
    "for i in range(len(w)):\n",
    "    print(w[i],'\\n',v[:,i])"
   ]
  },
  {
   "cell_type": "code",
   "execution_count": 74,
   "metadata": {},
   "outputs": [],
   "source": [
    "def fast_det(value):\n",
    "\n",
    "    #parameter\n",
    "    theta,eta,s0,alpha,bb,mu,rho,w,tv = [10,10,10**-6,0.01,-0.5,25,0.1,0.5,0.1]\n",
    "       #theta,eta,s0,alpha,bb,mu,rho,w,tv = [10,10,0,0.01,-0.5,25,0.1,0.5,0.1]\n",
    "\n",
    "    #value\n",
    "    W,L,p,n,s = value\n",
    "    \n",
    "    Mat = np.zeros((2,2))\n",
    "    A = n*p / w\n",
    "    lambda_ = alpha*(s+s0)**bb\n",
    "    \n",
    "\n",
    "    Mat[0,0] = -theta*lambda_\n",
    "    Mat[0,1] = theta*(A-L)\n",
    "\n",
    "    dot_L = theta*(lambda_*(A-L)-A)\n",
    "    dot_p = ((1-n)*rho*(mu-p)+eta*(w-W)*(E-A+L)+w*dot_L) / (1-n*w-(1-n)*W)\n",
    "\n",
    "    #df3dW = -eta*(E-A+L) / (1-w*n-(1-n)*W) - (1-n)*dot_p / (1-n*w-(1-n)*W)**2\n",
    "    df3dW = -eta*(E-A+L) / (1-w*n-(1-n)*W) + (1-n)*dot_p / (1-n*w-(1-n)*W)**2 # change sign\n",
    "    df3dl = ( (w-W)*eta + w*Mat[1,1] ) / (1-w*n-(1-n)*W)\n",
    "    df3dp =  ( (1-n)*(-rho)-(w-W)*eta*n/w + w*theta*(lambda_-1)*n/w ) / (1-w*n-(1-n)*W)\n",
    "    df3dlambda = w*(theta*(A-L)) / (1-w*n-(1-n)*W)\n",
    "\n",
    "\n",
    "    \n",
    "    df4dl = w/p*(eta+Mat[0,0])\n",
    "    df4dp = -w/p**2*(eta*(E-A+L)+theta*(lambda_*(A-L)-A)) + w/p * (eta*(-n/w)+theta*(lambda_-1)*n/w)\n",
    "    df4dlambda = w/p*theta*(A-L)\n",
    "\n",
    "    a0 = ((1-n)*rho*(mu-p)*eta*(w-W)*(E-A+L)+w*theta*(-A)) / (p*(1-n*w-(1-n)*W))\n",
    "    a1 = w*theta*(A-L) / (p*(1-n*w-(1-n)*W))\n",
    "\n",
    "\n",
    "\n",
    "    #Mat[4,0] = delta / (2*alpha**2) * tv**2 *lambda_**2*2*dot_p/p * df3dW /p\n",
    "    #Mat[4,1] = delta / (2*alpha**2) * tv**2 *lambda_**2*2*dot_p/p * df3dl /p\n",
    "    #Mat[4,2] = delta / (2*alpha**2) * tv**2 *lambda_**2*2*dot_p/p * (df3dp /p - dot_p/p**2)\n",
    "    #Mat[4,3] = delta / (2*alpha**2) * tv**2 *lambda_**2*2*dot_p/p * (df3dn /p)\n",
    "    #Mat[4,4] = delta / (2*alpha**2) * (alpha**2 - 3*s0*lambda_**2 + tv**2*lambda_**2*(3*a0**2+2*4*a0*a1*lambda_+5*a1**2*lambda_**2))\n",
    "\n",
    "    \n",
    "    Mat[1,0] = - delta / (2*alpha**2) * tv**2 *lambda_**3*2*dot_p/p * df3dl /p\n",
    "    Mat[1,1] = delta / (2*alpha**2) * (alpha**2 - 3*s0*lambda_**2 - tv**2*lambda_**2*(3*a0**2+2*4*a0*a1*lambda_+5*a1**2*lambda_**2))\n",
    "\n",
    "    \n",
    "    return(np.linalg.det(Mat))"
   ]
  },
  {
   "cell_type": "code",
   "execution_count": 75,
   "metadata": {},
   "outputs": [],
   "source": [
    "list_det = np.array([fast_det(value) for value in x])/10**7"
   ]
  },
  {
   "cell_type": "code",
   "execution_count": 76,
   "metadata": {},
   "outputs": [
    {
     "data": {
      "text/plain": [
       "[<matplotlib.lines.Line2D at 0x7f8603f27110>]"
      ]
     },
     "execution_count": 76,
     "metadata": {},
     "output_type": "execute_result"
    }
   ],
   "source": [
    "fig = plt.figure(figsize=(8,8))\n",
    "\n",
    "fig.subplots_adjust(wspace = 0.5, hspace = 0.3)\n",
    "ax1 = fig.add_subplot(3,1,1)\n",
    "ax2 = fig.add_subplot(3,1,2)\n",
    "ax3 = fig.add_subplot(3,1,3)\n",
    "\n",
    "T1,T2 = 3540,4700\n",
    "\n",
    "ax1.plot(t[T1:T2],lambda_[T1:T2], 'g-',label ='s',markersize=0.1)\n",
    "#ax2.plot(t[T1:T2],0*list_det[T1:T2],'black',markersize=1,alpha=0.5)\n",
    "ax2.plot(t[T1:T2],list_det[T1:T2],'+--',markersize=1,alpha=0.8)\n",
    "\n",
    "ax3.plot(t[T1:T2],(list_det[T1:T2]>0),'+--',markersize=1,alpha=0.8)\n"
   ]
  },
  {
   "cell_type": "code",
   "execution_count": null,
   "metadata": {},
   "outputs": [],
   "source": []
  }
 ],
 "metadata": {
  "kernelspec": {
   "display_name": "Python 3",
   "language": "python",
   "name": "python3"
  },
  "language_info": {
   "codemirror_mode": {
    "name": "ipython",
    "version": 3
   },
   "file_extension": ".py",
   "mimetype": "text/x-python",
   "name": "python",
   "nbconvert_exporter": "python",
   "pygments_lexer": "ipython3",
   "version": "3.7.6"
  }
 },
 "nbformat": 4,
 "nbformat_minor": 4
}
