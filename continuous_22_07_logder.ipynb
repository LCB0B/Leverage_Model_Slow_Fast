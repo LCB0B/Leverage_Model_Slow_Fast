{
 "cells": [
  {
   "cell_type": "code",
   "execution_count": 1,
   "metadata": {},
   "outputs": [],
   "source": [
    "\n",
    "import numpy as np\n",
    "import matplotlib.pyplot as plt\n",
    "%matplotlib qt\n",
    "\n",
    "from sympy.solvers import solve\n",
    "from sympy import Symbol\n",
    "import math\n",
    "import random\n",
    "import matplotlib.pyplot as plt\n",
    "from mpl_toolkits.mplot3d import Axes3D\n",
    "from matplotlib import cm\n",
    "from matplotlib.ticker import LinearLocator, FormatStrFormatter\n",
    "from numpy import linalg as LA\n",
    "\n",
    "import time"
   ]
  },
  {
   "cell_type": "code",
   "execution_count": 2,
   "metadata": {},
   "outputs": [],
   "source": [
    "def function(x,E,theta,eta,w,delta,alpha,s_0,b,rho):\n",
    "\n",
    "    lambda_ = alpha*(x[4]+s_0)**b\n",
    "    \n",
    "    \n",
    "    A = x[2]*x[3]/w\n",
    "    mu = 25\n",
    "    \n",
    "    #dot_W = x[0]*rho*((mu/x[2]-1)+float(np.random.normal(0,0.22,1)))\n",
    "    dot_W = x[0]*rho*((mu/x[2]-1))\n",
    "    #dot_W = 0\n",
    "    dot_L = theta*(lambda_*(A-x[1])-A)\n",
    "    \n",
    "    #dot_L = theta*(lambda_*(E*lambda_-x[1])-E*lambda_ )\n",
    "    \n",
    "    dot_p = (x[2]* (1-x[3]) * dot_W / x[0] + eta*(w-x[0])*(E-A+x[1])+ w*dot_L ) / (1-x[3]*w-(1-x[3])*x[0])\n",
    "    #dot_p = ( eta*(w-x[0])*(E-A+x[1])+ w*dot_L ) \n",
    "    \n",
    "    \n",
    "    # / (1-x[3]*w-(1-x[3])*x[0])\n",
    "    dot_n = x[3]* (-(1-w)*dot_p/x[2] + 1/A*(eta*(E-A+x[1])+dot_L))\n",
    "    #dot_n = 0\n",
    "    \n",
    "    #dot_s = -delta*(x[4]) + delta * (np.log(1-dot_p/x[2]))**2\n",
    "    #dot_s = -delta*(x[4]) + delta * (np.log(1-dot_p/x[2]))**2\n",
    "    dot_s = -delta*(x[4]) + delta * (-dot_p/x[2])**2\n",
    "    \n",
    "    \n",
    "    return([dot_W, dot_L, dot_p, dot_n, dot_s])\n",
    "   "
   ]
  },
  {
   "cell_type": "code",
   "execution_count": 3,
   "metadata": {},
   "outputs": [],
   "source": [
    "def sys(iv, dt, time,function,E,theta,eta,w,delta,alpha,s_0,b,rho):\n",
    "    n = int(time/dt)\n",
    "    t = np.linspace(0,time,n)\n",
    "    x = np.array([[ i for i in iv]]*n)\n",
    "    n_ord = len(iv)\n",
    "    \n",
    "    a = iv\n",
    "    \n",
    "    for i in range(1,n):\n",
    "        X = function(a,E,theta,eta,w,delta,alpha,s_0,b,rho)\n",
    "        X[0] = X[0] \n",
    "        a = a + np.array(X)*dt\n",
    "        x[i] = a\n",
    "    return np.array(x)\n"
   ]
  },
  {
   "cell_type": "code",
   "execution_count": 4,
   "metadata": {},
   "outputs": [],
   "source": [
    "rho= 0.1\n",
    "#rho = 100\n",
    "E = 2\n",
    "mu = 25\n",
    "theta = 10\n",
    "eta = 10\n",
    "w = 0.5\n",
    "\n",
    "delta = 2\n",
    "alpha = 0.01\n",
    "#alpha = 0.1\n",
    "\n",
    "s_0 = 10**-6\n",
    "b = -0.5"
   ]
  },
  {
   "cell_type": "code",
   "execution_count": 5,
   "metadata": {},
   "outputs": [
    {
     "name": "stdout",
     "output_type": "stream",
     "text": [
      "--- 0.3515195846557617 seconds ---\n"
     ]
    }
   ],
   "source": [
    "T = 300\n",
    "dt = 10**-2\n",
    "delta = 0.5\n",
    "\n",
    "start_time = time.time()\n",
    "\n",
    "p0 = 29\n",
    "L0 = 10\n",
    "x= sys([0.5,L0,p0,0.01,0.01], dt,T,function,E,theta,eta,w,delta,alpha,s_0,b,rho)\n",
    "\n",
    "print(\"--- %s seconds ---\" % (time.time() - start_time))\n",
    "\n",
    "\n",
    "n = int(T/dt)\n",
    "t = np.linspace(0,T,n)"
   ]
  },
  {
   "cell_type": "code",
   "execution_count": 8,
   "metadata": {},
   "outputs": [],
   "source": [
    "fig = plt.figure(figsize=(5,5))\n",
    "fig.subplots_adjust(wspace = 0.5, hspace = 0.3)\n",
    "ax1 = fig.add_subplot(5,1,1)\n",
    "ax2 = fig.add_subplot(5,1,2)\n",
    "ax3 = fig.add_subplot(5,1,3)\n",
    "ax4 = fig.add_subplot(5,1,4)\n",
    "ax5 = fig.add_subplot(5,1,5)\n",
    "\n",
    "n = int(T/dt)\n",
    "t = np.linspace(0,T,n)\n",
    "\n",
    "#lambda_ = alpha * (x[:,4] + s_0)**b\n",
    "w = 0.5\n",
    "#A = x[:,2]*x[:,3]/w\n",
    "\n",
    "T1 = 4500\n",
    "T2 = 20000\n",
    "#xx= np.array([x[500*i] for i in range(int(len(x)//1000))])\n",
    "#t = np.array([t[500*i] for i in range(int(len(t)//1000))])\n",
    "xx = x\n",
    "lambda_ = alpha * (xx[:,4] + s_0)**b\n",
    "\n",
    "tau = 0.8\n",
    "#ax1.plot(t,10*(A-x[:,1])/x[:,2], 'r-',label ='W')\n",
    "ax1.plot(tau*t,xx[:,0], 'k-',label ='W')\n",
    "ax1.set_ylabel(r'$W$')\n",
    "\n",
    "\n",
    "ax2.plot(tau*t,xx[:,1], 'k-',label ='L')\n",
    "#ax2.plot(t,x[:,1]-(1-1/lambda_)*x[:,2]*x[:,3]/w, 'c-',label ='L')\n",
    "#ax2.plot(t,x[:,1]-(lambda_-1)*E, 'b-',label ='L')\n",
    "ax2.set_ylabel(r'$L$')\n",
    "\n",
    "\n",
    "ax3.plot(tau*t,xx[:,2], 'k-',label ='p')\n",
    "# num = (1-n)*rho*mu+eta*(w-W)*(E+L)-w*theta*lambda_*L\n",
    "# denom = (1-n)*rho + eta*(w-W)*n/w -theta*n*(lambda_-1)\n",
    "# ax3.plot(t,num/denom,'k--',alpha=0.5)\n",
    "ax3.set_ylabel(r'$p$')\n",
    "\n",
    "\n",
    "ax4.plot(tau*t,xx[:,3], 'k-',label ='n')\n",
    "#ax4.plot(t,w/x[:,2] * (E+x[:,1]), 'r--',alpha=0.4)\n",
    "ax4.set_ylabel(r'$n$')\n",
    "\n",
    "\n",
    "#ax5.plot(t,A/E, 'k--',label ='s',alpha=0.5)\n",
    "ax5.plot(tau*t,lambda_, 'k-',label ='s')\n",
    "\n",
    "#ax5.plot(t,(np.log(1-theta*lambda_*(E*(lambda_-1)-x[:,1]) / (x[:,1]+10)))**2, 'g--',label ='s')\n",
    "ax5.set_ylabel(r'$ \\lambda $')\n",
    "ax5.set_xlabel(r'$ t $')\n",
    "\n",
    "\n",
    "plt.grid()\n",
    "plt.show()\n"
   ]
  },
  {
   "cell_type": "code",
   "execution_count": null,
   "metadata": {},
   "outputs": [],
   "source": []
  },
  {
   "cell_type": "markdown",
   "metadata": {},
   "source": [
    "## Eigenvalues"
   ]
  },
  {
   "cell_type": "code",
   "execution_count": 7,
   "metadata": {},
   "outputs": [],
   "source": [
    "def eigenvalue_dis(value):\n",
    "    tau = dt\n",
    "    #parameter\n",
    "    theta,eta,s0,alpha,bb,mu,rho,w,tv = [10,10,0,0.075,-0.5,25,0.1,0.5,0.1]\n",
    "\n",
    "    #value\n",
    "    W,L,p,n,s = value\n",
    "    \n",
    "    Mat = np.zeros((5,5))\n",
    "    A = n*p / w\n",
    "    lambda_ = alpha*(s+s0)**bb\n",
    "    \n",
    "    Mat[0,0] = rho*(mu/p-1)\n",
    "    Mat[0,2] = -W*rho*mu/p**2\n",
    "\n",
    "    Mat[1,1] = -theta*lambda_\n",
    "    Mat[1,2] = theta*(lambda_-1)*n/w\n",
    "    Mat[1,3] = theta*(lambda_-1)*p/w\n",
    "    Mat[1,4] = theta*(A-L)\n",
    "\n",
    "    dot_L = theta*(lambda_*(A-L)-A)\n",
    "    dot_p = ((1-n)*rho*(mu-p)*eta*(w-W)*(E-A+L)+w*dot_L) / (1-n*w-(1-n)*W)\n",
    "\n",
    "    df3dW = -eta*(E-A+L) / (1-w*n-(1-n)*W) + (1-n)*dot_p / (1-n*w-(1-n)*W)**2\n",
    "    df3dl = ( (w-W)*eta + w*Mat[1,1] ) / (1-w*n-(1-n)*W)\n",
    "    df3dp =  ( (1-n)*(-rho)-(w-W)*eta*n/w + w*Mat[1,2] ) / (1-w*n-(1-n)*W)\n",
    "    df3dn =  ( -rho*(mu-p)-(w-W)*eta*p/w + w*Mat[1,3] ) / (1-w*n-(1-n)*W) - (-w+W)*((1-n)*rho*(mu/p-1)*eta*(E-A+L)+w*dot_L) / (1-w*n-(1-n)*W)**2\n",
    "    df3dlambda = w*(theta*(A-L)) / (1-w*n-(1-n)*W)\n",
    "\n",
    "    Mat[2,0] = df3dW\n",
    "    Mat[2,1] = df3dl\n",
    "    Mat[2,2] = df3dp\n",
    "    Mat[2,3] = df3dn\n",
    "    Mat[2,4] = df3dlambda\n",
    "\n",
    "    \n",
    "    df4dl = w/p*(eta+Mat[1,1])\n",
    "    df4dp = -w/p**2*(eta*(E-A+L)+theta*(lambda_*(A-L)-A)) + w/p * (eta*(-n/w)+Mat[1,2])\n",
    "    df4dn = w/p*(-eta*p/w+Mat[1,3])\n",
    "    df4dlambda = w/(n*p)*theta*(A-L)\n",
    "\n",
    "    Mat[3,0] = -(1-w)*n/p * df3dW\n",
    "    Mat[3,1] = -(1-w)*n/p * df3dl + df4dl\n",
    "    Mat[3,2] = -(1-w)*n * (df3dp/p-dot_p/p**2) + df4dp\n",
    "    Mat[3,3] = -(1-w)/p *(dot_p + n*df3dn) + df4dn\n",
    "    Mat[3,4] = -(1-w)*n/p * df3dlambda + df4dlambda\n",
    "\n",
    "\n",
    "    a0 = ((1-n)*rho*(mu-p)*eta*(w-W)*(E-A+L)+w*theta*(-A)) / (p*(1-n*w-(1-n)*W))\n",
    "    a1 = w*theta*(A-L) / (p*(1-n*w-(1-n)*W))\n",
    "\n",
    "\n",
    "\n",
    "    Mat[4,0] = delta / (2*alpha**2) * tv**2 *lambda_**2*2*dot_p/p * df3dW /p\n",
    "    Mat[4,1] = delta / (2*alpha**2) * tv**2 *lambda_**2*2*dot_p/p * df3dl /p\n",
    "    Mat[4,2] = delta / (2*alpha**2) * tv**2 *lambda_**2*2*dot_p/p * (df3dp /p - dot_p/p**2)\n",
    "    Mat[4,3] = delta / (2*alpha**2) * tv**2 *lambda_**2*2*dot_p/p * (df3dn /p)\n",
    "    Mat[4,4] = delta / (2*alpha**2) * (alpha**2 - 3*s0*lambda_**2 + tv**2*lambda_**2*(3*a0**2+2*4*a0*a1*lambda_+5*a1**2*lambda_**2))\n",
    "\n",
    "    Mat = tau * Mat\n",
    "    for i in range(5):\n",
    "        Mat[i,i] = 1 + Mat[i,i]\n",
    "    eigva, v = LA.eig(Mat)\n",
    "    return(eigva,v)"
   ]
  },
  {
   "cell_type": "code",
   "execution_count": 8,
   "metadata": {},
   "outputs": [],
   "source": [
    "def eigenvalue(value):\n",
    "\n",
    "    #parameter\n",
    "    theta,eta,s0,alpha,bb,mu,rho,w,tv = [10,10,0,0.075,-0.5,25,0.1,0.5,0.1]\n",
    "\n",
    "    #value\n",
    "    W,L,p,n,s = value\n",
    "    \n",
    "    Mat = np.zeros((5,5))\n",
    "    A = n*p / w\n",
    "    lambda_ = alpha*(s+s0)**bb\n",
    "    \n",
    "    Mat[0,0] = 0\n",
    "    Mat[0,2] = -rho*mu/p\n",
    "\n",
    "    Mat[1,1] = -theta*lambda_\n",
    "    Mat[1,2] = theta*(lambda_-1)*n/w*p\n",
    "    Mat[1,3] = theta*(lambda_-1)*p/w*n\n",
    "    Mat[1,4] = theta*(A-L)\n",
    "\n",
    "    dot_L = theta*(lambda_*(A-L)-A)\n",
    "    dot_p = ((1-n)*rho*(mu-p)+eta*(w-W)*(E-A+L)+w*dot_L) / (1-n*w-(1-n)*W)\n",
    "\n",
    "    #df3dW = -eta*(E-A+L) / (1-w*n-(1-n)*W) - (1-n)*dot_p / (1-n*w-(1-n)*W)**2\n",
    "    df3dW = -eta*(E-A+L) / (1-w*n-(1-n)*W) + (1-n)*dot_p / (1-n*w-(1-n)*W)**2 # change sign\n",
    "    df3dl = ( (w-W)*eta + w*Mat[1,1] ) / (1-w*n-(1-n)*W)\n",
    "    df3dp =  ( (1-n)*(-rho*mu/p)-(w-W)*eta*(E-L)/p + w*theta*lambda_*L/p ) / (1-w*n-(1-n)*W)\n",
    "    df3dn =  ( -rho*(mu-p)-(w-W)*eta*p/w + w*Mat[1,3] ) / (1-w*n-(1-n)*W) - (-w+W)*((1-n)*rho*(mu-p)+eta*(E-A+L)+w*dot_L) / (1-w*n-(1-n)*W)**2\n",
    "    df3dlambda = w*(theta*(A-L)) / (1-w*n-(1-n)*W)\n",
    "\n",
    "    Mat[2,0] = df3dW*w/p\n",
    "    Mat[2,1] = df3dl/p\n",
    "    Mat[2,2] = df3dp\n",
    "    Mat[2,3] = df3dn*n/p\n",
    "    Mat[2,4] = df3dlambda/p\n",
    "\n",
    "    \n",
    "    df4dl = w/p*(eta+Mat[1,1])\n",
    "    df4dp = -w/p**2*(eta*(E-A+L)+theta*(lambda_*(A-L)-A)) + w/p * (eta*(-n/w)+Mat[1,2])\n",
    "    df4dn = w/p*(-eta*p/w+Mat[1,3])\n",
    "    df4dlambda = w/p*theta*(A-L)\n",
    "\n",
    "    Mat[3,0] = -(1-w)*n/p * df3dW\n",
    "    Mat[3,1] = -(1-w)*n/p * df3dl + df4dl\n",
    "    Mat[3,2] = -(1-w)*n * (df3dp/p-dot_p/p**2) + df4dp\n",
    "    Mat[3,3] = -(1-w)/p *(dot_p + n*df3dn) + df4dn\n",
    "    Mat[3,4] = -(1-w)*n/p * df3dlambda + df4dlambda\n",
    "\n",
    "\n",
    "    a0 = ((1-n)*rho*(mu-p)*eta*(w-W)*(E-A+L)+w*theta*(-A)) / (p*(1-n*w-(1-n)*W))\n",
    "    a1 = w*theta*(A-L) / (p*(1-n*w-(1-n)*W))\n",
    "\n",
    "\n",
    "\n",
    "    #Mat[4,0] = delta / (2*alpha**2) * tv**2 *lambda_**2*2*dot_p/p * df3dW /p\n",
    "    #Mat[4,1] = delta / (2*alpha**2) * tv**2 *lambda_**2*2*dot_p/p * df3dl /p\n",
    "    #Mat[4,2] = delta / (2*alpha**2) * tv**2 *lambda_**2*2*dot_p/p * (df3dp /p - dot_p/p**2)\n",
    "    #Mat[4,3] = delta / (2*alpha**2) * tv**2 *lambda_**2*2*dot_p/p * (df3dn /p)\n",
    "    #Mat[4,4] = delta / (2*alpha**2) * (alpha**2 - 3*s0*lambda_**2 + tv**2*lambda_**2*(3*a0**2+2*4*a0*a1*lambda_+5*a1**2*lambda_**2))\n",
    "\n",
    "    \n",
    "    Mat[4,0] = - delta / (2*alpha**2) * tv**2 *lambda_**3*2*dot_p/p * df3dW /p \n",
    "    Mat[4,1] = - delta / (2*alpha**2) * tv**2 *lambda_**3*2*dot_p/p * df3dl /p\n",
    "    Mat[4,2] = - delta / (2*alpha**2) * tv**2 *lambda_**3*2*dot_p/p * (df3dp /p - dot_p/p**2)\n",
    "    Mat[4,3] = - delta / (2*alpha**2) * tv**2 *lambda_**3*2*dot_p/p * (df3dn /p)\n",
    "    Mat[4,4] = delta / (2*alpha**2) * (alpha**2 - 3*s0*lambda_**2 - tv**2*lambda_**2*(3*a0**2+2*4*a0*a1*lambda_+5*a1**2*lambda_**2))\n",
    "\n",
    "    \n",
    "    eigva, v = LA.eig(Mat)\n",
    "    return(eigva,v)"
   ]
  },
  {
   "cell_type": "code",
   "execution_count": 9,
   "metadata": {},
   "outputs": [],
   "source": [
    "list_v = np.copy(x)"
   ]
  },
  {
   "cell_type": "code",
   "execution_count": 10,
   "metadata": {},
   "outputs": [],
   "source": [
    "def resort(x):\n",
    "    list_v = np.array([eigenvalue(value)[0] for value in x])\n",
    "    for i in range(len(x)):\n",
    "        order = [0,0,0,0,0]\n",
    "        eig = eigenvalue(x[i])\n",
    "        order[0],order[1] = eig[0].imag.argsort()[0],eig[0].imag.argsort()[-1]\n",
    "        order[2],order[3] = eig[0].real.argsort()[0],eig[0].real.argsort()[1]\n",
    "        order[4] = list(set(([0,1,2,3,4])) - set((order[0:4])))[0]\n",
    "        order = np.array(order)\n",
    "        list_v[i] = eig[0][order]\n",
    "    return(list_v)"
   ]
  },
  {
   "cell_type": "markdown",
   "metadata": {},
   "source": [
    "## Summer modif "
   ]
  },
  {
   "cell_type": "code",
   "execution_count": 11,
   "metadata": {},
   "outputs": [],
   "source": [
    "#list_values = resort(x)\n",
    "list_values = np.array([eigenvalue(value)[0] for value in x])"
   ]
  },
  {
   "cell_type": "code",
   "execution_count": 12,
   "metadata": {},
   "outputs": [],
   "source": [
    "T1 = 0\n",
    "T2 = 20000"
   ]
  },
  {
   "cell_type": "code",
   "execution_count": 20,
   "metadata": {
    "scrolled": true
   },
   "outputs": [
    {
     "name": "stderr",
     "output_type": "stream",
     "text": [
      "/home/lcbob/anaconda3/lib/python3.7/site-packages/numpy/core/_asarray.py:85: ComplexWarning: Casting complex values to real discards the imaginary part\n",
      "  return array(a, dtype, copy=False, order=order)\n",
      "/home/lcbob/anaconda3/lib/python3.7/site-packages/numpy/core/_asarray.py:85: ComplexWarning: Casting complex values to real discards the imaginary part\n",
      "  return array(a, dtype, copy=False, order=order)\n",
      "/home/lcbob/anaconda3/lib/python3.7/site-packages/numpy/core/_asarray.py:85: ComplexWarning: Casting complex values to real discards the imaginary part\n",
      "  return array(a, dtype, copy=False, order=order)\n",
      "/home/lcbob/anaconda3/lib/python3.7/site-packages/numpy/core/_asarray.py:85: ComplexWarning: Casting complex values to real discards the imaginary part\n",
      "  return array(a, dtype, copy=False, order=order)\n",
      "/home/lcbob/anaconda3/lib/python3.7/site-packages/numpy/core/_asarray.py:85: ComplexWarning: Casting complex values to real discards the imaginary part\n",
      "  return array(a, dtype, copy=False, order=order)\n"
     ]
    }
   ],
   "source": [
    "plt.figure(figsize=(41,41))\n",
    "for i in range(5):\n",
    "    plt.plot(t[T1:T2],list_values[:,i][T1:T2],'.',markersize=0.1)\n",
    "plt.grid()"
   ]
  },
  {
   "cell_type": "code",
   "execution_count": 67,
   "metadata": {
    "scrolled": false
   },
   "outputs": [
    {
     "name": "stdout",
     "output_type": "stream",
     "text": [
      "[-2.05248015e-04-2.98229966e-05j -6.65908140e-01+1.31461889e-02j\n",
      " -7.45777429e-01+0.00000000e+00j -1.41502362e-02+3.04519225e-03j\n",
      " -9.09234058e-05+8.82161632e-07j]\n",
      "[-2.05248015e-04+2.98229966e-05j -6.65908140e-01-1.31461889e-02j\n",
      " -7.45777429e-01-0.00000000e+00j -1.41502362e-02-3.04519225e-03j\n",
      " -9.09234058e-05-8.82161632e-07j]\n",
      "[ 6.08501952e-03+0.j -2.85237863e-02+0.j  9.99573875e-01+0.j\n",
      " -1.19796215e-03+0.j  3.78905623e-06+0.j]\n",
      "[-0.01019267+0.j -0.0229152 +0.j  0.99968317+0.j -0.00107591+0.j\n",
      "  0.0018467 +0.j]\n",
      "[ 0.01042444+0.j  0.48810341+0.j -0.83378287+0.j  0.01178668+0.j\n",
      "  0.25751425+0.j]\n"
     ]
    }
   ],
   "source": [
    "eig_vects = eigenvalue(x[5550])[1]\n",
    "\n",
    "for i in range(len(eig_vects)):\n",
    "    print(eig_vects[:,i])"
   ]
  },
  {
   "cell_type": "code",
   "execution_count": 66,
   "metadata": {},
   "outputs": [
    {
     "data": {
      "text/plain": [
       "array([-10.02473853+1.45860207j, -10.02473853-1.45860207j,\n",
       "        -0.44974333+0.j        ,   0.29034474+0.j        ,\n",
       "         0.23929766+0.j        ])"
      ]
     },
     "execution_count": 66,
     "metadata": {},
     "output_type": "execute_result"
    }
   ],
   "source": [
    "eigenvalue(x[5550])[0]"
   ]
  },
  {
   "cell_type": "code",
   "execution_count": null,
   "metadata": {},
   "outputs": [],
   "source": []
  },
  {
   "cell_type": "code",
   "execution_count": null,
   "metadata": {},
   "outputs": [],
   "source": []
  },
  {
   "cell_type": "code",
   "execution_count": null,
   "metadata": {},
   "outputs": [],
   "source": []
  },
  {
   "cell_type": "code",
   "execution_count": 63,
   "metadata": {},
   "outputs": [
    {
     "name": "stdout",
     "output_type": "stream",
     "text": [
      "30000 0 20000 30000 30000\n"
     ]
    }
   ],
   "source": [
    "T1 = 0\n",
    "T2 = 20000\n",
    "lambda_ = alpha*(x[:,4]+s_0)**b\n",
    "print(len(x),T1,T2,len(t),len(lambda_))\n"
   ]
  },
  {
   "cell_type": "code",
   "execution_count": 9,
   "metadata": {
    "scrolled": false
   },
   "outputs": [
    {
     "name": "stdout",
     "output_type": "stream",
     "text": [
      "0\n"
     ]
    },
    {
     "ename": "NameError",
     "evalue": "name 'list_values' is not defined",
     "output_type": "error",
     "traceback": [
      "\u001b[0;31m---------------------------------------------------------------------------\u001b[0m",
      "\u001b[0;31mNameError\u001b[0m                                 Traceback (most recent call last)",
      "\u001b[0;32m<ipython-input-9-71aa62f00ef6>\u001b[0m in \u001b[0;36m<module>\u001b[0;34m\u001b[0m\n\u001b[1;32m     11\u001b[0m     \u001b[0max1\u001b[0m\u001b[0;34m.\u001b[0m\u001b[0mplot\u001b[0m\u001b[0;34m(\u001b[0m\u001b[0mt\u001b[0m\u001b[0;34m[\u001b[0m\u001b[0mT1\u001b[0m\u001b[0;34m:\u001b[0m\u001b[0mT2\u001b[0m\u001b[0;34m]\u001b[0m\u001b[0;34m,\u001b[0m\u001b[0mlambda_\u001b[0m\u001b[0;34m[\u001b[0m\u001b[0mT1\u001b[0m\u001b[0;34m:\u001b[0m\u001b[0mT2\u001b[0m\u001b[0;34m]\u001b[0m\u001b[0;34m,\u001b[0m \u001b[0;34m'g-'\u001b[0m\u001b[0;34m,\u001b[0m\u001b[0mlabel\u001b[0m \u001b[0;34m=\u001b[0m\u001b[0;34m's'\u001b[0m\u001b[0;34m,\u001b[0m\u001b[0mmarkersize\u001b[0m\u001b[0;34m=\u001b[0m\u001b[0;36m0.1\u001b[0m\u001b[0;34m)\u001b[0m\u001b[0;34m\u001b[0m\u001b[0;34m\u001b[0m\u001b[0m\n\u001b[1;32m     12\u001b[0m \u001b[0;34m\u001b[0m\u001b[0m\n\u001b[0;32m---> 13\u001b[0;31m     \u001b[0max2\u001b[0m\u001b[0;34m.\u001b[0m\u001b[0mplot\u001b[0m\u001b[0;34m(\u001b[0m\u001b[0mt\u001b[0m\u001b[0;34m[\u001b[0m\u001b[0mT1\u001b[0m\u001b[0;34m:\u001b[0m\u001b[0mT2\u001b[0m\u001b[0;34m]\u001b[0m\u001b[0;34m,\u001b[0m\u001b[0mlist_values\u001b[0m\u001b[0;34m[\u001b[0m\u001b[0;34m:\u001b[0m\u001b[0;34m,\u001b[0m\u001b[0mi\u001b[0m\u001b[0;34m]\u001b[0m\u001b[0;34m[\u001b[0m\u001b[0mT1\u001b[0m\u001b[0;34m:\u001b[0m\u001b[0mT2\u001b[0m\u001b[0;34m]\u001b[0m\u001b[0;34m.\u001b[0m\u001b[0mreal\u001b[0m\u001b[0;34m,\u001b[0m\u001b[0;34m'+--'\u001b[0m\u001b[0;34m,\u001b[0m\u001b[0mmarkersize\u001b[0m\u001b[0;34m=\u001b[0m\u001b[0;36m1\u001b[0m\u001b[0;34m,\u001b[0m\u001b[0malpha\u001b[0m\u001b[0;34m=\u001b[0m\u001b[0;36m0.5\u001b[0m\u001b[0;34m)\u001b[0m\u001b[0;34m\u001b[0m\u001b[0;34m\u001b[0m\u001b[0m\n\u001b[0m\u001b[1;32m     14\u001b[0m     \u001b[0;31m#ax2.plot(tt[T1:T2],0+0*list_values[:,i][T1:T2].real,'k--',alpha=0.5)\u001b[0m\u001b[0;34m\u001b[0m\u001b[0;34m\u001b[0m\u001b[0;34m\u001b[0m\u001b[0m\n\u001b[1;32m     15\u001b[0m     \u001b[0;31m#ax2.plot(t[T1:T2],-1+0*list_values[:,i][T1:T2].real,'k--',alpha=0.5)\u001b[0m\u001b[0;34m\u001b[0m\u001b[0;34m\u001b[0m\u001b[0;34m\u001b[0m\u001b[0m\n",
      "\u001b[0;31mNameError\u001b[0m: name 'list_values' is not defined"
     ]
    }
   ],
   "source": [
    "fig = plt.figure(figsize=(8,8))\n",
    "\n",
    "\n",
    "for i in range(5):\n",
    "    print(i)\n",
    "    fig.subplots_adjust(wspace = 0.5, hspace = 0.3)\n",
    "    ax1 = fig.add_subplot(3,1,1)\n",
    "    ax2 = fig.add_subplot(3,1,2)\n",
    "    ax3 = fig.add_subplot(3,1,3)\n",
    "    \n",
    "    ax1.plot(t[T1:T2],lambda_[T1:T2], 'g-',label ='s',markersize=0.1)\n",
    "        \n",
    "    ax2.plot(t[T1:T2],list_values[:,i][T1:T2].real,'+--',markersize=1,alpha=0.5)\n",
    "    #ax2.plot(tt[T1:T2],0+0*list_values[:,i][T1:T2].real,'k--',alpha=0.5)\n",
    "    #ax2.plot(t[T1:T2],-1+0*list_values[:,i][T1:T2].real,'k--',alpha=0.5)\n",
    "    #ax2.plot(t[T1:T2],np.absolute(list_values[:,i][T1:T2]),'-',alpha=0.5)\n",
    "    \n",
    "    ax3.plot(t[T1:T2],list_values[:,i][T1:T2].imag,'.',markersize=0.5)\n",
    "\n",
    "ax1.set_ylabel('$\\lambda$')        \n",
    "ax2.set_ylabel('$Re(\\lambda_i)$')        \n",
    "ax3.set_ylabel('$Imag(\\lambda_i)$')         \n",
    "ax3.set_xlabel('$t$')     \n",
    "\n",
    "plt.show()"
   ]
  },
  {
   "cell_type": "code",
   "execution_count": 14,
   "metadata": {},
   "outputs": [
    {
     "data": {
      "text/plain": [
       "30000"
      ]
     },
     "execution_count": 14,
     "metadata": {},
     "output_type": "execute_result"
    }
   ],
   "source": [
    "len(x)"
   ]
  },
  {
   "cell_type": "code",
   "execution_count": 15,
   "metadata": {
    "scrolled": true
   },
   "outputs": [
    {
     "name": "stdout",
     "output_type": "stream",
     "text": [
      "(-11.105960400037466+11.98555558844652j) \n",
      " [-7.88765710e-05-8.50625395e-05j -6.96186134e-01+1.14389987e-01j\n",
      " -7.07545208e-01+0.00000000e+00j -1.26562519e-02+3.81003335e-02j\n",
      " -2.78320003e-03-2.04560521e-05j]\n",
      "(-11.105960400037466-11.98555558844652j) \n",
      " [-7.88765710e-05+8.50625395e-05j -6.96186134e-01-1.14389987e-01j\n",
      " -7.07545208e-01-0.00000000e+00j -1.26562519e-02-3.81003335e-02j\n",
      " -2.78320003e-03+2.04560521e-05j]\n",
      "(1.6747941916300277+0j) \n",
      " [ 0.00118529+0.j  0.67539118+0.j -0.73721697+0.j -0.01870966+0.j\n",
      " -0.00253645+0.j]\n",
      "(-0.011201969154594836+0j) \n",
      " [ 0.05528734+0.j -0.91655178+0.j  0.39561769+0.j  0.01888229+0.j\n",
      "  0.00250141+0.j]\n",
      "(0.4485088514210197+0j) \n",
      " [ 6.04282043e-03+0.j  1.14977672e-01+0.j -9.93346509e-01+0.j\n",
      " -2.48600754e-03+0.j -3.90299383e-04+0.j]\n"
     ]
    }
   ],
   "source": [
    "w,v = eigenvalue(x[int(14000)])\n",
    "for i in range(len(w)):\n",
    "    print(w[i],'\\n',v[:,i])"
   ]
  },
  {
   "cell_type": "code",
   "execution_count": 16,
   "metadata": {
    "scrolled": false
   },
   "outputs": [
    {
     "name": "stdout",
     "output_type": "stream",
     "text": [
      "(-10.63560528550816+9.713925213913676j) \n",
      " [1.06089429e-04+9.67861403e-05j 6.80706159e-01-7.71221026e-02j\n",
      " 7.27944945e-01+0.00000000e+00j 1.41891713e-02-2.41896336e-02j\n",
      " 9.86437545e-04+2.62646470e-06j]\n",
      "(-10.63560528550816-9.713925213913676j) \n",
      " [1.06089429e-04-9.67861403e-05j 6.80706159e-01+7.71221026e-02j\n",
      " 7.27944945e-01-0.00000000e+00j 1.41891713e-02+2.41896336e-02j\n",
      " 9.86437545e-04-2.62646470e-06j]\n",
      "(0.8854889394359972+0j) \n",
      " [ 0.00268883+0.j  0.5636217 +0.j -0.82598877+0.j -0.00805383+0.j\n",
      " -0.0010144 +0.j]\n",
      "(-0.03147441310082165+0j) \n",
      " [ 0.04407726+0.j -0.73680963+0.j  0.67461036+0.j  0.00827107+0.j\n",
      "  0.00110566+0.j]\n",
      "(0.3106665542067581+0j) \n",
      " [ 9.47311086e-03+0.j  1.00132812e-01+0.j -9.94928286e-01+0.j\n",
      " -1.16262508e-03+0.j -1.83683495e-04+0.j]\n"
     ]
    }
   ],
   "source": [
    "\n",
    "w,v = eigenvalue(x[int(8470)])\n",
    "for i in range(len(w)):\n",
    "    print(w[i],'\\n',v[:,i])"
   ]
  },
  {
   "cell_type": "code",
   "execution_count": 17,
   "metadata": {},
   "outputs": [
    {
     "name": "stdout",
     "output_type": "stream",
     "text": [
      "(204452.25041138718+0j) \n",
      " [ 1.02204046e-12+0.j -9.87323560e-05+0.j -1.09409617e-04+0.j\n",
      " -1.87275433e-05+0.j -9.99999989e-01+0.j]\n",
      "(-1.1085592328343823+0j) \n",
      " [ 0.00126559+0.j -0.68332955+0.j  0.72984894+0.j -0.01589982+0.j\n",
      "  0.01126263+0.j]\n",
      "(1.4752754376297113+0j) \n",
      " [-0.00094678+0.j -0.67793241+0.j  0.73488896+0.j -0.01597839+0.j\n",
      "  0.0094693 +0.j]\n",
      "(-22.911334526950462+51.07513631936653j) \n",
      " [-1.03845421e-05-2.31569991e-05j -6.66639543e-01+9.13617140e-03j\n",
      " -7.43817100e-01+0.00000000e+00j -8.88572229e-03-3.19649293e-03j\n",
      " -2.74662975e-02+3.74272652e-02j]\n",
      "(-22.911334526950462-51.07513631936653j) \n",
      " [-1.03845421e-05+2.31569991e-05j -6.66639543e-01-9.13617140e-03j\n",
      " -7.43817100e-01-0.00000000e+00j -8.88572229e-03+3.19649293e-03j\n",
      " -2.74662975e-02-3.74272652e-02j]\n"
     ]
    }
   ],
   "source": [
    "\n",
    "w,v = eigenvalue(x[int(8000)])\n",
    "for i in range(len(w)):\n",
    "    print(w[i],'\\n',v[:,i])"
   ]
  },
  {
   "cell_type": "code",
   "execution_count": 247,
   "metadata": {},
   "outputs": [
    {
     "name": "stdout",
     "output_type": "stream",
     "text": [
      "5528.925619834711 1044.4897959183675\n"
     ]
    }
   ],
   "source": [
    "print(669/0.121 ,-255.9/-0.245 )"
   ]
  },
  {
   "cell_type": "markdown",
   "metadata": {},
   "source": [
    "## Jacobian 4x4 without W"
   ]
  },
  {
   "cell_type": "code",
   "execution_count": 86,
   "metadata": {},
   "outputs": [],
   "source": [
    "def eigenvalue(value):\n",
    "\n",
    "    #parameter\n",
    "    theta,eta,s0,alpha,bb,mu,rho,w,tv = [10,10,0,0.075,-0.5,25,0.1,0.5,0.1]\n",
    "\n",
    "    #value\n",
    "    W,L,p,n,s = value\n",
    "    \n",
    "    Mat = np.zeros((4,4))\n",
    "    A = n*p / w\n",
    "    lambda_ = alpha*(s+s0)**bb\n",
    "    \n",
    "\n",
    "    Mat[0,0] = -theta*lambda_\n",
    "    Mat[0,1] = theta*(lambda_-1)*n/w\n",
    "    Mat[0,2] = theta*(lambda_-1)*p/w\n",
    "    Mat[0,3] = theta*(A-L)\n",
    "\n",
    "    dot_L = theta*(lambda_*(A-L)-A)\n",
    "    dot_p = ((1-n)*rho*(mu-p)*eta*(w-W)*(E-A+L)+w*dot_L) / (1-n*w-(1-n)*W)\n",
    "\n",
    "    df3dW = 0\n",
    "    df3dl = ( w*Mat[0,0] ) / (1-w*n-(1-n)*W)\n",
    "    df3dp =  ( w*Mat[0,1] ) / (1-w*n-(1-n)*W)\n",
    "    df3dn =  ( w*Mat[0,2] ) / (1-w*n-(1-n)*W) \n",
    "    df3dlambda = w*(theta*(A-L)) / (1-w*n-(1-n)*W)\n",
    "\n",
    "    Mat[1,0] = df3dl\n",
    "    Mat[1,1] = df3dp\n",
    "    Mat[1,2] = df3dn\n",
    "    Mat[1,3] = df3dlambda\n",
    "\n",
    "    \n",
    "    df4dl = w/p*(eta+Mat[0,0])\n",
    "    df4dp = -w/p**2*(eta*(E-A+L)+theta*(lambda_*(A-L)-A)) + w/p * (eta*(-n/w)+Mat[0,1])\n",
    "    df4dn = w/p*(-eta*p/w+Mat[0,2])\n",
    "    df4dlambda = w/(n*p)*theta*(A-L)\n",
    "\n",
    "    Mat[2,0] = -(1-w)*n/p * df3dl + df4dl\n",
    "    Mat[2,1] = -(1-w)*n * (df3dp/p-dot_p/p**2) + df4dp\n",
    "    Mat[2,2] = -(1-w)/p *(dot_p + n*df3dn) + df4dn\n",
    "    Mat[2,3] = -(1-w)*n/p * df3dlambda + df4dlambda\n",
    "\n",
    "\n",
    "    a0 = ((1-n)*rho*(mu-p)*eta*(w-W)*(E-A+L)+w*theta*(-A)) / (p*(1-n*w-(1-n)*W))\n",
    "    a1 = w*theta*(A-L) / (p*(1-n*w-(1-n)*W))\n",
    "\n",
    "    Mat[3,0] = delta / (2*alpha**2) * tv**2 *lambda_**2*2*dot_p/p * df3dl /p\n",
    "    Mat[3,1] = delta / (2*alpha**2) * tv**2 *lambda_**2*2*dot_p/p * (df3dp /p - dot_p/p**2)\n",
    "    Mat[3,2] = delta / (2*alpha**2) * tv**2 *lambda_**2*2*dot_p/p * (df3dn /p)\n",
    "    Mat[3,3] = delta / (2*alpha**2) * (alpha**2 - 3*s0*lambda_**2 + tv**2*lambda_**2*(3*a0**2+2*4*a0*a1*lambda_+5*a1**2*lambda_**2))\n",
    "\n",
    "    eigva, v = LA.eig(Mat)\n",
    "    return(eigva,v,Mat)"
   ]
  },
  {
   "cell_type": "code",
   "execution_count": 73,
   "metadata": {},
   "outputs": [],
   "source": [
    "list_values = np.array([eigenvalue(value)[0] for value in x])"
   ]
  },
  {
   "cell_type": "code",
   "execution_count": 75,
   "metadata": {},
   "outputs": [
    {
     "name": "stdout",
     "output_type": "stream",
     "text": [
      "0\n",
      "1\n",
      "2\n",
      "3\n",
      "4\n"
     ]
    },
    {
     "name": "stderr",
     "output_type": "stream",
     "text": [
      "C:\\Users\\kk\\Anaconda3\\lib\\site-packages\\ipykernel_launcher.py:7: MatplotlibDeprecationWarning: Adding an axes using the same arguments as a previous axes currently reuses the earlier instance.  In a future version, a new instance will always be created and returned.  Meanwhile, this warning can be suppressed, and the future behavior ensured, by passing a unique label to each axes instance.\n",
      "  import sys\n",
      "C:\\Users\\kk\\Anaconda3\\lib\\site-packages\\ipykernel_launcher.py:8: MatplotlibDeprecationWarning: Adding an axes using the same arguments as a previous axes currently reuses the earlier instance.  In a future version, a new instance will always be created and returned.  Meanwhile, this warning can be suppressed, and the future behavior ensured, by passing a unique label to each axes instance.\n",
      "  \n",
      "C:\\Users\\kk\\Anaconda3\\lib\\site-packages\\ipykernel_launcher.py:9: MatplotlibDeprecationWarning: Adding an axes using the same arguments as a previous axes currently reuses the earlier instance.  In a future version, a new instance will always be created and returned.  Meanwhile, this warning can be suppressed, and the future behavior ensured, by passing a unique label to each axes instance.\n",
      "  if __name__ == '__main__':\n",
      "C:\\Users\\kk\\Anaconda3\\lib\\site-packages\\ipykernel_launcher.py:7: MatplotlibDeprecationWarning: Adding an axes using the same arguments as a previous axes currently reuses the earlier instance.  In a future version, a new instance will always be created and returned.  Meanwhile, this warning can be suppressed, and the future behavior ensured, by passing a unique label to each axes instance.\n",
      "  import sys\n",
      "C:\\Users\\kk\\Anaconda3\\lib\\site-packages\\ipykernel_launcher.py:8: MatplotlibDeprecationWarning: Adding an axes using the same arguments as a previous axes currently reuses the earlier instance.  In a future version, a new instance will always be created and returned.  Meanwhile, this warning can be suppressed, and the future behavior ensured, by passing a unique label to each axes instance.\n",
      "  \n",
      "C:\\Users\\kk\\Anaconda3\\lib\\site-packages\\ipykernel_launcher.py:9: MatplotlibDeprecationWarning: Adding an axes using the same arguments as a previous axes currently reuses the earlier instance.  In a future version, a new instance will always be created and returned.  Meanwhile, this warning can be suppressed, and the future behavior ensured, by passing a unique label to each axes instance.\n",
      "  if __name__ == '__main__':\n",
      "C:\\Users\\kk\\Anaconda3\\lib\\site-packages\\ipykernel_launcher.py:7: MatplotlibDeprecationWarning: Adding an axes using the same arguments as a previous axes currently reuses the earlier instance.  In a future version, a new instance will always be created and returned.  Meanwhile, this warning can be suppressed, and the future behavior ensured, by passing a unique label to each axes instance.\n",
      "  import sys\n",
      "C:\\Users\\kk\\Anaconda3\\lib\\site-packages\\ipykernel_launcher.py:8: MatplotlibDeprecationWarning: Adding an axes using the same arguments as a previous axes currently reuses the earlier instance.  In a future version, a new instance will always be created and returned.  Meanwhile, this warning can be suppressed, and the future behavior ensured, by passing a unique label to each axes instance.\n",
      "  \n",
      "C:\\Users\\kk\\Anaconda3\\lib\\site-packages\\ipykernel_launcher.py:9: MatplotlibDeprecationWarning: Adding an axes using the same arguments as a previous axes currently reuses the earlier instance.  In a future version, a new instance will always be created and returned.  Meanwhile, this warning can be suppressed, and the future behavior ensured, by passing a unique label to each axes instance.\n",
      "  if __name__ == '__main__':\n",
      "C:\\Users\\kk\\Anaconda3\\lib\\site-packages\\ipykernel_launcher.py:7: MatplotlibDeprecationWarning: Adding an axes using the same arguments as a previous axes currently reuses the earlier instance.  In a future version, a new instance will always be created and returned.  Meanwhile, this warning can be suppressed, and the future behavior ensured, by passing a unique label to each axes instance.\n",
      "  import sys\n",
      "C:\\Users\\kk\\Anaconda3\\lib\\site-packages\\ipykernel_launcher.py:8: MatplotlibDeprecationWarning: Adding an axes using the same arguments as a previous axes currently reuses the earlier instance.  In a future version, a new instance will always be created and returned.  Meanwhile, this warning can be suppressed, and the future behavior ensured, by passing a unique label to each axes instance.\n",
      "  \n",
      "C:\\Users\\kk\\Anaconda3\\lib\\site-packages\\ipykernel_launcher.py:9: MatplotlibDeprecationWarning: Adding an axes using the same arguments as a previous axes currently reuses the earlier instance.  In a future version, a new instance will always be created and returned.  Meanwhile, this warning can be suppressed, and the future behavior ensured, by passing a unique label to each axes instance.\n",
      "  if __name__ == '__main__':\n"
     ]
    },
    {
     "ename": "IndexError",
     "evalue": "index 4 is out of bounds for axis 1 with size 4",
     "output_type": "error",
     "traceback": [
      "\u001b[1;31m---------------------------------------------------------------------------\u001b[0m",
      "\u001b[1;31mIndexError\u001b[0m                                Traceback (most recent call last)",
      "\u001b[1;32m<ipython-input-75-ab20d2446885>\u001b[0m in \u001b[0;36m<module>\u001b[1;34m\u001b[0m\n\u001b[0;32m     11\u001b[0m     \u001b[0max1\u001b[0m\u001b[1;33m.\u001b[0m\u001b[0mplot\u001b[0m\u001b[1;33m(\u001b[0m\u001b[0mt\u001b[0m\u001b[1;33m[\u001b[0m\u001b[0mT1\u001b[0m\u001b[1;33m:\u001b[0m\u001b[0mT2\u001b[0m\u001b[1;33m]\u001b[0m\u001b[1;33m,\u001b[0m\u001b[0mlambda_\u001b[0m\u001b[1;33m[\u001b[0m\u001b[0mT1\u001b[0m\u001b[1;33m:\u001b[0m\u001b[0mT2\u001b[0m\u001b[1;33m]\u001b[0m\u001b[1;33m,\u001b[0m \u001b[1;34m'g-'\u001b[0m\u001b[1;33m,\u001b[0m\u001b[0mlabel\u001b[0m \u001b[1;33m=\u001b[0m\u001b[1;34m's'\u001b[0m\u001b[1;33m,\u001b[0m\u001b[0mmarkersize\u001b[0m\u001b[1;33m=\u001b[0m\u001b[1;36m0.2\u001b[0m\u001b[1;33m)\u001b[0m\u001b[1;33m\u001b[0m\u001b[1;33m\u001b[0m\u001b[0m\n\u001b[0;32m     12\u001b[0m \u001b[1;33m\u001b[0m\u001b[0m\n\u001b[1;32m---> 13\u001b[1;33m     \u001b[0max2\u001b[0m\u001b[1;33m.\u001b[0m\u001b[0mplot\u001b[0m\u001b[1;33m(\u001b[0m\u001b[0mt\u001b[0m\u001b[1;33m[\u001b[0m\u001b[0mT1\u001b[0m\u001b[1;33m:\u001b[0m\u001b[0mT2\u001b[0m\u001b[1;33m]\u001b[0m\u001b[1;33m,\u001b[0m\u001b[0mdt\u001b[0m\u001b[1;33m*\u001b[0m\u001b[0mlist_values\u001b[0m\u001b[1;33m[\u001b[0m\u001b[1;33m:\u001b[0m\u001b[1;33m,\u001b[0m\u001b[0mi\u001b[0m\u001b[1;33m]\u001b[0m\u001b[1;33m[\u001b[0m\u001b[0mT1\u001b[0m\u001b[1;33m:\u001b[0m\u001b[0mT2\u001b[0m\u001b[1;33m]\u001b[0m\u001b[1;33m.\u001b[0m\u001b[0mreal\u001b[0m\u001b[1;33m,\u001b[0m\u001b[1;34m'b.'\u001b[0m\u001b[1;33m,\u001b[0m\u001b[0mmarkersize\u001b[0m\u001b[1;33m=\u001b[0m\u001b[1;36m0.4\u001b[0m\u001b[1;33m,\u001b[0m\u001b[0malpha\u001b[0m\u001b[1;33m=\u001b[0m\u001b[1;36m0.5\u001b[0m\u001b[1;33m)\u001b[0m\u001b[1;33m\u001b[0m\u001b[1;33m\u001b[0m\u001b[0m\n\u001b[0m\u001b[0;32m     14\u001b[0m     \u001b[0max2\u001b[0m\u001b[1;33m.\u001b[0m\u001b[0mplot\u001b[0m\u001b[1;33m(\u001b[0m\u001b[0mt\u001b[0m\u001b[1;33m[\u001b[0m\u001b[0mT1\u001b[0m\u001b[1;33m:\u001b[0m\u001b[0mT2\u001b[0m\u001b[1;33m]\u001b[0m\u001b[1;33m,\u001b[0m\u001b[1;36m0\u001b[0m\u001b[1;33m+\u001b[0m\u001b[1;36m0\u001b[0m\u001b[1;33m*\u001b[0m\u001b[0mlist_values\u001b[0m\u001b[1;33m[\u001b[0m\u001b[1;33m:\u001b[0m\u001b[1;33m,\u001b[0m\u001b[0mi\u001b[0m\u001b[1;33m]\u001b[0m\u001b[1;33m[\u001b[0m\u001b[0mT1\u001b[0m\u001b[1;33m:\u001b[0m\u001b[0mT2\u001b[0m\u001b[1;33m]\u001b[0m\u001b[1;33m.\u001b[0m\u001b[0mreal\u001b[0m\u001b[1;33m,\u001b[0m\u001b[1;34m'k--'\u001b[0m\u001b[1;33m,\u001b[0m\u001b[0malpha\u001b[0m\u001b[1;33m=\u001b[0m\u001b[1;36m0.5\u001b[0m\u001b[1;33m)\u001b[0m\u001b[1;33m\u001b[0m\u001b[1;33m\u001b[0m\u001b[0m\n\u001b[0;32m     15\u001b[0m     \u001b[1;31m#ax2.plot(t[T1:T2],-1+0*list_values[:,i][T1:T2].real,'k--',alpha=0.5)\u001b[0m\u001b[1;33m\u001b[0m\u001b[1;33m\u001b[0m\u001b[1;33m\u001b[0m\u001b[0m\n",
      "\u001b[1;31mIndexError\u001b[0m: index 4 is out of bounds for axis 1 with size 4"
     ]
    }
   ],
   "source": [
    "fig = plt.figure(figsize=(8,8))\n",
    "\n",
    "\n",
    "for i in range(5):\n",
    "    print(i)\n",
    "    fig.subplots_adjust(wspace = 0.5, hspace = 0.3)\n",
    "    ax1 = fig.add_subplot(3,1,1)\n",
    "    ax2 = fig.add_subplot(3,1,2)\n",
    "    ax3 = fig.add_subplot(3,1,3)\n",
    "    \n",
    "    ax1.plot(t[T1:T2],lambda_[T1:T2], 'g-',label ='s',markersize=0.2)\n",
    "        \n",
    "    ax2.plot(t[T1:T2],dt*list_values[:,i][T1:T2].real,'b.',markersize=0.4,alpha=0.5)\n",
    "    ax2.plot(t[T1:T2],0+0*list_values[:,i][T1:T2].real,'k--',alpha=0.5)\n",
    "    #ax2.plot(t[T1:T2],-1+0*list_values[:,i][T1:T2].real,'k--',alpha=0.5)\n",
    "    #ax2.plot(t[T1:T2],np.absolute(list_values[:,i][T1:T2]),'-',alpha=0.5)\n",
    "    \n",
    "    ax3.plot(t[T1:T2],0*list_values[:,i][T1:T2].real,'k--',alpha=0.5)\n",
    "    ax3.plot(t[T1:T2],dt*list_values[:,i][T1:T2].imag,'b.',markersize=0.4)\n",
    "\n",
    "         \n",
    "         \n",
    "plt.show()"
   ]
  },
  {
   "cell_type": "code",
   "execution_count": 152,
   "metadata": {
    "scrolled": true
   },
   "outputs": [
    {
     "data": {
      "text/plain": [
       "(array([-243.62709139,  -66.41088948,   -0.24614738,   -0.94931509,\n",
       "          -2.44546076]),\n",
       " array([[ 4.53878704e-07,  1.72212858e-05, -5.05837076e-03,\n",
       "         -1.37005536e-03, -5.84391751e-04],\n",
       "        [ 3.62810441e-02,  2.60539655e-01,  8.59330920e-01,\n",
       "          8.33303161e-01, -7.91333535e-01],\n",
       "        [ 4.75118968e-02,  4.91347250e-01, -5.10649350e-01,\n",
       "         -5.52264762e-01, -6.11260945e-01],\n",
       "        [ 4.85395502e-03, -1.24173118e-02,  2.31350011e-02,\n",
       "          2.27590569e-02, -1.08526390e-02],\n",
       "        [-9.98199752e-01,  8.30989036e-01,  1.50597318e-02,\n",
       "          9.46695867e-03, -5.75963251e-03]]))"
      ]
     },
     "execution_count": 152,
     "metadata": {},
     "output_type": "execute_result"
    }
   ],
   "source": [
    "eigenvalue(x[int(10000)])"
   ]
  },
  {
   "cell_type": "code",
   "execution_count": 238,
   "metadata": {},
   "outputs": [
    {
     "ename": "ValueError",
     "evalue": "not enough values to unpack (expected 3, got 2)",
     "output_type": "error",
     "traceback": [
      "\u001b[1;31m---------------------------------------------------------------------------\u001b[0m",
      "\u001b[1;31mValueError\u001b[0m                                Traceback (most recent call last)",
      "\u001b[1;32m<ipython-input-238-95c77cb3baf7>\u001b[0m in \u001b[0;36m<module>\u001b[1;34m\u001b[0m\n\u001b[1;32m----> 1\u001b[1;33m \u001b[0mw\u001b[0m\u001b[1;33m,\u001b[0m\u001b[0mv\u001b[0m\u001b[1;33m,\u001b[0m\u001b[0mMat\u001b[0m\u001b[1;33m=\u001b[0m\u001b[0meigenvalue\u001b[0m\u001b[1;33m(\u001b[0m\u001b[0mx\u001b[0m\u001b[1;33m[\u001b[0m\u001b[0mint\u001b[0m\u001b[1;33m(\u001b[0m\u001b[1;36m8460\u001b[0m\u001b[1;33m)\u001b[0m\u001b[1;33m]\u001b[0m\u001b[1;33m)\u001b[0m\u001b[1;33m\u001b[0m\u001b[1;33m\u001b[0m\u001b[0m\n\u001b[0m\u001b[0;32m      2\u001b[0m \u001b[0mprint\u001b[0m\u001b[1;33m(\u001b[0m\u001b[0mw\u001b[0m\u001b[1;33m,\u001b[0m\u001b[1;34m'\\n'\u001b[0m\u001b[1;33m,\u001b[0m\u001b[0mv\u001b[0m\u001b[1;33m)\u001b[0m\u001b[1;33m\u001b[0m\u001b[1;33m\u001b[0m\u001b[0m\n",
      "\u001b[1;31mValueError\u001b[0m: not enough values to unpack (expected 3, got 2)"
     ]
    }
   ],
   "source": [
    "w,v,Mat=eigenvalue(x[int(8460)])\n",
    "print(w,'\\n',v)"
   ]
  },
  {
   "cell_type": "code",
   "execution_count": 88,
   "metadata": {},
   "outputs": [
    {
     "data": {
      "text/plain": [
       "array([ 0.03209412,  0.03209412,  0.01069415, -0.99891219])"
      ]
     },
     "execution_count": 88,
     "metadata": {},
     "output_type": "execute_result"
    }
   ],
   "source": [
    "v[:,0]"
   ]
  },
  {
   "cell_type": "code",
   "execution_count": 89,
   "metadata": {
    "scrolled": true
   },
   "outputs": [
    {
     "data": {
      "text/plain": [
       "array([[-4.92629410e+01,  2.50493848e+01,  1.61377524e+03,\n",
       "         2.00951974e+01],\n",
       "       [-4.92629410e+01,  2.50493848e+01,  1.61377524e+03,\n",
       "         2.00951974e+01],\n",
       "       [-5.72926967e-01,  2.85821932e-01,  1.75196695e+01,\n",
       "         1.37670593e+00],\n",
       "       [ 1.61630472e+02, -8.73140469e+01, -5.29475604e+03,\n",
       "        -1.66233292e+02]])"
      ]
     },
     "execution_count": 89,
     "metadata": {},
     "output_type": "execute_result"
    }
   ],
   "source": [
    "Mat"
   ]
  },
  {
   "cell_type": "code",
   "execution_count": 94,
   "metadata": {},
   "outputs": [
    {
     "data": {
      "text/plain": [
       "array([-111.93645121, -111.93645121, -111.93645121, -111.93645121])"
      ]
     },
     "execution_count": 94,
     "metadata": {},
     "output_type": "execute_result"
    }
   ],
   "source": [
    "np.dot(Mat,v[:,0])/v[:,0]"
   ]
  },
  {
   "cell_type": "code",
   "execution_count": 95,
   "metadata": {},
   "outputs": [
    {
     "data": {
      "text/plain": [
       "array([ 0.03209412,  0.03209412,  0.01069415, -0.99891219])"
      ]
     },
     "execution_count": 95,
     "metadata": {},
     "output_type": "execute_result"
    }
   ],
   "source": [
    "v[:,0]"
   ]
  },
  {
   "cell_type": "markdown",
   "metadata": {},
   "source": [
    "### Jacobian fast"
   ]
  },
  {
   "cell_type": "code",
   "execution_count": 81,
   "metadata": {},
   "outputs": [
    {
     "data": {
      "text/plain": [
       "array([[ 0.03209412,  0.20976333,  0.76472271,  0.7070281 ],\n",
       "       [ 0.03209412,  0.20976333, -0.64267921,  0.7070281 ],\n",
       "       [ 0.01069415, -0.01640427,  0.03291101,  0.00956888],\n",
       "       [-0.99891219,  0.95484532,  0.03285526,  0.01144395]])"
      ]
     },
     "execution_count": 81,
     "metadata": {},
     "output_type": "execute_result"
    }
   ],
   "source": []
  },
  {
   "cell_type": "code",
   "execution_count": 44,
   "metadata": {},
   "outputs": [],
   "source": [
    "def eigenvalue_fast(value):\n",
    "\n",
    "    #parameter\n",
    "    theta,eta,s0,alpha,bb,mu,rho,w,tv = [10,10,0,0.075,-0.5,25,0.1,0.5,0.1]\n",
    "\n",
    "    #value\n",
    "    W,L,p,n,s = value\n",
    "    \n",
    "    Mat = np.zeros((3,3))\n",
    "    A = n*p / w\n",
    "    lambda_ = alpha*(s+s0)**bb\n",
    "    \n",
    "#     Mat[0,0] = rho*(mu/p-1)\n",
    "#     Mat[0,2] = -W*rho*mu/p**2\n",
    "\n",
    "    df2dL = -theta*lambda_\n",
    "    df2dp = theta*(lambda_-1)*n/w\n",
    "    df2dn = theta*(lambda_-1)*p/w\n",
    "    df2dlambda = theta*(A-L)\n",
    "\n",
    "    dot_L = theta*(lambda_*(A-L)-A)\n",
    "    dot_p = ((1-n)*rho*(mu-p)*eta*(w-W)*(E-A+L)+w*dot_L) / (1-n*w-(1-n)*W)\n",
    "\n",
    "    df3dW = -eta*(E-A+L) / (1-w*n-(1-n)*W) + (1-n)*dot_p / (1-n*w-(1-n)*W)\n",
    "    df3dl = ( (w-W)*eta + w*df2dL ) / (1-w*n-(1-n)*W)\n",
    "    df3dp =  ( (1-n)*(-rho)-(w-W)*eta*n/w + w*df2dp ) / (1-w*n-(1-n)*W)\n",
    "    df3dn =  ( -rho*(mu-p)-(w-W)*eta*p/w + w*df2dn ) / (1-w*n-(1-n)*W) - (-w+W)*((1-n)*rho*(mu/p-1)*eta*(E-A+L)+w*dot_L) / (1-w*n-(1-n)*W)**2\n",
    "    df3dlambda = w*(theta*(A-L)) / (1-w*n-(1-n)*W)\n",
    "\n",
    "\n",
    "    \n",
    "    df4dl = w/p*(eta+Mat[1,1])\n",
    "    df4dp = -w/p**2*(eta*(E-A+L)+theta*(lambda_*(A-L)-A)) + w/p * (eta*(-n/w)+df2dp)\n",
    "    df4dn = w/p*(-eta*p/w+df2dn)\n",
    "    df4dlambda = w/(n*p)*theta*(A-L)\n",
    "\n",
    "    Mat[0,0] = -(1-w)/p *(dot_p + n*df3dn) + df4dn\n",
    "    Mat[0,1] = -(1-w)*n/p * df3dlambda + df4dlambda\n",
    "\n",
    "\n",
    "    a0 = ((1-n)*rho*(mu-p)*eta*(w-W)*(E-A+L)+w*theta*(-A)) / (p*(1-n*w-(1-n)*W))\n",
    "    a1 = w*theta*(A-L) / (p*(1-n*w-(1-n)*W))\n",
    "\n",
    "    Mat[1,0] = delta / (2*alpha**2) * tv**2 *lambda_**2*2*dot_p/p * (df3dn /p)\n",
    "    Mat[1,1] = delta / (2*alpha**2) * (alpha**2 - 3*s0*lambda_**2 + tv**2*lambda_**2*(3*a0**2+2*4*a0*a1*lambda_+5*a1**2*lambda_**2))\n",
    "\n",
    "    eigva, v = LA.eig(Mat)\n",
    "    return(eigva,v)"
   ]
  },
  {
   "cell_type": "code",
   "execution_count": 42,
   "metadata": {},
   "outputs": [],
   "source": [
    "list_values = np.array([eigenvalue_fast(value)[0] for value in x])"
   ]
  },
  {
   "cell_type": "code",
   "execution_count": 43,
   "metadata": {
    "scrolled": true
   },
   "outputs": [
    {
     "name": "stdout",
     "output_type": "stream",
     "text": [
      "0\n",
      "1\n",
      "2\n",
      "3\n"
     ]
    },
    {
     "name": "stderr",
     "output_type": "stream",
     "text": [
      "C:\\Users\\kk\\Anaconda3\\lib\\site-packages\\ipykernel_launcher.py:7: MatplotlibDeprecationWarning: Adding an axes using the same arguments as a previous axes currently reuses the earlier instance.  In a future version, a new instance will always be created and returned.  Meanwhile, this warning can be suppressed, and the future behavior ensured, by passing a unique label to each axes instance.\n",
      "  import sys\n",
      "C:\\Users\\kk\\Anaconda3\\lib\\site-packages\\ipykernel_launcher.py:8: MatplotlibDeprecationWarning: Adding an axes using the same arguments as a previous axes currently reuses the earlier instance.  In a future version, a new instance will always be created and returned.  Meanwhile, this warning can be suppressed, and the future behavior ensured, by passing a unique label to each axes instance.\n",
      "  \n",
      "C:\\Users\\kk\\Anaconda3\\lib\\site-packages\\ipykernel_launcher.py:9: MatplotlibDeprecationWarning: Adding an axes using the same arguments as a previous axes currently reuses the earlier instance.  In a future version, a new instance will always be created and returned.  Meanwhile, this warning can be suppressed, and the future behavior ensured, by passing a unique label to each axes instance.\n",
      "  if __name__ == '__main__':\n",
      "C:\\Users\\kk\\Anaconda3\\lib\\site-packages\\ipykernel_launcher.py:7: MatplotlibDeprecationWarning: Adding an axes using the same arguments as a previous axes currently reuses the earlier instance.  In a future version, a new instance will always be created and returned.  Meanwhile, this warning can be suppressed, and the future behavior ensured, by passing a unique label to each axes instance.\n",
      "  import sys\n",
      "C:\\Users\\kk\\Anaconda3\\lib\\site-packages\\ipykernel_launcher.py:8: MatplotlibDeprecationWarning: Adding an axes using the same arguments as a previous axes currently reuses the earlier instance.  In a future version, a new instance will always be created and returned.  Meanwhile, this warning can be suppressed, and the future behavior ensured, by passing a unique label to each axes instance.\n",
      "  \n",
      "C:\\Users\\kk\\Anaconda3\\lib\\site-packages\\ipykernel_launcher.py:9: MatplotlibDeprecationWarning: Adding an axes using the same arguments as a previous axes currently reuses the earlier instance.  In a future version, a new instance will always be created and returned.  Meanwhile, this warning can be suppressed, and the future behavior ensured, by passing a unique label to each axes instance.\n",
      "  if __name__ == '__main__':\n",
      "C:\\Users\\kk\\Anaconda3\\lib\\site-packages\\ipykernel_launcher.py:7: MatplotlibDeprecationWarning: Adding an axes using the same arguments as a previous axes currently reuses the earlier instance.  In a future version, a new instance will always be created and returned.  Meanwhile, this warning can be suppressed, and the future behavior ensured, by passing a unique label to each axes instance.\n",
      "  import sys\n",
      "C:\\Users\\kk\\Anaconda3\\lib\\site-packages\\ipykernel_launcher.py:8: MatplotlibDeprecationWarning: Adding an axes using the same arguments as a previous axes currently reuses the earlier instance.  In a future version, a new instance will always be created and returned.  Meanwhile, this warning can be suppressed, and the future behavior ensured, by passing a unique label to each axes instance.\n",
      "  \n",
      "C:\\Users\\kk\\Anaconda3\\lib\\site-packages\\ipykernel_launcher.py:9: MatplotlibDeprecationWarning: Adding an axes using the same arguments as a previous axes currently reuses the earlier instance.  In a future version, a new instance will always be created and returned.  Meanwhile, this warning can be suppressed, and the future behavior ensured, by passing a unique label to each axes instance.\n",
      "  if __name__ == '__main__':\n"
     ]
    },
    {
     "ename": "IndexError",
     "evalue": "index 3 is out of bounds for axis 1 with size 3",
     "output_type": "error",
     "traceback": [
      "\u001b[1;31m---------------------------------------------------------------------------\u001b[0m",
      "\u001b[1;31mIndexError\u001b[0m                                Traceback (most recent call last)",
      "\u001b[1;32m<ipython-input-43-f35bb59c6eb4>\u001b[0m in \u001b[0;36m<module>\u001b[1;34m\u001b[0m\n\u001b[0;32m     11\u001b[0m     \u001b[0max1\u001b[0m\u001b[1;33m.\u001b[0m\u001b[0mplot\u001b[0m\u001b[1;33m(\u001b[0m\u001b[0mt\u001b[0m\u001b[1;33m[\u001b[0m\u001b[0mT1\u001b[0m\u001b[1;33m:\u001b[0m\u001b[0mT2\u001b[0m\u001b[1;33m]\u001b[0m\u001b[1;33m,\u001b[0m\u001b[0mlambda_\u001b[0m\u001b[1;33m[\u001b[0m\u001b[0mT1\u001b[0m\u001b[1;33m:\u001b[0m\u001b[0mT2\u001b[0m\u001b[1;33m]\u001b[0m\u001b[1;33m,\u001b[0m \u001b[1;34m'g.-'\u001b[0m\u001b[1;33m,\u001b[0m\u001b[0mlabel\u001b[0m \u001b[1;33m=\u001b[0m\u001b[1;34m's'\u001b[0m\u001b[1;33m,\u001b[0m\u001b[0mmarkersize\u001b[0m\u001b[1;33m=\u001b[0m\u001b[1;36m0.1\u001b[0m\u001b[1;33m)\u001b[0m\u001b[1;33m\u001b[0m\u001b[1;33m\u001b[0m\u001b[0m\n\u001b[0;32m     12\u001b[0m \u001b[1;33m\u001b[0m\u001b[0m\n\u001b[1;32m---> 13\u001b[1;33m     \u001b[0max2\u001b[0m\u001b[1;33m.\u001b[0m\u001b[0mplot\u001b[0m\u001b[1;33m(\u001b[0m\u001b[0mt\u001b[0m\u001b[1;33m[\u001b[0m\u001b[0mT1\u001b[0m\u001b[1;33m:\u001b[0m\u001b[0mT2\u001b[0m\u001b[1;33m]\u001b[0m\u001b[1;33m,\u001b[0m\u001b[0mlist_values\u001b[0m\u001b[1;33m[\u001b[0m\u001b[1;33m:\u001b[0m\u001b[1;33m,\u001b[0m\u001b[0mi\u001b[0m\u001b[1;33m]\u001b[0m\u001b[1;33m[\u001b[0m\u001b[0mT1\u001b[0m\u001b[1;33m:\u001b[0m\u001b[0mT2\u001b[0m\u001b[1;33m]\u001b[0m\u001b[1;33m.\u001b[0m\u001b[0mreal\u001b[0m\u001b[1;33m,\u001b[0m\u001b[1;34m'.-'\u001b[0m\u001b[1;33m,\u001b[0m\u001b[0mmarkersize\u001b[0m\u001b[1;33m=\u001b[0m\u001b[1;36m2\u001b[0m\u001b[1;33m,\u001b[0m\u001b[0malpha\u001b[0m\u001b[1;33m=\u001b[0m\u001b[1;36m0.5\u001b[0m\u001b[1;33m)\u001b[0m\u001b[1;33m\u001b[0m\u001b[1;33m\u001b[0m\u001b[0m\n\u001b[0m\u001b[0;32m     14\u001b[0m     \u001b[0max2\u001b[0m\u001b[1;33m.\u001b[0m\u001b[0mplot\u001b[0m\u001b[1;33m(\u001b[0m\u001b[0mt\u001b[0m\u001b[1;33m[\u001b[0m\u001b[0mT1\u001b[0m\u001b[1;33m:\u001b[0m\u001b[0mT2\u001b[0m\u001b[1;33m]\u001b[0m\u001b[1;33m,\u001b[0m\u001b[1;36m0\u001b[0m\u001b[1;33m+\u001b[0m\u001b[1;36m0\u001b[0m\u001b[1;33m*\u001b[0m\u001b[0mlist_values\u001b[0m\u001b[1;33m[\u001b[0m\u001b[1;33m:\u001b[0m\u001b[1;33m,\u001b[0m\u001b[0mi\u001b[0m\u001b[1;33m]\u001b[0m\u001b[1;33m[\u001b[0m\u001b[0mT1\u001b[0m\u001b[1;33m:\u001b[0m\u001b[0mT2\u001b[0m\u001b[1;33m]\u001b[0m\u001b[1;33m.\u001b[0m\u001b[0mreal\u001b[0m\u001b[1;33m,\u001b[0m\u001b[1;34m'k--'\u001b[0m\u001b[1;33m,\u001b[0m\u001b[0malpha\u001b[0m\u001b[1;33m=\u001b[0m\u001b[1;36m0.5\u001b[0m\u001b[1;33m)\u001b[0m\u001b[1;33m\u001b[0m\u001b[1;33m\u001b[0m\u001b[0m\n\u001b[0;32m     15\u001b[0m     \u001b[1;31m#ax2.plot(t[T1:T2],-1+0*list_values[:,i][T1:T2].real,'k--',alpha=0.5)\u001b[0m\u001b[1;33m\u001b[0m\u001b[1;33m\u001b[0m\u001b[1;33m\u001b[0m\u001b[0m\n",
      "\u001b[1;31mIndexError\u001b[0m: index 3 is out of bounds for axis 1 with size 3"
     ]
    }
   ],
   "source": [
    "fig = plt.figure(figsize=(8,8))\n",
    "\n",
    "\n",
    "for i in range(5):\n",
    "    print(i)\n",
    "    fig.subplots_adjust(wspace = 0.5, hspace = 0.3)\n",
    "    ax1 = fig.add_subplot(3,1,1)\n",
    "    ax2 = fig.add_subplot(3,1,2)\n",
    "    ax3 = fig.add_subplot(3,1,3)\n",
    "    \n",
    "    ax1.plot(t[T1:T2],lambda_[T1:T2], 'g.-',label ='s',markersize=0.1)\n",
    "        \n",
    "    ax2.plot(t[T1:T2],list_values[:,i][T1:T2].real,'.-',markersize=2,alpha=0.5)\n",
    "    ax2.plot(t[T1:T2],0+0*list_values[:,i][T1:T2].real,'k--',alpha=0.5)\n",
    "    #ax2.plot(t[T1:T2],-1+0*list_values[:,i][T1:T2].real,'k--',alpha=0.5)\n",
    "    #ax2.plot(t[T1:T2],np.absolute(list_values[:,i][T1:T2]),'-',alpha=0.5)\n",
    "    \n",
    "    ax3.plot(t[T1:T2],0*list_values[:,i][T1:T2].real,'k--',alpha=0.5)\n",
    "    ax3.plot(t[T1:T2],list_values[:,i][T1:T2].imag,'.',markersize=0.7)\n",
    "\n",
    "         \n",
    "         \n",
    "plt.show()"
   ]
  },
  {
   "cell_type": "code",
   "execution_count": null,
   "metadata": {},
   "outputs": [],
   "source": []
  },
  {
   "cell_type": "code",
   "execution_count": null,
   "metadata": {},
   "outputs": [],
   "source": []
  },
  {
   "cell_type": "code",
   "execution_count": null,
   "metadata": {},
   "outputs": [],
   "source": []
  },
  {
   "cell_type": "code",
   "execution_count": null,
   "metadata": {},
   "outputs": [],
   "source": []
  },
  {
   "cell_type": "markdown",
   "metadata": {},
   "source": [
    "## Discrete time (continuos eig)"
   ]
  },
  {
   "cell_type": "code",
   "execution_count": null,
   "metadata": {},
   "outputs": [],
   "source": []
  },
  {
   "cell_type": "code",
   "execution_count": null,
   "metadata": {},
   "outputs": [],
   "source": []
  },
  {
   "cell_type": "code",
   "execution_count": 155,
   "metadata": {},
   "outputs": [],
   "source": [
    "def resort_dis(x):\n",
    "    list_v = np.array([eigenvalue_dis(value)[0] for value in x])\n",
    "    for i in range(len(x)):\n",
    "        order = [0,0,0,0,0]\n",
    "        eig = eigenvalue_dis(x[i])\n",
    "        order[0],order[1] = eig[0].imag.argsort()[0],eig[0].imag.argsort()[-1]\n",
    "        order[2],order[3] = eig[0].real.argsort()[0],eig[0].real.argsort()[1]\n",
    "        order[4] = list(set(([0,1,2,3,4])) - set((order[0:4])))[0]\n",
    "        order = np.array(order)\n",
    "        list_v[i] = eig[0][order]\n",
    "    return(list_v)"
   ]
  },
  {
   "cell_type": "code",
   "execution_count": 157,
   "metadata": {},
   "outputs": [],
   "source": [
    "list_values = resort_dis(x)"
   ]
  },
  {
   "cell_type": "code",
   "execution_count": 161,
   "metadata": {},
   "outputs": [
    {
     "name": "stdout",
     "output_type": "stream",
     "text": [
      "300000 100000 200000\n"
     ]
    }
   ],
   "source": [
    "T1 = 100000\n",
    "T2 = 200000\n",
    "print(len(x),T1,T2)"
   ]
  },
  {
   "cell_type": "code",
   "execution_count": 162,
   "metadata": {},
   "outputs": [
    {
     "name": "stdout",
     "output_type": "stream",
     "text": [
      "0\n",
      "1\n",
      "2\n",
      "3\n",
      "4\n"
     ]
    }
   ],
   "source": [
    "fig = plt.figure(figsize=(8,8))\n",
    "\n",
    "\n",
    "for i in range(5):\n",
    "    print(i)\n",
    "    fig.subplots_adjust(wspace = 0.5, hspace = 0.3)\n",
    "    ax1 = fig.add_subplot(3,1,1)\n",
    "    ax2 = fig.add_subplot(3,1,2)\n",
    "    ax3 = fig.add_subplot(3,1,3)\n",
    "    \n",
    "    ax1.plot(t[T1:T2],lambda_[T1:T2], 'g.-',label ='s',markersize=0.1)\n",
    "        \n",
    "    ax2.plot(t[T1:T2],list_values[:,i][T1:T2].real,'.-',markersize=2,alpha=0.5)\n",
    "    ax2.plot(t[T1:T2],0+0*list_values[:,i][T1:T2].real,'k--',alpha=0.5)\n",
    "    #ax2.plot(t[T1:T2],-1+0*list_values[:,i][T1:T2].real,'k--',alpha=0.5)\n",
    "    #ax2.plot(t[T1:T2],np.absolute(list_values[:,i][T1:T2]),'-',alpha=0.5)\n",
    "    \n",
    "    ax3.plot(t[T1:T2],0*list_values[:,i][T1:T2].real,'k--',alpha=0.5)\n",
    "    ax3.plot(t[T1:T2],list_values[:,i][T1:T2].imag,'.',markersize=0.7)\n",
    "\n",
    "         \n",
    "         \n",
    "plt.show()"
   ]
  },
  {
   "cell_type": "code",
   "execution_count": null,
   "metadata": {},
   "outputs": [],
   "source": []
  },
  {
   "cell_type": "code",
   "execution_count": 163,
   "metadata": {
    "scrolled": true
   },
   "outputs": [
    {
     "data": {
      "text/plain": [
       "(array([-2.36956615e+04,  2.09929709e+02, -4.03598451e-02,  4.31380296e-01,\n",
       "         2.29254710e+00]),\n",
       " array([[ 3.92950545e-12,  3.53833670e-07, -8.26030987e-01,\n",
       "          1.37734064e-04, -4.95009397e-05],\n",
       "        [ 8.37763754e-04, -6.90621663e-01, -4.66545185e-01,\n",
       "         -8.39771897e-01,  2.61230174e-01],\n",
       "        [ 7.78091244e-04, -6.20841851e-01, -3.12174883e-01,\n",
       "         -5.42909059e-01,  9.64999244e-01],\n",
       "        [ 2.60868443e-06, -1.19934391e-03,  1.04744029e-03,\n",
       "          1.37995566e-03, -1.76451984e-02],\n",
       "        [-9.99999346e-01,  3.70938911e-01, -5.05385453e-02,\n",
       "          5.56696479e-03, -1.49632554e-02]]))"
      ]
     },
     "execution_count": 163,
     "metadata": {},
     "output_type": "execute_result"
    }
   ],
   "source": [
    "eigenvalue(x[180000])"
   ]
  },
  {
   "cell_type": "code",
   "execution_count": 66,
   "metadata": {},
   "outputs": [
    {
     "data": {
      "text/plain": [
       "(array([-28.62712303+72.20568869j, -28.62712303-72.20568869j,\n",
       "         -2.72155594 +0.j        ,  -0.61922709 +0.j        ,\n",
       "         -0.34114133 +0.j        ]),\n",
       " array([[-6.72081739e-06-1.69635008e-05j, -6.72081739e-06+1.69635008e-05j,\n",
       "         -7.97815405e-05+0.00000000e+00j, -3.29176641e-03+0.00000000e+00j,\n",
       "         -6.14298383e-03+0.00000000e+00j],\n",
       "        [-2.94709951e-01-4.79705810e-02j, -2.94709951e-01+4.79705810e-02j,\n",
       "         -9.93673602e-01+0.00000000e+00j,  3.61473625e-02+0.00000000e+00j,\n",
       "         -1.76096061e-02+0.00000000e+00j],\n",
       "        [-7.17650265e-01+0.00000000e+00j, -7.17650265e-01-0.00000000e+00j,\n",
       "         -1.09159461e-01+0.00000000e+00j, -9.99328205e-01+0.00000000e+00j,\n",
       "         -9.99820431e-01+0.00000000e+00j],\n",
       "        [-5.41214732e-03-2.19557792e-02j, -5.41214732e-03+2.19557792e-02j,\n",
       "         -2.20953477e-02+0.00000000e+00j,  4.49574163e-03+0.00000000e+00j,\n",
       "          3.17850529e-03+0.00000000e+00j],\n",
       "        [ 6.20066669e-01+1.04062210e-01j,  6.20066669e-01-1.04062210e-01j,\n",
       "         -1.44490080e-02+0.00000000e+00j,  2.33662725e-03+0.00000000e+00j,\n",
       "          1.08109071e-03+0.00000000e+00j]]))"
      ]
     },
     "execution_count": 66,
     "metadata": {},
     "output_type": "execute_result"
    }
   ],
   "source": [
    "eigenvalue(x[3448])"
   ]
  },
  {
   "cell_type": "code",
   "execution_count": 68,
   "metadata": {},
   "outputs": [
    {
     "data": {
      "text/plain": [
       "(array([-11.84167295+0.j        ,  -8.47793586+0.j        ,\n",
       "          3.35413457+2.70068833j,   3.35413457-2.70068833j,\n",
       "         -0.18530296+0.j        ]),\n",
       " array([[-1.46835276e-04+0.j        , -2.19372259e-04+0.j        ,\n",
       "         -3.52570111e-04+0.00028238j, -3.52570111e-04-0.00028238j,\n",
       "         -1.22174649e-02+0.j        ],\n",
       "        [-5.30631145e-01+0.j        , -4.23258223e-01+0.j        ,\n",
       "         -2.68045284e-01-0.13536369j, -2.68045284e-01+0.13536369j,\n",
       "          5.48374388e-02+0.j        ],\n",
       "        [-8.47522965e-01+0.j        , -9.05980578e-01+0.j        ,\n",
       "          9.52644893e-01+0.j        ,  9.52644893e-01-0.j        ,\n",
       "         -9.98404505e-01+0.j        ],\n",
       "        [-7.19439791e-03+0.j        , -1.84392783e-03+0.j        ,\n",
       "         -2.92569211e-04+0.00489346j, -2.92569211e-04-0.00489346j,\n",
       "          3.72998408e-03+0.j        ],\n",
       "        [ 9.14499964e-03+0.j        ,  6.94410740e-03+0.j        ,\n",
       "          2.18845747e-02+0.04234308j,  2.18845747e-02-0.04234308j,\n",
       "          4.25679240e-03+0.j        ]]))"
      ]
     },
     "execution_count": 68,
     "metadata": {},
     "output_type": "execute_result"
    }
   ],
   "source": [
    "eigenvalue(x[3492])"
   ]
  },
  {
   "cell_type": "code",
   "execution_count": 69,
   "metadata": {},
   "outputs": [
    {
     "data": {
      "text/plain": [
       "(array([-26.11891577+69.73550862j, -26.11891577-69.73550862j,\n",
       "         -2.82406922 +0.j        ,  -0.59814644 +0.j        ,\n",
       "         -0.3604201  +0.j        ]),\n",
       " array([[ 7.01604509e-06+1.87462380e-05j,  7.01604509e-06-1.87462380e-05j,\n",
       "         -5.85794345e-05+0.00000000e+00j,  3.45113319e-03+0.00000000e+00j,\n",
       "          5.85883758e-03+0.00000000e+00j],\n",
       "        [ 2.97703525e-01+5.03877667e-02j,  2.97703525e-01-5.03877667e-02j,\n",
       "         -9.96249391e-01+0.00000000e+00j, -2.84756973e-02+0.00000000e+00j,\n",
       "          1.35019764e-02+0.00000000e+00j],\n",
       "        [ 7.45895203e-01+0.00000000e+00j,  7.45895203e-01-0.00000000e+00j,\n",
       "         -8.22245433e-02+0.00000000e+00j,  9.99577351e-01+0.00000000e+00j,\n",
       "          9.99886047e-01+0.00000000e+00j],\n",
       "        [ 5.67958701e-03+2.24980878e-02j,  5.67958701e-03-2.24980878e-02j,\n",
       "         -2.26701939e-02+0.00000000e+00j, -4.22567172e-03+0.00000000e+00j,\n",
       "         -3.17008339e-03+0.00000000e+00j],\n",
       "        [-5.87964727e-01-7.89499088e-02j, -5.87964727e-01+7.89499088e-02j,\n",
       "         -1.45716803e-02+0.00000000e+00j, -2.11830124e-03+0.00000000e+00j,\n",
       "         -1.10178899e-03+0.00000000e+00j]]))"
      ]
     },
     "execution_count": 69,
     "metadata": {},
     "output_type": "execute_result"
    }
   ],
   "source": [
    "eigenvalue(x[3430])"
   ]
  },
  {
   "cell_type": "code",
   "execution_count": null,
   "metadata": {},
   "outputs": [],
   "source": [
    "fig = plt.figure()\n",
    "ax = fig.add_subplot(111, projection='3d')\n",
    "\n",
    "m=25\n",
    "\n",
    "A = x[:,2]*x[:,3] / w\n",
    "lambda_ = alpha * (x[:,4] + s_0)**b\n",
    "\n",
    "\n",
    "# ax.plot(x[:,1], A,lambda_,\"-\",markersize=0.5,alpha=0.5)\n",
    "# ax.plot(x[:,1], x[:,2],lambda_,\"c-\",markersize=0.5,alpha=0.5)\n",
    "ax.plot(x[:,3], (A-x[:,1])/x[:,2],lambda_,\"r.\",markersize=0.5,alpha=0.5)\n",
    "\n",
    "\n",
    "ax.set_xlabel('a0')\n",
    "ax.set_ylabel('a1')\n",
    "ax.set_zlabel('lambda')\n",
    "\n",
    "plt.show()"
   ]
  },
  {
   "cell_type": "code",
   "execution_count": 7,
   "metadata": {},
   "outputs": [
    {
     "data": {
      "text/plain": [
       "19999"
      ]
     },
     "execution_count": 7,
     "metadata": {},
     "output_type": "execute_result"
    }
   ],
   "source": [
    "len(x[:,2][1:])"
   ]
  },
  {
   "cell_type": "markdown",
   "metadata": {},
   "source": [
    "### Test _Slow-Fast"
   ]
  },
  {
   "cell_type": "code",
   "execution_count": 506,
   "metadata": {},
   "outputs": [],
   "source": [
    "#is \\dot{p}/pslow ?\n",
    "fig = plt.figure(figsize=(5,5))\n",
    "fig.subplots_adjust(wspace = 0.5, hspace = 0.3)\n",
    "ax1 = fig.add_subplot(5,1,1)\n",
    "ax2 = fig.add_subplot(5,1,2)\n",
    "ax3 = fig.add_subplot(5,1,3)\n",
    "ax4 = fig.add_subplot(5,1,4)\n",
    "ax5 = fig.add_subplot(5,1,5)\n",
    "\n",
    "\n",
    "T1,T2 = int(0/dt),int(10/dt)\n",
    "\n",
    "ax1.plot(t[T1:T2],x[:,1][T1:T2], 'm-')\n",
    "ax1.plot(t[T1:T2],(1-1/lambda_[T1:T2])*A[T1:T2])\n",
    "\n",
    "ax2.plot(t[T1:T2],A[T1:T2], 'm-')\n",
    "ax2.plot(t[T1:T2],E+x[:,1][T1:T2])\n",
    "\n",
    "ax3.plot(t[T1:T2],x[:,3][T1:T2], 'm-')\n",
    "ax3.plot(t[T1:T2],E*lambda_[T1:T2]*w/x[:,2][T1:T2])\n",
    "\n",
    "\n",
    "\n",
    "dotp = (1-E*lambda_[T1:T2]*w/x[:,2][T1:T2])*rho*(mu/x[:,2][T1:T2]-1) / (1-x[:,3][T1:T2]*w-(1-x[:,3][T1:T2])*x[:,0][T1:T2])\n",
    "\n",
    "#dotp = (eta*(w-x[:,0])*(E+x[:,1]-A)+w*theta*(lambda_*(A-x[:,1])-A)) / (1-x[:,3]*w-(1-x[:,3])*x[:,0])\n",
    "\n",
    "ax4.plot(t[T1:T2],x[:,4][T1:T2], 'm-')\n",
    "ax4.plot(t[T1:T2],(dotp[T1:T2]/x[:,2][T1:T2])**2)\n",
    "\n",
    "\n",
    "#ax4.plot(t[T1:T2],lambda_[T1:T2], 'm-')\n",
    "#ax4.plot(t[T1:T2],(1-s_0*lambda_[T1:T2]**2/alpha**2+lambda_[T1:T2]**2/alpha**2*(dotp[T1:T2]/x[:,2][T1:T2])**2))\n",
    "\n",
    "\n",
    "ax5.plot(t[T1:T2],x[:,2][T1:T2], 'm-')\n",
    "#ax5.plot(t[T1:T2],x[:,4])\n",
    "\n",
    "\n",
    "ax1.set_ylabel('L')\n",
    "ax2.set_ylabel('A')\n",
    "\n",
    "ax3.set_ylabel('n')\n",
    "ax4.set_ylabel('s')\n",
    "\n",
    "\n",
    "\n",
    "plt.show()"
   ]
  },
  {
   "cell_type": "code",
   "execution_count": 19,
   "metadata": {},
   "outputs": [],
   "source": [
    "#is \\dot{p}/pslow ?\n",
    "fig = plt.figure(figsize=(5,5))\n",
    "fig.subplots_adjust(wspace = 0.5, hspace = 0.3)\n",
    "ax1 = fig.add_subplot(1,1,1)\n",
    "\n",
    "ax1.plot(t,1/(1-w*x[:,3]-(1-x[:,3])*x[:,0]), 'm-')\n",
    "ax1.plot(t,x[:,3])\n",
    "ax1.plot(t,x[:,0])\n",
    "plt.show()"
   ]
  },
  {
   "cell_type": "code",
   "execution_count": 47,
   "metadata": {},
   "outputs": [],
   "source": [
    "#is \\dot{p}/pslow ?\n",
    "fig = plt.figure(figsize=(5,5))\n",
    "fig.subplots_adjust(wspace = 0.5, hspace = 0.3)\n",
    "ax1 = fig.add_subplot(1,1,1)\n",
    "\n",
    "A = x[:,3]*x[:,2]/w\n",
    "\n",
    "# ax1.plot(t[1:],(1-1/lambda_[1:])*A[1:], 'g--',alpha=0.5)\n",
    "# ax1.plot(t[1:],x[:,1][1:], 'b-',alpha=0.5)\n",
    "\n",
    "\n",
    "dot_A= (x[:,3][1:]*x[:,2][1:]-x[:,3][:-1]*x[:,2][:-1])/(w*dt)\n",
    "dot_lambda = (lambda_[1:]-lambda_[:-1])/dt\n",
    "ax1.plot(t[1:],(x[:,1][1:]-x[:,1][:-1])/(dt), 'g.',alpha=0.5)\n",
    "ax1.plot(t[1:],dot_A*(1-1/lambda_[1:])+A[1:]*dot_lambda/lambda_[1:], 'b--',alpha=0.5)\n",
    "ax1.plot(t[1:],dot_A*(1-1/lambda_[1:]), 'r--',alpha=0.5)\n",
    "# ax1.plot(t[1:],A[1:]*dot_lambda/lambda_[1:], 'k--',alpha=0.5)\n",
    "\n",
    "\n",
    "# ax1.plot(t[1:],(x[:,2][1:]-x[:,2][:-1])/(dt*x[:,2][1:]), 'm-')\n",
    "# ax1.plot(t[1:],(x[:,3][1:]-x[:,3][:-1])/(dt*x[:,3][1:]), 'k-',alpha=0.5)\n",
    "# ax1.plot(t[1:],(x[:,1][1:]-x[:,1][:-1])/(dt*x[:,1][1:]), 'g-',alpha=0.5)\n",
    "# ax1.plot(t[1:],lambda_[1:], 'g--',alpha=0.5)\n",
    "\n",
    "# ax1.plot(t[1:],(x[:,4][1:]-x[:,4][:-1])/(dt*x[:,4][1:]), 'c-',alpha=0.5)\n",
    "# ax1.plot(t[1:],(x[:,0][1:]-x[:,0][:-1])/(dt*x[:,0][1:]), 'b-',alpha=0.5)\n",
    "\n",
    "#ax1.plot(t[1:],(x[:,1][1:]-x[:,1][:-1])/(dt*x[:,1][1:]), 'k-',alpha=0.3)\n",
    "\n",
    "\n",
    "\n",
    "plt.show()"
   ]
  },
  {
   "cell_type": "code",
   "execution_count": 182,
   "metadata": {},
   "outputs": [],
   "source": [
    "W,L,p,n,s = np.transpose(x)\n",
    "w=0.5\n",
    "x_a0 = -(rho*(mu/p-1)*(1-n) + 1/p *eta*(w-W)*(E-n*p/w+L)- theta *n) \n",
    "x_a1 = (theta*w*(p*n/w-L)) / (p)\n",
    "\n",
    "# x_a0 = rho*(mu/p-1)\n",
    "# x_a1 = -rho*(mu/p-1)*E*p/w\n",
    "\n",
    "\n",
    "# x_a0 = rho*(mu/p-1)\n",
    "# x_a1 = -rho*(mu/p-1)*E*w/p"
   ]
  },
  {
   "cell_type": "code",
   "execution_count": 183,
   "metadata": {},
   "outputs": [],
   "source": [
    "plt.figure()\n",
    "plt.plot(x_a0)\n",
    "plt.plot(x_a1)\n",
    "#plt.plot((-5*lambda_**4*x_a1**2 -4*lambda_**3*2*x_a0*x_a1 -3* lambda_**2*(x_a0**2+s_0) + alpha**2))\n",
    "\n",
    "\n",
    "\n",
    "plt.show()"
   ]
  },
  {
   "cell_type": "markdown",
   "metadata": {},
   "source": [
    "## Slow Manifold"
   ]
  },
  {
   "cell_type": "code",
   "execution_count": 199,
   "metadata": {},
   "outputs": [],
   "source": [
    "l_a0 = np.linspace(-4,4,300)\n",
    "l_a1 = np.linspace(-1,1,50)\n",
    "#l_a1 = np.logspace(np.log(0.1)/np.log(10), np.log(120)/np.log(10), 100)\n",
    "# a1 = 1\n",
    "# root_real = [np.real([np.roots([-a1**2,-2*a0*a1,-a0**2-s_0,0,alpha**2 ])[i] for a0 in l_a0]) for i in range(4)]\n",
    "# root_imag = np.imag([np.roots([-a1**2,-2*a0*a1,-a0**2-s_0,0,alpha**2 ]) for a0 in l_a0])\n"
   ]
  },
  {
   "cell_type": "code",
   "execution_count": 200,
   "metadata": {},
   "outputs": [],
   "source": [
    "def pos_or_nan(x):\n",
    "    if x >= 0:\n",
    "        return(x)\n",
    "    else:\n",
    "        return(np.nan)\n",
    "    \n",
    "def lim_or_nan(x,c):\n",
    "    if abs(x) < c:\n",
    "        return(x)\n",
    "    else:\n",
    "        return(np.nan)"
   ]
  },
  {
   "cell_type": "code",
   "execution_count": 230,
   "metadata": {},
   "outputs": [],
   "source": [
    "fig = plt.figure()\n",
    "ax = fig.add_subplot(111, projection='3d')\n",
    "\n",
    "a0,a1 = l_a0[0],l_a1[0]\n",
    "\n",
    "#color = ['b','r','g','k','y']\n",
    "color = ['b']*5\n",
    "\n",
    "opacity = [0.2]*5\n",
    "for a1 in l_a1:\n",
    "    root_real = [np.real([np.roots([-(a1)**2,2*a0*(a1),-a0**2-s_0,0,alpha**2,0 ])[i] for a0 in l_a0]) for i in range(len(np.roots([-(-a1+a0)**2,2*a0*(-a1+a0),-a0**2-s_0,0,alpha**2,0 ])))]\n",
    "    for i in range(len(root_real)):\n",
    "        z = [pos_or_nan(j) for j in root_real[i]]\n",
    "        ax.plot(l_a0,[a1]*len(l_a0),z,c=color[i],alpha=opacity[i])\n",
    "        \n",
    "ax.set_zlim3d(0.5,40)\n",
    "\n",
    "plt.show()"
   ]
  },
  {
   "cell_type": "code",
   "execution_count": 235,
   "metadata": {
    "scrolled": true
   },
   "outputs": [],
   "source": [
    "T1,T2 = int(50/dt),int(150/dt)\n",
    "\n",
    "W,L,p,n,s = np.transpose(x)\n",
    "A = n*p /w\n",
    "# x_a0 = rho*(mu/p-1)\n",
    "# x_a1 = -rho*(mu/p-1)*E*p/w\n",
    "\n",
    "x_a0 = - (rho*(mu/p-1)*(1-n) + 1/p *eta*(w-W)*(E-n*p/w+L)- theta *n) \n",
    "x_a1 = (theta*w*(A-L)) / (p)\n",
    "\n",
    "T1, T2 = 5,60\n",
    "ax.plot(x_a0[T1:T2],x_a1[T1:T2],lambda_[T1:T2],'g-',alpha=0.8)\n",
    "ax.plot([x_a0[T1]],[x_a1[T1]],[lambda_[T1]],'r.',alpha=0.5)\n",
    "\n",
    "T1,T2 = int(50/dt),int(150/dt)\n",
    "ax.plot(x_a0[T1:T2],x_a1[T1:T2],lambda_[T1:T2],'k-',alpha=0.5)\n",
    "\n",
    "\n",
    "x_a0 =  theta *n \n",
    "x_a1 = (theta*n*(E/(E+L)))\n",
    "#ax.plot(x_a0[T1:T2],x_a1[T1:T2],lambda_[T1:T2],'k.-',alpha=0.5)        \n",
    "        \n",
    "        \n",
    "# x_a0 = (plt.plot(delta*x[:,4])\n",
    "# ax.plot(x_a0[T1:T2],x_a1[T1:T2],lambda_[T1:T2],'k-',alpha=0.8)\n",
    "# ax.set_zlim3d(-1,20)\n",
    "\n",
    "ax.set_xlabel('$a_0$')\n",
    "ax.set_ylabel('$a_1$')\n",
    "ax.set_zlabel('$\\lambda$')\n",
    "\n",
    "plt.show()\n"
   ]
  },
  {
   "cell_type": "code",
   "execution_count": 210,
   "metadata": {},
   "outputs": [],
   "source": [
    "\n",
    "x_a0 =  theta *n\n",
    "#x_a1 = theta*w*(A-L)/p\n",
    "x_a1 = theta*(-W/p*(E-A+L)+w*E/p+(1-n)*rho*(mu/p-1))\n",
    "\n",
    "# x_a0 = (rho*(mu/p-1)*(1-n) + 1/p *eta*(w-W)*(E-n*p/w+L)- theta *n) \n",
    "# x_a1 = (theta*w*(p*n/w-L)) / (p)\n",
    "\n",
    "ax.plot(x_a0[T1:T2],x_a1[T1:T2],lambda_[T1:T2],'k-',alpha=0.5)\n",
    "plt.show()"
   ]
  },
  {
   "cell_type": "code",
   "execution_count": 65,
   "metadata": {},
   "outputs": [],
   "source": [
    "plt.figure()\n",
    "# plt.plot(eta*(w-W)*(E-n*p/w+L))\n",
    "# plt.plot(L-(1-1/lambda_)*A)\n",
    "# plt.plot(x[:,4])\n",
    "# plt.plot(lambda_)\n",
    "#plt.plot(delta*x[:,4])\n",
    "#plt.plot( ((rho*(mu/p-1)*(1-n)+1/p * eta*(w-W)*(E-A+L) + theta*w/p*(lambda_*(A-L)-A)) / (1-n*w-(1-n)*W))**2)\n",
    "\n",
    "dotp = ((rho*(mu/p-1)*(1-n)+1/p * eta*(w-W)*(E-A+L) + theta*w/p*(lambda_*(A-L)-A)) / (1-n*w-(1-n)*W))\n",
    "plt.plot( ((rho*(mu/p-1)*(1-n)*p+eta*(w-W)*(E-A+L) + theta*w*(lambda_*(A-L)-A)) / (1-n*w-(1-n)*W)))\n",
    "plt.plot(theta*(lambda_*(A-L)-A))\n",
    "plt.plot((-(1-w)*dotp/p+1/A*(eta*(E-A+L)+theta*(lambda_*(A-L)-A))))\n",
    "plt.plot((-delta*(-s+(dotp/p)**2)))\n",
    "plt.plot(n*dotp+eta*(E-A+L)+theta*(lambda_*(A-L)-A),'k-')\n",
    "plt.plot(rho*(mu/p-1),'y')\n",
    "plt.show()"
   ]
  },
  {
   "cell_type": "markdown",
   "metadata": {},
   "source": [
    "## Stability on the slow Manifold"
   ]
  },
  {
   "cell_type": "code",
   "execution_count": 91,
   "metadata": {},
   "outputs": [],
   "source": [
    "def derivative(z,x_a0,x_a1):\n",
    "    lambda_ = np.array(z)\n",
    "    alpha =0.1\n",
    "    s_0 = 10**-6\n",
    "    der = (delta)*(-5*lambda_**4*x_a1**2 -4*lambda_**3*2*x_a0*x_a1 -3* lambda_**2*(x_a0**2+s_0) + alpha**2)\n",
    "    return(der)\n",
    "    "
   ]
  },
  {
   "cell_type": "code",
   "execution_count": 94,
   "metadata": {},
   "outputs": [],
   "source": [
    "fig = plt.figure()\n",
    "ax = fig.add_subplot(111, projection='3d')\n",
    "\n",
    "a0,a1 = l_a0[0],l_a1[0]\n",
    "for a1 in l_a1:\n",
    "    root_real = [np.real([np.roots([-a1**2,-2*a0*a1,-a0**2-s_0,0,alpha**2 ])[i] for a0 in l_a0]) for i in range(len(np.roots([-a1,-2*a0*a1,-a0-s_0,0,alpha ])))]\n",
    "    for i in range(len(root_real)):\n",
    "        z = [pos_or_nan(j) for j in root_real[i]]\n",
    "        y = np.array([a1]*len(l_a0))\n",
    "        ax.plot(l_a0,y,derivative(z,l_a0,y),'m-',alpha=0.5)\n",
    "plt.show()"
   ]
  },
  {
   "cell_type": "code",
   "execution_count": 95,
   "metadata": {},
   "outputs": [],
   "source": [
    "\n",
    "lim_der = 5000\n",
    "\n",
    "der = (delta)*(-5*lambda_**4*x_a1**2 -4*lambda_**3*2*x_a0*x_a1 -3* lambda_**2*(x_a0**2+s_0) + alpha**2)[T1:T2]\n",
    "der = [lim_or_nan(x,lim_der) for x in der]\n",
    "ax.plot(x_a0[T1:T2],x_a1[T1:T2],der,'k-.',alpha=0.8,markersize=0.5,linewidth=0.4)\n",
    "\n",
    "ax.set_zlim3d(-20,20)\n",
    "\n",
    "plt.show()"
   ]
  },
  {
   "cell_type": "code",
   "execution_count": 78,
   "metadata": {},
   "outputs": [
    {
     "data": {
      "text/plain": [
       "25000"
      ]
     },
     "execution_count": 78,
     "metadata": {},
     "output_type": "execute_result"
    }
   ],
   "source": [
    "\n"
   ]
  },
  {
   "cell_type": "code",
   "execution_count": null,
   "metadata": {},
   "outputs": [],
   "source": []
  }
 ],
 "metadata": {
  "kernelspec": {
   "display_name": "Python 3",
   "language": "python",
   "name": "python3"
  },
  "language_info": {
   "codemirror_mode": {
    "name": "ipython",
    "version": 3
   },
   "file_extension": ".py",
   "mimetype": "text/x-python",
   "name": "python",
   "nbconvert_exporter": "python",
   "pygments_lexer": "ipython3",
   "version": "3.7.6"
  }
 },
 "nbformat": 4,
 "nbformat_minor": 2
}
