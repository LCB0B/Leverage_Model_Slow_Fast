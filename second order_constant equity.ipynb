{
 "cells": [
  {
   "cell_type": "code",
   "execution_count": 19,
   "metadata": {},
   "outputs": [],
   "source": [
    "\n",
    "import numpy as np\n",
    "import matplotlib.pyplot as plt\n",
    "%matplotlib qt\n",
    "\n",
    "\n",
    "from sympy.solvers import solve\n",
    "from sympy import Symbol\n",
    "import time\n"
   ]
  },
  {
   "cell_type": "code",
   "execution_count": 23,
   "metadata": {},
   "outputs": [],
   "source": [
    "def second_order(x,y,sgn,delta): # ddot in first derivative, dot and ln order one.\n",
    "    return(2*(-delta * x - y + delta/4*(y/x)**2))\n",
    "\n",
    "\n",
    "def second_order(x,y,sgn,delta,s_0): # ddot in first derivative, dot and ln order one.\n",
    "    return(2*(-delta * x - y + delta/4*(np.log(1+y/(2*(x+s_0)))**2)))\n",
    "\n",
    "\n"
   ]
  },
  {
   "cell_type": "code",
   "execution_count": 54,
   "metadata": {},
   "outputs": [],
   "source": [
    "def sys(iv1, iv2, dt, time,function,sgn,delta,s_0):\n",
    "    n = int(time/dt)\n",
    "    t = np.linspace(0,time,n)\n",
    "    x = [iv1]* n\n",
    "    y = [iv2]* n\n",
    "    \n",
    "    for i in range(1,n):\n",
    "        y[i] = y[i-1] + function(x[i-1],y[i-1],sgn,delta,s_0)*dt\n",
    "        x[i] = x[i-1] + y[i-1]*dt\n",
    "        #z.append(z[i] + (h(x[i],y[i],z[i])) * dt)\n",
    "    return np.array(x), np.array(y)\n",
    "\n",
    "\n"
   ]
  },
  {
   "cell_type": "code",
   "execution_count": 113,
   "metadata": {},
   "outputs": [
    {
     "name": "stdout",
     "output_type": "stream",
     "text": [
      "30.7522976398468\n"
     ]
    }
   ],
   "source": [
    "times = 10000\n",
    "dt = 0.001\n",
    "delta = 0.5\n",
    "sgn = False\n",
    "s_0 = 10**-15\n",
    "#s_0 = 10**-2\n",
    "\n",
    "s_0 = 0\n",
    "\n",
    "\n",
    "start = time.time()\n",
    "x,y = sys(0.1,0.1, dt,times,second_order,sgn,delta,s_0)\n",
    "end = time.time()\n",
    "\n",
    "n = int(times/dt)\n",
    "t = np.linspace(0,times,n)\n",
    "\n",
    "print(end - start)"
   ]
  },
  {
   "cell_type": "code",
   "execution_count": 112,
   "metadata": {},
   "outputs": [
    {
     "name": "stdout",
     "output_type": "stream",
     "text": [
      "2.5778465426224025e-07\n"
     ]
    }
   ],
   "source": [
    "fig = plt.figure(figsize=(15,5))\n",
    "fig.subplots_adjust(wspace = 0.5, hspace = 0.3)\n",
    "ax1 = fig.add_subplot(1,2,1)\n",
    "ax2 = fig.add_subplot(1,2,2)\n",
    "\n",
    "\n",
    "#ax1.plot(z, 'g-', label='prey')\n",
    "ax1.set_title(\"Dynamics in time\")\n",
    "ax1.set_xlabel(\"t\")\n",
    "ax1.grid()\n",
    "\n",
    "T1,T2 = 100,400\n",
    "T1,T2 = 345,700\n",
    "T1,T2 = 0,times\n",
    "\n",
    "T1,T2 = int(T1/dt),int(T2/dt)\n",
    "    \n",
    "#ax1.plot(t[T1:T2],1/x[T1:T2]**2, 'r-', label=r'$\\sigma=0$')\n",
    "ax1.plot(t[T1:T2],x[T1:T2], 'r-', label=r'$\\sigma=0$')\n",
    "#ax1.plot(t,y, 'b-', label=r'$\\dot{\\sigma}=0$')\n",
    "\n",
    "a = np.linspace(0,0.4,10000)\n",
    "\n",
    "#ax2.plot(a,np.array(imp(a,delta))[0],'r+-')\n",
    "#ax2.plot(a,np.array(imp(a,delta))[1],'r+-')\n",
    "#ax2.plot(a,np.array(ddot(a,delta))[0])\n",
    "#ax2.plot(a,np.array(ddot(a,delta))[1])\n",
    "#ax2.plot(delta**2/3,imp(delta**2/3,delta),'go')\n",
    "\n",
    "#ax2.plot(1/x[T1:T2]**2, 1/y[T1:T2]**2,'g+--',alpha=0.7)\n",
    "ax2.plot(x[T1:T2], y[T1:T2],'g+--',alpha=0.7)\n",
    "\n",
    "\n",
    "plt.grid()\n",
    "plt.show()\n",
    "print(x[-1])"
   ]
  },
  {
   "cell_type": "code",
   "execution_count": null,
   "metadata": {},
   "outputs": [],
   "source": [
    "\n"
   ]
  },
  {
   "cell_type": "code",
   "execution_count": 58,
   "metadata": {},
   "outputs": [
    {
     "data": {
      "text/plain": [
       "[<matplotlib.lines.Line2D at 0x7efe50a48150>]"
      ]
     },
     "execution_count": 58,
     "metadata": {},
     "output_type": "execute_result"
    }
   ],
   "source": [
    "plt.figure()\n",
    "Z = delta * x**3 + y*x**2 - (delta/4)*y**2\n",
    "plt.plot(t[T1:T2],y[T1:T2]/x[T1:T2], '+--')\n",
    "plt.plot(t[T1:T2],Z[T1:T2], '+--')\n"
   ]
  },
  {
   "cell_type": "markdown",
   "metadata": {},
   "source": [
    "### SLOW MANIFOLD"
   ]
  },
  {
   "cell_type": "code",
   "execution_count": 89,
   "metadata": {},
   "outputs": [],
   "source": [
    "s_0 = 10**-6"
   ]
  },
  {
   "cell_type": "code",
   "execution_count": 90,
   "metadata": {},
   "outputs": [
    {
     "name": "stderr",
     "output_type": "stream",
     "text": [
      "/home/lcbob/anaconda3/lib/python3.7/site-packages/ipykernel_launcher.py:14: RuntimeWarning: invalid value encountered in log\n",
      "  \n"
     ]
    },
    {
     "data": {
      "text/plain": [
       "<matplotlib.contour.QuadContourSet at 0x7efe47d54850>"
      ]
     },
     "execution_count": 90,
     "metadata": {},
     "output_type": "execute_result"
    }
   ],
   "source": [
    "from numpy import arange\n",
    "from numpy import meshgrid\n",
    "\n",
    "d = 0.001\n",
    "xrange = arange(-0.1, 1, d)\n",
    "yrange = arange(-1, 1, d)\n",
    "X, Y = meshgrid(xrange,yrange)\n",
    "\n",
    "# F is one side of the equation, G is the other\n",
    "\n",
    "\n",
    "#F = delta*X**3 + X**2 * Y - delta/4 * Y**2  # Cusp with approximation\n",
    "#F = delta*X + Y - delta/4 * np.log(1+Y/X)**2\n",
    "F = 2*(-delta * X - Y + delta/4*(np.log(1+Y/(2*(X+s_0)))**2))\n",
    "plt.figure()\n",
    "plt.grid()\n",
    "plt.contour(X, Y, F , [0])\n"
   ]
  },
  {
   "cell_type": "code",
   "execution_count": 81,
   "metadata": {},
   "outputs": [
    {
     "data": {
      "text/plain": [
       "[<matplotlib.lines.Line2D at 0x7efe506dca10>]"
      ]
     },
     "execution_count": 81,
     "metadata": {},
     "output_type": "execute_result"
    }
   ],
   "source": [
    "T1,T2 = 0,350\n",
    "T1,T2 = int(T1/dt),int(T2/dt)\n",
    "\n",
    "#plt.plot(x[T1:T2], y[T1:T2],alpha=0.3,markersize=0.5)\n",
    "plt.plot(x[T1:T2], y[T1:T2],'-')"
   ]
  },
  {
   "cell_type": "code",
   "execution_count": null,
   "metadata": {},
   "outputs": [],
   "source": []
  },
  {
   "cell_type": "code",
   "execution_count": 23,
   "metadata": {
    "scrolled": true
   },
   "outputs": [
    {
     "data": {
      "text/plain": [
       "[<matplotlib.lines.Line2D at 0x7f856b937490>]"
      ]
     },
     "execution_count": 23,
     "metadata": {},
     "output_type": "execute_result"
    }
   ],
   "source": [
    "a = np.log(1+y/x)**2\n",
    "b = (y/x)**2\n",
    "plt.figure()\n",
    "plt.plot(a[T1:T2],b[T1:T2])"
   ]
  },
  {
   "cell_type": "code",
   "execution_count": 43,
   "metadata": {
    "scrolled": true
   },
   "outputs": [
    {
     "data": {
      "text/plain": [
       "[<matplotlib.lines.Line2D at 0x7f11d1518950>]"
      ]
     },
     "execution_count": 43,
     "metadata": {},
     "output_type": "execute_result"
    }
   ],
   "source": [
    "T1,T2 = 100,110\n",
    "T1,T2 = int(T1/dt),int(T2/dt)\n",
    "plt.plot(1/x[T1:T2]**2, 1/y[T1:T2]**2,'g+--',alpha=0.7)\n"
   ]
  },
  {
   "cell_type": "markdown",
   "metadata": {},
   "source": [
    "## JACOB"
   ]
  },
  {
   "cell_type": "code",
   "execution_count": null,
   "metadata": {},
   "outputs": [],
   "source": []
  },
  {
   "cell_type": "code",
   "execution_count": null,
   "metadata": {},
   "outputs": [],
   "source": []
  },
  {
   "cell_type": "code",
   "execution_count": null,
   "metadata": {},
   "outputs": [],
   "source": []
  },
  {
   "cell_type": "markdown",
   "metadata": {},
   "source": [
    "## QUIVER PLTO"
   ]
  },
  {
   "cell_type": "code",
   "execution_count": 69,
   "metadata": {},
   "outputs": [
    {
     "name": "stderr",
     "output_type": "stream",
     "text": [
      "/home/lcbob/anaconda3/lib/python3.7/site-packages/ipykernel_launcher.py:6: RuntimeWarning: divide by zero encountered in true_divide\n",
      "  \n",
      "/home/lcbob/anaconda3/lib/python3.7/site-packages/ipykernel_launcher.py:6: RuntimeWarning: invalid value encountered in log\n",
      "  \n"
     ]
    },
    {
     "data": {
      "text/plain": [
       "Text(0, 0.5, '$\\\\dot{\\\\sigma}$')"
      ]
     },
     "execution_count": 69,
     "metadata": {},
     "output_type": "execute_result"
    }
   ],
   "source": [
    "\n",
    "x0,x1,y0,y1 = 0,1,-0.5,0.5\n",
    "\n",
    "x = np.linspace(x0,x1,30)\n",
    "y = np.linspace(y0,y1,30)\n",
    "\n",
    "fig, ax = plt.subplots()\n",
    "\n",
    "\n",
    "ax.grid()\n",
    "X, Y = np.meshgrid(x, y)\n",
    "u = Y\n",
    "v = second_order(X,Y,sgn,delta)\n",
    "\n",
    "\n",
    "ax.set_xlim([x0,x1])\n",
    "ax.set_ylim([y0,y1])\n",
    "\n",
    "plt.quiver(X,Y,u,v, alpha=0.8)\n",
    "\n",
    "\n",
    "\n",
    "#a= np.linspace(10**-5,1,1000)\n",
    "#ax.plot(a,imp_domain(a,delta),color='red', linestyle='--', lw=0.9, label='sqrt=0')\n",
    "\n",
    "ax.set_xlabel(r'$\\sigma$')\n",
    "ax.set_ylabel(r'$\\dot{\\sigma}$')    \n",
    "    \n",
    "#plt.savefig('quiver_plot_2nd.png', dpi=800)\n",
    "#plt.show()"
   ]
  },
  {
   "cell_type": "code",
   "execution_count": 70,
   "metadata": {},
   "outputs": [
    {
     "name": "stderr",
     "output_type": "stream",
     "text": [
      "/home/lcbob/anaconda3/lib/python3.7/site-packages/ipykernel_launcher.py:13: RuntimeWarning: invalid value encountered in log\n",
      "  del sys.path[0]\n"
     ]
    },
    {
     "data": {
      "text/plain": [
       "<matplotlib.contour.QuadContourSet at 0x7f5601f55f50>"
      ]
     },
     "execution_count": 70,
     "metadata": {},
     "output_type": "execute_result"
    }
   ],
   "source": [
    "from numpy import arange\n",
    "from numpy import meshgrid\n",
    "\n",
    "d = 0.001\n",
    "xrange = arange(-0.1, 1, d)\n",
    "yrange = arange(-1, 1, d)\n",
    "X, Y = meshgrid(xrange,yrange)\n",
    "\n",
    "# F is one side of the equation, G is the other\n",
    "\n",
    "\n",
    "#F = delta*X**3 + X**2 * Y - delta/4 * Y**2  # Cusp with approximation\n",
    "F = delta*X + Y - delta/4 * np.log(1+Y/X)**2\n",
    "\n",
    "#plt.figure()\n",
    "#plt.grid()\n",
    "ax.contour(X, Y, F , [0])"
   ]
  },
  {
   "cell_type": "code",
   "execution_count": null,
   "metadata": {},
   "outputs": [],
   "source": []
  }
 ],
 "metadata": {
  "kernelspec": {
   "display_name": "Python 3",
   "language": "python",
   "name": "python3"
  },
  "language_info": {
   "codemirror_mode": {
    "name": "ipython",
    "version": 3
   },
   "file_extension": ".py",
   "mimetype": "text/x-python",
   "name": "python",
   "nbconvert_exporter": "python",
   "pygments_lexer": "ipython3",
   "version": "3.7.6"
  }
 },
 "nbformat": 4,
 "nbformat_minor": 2
}
