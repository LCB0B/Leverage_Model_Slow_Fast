{
 "cells": [
  {
   "cell_type": "code",
   "execution_count": 2,
   "metadata": {},
   "outputs": [],
   "source": [
    "import numpy as np \n",
    "from numpy import linalg as LA\n"
   ]
  },
  {
   "cell_type": "code",
   "execution_count": 6,
   "metadata": {},
   "outputs": [],
   "source": [
    "\n",
    "tau = 0.1\n",
    "delta = 0.5\n",
    "\n",
    "theta = 10\n",
    "eta = 10\n",
    "b = -0.5\n",
    "sigma_0 = 10**-6\n",
    "alpha = 0.01\n",
    "E = 2.27\n",
    "wb = 0.3\n",
    "wf = 0.5 #initial value\n",
    "\n",
    "mu = 25\n",
    "rho = 0.1\n",
    "\n",
    "\n",
    "\n"
   ]
  },
  {
   "cell_type": "code",
   "execution_count": 7,
   "metadata": {},
   "outputs": [],
   "source": [
    "# fixed point \n",
    "lambda_f = alpha *(sigma_0)**b\n",
    "p_f = mu\n",
    "n_f = E*wb*lambda_f/p_f\n",
    "L_f = (lambda_f-1)*E\n",
    "sigma_f = 0\n",
    "wf_f = 0\n",
    "\n",
    "lambda_0 = lambda_f\n",
    "lambda_prim = alpha*b*(sigma_0)**(b-1)"
   ]
  },
  {
   "cell_type": "code",
   "execution_count": 1,
   "metadata": {},
   "outputs": [
    {
     "ename": "NameError",
     "evalue": "name 'np' is not defined",
     "output_type": "error",
     "traceback": [
      "\u001b[1;31m---------------------------------------------------------------------------\u001b[0m",
      "\u001b[1;31mNameError\u001b[0m                                 Traceback (most recent call last)",
      "\u001b[1;32m<ipython-input-1-07eb7090f8b1>\u001b[0m in \u001b[0;36m<module>\u001b[1;34m\u001b[0m\n\u001b[0;32m      1\u001b[0m \u001b[1;33m\u001b[0m\u001b[0m\n\u001b[0;32m      2\u001b[0m \u001b[1;33m\u001b[0m\u001b[0m\n\u001b[1;32m----> 3\u001b[1;33m \u001b[0mA\u001b[0m \u001b[1;33m=\u001b[0m \u001b[0mnp\u001b[0m\u001b[1;33m.\u001b[0m\u001b[0mzeros\u001b[0m\u001b[1;33m(\u001b[0m\u001b[1;33m(\u001b[0m\u001b[1;36m5\u001b[0m\u001b[1;33m,\u001b[0m\u001b[1;36m5\u001b[0m\u001b[1;33m)\u001b[0m\u001b[1;33m)\u001b[0m\u001b[1;33m\u001b[0m\u001b[1;33m\u001b[0m\u001b[0m\n\u001b[0m\u001b[0;32m      4\u001b[0m \u001b[1;33m\u001b[0m\u001b[0m\n\u001b[0;32m      5\u001b[0m \u001b[1;31m#f3/di\u001b[0m\u001b[1;33m\u001b[0m\u001b[1;33m\u001b[0m\u001b[1;33m\u001b[0m\u001b[0m\n",
      "\u001b[1;31mNameError\u001b[0m: name 'np' is not defined"
     ]
    }
   ],
   "source": [
    "\n",
    "\n",
    "A = np.zeros((5,5))\n",
    "\n",
    "#f3/di\n",
    "\n",
    "\n",
    "A[0,0] = rho*(mu/p-1)\n",
    "A[0,2] = -W*rho*mu/p**2\n",
    "\n",
    "A[1,1] = -theta*lambda_\n",
    "A[1,2] = theta*(lambda_-1)*n/w\n",
    "A[1,3] = theta*(lambda_-1)*p/w\n",
    "A[1,4] = theta*(A-L)\n",
    "\n",
    "dot_L = theta*(lambda_*(A-L)-A)\n",
    "dot_p = ((1-n)*rho*(mu-p)*eta*(w-W)*(E-A+L)+w*dot_L) / (1-n*w-(1-n)*W)\n",
    "\n",
    "df3dW = -eta*(E-A+L) / (1-w*n-(1-n)*W) + (1-n)*dot_p / (1-n*w-(1-n)*W)\n",
    "df3dl = ( (w-W)*eta + w*A[1,1] ) / (1-w*n-(1-n)*W)\n",
    "df3dp =  ( (1-n)*(-rho)-(w-W)*eta*n/w + w*A[1,2] ) / (1-w*n-(1-n)*W)\n",
    "df3dn =  ( -rho*(mu-p)-(w-W)*eta*p/w + w*A[1,3] ) / (1-w*n-(1-n)*W) - (-w+W)*((1-n)*rho*(mu/p-1)*eta*(E-A+L)+w*dot_L) / (1-w*n-(1-n)*W)**2\n",
    "df3dlambda = w*(theta*(A-L)) / (1-w*n-(1-n)*W)\n",
    "\n",
    "A[2,1] = df3dl\n",
    "A[2,2] = df3dp\n",
    "A[2,3] = df3dn\n",
    "A[2,4] = df3dlambda\n",
    "\n",
    "df4dl = w/p*(eta+A[1,1])\n",
    "df4dp = -w/p**2*(eta*(E-A+L)+theta*(lambda_*(A-L)-A)) + w/p * (eta*(-n/w)+A[1,2])\n",
    "df4dn = w/p*(-eta*p/w+A[1,3])\n",
    "df4dlambda = w/(n*p)*theta*(A-L)\n",
    "\n",
    "A[3,1] = -(1-w)*n/p * df3dl + df4dl\n",
    "A[3,2] = -(1-w)*n * (df3dp/p-dot_p/p**2) + df4dp\n",
    "A[3,3] = -(1-w)/p (dot_p + n*df3dn) + df4dn\n",
    "A[3,4] = -(1-w)*n/p * df3lambda + df4dlambda\n",
    "\n",
    "\n",
    "a0 = ((1-n)*rho*(mu-p)*eta*(w-W)*(E-A+L)+w*theta*(-A)) / (p*(1-n*w-(1-n)*W))\n",
    "a1 = w*theta*(A-L) / (p*(1-n*w-(1-n)*W))\n",
    "\n",
    "\n",
    "\n",
    "A[4,0] = delta / (2*alpha**2) * tv**2 *lambda_**2*2*dot_p/p * df3dW /p\n",
    "A[4,1] = delta / (2*alpha**2) * tv**2 *lambda_**2*2*dot_p/p * df3dl /p\n",
    "A[4,2] = delta / (2*alpha**2) * tv**2 *lambda_**2*2*dot_p/p * (df3dp /p - dot_p/p**2)\n",
    "A[4,3] = delta / (2*alpha**2) * tv**2 *lambda_**2*2*dot_p/p * (df3dn /p)\n",
    "A[4,4] = delta / (2*alpha**2) * (alpha**2 - 3*s0*lambda_**2 + tv**2*lambda_**2*(3*a0**2+2*4*a0*a1*lambda_+5*a1**2*lamba**2))\n",
    "\n",
    "\n"
   ]
  },
  {
   "cell_type": "code",
   "execution_count": 12,
   "metadata": {},
   "outputs": [
    {
     "name": "stdout",
     "output_type": "stream",
     "text": [
      "w =  [ 0.        +0.j         -2.87304609+9.10586691j -2.87304609-9.10586691j\n",
      " -0.0798059 +0.j         -0.5       +0.j        ] leverage =  10.0\n"
     ]
    }
   ],
   "source": [
    "w, v = LA.eig(A)\n",
    "\n",
    "print('w = ',w, 'leverage = ',alpha*(sigma_0)**b)"
   ]
  },
  {
   "cell_type": "code",
   "execution_count": 10,
   "metadata": {},
   "outputs": [
    {
     "data": {
      "text/plain": [
       "array([[ 0.00000000e+00,  0.00000000e+00, -2.00000000e-03,\n",
       "         0.00000000e+00,  0.00000000e+00],\n",
       "       [ 0.00000000e+00, -1.00000000e+02,  8.17200000e+01,\n",
       "         7.50000000e+03, -1.13500000e+08],\n",
       "       [ 0.00000000e+00, -5.77117299e+01,  4.74167797e+01,\n",
       "         4.35843794e+03, -6.14088876e+07],\n",
       "       [ 0.00000000e+00, -6.39821094e-01,  5.10022737e-01,\n",
       "         4.67573222e+01, -8.93622132e+05],\n",
       "       [ 0.00000000e+00,  0.00000000e+00,  0.00000000e+00,\n",
       "         0.00000000e+00, -5.00000000e-01]])"
      ]
     },
     "execution_count": 10,
     "metadata": {},
     "output_type": "execute_result"
    }
   ],
   "source": [
    "A\n"
   ]
  },
  {
   "cell_type": "code",
   "execution_count": null,
   "metadata": {},
   "outputs": [],
   "source": []
  }
 ],
 "metadata": {
  "kernelspec": {
   "display_name": "Python 3",
   "language": "python",
   "name": "python3"
  },
  "language_info": {
   "codemirror_mode": {
    "name": "ipython",
    "version": 3
   },
   "file_extension": ".py",
   "mimetype": "text/x-python",
   "name": "python",
   "nbconvert_exporter": "python",
   "pygments_lexer": "ipython3",
   "version": "3.7.6"
  }
 },
 "nbformat": 4,
 "nbformat_minor": 2
}
