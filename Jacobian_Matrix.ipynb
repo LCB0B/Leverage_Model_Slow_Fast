{
 "cells": [
  {
   "cell_type": "code",
   "execution_count": 4,
   "metadata": {},
   "outputs": [],
   "source": [
    "import numpy as np \n",
    "from numpy import linalg as LA\n"
   ]
  },
  {
   "cell_type": "code",
   "execution_count": 6,
   "metadata": {},
   "outputs": [],
   "source": [
    "\n",
    "tau = 0.1\n",
    "delta = 0.5\n",
    "\n",
    "theta = 10\n",
    "eta = 10\n",
    "b = -0.5\n",
    "sigma_0 = 10**-6\n",
    "alpha = 0.01\n",
    "E = 2.27\n",
    "wb = 0.3\n",
    "wf = 0.5 #initial value\n",
    "\n",
    "mu = 25\n",
    "rho = 0.1\n",
    "\n",
    "\n",
    "\n"
   ]
  },
  {
   "cell_type": "code",
   "execution_count": 7,
   "metadata": {},
   "outputs": [],
   "source": [
    "# fixed point \n",
    "lambda_f = alpha *(sigma_0)**b\n",
    "p_f = mu\n",
    "n_f = E*wb*lambda_f/p_f\n",
    "L_f = (lambda_f-1)*E\n",
    "sigma_f = 0\n",
    "wf_f = 0\n",
    "\n",
    "lambda_0 = lambda_f\n",
    "lambda_prim = alpha*b*(sigma_0)**(b-1)"
   ]
  },
  {
   "cell_type": "code",
   "execution_count": 11,
   "metadata": {},
   "outputs": [],
   "source": [
    "\n",
    "\n",
    "\n",
    "A = np.zeros((5,5))\n",
    "\n",
    "#f3/di\n",
    "df3dl = ( (wb-wf)*eta-theta*lambda_0*wb ) / (1-wb*n_f-(1-n_f)*wf)\n",
    "df3dp = -(1-n_f)*rho + ( -1*(wb-wf)*eta*n_f/wb+theta*n_f*(lambda_0-1)) / (1-wb*n_f-(1-n_f)*wf)\n",
    "df3dn =  (-1*(wb-wf)*eta*p_f/wb+theta*p_f*(lambda_0-1) ) / (1-wb*n_f-(1-n_f)*wf)\n",
    "\n",
    "df3dsigma = (theta*lambda_prim*E*wb) /(1-wb*n_f-(1-n_f)*wf) \n",
    "\n",
    "\n",
    "A[0,2] = -wf*rho/mu\n",
    "\n",
    "A[0,2] = -wf*rho/mu\n",
    "\n",
    "A[1,1] = -lambda_0*theta\n",
    "A[1,2] = theta*(lambda_0-1)*E*lambda_0 / mu \n",
    "A[1,3] = theta*(lambda_0-1)*mu/wb\n",
    "A[1,4] = theta*E*lambda_prim\n",
    "\n",
    "\n",
    "A[2,1] = df3dl\n",
    "A[2,2] = df3dp\n",
    "A[2,3] = df3dn\n",
    "A[2,4] = df3dsigma\n",
    "\n",
    "\n",
    "\n",
    "#A[3,1] = (-wb/mu)*(eta+theta*lambda_0) \n",
    "#A[3,2] = (wb/mu**2)*((eta+theta*lambda_0)*L_f+eta*E) \n",
    "#A[3,3] = (wb/(mu*n_f))*((eta+theta*lambda_0)*L_f+eta*E) \n",
    "#A[3,4] = n_f*(theta*lambda_prim - (wb/(n_f*mu))*theta*L_f*lambda_prim)\n",
    "\n",
    "A[3,1] = -(1-wb)*n_f/p_f * df3dl + wb/p_f * (eta + A[1,1])\n",
    "A[3,2] = -(1-wb)*n_f/p_f * df3dp + wb/p_f * (-eta*n_f/wb + A[1,2])\n",
    "A[3,3] = -(1-wb)*n_f/p_f * df3dn + wb/p_f * (-eta*p_f/wb + A[1,3])\n",
    "A[3,4] = -(1-wb)*n_f/p_f * df3dsigma + wb/p_f *  A[1,4]\n",
    "\n",
    "A[4,4] = - delta\n",
    "\n"
   ]
  },
  {
   "cell_type": "code",
   "execution_count": 12,
   "metadata": {},
   "outputs": [
    {
     "name": "stdout",
     "output_type": "stream",
     "text": [
      "w =  [ 0.        +0.j         -2.87304609+9.10586691j -2.87304609-9.10586691j\n",
      " -0.0798059 +0.j         -0.5       +0.j        ] leverage =  10.0\n"
     ]
    }
   ],
   "source": [
    "w, v = LA.eig(A)\n",
    "\n",
    "print('w = ',w, 'leverage = ',alpha*(sigma_0)**b)"
   ]
  },
  {
   "cell_type": "code",
   "execution_count": 10,
   "metadata": {},
   "outputs": [
    {
     "data": {
      "text/plain": [
       "array([[ 0.00000000e+00,  0.00000000e+00, -2.00000000e-03,\n",
       "         0.00000000e+00,  0.00000000e+00],\n",
       "       [ 0.00000000e+00, -1.00000000e+02,  8.17200000e+01,\n",
       "         7.50000000e+03, -1.13500000e+08],\n",
       "       [ 0.00000000e+00, -5.77117299e+01,  4.74167797e+01,\n",
       "         4.35843794e+03, -6.14088876e+07],\n",
       "       [ 0.00000000e+00, -6.39821094e-01,  5.10022737e-01,\n",
       "         4.67573222e+01, -8.93622132e+05],\n",
       "       [ 0.00000000e+00,  0.00000000e+00,  0.00000000e+00,\n",
       "         0.00000000e+00, -5.00000000e-01]])"
      ]
     },
     "execution_count": 10,
     "metadata": {},
     "output_type": "execute_result"
    }
   ],
   "source": [
    "A\n"
   ]
  },
  {
   "cell_type": "code",
   "execution_count": null,
   "metadata": {},
   "outputs": [],
   "source": []
  }
 ],
 "metadata": {
  "kernelspec": {
   "display_name": "Python 3",
   "language": "python",
   "name": "python3"
  },
  "language_info": {
   "codemirror_mode": {
    "name": "ipython",
    "version": 3
   },
   "file_extension": ".py",
   "mimetype": "text/x-python",
   "name": "python",
   "nbconvert_exporter": "python",
   "pygments_lexer": "ipython3",
   "version": "3.7.3"
  }
 },
 "nbformat": 4,
 "nbformat_minor": 2
}
