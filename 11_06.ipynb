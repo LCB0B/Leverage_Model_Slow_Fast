{
 "cells": [
  {
   "cell_type": "code",
   "execution_count": 207,
   "metadata": {},
   "outputs": [],
   "source": [
    "\n",
    "import numpy as np\n",
    "import matplotlib.pyplot as plt\n",
    "%matplotlib qt\n",
    "\n",
    "from sympy.solvers import solve\n",
    "from sympy import Symbol\n",
    "import math\n",
    "import random\n",
    "import matplotlib.pyplot as plt\n",
    "from mpl_toolkits.mplot3d import Axes3D\n",
    "from matplotlib import cm\n",
    "from matplotlib.ticker import LinearLocator, FormatStrFormatter\n",
    "from numpy import linalg as LA\n",
    "\n",
    "import time"
   ]
  },
  {
   "cell_type": "code",
   "execution_count": 208,
   "metadata": {},
   "outputs": [],
   "source": [
    "def function(x,E,theta,eta,w,delta,alpha,s_0,b,rho,tv):\n",
    "\n",
    "    lambda_ = alpha*(x[4]+s_0)**b\n",
    "    \n",
    "    \n",
    "    A = x[2]*x[3]/w\n",
    "    mu = 25\n",
    "    \n",
    "    #dot_W = x[0]*rho*((mu/x[2]-1)+float(np.random.normal(0,0.22,1)))\n",
    "    dot_W = x[0]*rho*((mu/x[2]-1))\n",
    "    #dot_W = 0\n",
    "    dot_L = theta*(lambda_*(A-x[1])-A)\n",
    "    \n",
    "    #dot_L = theta*(lambda_*(E*lambda_-x[1])-E*lambda_ )\n",
    "    \n",
    "    dot_p = (x[2]* (1-x[3]) * dot_W / x[0] + eta*(w-x[0])*(E-A+x[1])+ w*dot_L ) / (1-x[3]*w-(1-x[3])*x[0])\n",
    "    #dot_p = ( eta*(w-x[0])*(E-A+x[1])+ w*dot_L ) \n",
    "    \n",
    "    \n",
    "    # / (1-x[3]*w-(1-x[3])*x[0])\n",
    "    dot_n = x[3]* (-(1-w)*dot_p/x[2] + 1/A*(eta*(E-A+x[1])+dot_L))\n",
    "    #dot_n = 0\n",
    "    \n",
    "    #dot_s = -delta*(x[4]) + delta * (np.log(1-dot_p/x[2]))**2\n",
    "    #dot_s = -delta*(x[4]) + delta * (np.log(1-dot_p/x[2]))**2\n",
    "    dot_s = -delta*(x[4]) + delta * tv**2*(-dot_p/x[2])**2\n",
    "    \n",
    "    \n",
    "    return([dot_W, dot_L, dot_p, dot_n, dot_s])\n",
    "   "
   ]
  },
  {
   "cell_type": "code",
   "execution_count": 209,
   "metadata": {},
   "outputs": [],
   "source": [
    "def sys(iv, dt, time,function,E,theta,eta,w,delta,alpha,s_0,b,rho,tv):\n",
    "    n = int(time/dt)\n",
    "    t = np.linspace(0,time,n)\n",
    "    x = np.array([[ i for i in iv]]*n)\n",
    "    n_ord = len(iv)\n",
    "    \n",
    "    a = iv\n",
    "    \n",
    "    for i in range(1,n):\n",
    "        X = function(a,E,theta,eta,w,delta,alpha,s_0,b,rho,tv)\n",
    "        X[0] = X[0] \n",
    "        a = a + np.array(X)*dt\n",
    "        x[i] = a\n",
    "    return np.array(x)\n"
   ]
  },
  {
   "cell_type": "code",
   "execution_count": 368,
   "metadata": {},
   "outputs": [],
   "source": [
    "rho= 0.1\n",
    "#rho = 100\n",
    "\n",
    "E = 2\n",
    "mu = 25\n",
    "theta = 10\n",
    "eta = 10\n",
    "w = 0.5\n",
    "\n",
    "\n",
    "#tv = 10**-1\n",
    "#alpha = 10**-2\n",
    "#s_0 = 10**-6\n",
    "\n",
    "\n",
    "tv = 10**-1\n",
    "alpha = 0.01\n",
    "s_0 = 10**-6\n",
    "\n",
    "\n",
    "b = -0.5"
   ]
  },
  {
   "cell_type": "code",
   "execution_count": 369,
   "metadata": {},
   "outputs": [
    {
     "name": "stdout",
     "output_type": "stream",
     "text": [
      "--- 0.4133946895599365 seconds ---\n"
     ]
    }
   ],
   "source": [
    "T = 300\n",
    "dt = 10**-2\n",
    "delta = 0.5\n",
    "\n",
    "start_time = time.time()\n",
    "\n",
    "p0 = 20\n",
    "L0 = 20\n",
    "x= sys([0.2,L0,p0,0.5,1], dt,T,function,E,theta,eta,w,delta,alpha,s_0,b,rho,tv)\n",
    "\n",
    "print(\"--- %s seconds ---\" % (time.time() - start_time))\n",
    "\n",
    "\n",
    "n = int(T/dt)\n",
    "t = np.linspace(0,T,n)"
   ]
  },
  {
   "cell_type": "code",
   "execution_count": 370,
   "metadata": {},
   "outputs": [
    {
     "name": "stderr",
     "output_type": "stream",
     "text": [
      "/home/lcbob/anaconda3/lib/python3.7/site-packages/ipykernel_launcher.py:1: RuntimeWarning: More than 20 figures have been opened. Figures created through the pyplot interface (`matplotlib.pyplot.figure`) are retained until explicitly closed and may consume too much memory. (To control this warning, see the rcParam `figure.max_open_warning`).\n",
      "  \"\"\"Entry point for launching an IPython kernel.\n"
     ]
    }
   ],
   "source": [
    "fig = plt.figure(figsize=(5,5))\n",
    "fig.subplots_adjust(wspace = 0.5, hspace = 0.3)\n",
    "ax1 = fig.add_subplot(5,1,1)\n",
    "ax2 = fig.add_subplot(5,1,2)\n",
    "ax3 = fig.add_subplot(5,1,3)\n",
    "ax4 = fig.add_subplot(5,1,4)\n",
    "ax5 = fig.add_subplot(5,1,5)\n",
    "\n",
    "n = int(T/dt)\n",
    "t = np.linspace(0,T,n)\n",
    "\n",
    "#lambda_ = alpha * (x[:,4] + s_0)**b\n",
    "w = 0.5\n",
    "#A = x[:,2]*x[:,3]/w\n",
    "\n",
    "T1 = 0\n",
    "T2 = 20000\n",
    "#xx= np.array([x[500*i] for i in range(int(len(x)//1000))])\n",
    "#t = np.array([t[500*i] for i in range(int(len(t)//1000))])\n",
    "xx = x\n",
    "lambda_ = alpha * (xx[:,4] + s_0)**b\n",
    "\n",
    "tau = 1\n",
    "#ax1.plot(t,10*(A-x[:,1])/x[:,2], 'r-',label ='W')\n",
    "ax1.plot(tau*t,xx[:,0], 'k-',label ='W')\n",
    "ax1.set_ylabel(r'$W$')\n",
    "\n",
    "\n",
    "ax2.plot(t,(1-1/lambda_)*x[:,2]*x[:,3]/w, 'k',label ='L',alpha = 0.2)\n",
    "ax2.plot(tau*t,xx[:,1], 'k-',label ='L')\n",
    "#ax2.plot(t,x[:,1]-(lambda_-1)*E, 'b-',label ='L')\n",
    "ax2.set_ylabel(r'$L$')\n",
    "\n",
    "\n",
    "\n",
    "###### AX3 P ######\n",
    "#num = (1-n)*rho*mu+eta*(w-W)*(E+L)-w*theta*lambda_*L\n",
    "#denom = (1-n)*rho + eta*(w-W)*n/w -theta*n*(lambda_-1)\n",
    "num = (1-n)*rho*mu+eta*(w-W)*(E)\n",
    "denom = (1-n)*rho - eta*(w-W)*n/ (w* lambda_)\n",
    "\n",
    "A = x[:,2]*x[:,3]/w\n",
    "mu = 25\n",
    "#dot_W = x[0]*rho*((mu/x[2]-1)+float(np.random.normal(0,0.22,1)))\n",
    "dot_W = x[:,0]*rho*((mu/x[:,2]-1))\n",
    "#dot_W = 0\n",
    "dot_L = theta*(lambda_*(A-x[:,1])-A)\n",
    "ax3.plot(t,(x[:,2]* (1-x[:,3]) * dot_W / x[:,0] + eta*(w-x[:,0])*(E-A+x[:,1])+ w*dot_L ) / (1-x[:,3]*w-(1-x[:,3])*x[:,0]))\n",
    "#ax3.plot(t,num/denom,'k',alpha=0.5)\n",
    "#ax3.plot(tau*t,xx[:,2], 'k-',label ='p')\n",
    "\n",
    "#ax3.set_ylabel(r'$p$')\n",
    "\n",
    "\n",
    "###### AX4 ######\n",
    "\n",
    "ax4.plot(tau*t,xx[:,3], 'k-',label ='n')\n",
    "#ax4.plot(t,w/x[:,2] * (E+x[:,1]), 'r--',alpha=0.4)\n",
    "ax4.set_ylabel(r'$n$')\n",
    "\n",
    "\n",
    "#ax5.plot(t,A/E, 'k--',label ='s',alpha=0.5)\n",
    "ax5.plot(tau*t,lambda_, 'k-',label ='s')\n",
    "\n",
    "#ax5.plot(t,(np.log(1-theta*lambda_*(E*(lambda_-1)-x[:,1]) / (x[:,1]+10)))**2, 'g--',label ='s')\n",
    "ax5.set_ylabel(r'$ \\lambda $')\n",
    "ax5.set_xlabel(r'$ t $')\n",
    "\n",
    "ax2.set_ylim([-10,20])\n",
    "#ax3.set_ylim([-10,40])\n",
    "plt.grid()\n",
    "plt.show()\n"
   ]
  },
  {
   "cell_type": "code",
   "execution_count": 485,
   "metadata": {},
   "outputs": [
    {
     "name": "stderr",
     "output_type": "stream",
     "text": [
      "/home/lcbob/anaconda3/lib/python3.7/site-packages/ipykernel_launcher.py:17: RuntimeWarning: More than 20 figures have been opened. Figures created through the pyplot interface (`matplotlib.pyplot.figure`) are retained until explicitly closed and may consume too much memory. (To control this warning, see the rcParam `figure.max_open_warning`).\n"
     ]
    },
    {
     "data": {
      "text/plain": [
       "[<matplotlib.lines.Line2D at 0x7f1a20390210>]"
      ]
     },
     "execution_count": 485,
     "metadata": {},
     "output_type": "execute_result"
    }
   ],
   "source": [
    "#num = (1-n)*rho*mu+eta*(w-W)*(E+L)-w*theta*lambda_*L\n",
    "#denom = (1-n)*rho + eta*(w-W)*n/w -theta*n*(lambda_-1)\n",
    "num = (1-n)*rho*mu+eta*(w-W)*(E)\n",
    "denom = (1-n)*rho - eta*(w-W)*n/ (w* lambda_)\n",
    "\n",
    "A = x[:,2]*x[:,3]/w\n",
    "mu = 25\n",
    "#dot_W = x[0]*rho*((mu/x[2]-1)+float(np.random.normal(0,0.22,1)))\n",
    "dot_W = x[:,0]*rho*((mu/x[:,2]-1))\n",
    "#dot_W = 0\n",
    "dot_L = theta*(lambda_*(A-x[:,1])-A)\n",
    "#ax3.plot(t,num/denom,'k',alpha=0.5)\n",
    "#ax3.plot(tau*t,xx[:,2], 'k-',label ='p')\n",
    "dot_p = (x[:,2]* (1-x[:,3]) * dot_W / x[:,0] + eta*(w-x[:,0])*(E-A+x[:,1])+ w*dot_L ) / (1-x[:,3]*w-(1-x[:,3])*x[:,0])\n",
    "dot_n = x[:,3]* (-(1-w)*dot_p/x[:,2] + 1/A*(eta*(E-A+x[:,1])+dot_L))\n",
    "\n",
    "plt.figure()\n",
    "T1,T2 = 3600,6332\n",
    "T1,T2 = 3500,6332\n",
    "plt.plot(t[T1:T2],L[T1:T2])\n",
    "plt.plot(t[T1:T2],A[T1:T2]*(1-1/lambda_[T1:T2]))\n",
    "\n",
    "plt.plot(t[T1:T2],p[T1:T2])\n",
    "#num = (1-n)*rho*mu + eta*(w-W)*(E+L) - w *theta*lambda_*L\n",
    "#dem =  (1-n)*rho + eta*n/w * (w-W) + theta*n*(lambda_-1)\n",
    "\n",
    "num = (1-n)*rho*mu + eta*(w-W)*E\n",
    "dem =  (1-n)*rho + eta*n/(w*lambda_) *(w-W) \n",
    "plt.plot(t[T1:T2],num[T1:T2]/dem[T1:T2])\n",
    "\n",
    "#plt.plot(t[T1:T2],a0[T1:T2])\n",
    "#plt.plot(t,dot_n / x[:,3])\n",
    "#plt.plot(t[T1:T2],a1[T1:T2])\n",
    "#plt.plot(t[T1:T2],theta*w*A[T1:T2]/ (p[T1:T2] * lambda_[T1:T2] * (1-n[T1:T2]*w-(1-n[T1:T2])*W[T1:T2])))\n",
    "\n",
    "#plt.plot(t,theta*x[:,3]/lambda_ /(1-x[:,3]*w-(1-x[:,3])*x[:,0]))\n",
    "plt.plot(t[T1:T2],lambda_[T1:T2]/10)\n",
    "\n"
   ]
  },
  {
   "cell_type": "code",
   "execution_count": 455,
   "metadata": {},
   "outputs": [
    {
     "data": {
      "text/plain": [
       "[<matplotlib.lines.Line2D at 0x7f1a2a18af50>]"
      ]
     },
     "execution_count": 455,
     "metadata": {},
     "output_type": "execute_result"
    }
   ],
   "source": [
    "plt.plot(p)"
   ]
  },
  {
   "cell_type": "code",
   "execution_count": null,
   "metadata": {},
   "outputs": [],
   "source": [
    "plt.plot()"
   ]
  },
  {
   "cell_type": "markdown",
   "metadata": {},
   "source": [
    "## Slow Manifold"
   ]
  },
  {
   "cell_type": "code",
   "execution_count": 314,
   "metadata": {},
   "outputs": [
    {
     "data": {
      "text/plain": [
       "0.816496580927726"
      ]
     },
     "execution_count": 314,
     "metadata": {},
     "output_type": "execute_result"
    }
   ],
   "source": [
    "np.sqrt(2/3)"
   ]
  },
  {
   "cell_type": "markdown",
   "metadata": {},
   "source": [
    "##### - Implicit function countour method"
   ]
  },
  {
   "cell_type": "code",
   "execution_count": 541,
   "metadata": {},
   "outputs": [],
   "source": [
    "def plot_implicit(fn,tv,s_0,alpha, bbox=(-0.5,1)):\n",
    "    ''' create a plot of an implicit function\n",
    "    fn  ...implicit function (plot where fn==0)\n",
    "    bbox ..the x,y,and z limits of plotted interval'''\n",
    "    xmin, xmax, ymin, ymax, zmin, zmax = bbox*3\n",
    "    ymin,ymax= 0, 1\n",
    "    zmin, zmax = 0,12\n",
    "    fig = plt.figure()\n",
    "    ax = fig.add_subplot(111, projection='3d')\n",
    "    A = np.linspace(xmin, xmax, 1000) # resolution of the contour\n",
    "    B = np.linspace(ymin, ymax, 100) # number of slices\n",
    "    C = np.linspace(0, zmax, 100)\n",
    "    A1,A2 = np.meshgrid(A,C) # grid on which the contour is plotted\n",
    "\n",
    "    \n",
    "\n",
    "    for y in B: # plot contours in the XZ plane\n",
    "        X,Z = A1,A2\n",
    "        Y = fn(X,y,Z,tv,s_0,alpha)\n",
    "        cset = ax.contour(X, Y+y, Z, [y], zdir='y',alpha=0.2)\n",
    "\n",
    "\n",
    "    # must set plot limits because the contour will likely extend\n",
    "    # way beyond the displayed level.  Otherwise matplotlib extends the plot limits\n",
    "    # to encompass all values in the contour.\n",
    "    ax.set_zlim3d(zmin,zmax)\n",
    "    ax.set_xlim3d(xmin,xmax)\n",
    "    ax.set_ylim3d(ymin,ymax)\n",
    "\n",
    "    plt.show()"
   ]
  },
  {
   "cell_type": "code",
   "execution_count": 544,
   "metadata": {},
   "outputs": [
    {
     "name": "stdout",
     "output_type": "stream",
     "text": [
      "tv,s_0,alpha =  0.1 1e-06 0.01\n"
     ]
    },
    {
     "name": "stderr",
     "output_type": "stream",
     "text": [
      "/home/lcbob/anaconda3/lib/python3.7/site-packages/ipykernel_launcher.py:8: RuntimeWarning: More than 20 figures have been opened. Figures created through the pyplot interface (`matplotlib.pyplot.figure`) are retained until explicitly closed and may consume too much memory. (To control this warning, see the rcParam `figure.max_open_warning`).\n",
      "  \n"
     ]
    }
   ],
   "source": [
    "def goursat_tangle(x,y,z,tv,s_0,alpha):\n",
    "    #t,s_0,alpha = 1,10**-2,1\n",
    "    return tv**2*(y*z-x)**2*z**2+s_0*z**2-alpha**2\n",
    "    #return tv**2*(y*z-x)**2+s_0-alpha**2/z**2\n",
    "\n",
    "#tv,s_0,alpha = 1,0.01,1\n",
    "tv,s_0,alpha =  0.1, 10**-6, 0.01\n",
    "\n",
    "print('tv,s_0,alpha = ',tv,s_0,alpha)\n",
    "plot_implicit(goursat_tangle,tv,s_0,alpha)"
   ]
  },
  {
   "cell_type": "markdown",
   "metadata": {},
   "source": [
    "###### - a0, a1, lambda_ def"
   ]
  },
  {
   "cell_type": "code",
   "execution_count": 380,
   "metadata": {},
   "outputs": [],
   "source": [
    "W,L,p,n,s = np.transpose(x)\n",
    "A = n*p/w\n",
    "\n",
    "a1 = w/p * theta * (A - L) / (1-n*w-(1-n)*W)\n",
    "a0 = (theta*n-(1-n)*rho*(mu/p-1)-eta/p*(w-W)*(E-A+L)) / (1-n*w-(1-n)*W)\n",
    "\n",
    "tv,s_0,alpha =  0.1, 10**-6, 0.01\n",
    "lambda_ = alpha * (s + s_0)**b"
   ]
  },
  {
   "cell_type": "code",
   "execution_count": 487,
   "metadata": {},
   "outputs": [
    {
     "name": "stderr",
     "output_type": "stream",
     "text": [
      "/home/lcbob/anaconda3/lib/python3.7/site-packages/ipykernel_launcher.py:1: RuntimeWarning: More than 20 figures have been opened. Figures created through the pyplot interface (`matplotlib.pyplot.figure`) are retained until explicitly closed and may consume too much memory. (To control this warning, see the rcParam `figure.max_open_warning`).\n",
      "  \"\"\"Entry point for launching an IPython kernel.\n"
     ]
    },
    {
     "data": {
      "text/plain": [
       "[<mpl_toolkits.mplot3d.art3d.Line3D at 0x7f1a1f31f050>]"
      ]
     },
     "execution_count": 487,
     "metadata": {},
     "output_type": "execute_result"
    }
   ],
   "source": [
    "fig = plt.figure()\n",
    "ax = fig.add_subplot(111, projection='3d')\n",
    "T1,T2 = 3600,6332\n",
    "\n",
    "plt.plot(a0[T1:T2],p[T1:T2],lambda_[T1:T2],'.',markersize = 0.4)\n",
    "#ax.set_xlim3d(0,1)"
   ]
  },
  {
   "cell_type": "code",
   "execution_count": 543,
   "metadata": {},
   "outputs": [
    {
     "name": "stderr",
     "output_type": "stream",
     "text": [
      "/home/lcbob/anaconda3/lib/python3.7/site-packages/ipykernel_launcher.py:1: RuntimeWarning: More than 20 figures have been opened. Figures created through the pyplot interface (`matplotlib.pyplot.figure`) are retained until explicitly closed and may consume too much memory. (To control this warning, see the rcParam `figure.max_open_warning`).\n",
      "  \"\"\"Entry point for launching an IPython kernel.\n"
     ]
    },
    {
     "data": {
      "text/plain": [
       "[<matplotlib.lines.Line2D at 0x7f1a15191c90>]"
      ]
     },
     "execution_count": 543,
     "metadata": {},
     "output_type": "execute_result"
    }
   ],
   "source": [
    "plt.figure()\n",
    "\n",
    "#T1,T2 = 3610,4100\n",
    "T1,T2 = 3600,4500\n",
    "\n",
    "plt.plot(10*a0[T1:T2],a1[T1:T2],'+--')\n",
    "plt.plot(0*a0[T1:T2],a1[T1:T2],'+--')"
   ]
  },
  {
   "cell_type": "code",
   "execution_count": 545,
   "metadata": {},
   "outputs": [
    {
     "data": {
      "text/plain": [
       "Text(-0.034953059062034934, -0.09081071126310042, 'a0')"
      ]
     },
     "execution_count": 545,
     "metadata": {},
     "output_type": "execute_result"
    }
   ],
   "source": [
    "T1,T2 = 3610,4100 #10\n",
    "#T1,T2 = 2280,4100 #100\n",
    "#T1,T2 = 3600,5000 #1\n",
    "\n",
    "\n",
    "plt.plot(a0[T1:T2],a1[T1:T2],lambda_[T1:T2],'+--')\n",
    "plt.plot(a0[0:1],a1[0:1],lambda_[0:1],'g.')\n",
    "plt.xlabel('a0')"
   ]
  },
  {
   "cell_type": "code",
   "execution_count": 283,
   "metadata": {},
   "outputs": [
    {
     "data": {
      "text/plain": [
       "Text(-0.03495305906203494, -0.09081071126310043, 'a0')"
      ]
     },
     "execution_count": 283,
     "metadata": {},
     "output_type": "execute_result"
    }
   ],
   "source": [
    "T1,T2 = 2000,10000\n",
    "\n",
    "plt.plot(a0[T1:T2],a1[T1:T2],lambda_[T1:T2],'.')\n",
    "\n",
    "#plt.plot(a0[0:1],a1[0:1],lambda_[0:1],'g.')\n",
    "plt.xlabel('a0')"
   ]
  },
  {
   "cell_type": "code",
   "execution_count": 377,
   "metadata": {},
   "outputs": [
    {
     "name": "stderr",
     "output_type": "stream",
     "text": [
      "/home/lcbob/anaconda3/lib/python3.7/site-packages/ipykernel_launcher.py:1: RuntimeWarning: More than 20 figures have been opened. Figures created through the pyplot interface (`matplotlib.pyplot.figure`) are retained until explicitly closed and may consume too much memory. (To control this warning, see the rcParam `figure.max_open_warning`).\n",
      "  \"\"\"Entry point for launching an IPython kernel.\n"
     ]
    },
    {
     "data": {
      "text/plain": [
       "[<matplotlib.lines.Line2D at 0x7f1a45ac95d0>]"
      ]
     },
     "execution_count": 377,
     "metadata": {},
     "output_type": "execute_result"
    }
   ],
   "source": [
    "\n",
    "fig = plt.figure(figsize=(5,5))\n",
    "\n",
    "ax1 = fig.add_subplot(3,1,1)\n",
    "ax2 = fig.add_subplot(3,1,2)\n",
    "ax3 = fig.add_subplot(3,1,3)\n",
    "\n",
    "ax1.plot(t,lambda_)\n",
    "ax2.plot(t,tv**2*(a1*lambda_ - a0)**2 + s_0 - (lambda_/alpha)**-2)\n",
    "ax3.plot(t,a0)\n"
   ]
  },
  {
   "cell_type": "code",
   "execution_count": 165,
   "metadata": {},
   "outputs": [
    {
     "data": {
      "text/plain": [
       "[<mpl_toolkits.mplot3d.art3d.Line3D at 0x7f1a7b899510>]"
      ]
     },
     "execution_count": 165,
     "metadata": {},
     "output_type": "execute_result"
    }
   ],
   "source": [
    "plt.plot(theta*n / (1-n*w-(1-n)*W), theta*n/lambda_ /(1-n*w-(1-n)*W) ,lambda_)"
   ]
  },
  {
   "cell_type": "code",
   "execution_count": 166,
   "metadata": {
    "scrolled": true
   },
   "outputs": [
    {
     "data": {
      "text/plain": [
       "[<mpl_toolkits.mplot3d.art3d.Line3D at 0x7f1a7e843c90>]"
      ]
     },
     "execution_count": 166,
     "metadata": {},
     "output_type": "execute_result"
    }
   ],
   "source": [
    "plt.plot(theta*n / (1-n*w-(1-n)*W),w/p * theta*(A-L) /(1-n*w-(1-n)*W) ,lambda_)"
   ]
  },
  {
   "cell_type": "code",
   "execution_count": 81,
   "metadata": {},
   "outputs": [
    {
     "data": {
      "text/plain": [
       "[<mpl_toolkits.mplot3d.art3d.Line3D at 0x7efc12600b90>]"
      ]
     },
     "execution_count": 81,
     "metadata": {},
     "output_type": "execute_result"
    }
   ],
   "source": [
    "plt.plot(theta*n / (1-n*w-(1-n)*W),a1,lambda_)"
   ]
  },
  {
   "cell_type": "code",
   "execution_count": 210,
   "metadata": {},
   "outputs": [
    {
     "data": {
      "text/plain": [
       "[<matplotlib.lines.Line2D at 0x7fc189efda90>]"
      ]
     },
     "execution_count": 210,
     "metadata": {},
     "output_type": "execute_result"
    }
   ],
   "source": [
    "plt.figure()\n",
    "dot_L = theta*(lambda_*(A-L)-A)\n",
    "#plt.plot(t,dot_L)\n",
    "plt.plot(t,a1)\n",
    "plt.plot(t,w/p * theta*(E) /(1-n*w-(1-n)*W),alpha=0.5)"
   ]
  },
  {
   "cell_type": "code",
   "execution_count": 90,
   "metadata": {},
   "outputs": [
    {
     "data": {
      "text/plain": [
       "[<matplotlib.lines.Line2D at 0x7efc070e0890>]"
      ]
     },
     "execution_count": 90,
     "metadata": {},
     "output_type": "execute_result"
    }
   ],
   "source": [
    "plt.figure()\n",
    "plt.plot(t,(1-1/lambda_)*A,alpha=0.5)\n",
    "plt.plot(t,L,alpha=0.5)"
   ]
  },
  {
   "cell_type": "markdown",
   "metadata": {},
   "source": [
    "### Compare $\\dot{n}$ and $\\dot{n}_{slow }$"
   ]
  },
  {
   "cell_type": "code",
   "execution_count": 526,
   "metadata": {},
   "outputs": [],
   "source": [
    "a_ = (1-w)*rho*(mu/p-1)+ eta*(1-w)/(w*lambda_)\n",
    "b_ = -((1-w)*(rho*(mu/p-1)+E*eta/lambda_) + eta/lambda_)\n",
    "c_ = eta*w*E / p"
   ]
  },
  {
   "cell_type": "code",
   "execution_count": 527,
   "metadata": {},
   "outputs": [],
   "source": [
    "DELTA = b_**2 - 4*a_*c_\n",
    "D_ = [i*(i>0) for i in DELTA]\n",
    "d_ = np.sqrt(D_)"
   ]
  },
  {
   "cell_type": "code",
   "execution_count": 532,
   "metadata": {},
   "outputs": [],
   "source": [
    "dot_L = theta*(lambda_*(A-L)-A)\n",
    "dot_p = ((1-n)*rho*(mu-p)+eta*(w-W)*(E-A+L)+w*dot_L) / (1-n*w-(1-n)*W)\n",
    "df3dn =  ( -rho*(mu-p)-(w-W)*eta*p/w + w*theta*(lambda_-1)*p/w ) / (1-w*n-(1-n)*W) - (-w+W)*((1-n)*rho*(mu-p)+eta*(E-A+L)+w*dot_L) / (1-w*n-(1-n)*W)**2\n",
    "\n",
    "df4dn = w/p*(-eta*p/w+theta*(lambda_-1)*p/w)\n",
    "\n",
    "dfndn = -(1-w)/p *(dot_p + n*df3dn) + df4dn"
   ]
  },
  {
   "cell_type": "code",
   "execution_count": 540,
   "metadata": {},
   "outputs": [
    {
     "name": "stderr",
     "output_type": "stream",
     "text": [
      "/home/lcbob/anaconda3/lib/python3.7/site-packages/ipykernel_launcher.py:1: RuntimeWarning: More than 20 figures have been opened. Figures created through the pyplot interface (`matplotlib.pyplot.figure`) are retained until explicitly closed and may consume too much memory. (To control this warning, see the rcParam `figure.max_open_warning`).\n",
      "  \"\"\"Entry point for launching an IPython kernel.\n"
     ]
    },
    {
     "data": {
      "text/plain": [
       "[<matplotlib.lines.Line2D at 0x7f1a1b338990>]"
      ]
     },
     "execution_count": 540,
     "metadata": {},
     "output_type": "execute_result"
    }
   ],
   "source": [
    "plt.figure()\n",
    "T1,T2 = 3600,6332\n",
    "T1,T2 = 3500,6632\n",
    "plt.plot(t[T1:T2],n[T1:T2]-(-b_[T1:T2] - d_[T1:T2] )/ (2*a_[T1:T2]) )\n",
    "#plt.plot(t[T1:T2],(-b_[T1:T2] + d_[T1:T2] )/ (2*a_[T1:T2]))\n",
    "#plt.plot(t[T1:T2],(-b_[T1:T2] - d_[T1:T2] )/ (2*a_[T1:T2]))\n",
    "#plt.plot(t[T1:T2],(dfndn[T1:T2]>0))\n",
    "#plt.plot(t[T1:T2],lambda_[T1:T2]/10)\n",
    "\n"
   ]
  },
  {
   "cell_type": "code",
   "execution_count": 531,
   "metadata": {},
   "outputs": [],
   "source": [
    "\n",
    "\n"
   ]
  },
  {
   "cell_type": "code",
   "execution_count": 11,
   "metadata": {},
   "outputs": [],
   "source": [
    "lambda_ = alpha*(x[:,4]+s_0)**b\n",
    "\n",
    "\n",
    "A = x[:,2]*x[:,3]/w\n",
    "mu = 25\n",
    "\n",
    "#dot_W = x[0]*rho*((mu/x[2]-1)+float(np.random.normal(0,0.22,1)))\n",
    "dot_W = x[:,0]*rho*((mu/x[:,2]-1))\n",
    "#dot_W = 0\n",
    "dot_L = theta*(lambda_*(A-x[:,1])-A)\n",
    "dot_p = (x[:,2]* (1-x[:,3]) * dot_W / x[:,0] + eta*(w-x[:,0])*(E-A+x[:,1])+ w*dot_L ) / (1-x[:,3]*w-(1-x[:,3])*x[:,0])\n",
    "dot_n = x[:,3]* (-(1-w)*dot_p/x[:,2] + 1/A*(eta*(E-A+x[:,1])+dot_L))"
   ]
  },
  {
   "cell_type": "code",
   "execution_count": 20,
   "metadata": {},
   "outputs": [
    {
     "data": {
      "text/plain": [
       "[<matplotlib.lines.Line2D at 0x7efc444cc7d0>]"
      ]
     },
     "execution_count": 20,
     "metadata": {},
     "output_type": "execute_result"
    }
   ],
   "source": [
    "\n",
    "plt.figure()\n",
    "\n",
    "\n",
    "\n",
    "plt.plot(t,dot_n)\n",
    "plt.plot(t,eta*(E*w/x[:,2] - x[:,3]/lambda_),alpha=0.3)\n",
    "#plt.plot(t,w/x[:,2]*(eta*(E-A+x[:,1])),alpha=0.5)\n",
    "#plt.plot(t,-x[:,3]*(1-w)*dot_p/x[:,2] + w/x[:,2]*(eta*(E-A+x[:,1])),alpha=0.2)"
   ]
  },
  {
   "cell_type": "markdown",
   "metadata": {},
   "source": [
    "# Eigenvalues"
   ]
  },
  {
   "cell_type": "code",
   "execution_count": 108,
   "metadata": {},
   "outputs": [],
   "source": [
    "def eigenvalue(value):\n",
    "\n",
    "    #parameter\n",
    "    theta,eta,s0,alpha,bb,mu,rho,w,tv = [10,10,10**-6,0.01,-0.5,25,0.1,0.5,0.1]\n",
    "       #theta,eta,s0,alpha,bb,mu,rho,w,tv = [10,10,0,0.01,-0.5,25,0.1,0.5,0.1]\n",
    "\n",
    "    #value\n",
    "    W,L,p,n,s = value\n",
    "    \n",
    "    Mat = np.zeros((5,5))\n",
    "    A = n*p / w\n",
    "    lambda_ = alpha*(s+s0)**bb\n",
    "    \n",
    "    Mat[0,0] = rho*(mu/p-1)\n",
    "    Mat[0,2] = -W*rho*mu/p**2\n",
    "\n",
    "    Mat[1,1] = -theta*lambda_\n",
    "    Mat[1,2] = theta*(lambda_-1)*n/w\n",
    "    Mat[1,3] = theta*(lambda_-1)*p/w\n",
    "    Mat[1,4] = theta*(A-L)\n",
    "\n",
    "    dot_L = theta*(lambda_*(A-L)-A)\n",
    "    dot_p = ((1-n)*rho*(mu-p)+eta*(w-W)*(E-A+L)+w*dot_L) / (1-n*w-(1-n)*W)\n",
    "\n",
    "    #df3dW = -eta*(E-A+L) / (1-w*n-(1-n)*W) - (1-n)*dot_p / (1-n*w-(1-n)*W)**2\n",
    "    df3dW = -eta*(E-A+L) / (1-w*n-(1-n)*W) + (1-n)*dot_p / (1-n*w-(1-n)*W)**2 # change sign\n",
    "    df3dl = ( (w-W)*eta + w*Mat[1,1] ) / (1-w*n-(1-n)*W)\n",
    "    df3dp =  ( (1-n)*(-rho)-(w-W)*eta*n/w + w*Mat[1,2] ) / (1-w*n-(1-n)*W)\n",
    "    df3dn =  ( -rho*(mu-p)-(w-W)*eta*p/w + w*Mat[1,3] ) / (1-w*n-(1-n)*W) - (-w+W)*((1-n)*rho*(mu-p)+eta*(E-A+L)+w*dot_L) / (1-w*n-(1-n)*W)**2\n",
    "    df3dlambda = w*(theta*(A-L)) / (1-w*n-(1-n)*W)\n",
    "\n",
    "    Mat[2,0] = df3dW\n",
    "    Mat[2,1] = df3dl\n",
    "    Mat[2,2] = df3dp\n",
    "    Mat[2,3] = df3dn\n",
    "    Mat[2,4] = df3dlambda\n",
    "\n",
    "    \n",
    "    df4dl = w/p*(eta+Mat[1,1])\n",
    "    df4dp = -w/p**2*(eta*(E-A+L)+theta*(lambda_*(A-L)-A)) + w/p * (eta*(-n/w)+Mat[1,2])\n",
    "    df4dn = w/p*(-eta*p/w+Mat[1,3])\n",
    "    df4dlambda = w/p*theta*(A-L)\n",
    "\n",
    "    Mat[3,0] = -(1-w)*n/p * df3dW\n",
    "    Mat[3,1] = -(1-w)*n/p * df3dl + df4dl\n",
    "    Mat[3,2] = -(1-w)*n * (df3dp/p-dot_p/p**2) + df4dp\n",
    "    Mat[3,3] = -(1-w)/p *(dot_p + n*df3dn) + df4dn\n",
    "    Mat[3,4] = -(1-w)*n/p * df3dlambda + df4dlambda\n",
    "\n",
    "\n",
    "    a0 = ((1-n)*rho*(mu-p)*eta*(w-W)*(E-A+L)+w*theta*(-A)) / (p*(1-n*w-(1-n)*W))\n",
    "    a1 = w*theta*(A-L) / (p*(1-n*w-(1-n)*W))\n",
    "\n",
    "\n",
    "\n",
    "    #Mat[4,0] = delta / (2*alpha**2) * tv**2 *lambda_**2*2*dot_p/p * df3dW /p\n",
    "    #Mat[4,1] = delta / (2*alpha**2) * tv**2 *lambda_**2*2*dot_p/p * df3dl /p\n",
    "    #Mat[4,2] = delta / (2*alpha**2) * tv**2 *lambda_**2*2*dot_p/p * (df3dp /p - dot_p/p**2)\n",
    "    #Mat[4,3] = delta / (2*alpha**2) * tv**2 *lambda_**2*2*dot_p/p * (df3dn /p)\n",
    "    #Mat[4,4] = delta / (2*alpha**2) * (alpha**2 - 3*s0*lambda_**2 + tv**2*lambda_**2*(3*a0**2+2*4*a0*a1*lambda_+5*a1**2*lambda_**2))\n",
    "\n",
    "    \n",
    "    Mat[4,0] = - delta / (2*alpha**2) * tv**2 *lambda_**3*2*dot_p/p * df3dW /p\n",
    "    Mat[4,1] = - delta / (2*alpha**2) * tv**2 *lambda_**3*2*dot_p/p * df3dl /p\n",
    "    Mat[4,2] = - delta / (2*alpha**2) * tv**2 *lambda_**3*2*dot_p/p * (df3dp /p - dot_p/p**2)\n",
    "    Mat[4,3] = - delta / (2*alpha**2) * tv**2 *lambda_**3*2*dot_p/p * (df3dn /p)\n",
    "    Mat[4,4] = delta / (2*alpha**2) * (alpha**2 - 3*s0*lambda_**2 - tv**2*lambda_**2*(3*a0**2+2*4*a0*a1*lambda_+5*a1**2*lambda_**2))\n",
    "\n",
    "    \n",
    "    eigva, v = LA.eig(Mat)\n",
    "    return(eigva,v)"
   ]
  },
  {
   "cell_type": "code",
   "execution_count": 109,
   "metadata": {},
   "outputs": [],
   "source": [
    "list_values = np.array([eigenvalue(value)[0] for value in x])"
   ]
  },
  {
   "cell_type": "code",
   "execution_count": 110,
   "metadata": {},
   "outputs": [],
   "source": [
    "T1 = 0\n",
    "T2 = 20000"
   ]
  },
  {
   "cell_type": "code",
   "execution_count": 113,
   "metadata": {},
   "outputs": [
    {
     "name": "stdout",
     "output_type": "stream",
     "text": [
      "0\n",
      "1\n",
      "2\n",
      "3\n",
      "4\n"
     ]
    },
    {
     "name": "stderr",
     "output_type": "stream",
     "text": [
      "/home/lcbob/anaconda3/lib/python3.7/site-packages/ipykernel_launcher.py:7: MatplotlibDeprecationWarning: Adding an axes using the same arguments as a previous axes currently reuses the earlier instance.  In a future version, a new instance will always be created and returned.  Meanwhile, this warning can be suppressed, and the future behavior ensured, by passing a unique label to each axes instance.\n",
      "  import sys\n",
      "/home/lcbob/anaconda3/lib/python3.7/site-packages/ipykernel_launcher.py:8: MatplotlibDeprecationWarning: Adding an axes using the same arguments as a previous axes currently reuses the earlier instance.  In a future version, a new instance will always be created and returned.  Meanwhile, this warning can be suppressed, and the future behavior ensured, by passing a unique label to each axes instance.\n",
      "  \n",
      "/home/lcbob/anaconda3/lib/python3.7/site-packages/ipykernel_launcher.py:9: MatplotlibDeprecationWarning: Adding an axes using the same arguments as a previous axes currently reuses the earlier instance.  In a future version, a new instance will always be created and returned.  Meanwhile, this warning can be suppressed, and the future behavior ensured, by passing a unique label to each axes instance.\n",
      "  if __name__ == '__main__':\n",
      "/home/lcbob/anaconda3/lib/python3.7/site-packages/ipykernel_launcher.py:7: MatplotlibDeprecationWarning: Adding an axes using the same arguments as a previous axes currently reuses the earlier instance.  In a future version, a new instance will always be created and returned.  Meanwhile, this warning can be suppressed, and the future behavior ensured, by passing a unique label to each axes instance.\n",
      "  import sys\n",
      "/home/lcbob/anaconda3/lib/python3.7/site-packages/ipykernel_launcher.py:8: MatplotlibDeprecationWarning: Adding an axes using the same arguments as a previous axes currently reuses the earlier instance.  In a future version, a new instance will always be created and returned.  Meanwhile, this warning can be suppressed, and the future behavior ensured, by passing a unique label to each axes instance.\n",
      "  \n",
      "/home/lcbob/anaconda3/lib/python3.7/site-packages/ipykernel_launcher.py:9: MatplotlibDeprecationWarning: Adding an axes using the same arguments as a previous axes currently reuses the earlier instance.  In a future version, a new instance will always be created and returned.  Meanwhile, this warning can be suppressed, and the future behavior ensured, by passing a unique label to each axes instance.\n",
      "  if __name__ == '__main__':\n",
      "/home/lcbob/anaconda3/lib/python3.7/site-packages/ipykernel_launcher.py:7: MatplotlibDeprecationWarning: Adding an axes using the same arguments as a previous axes currently reuses the earlier instance.  In a future version, a new instance will always be created and returned.  Meanwhile, this warning can be suppressed, and the future behavior ensured, by passing a unique label to each axes instance.\n",
      "  import sys\n",
      "/home/lcbob/anaconda3/lib/python3.7/site-packages/ipykernel_launcher.py:8: MatplotlibDeprecationWarning: Adding an axes using the same arguments as a previous axes currently reuses the earlier instance.  In a future version, a new instance will always be created and returned.  Meanwhile, this warning can be suppressed, and the future behavior ensured, by passing a unique label to each axes instance.\n",
      "  \n",
      "/home/lcbob/anaconda3/lib/python3.7/site-packages/ipykernel_launcher.py:9: MatplotlibDeprecationWarning: Adding an axes using the same arguments as a previous axes currently reuses the earlier instance.  In a future version, a new instance will always be created and returned.  Meanwhile, this warning can be suppressed, and the future behavior ensured, by passing a unique label to each axes instance.\n",
      "  if __name__ == '__main__':\n",
      "/home/lcbob/anaconda3/lib/python3.7/site-packages/ipykernel_launcher.py:7: MatplotlibDeprecationWarning: Adding an axes using the same arguments as a previous axes currently reuses the earlier instance.  In a future version, a new instance will always be created and returned.  Meanwhile, this warning can be suppressed, and the future behavior ensured, by passing a unique label to each axes instance.\n",
      "  import sys\n",
      "/home/lcbob/anaconda3/lib/python3.7/site-packages/ipykernel_launcher.py:8: MatplotlibDeprecationWarning: Adding an axes using the same arguments as a previous axes currently reuses the earlier instance.  In a future version, a new instance will always be created and returned.  Meanwhile, this warning can be suppressed, and the future behavior ensured, by passing a unique label to each axes instance.\n",
      "  \n",
      "/home/lcbob/anaconda3/lib/python3.7/site-packages/ipykernel_launcher.py:9: MatplotlibDeprecationWarning: Adding an axes using the same arguments as a previous axes currently reuses the earlier instance.  In a future version, a new instance will always be created and returned.  Meanwhile, this warning can be suppressed, and the future behavior ensured, by passing a unique label to each axes instance.\n",
      "  if __name__ == '__main__':\n"
     ]
    }
   ],
   "source": [
    "fig = plt.figure(figsize=(8,8))\n",
    "\n",
    "\n",
    "for i in range(5):\n",
    "    print(i)\n",
    "    fig.subplots_adjust(wspace = 0.5, hspace = 0.3)\n",
    "    ax1 = fig.add_subplot(3,1,1)\n",
    "    ax2 = fig.add_subplot(3,1,2)\n",
    "    ax3 = fig.add_subplot(3,1,3)\n",
    "    \n",
    "    ax1.plot(t[T1:T2],lambda_[T1:T2], 'g-',label ='s',markersize=0.1)\n",
    "        \n",
    "    ax2.plot(t[T1:T2],list_values[:,i][T1:T2].real,'+--',markersize=1,alpha=0.5)\n",
    "    #ax2.plot(tt[T1:T2],0+0*list_values[:,i][T1:T2].real,'k--',alpha=0.5)\n",
    "    #ax2.plot(t[T1:T2],-1+0*list_values[:,i][T1:T2].real,'k--',alpha=0.5)\n",
    "    #ax2.plot(t[T1:T2],np.absolute(list_values[:,i][T1:T2]),'-',alpha=0.5)\n",
    "    \n",
    "    ax3.plot(t[T1:T2],list_values[:,i][T1:T2].imag,'.',markersize=0.5)\n",
    "\n",
    "ax1.set_ylabel('$\\lambda$')        \n",
    "ax2.set_ylabel('$Re(\\lambda_i)$') \n",
    "ax2.grid()\n",
    "ax3.set_ylabel('$Imag(\\lambda_i)$')         \n",
    "ax3.set_xlabel('$t$')     \n",
    "\n",
    "plt.show()"
   ]
  },
  {
   "cell_type": "code",
   "execution_count": 94,
   "metadata": {},
   "outputs": [
    {
     "name": "stdout",
     "output_type": "stream",
     "text": [
      "(-1443.6341311155654+0j) \n",
      " [ 1.43131325e-08+0.j  1.37914482e-02+0.j  1.49896789e-02+0.j\n",
      "  1.58147333e-04+0.j -9.99792519e-01+0.j]\n",
      "(-0.027784875930387865+0j) \n",
      " [-2.01896105e-01+0.j  2.67529421e-02+0.j -9.79006213e-01+0.j\n",
      "  8.30770658e-03+0.j -2.45567411e-04+0.j]\n",
      "(-0.16776687487607184+0j) \n",
      " [ 0.00938521+0.j -0.05174751+0.j  0.99857544+0.j -0.00891731+0.j\n",
      "  0.00129984+0.j]\n",
      "(-0.8074117844486703+9.355455623339182j) \n",
      " [9.11114210e-06+1.08403509e-04j 6.69526493e-01-8.24439417e-05j\n",
      " 7.40921607e-01+0.00000000e+00j 5.99966101e-03+1.63104132e-03j\n",
      " 4.13181070e-03-5.20931935e-02j]\n",
      "(-0.8074117844486703-9.355455623339182j) \n",
      " [9.11114210e-06-1.08403509e-04j 6.69526493e-01+8.24439417e-05j\n",
      " 7.40921607e-01-0.00000000e+00j 5.99966101e-03-1.63104132e-03j\n",
      " 4.13181070e-03+5.20931935e-02j]\n"
     ]
    }
   ],
   "source": [
    "w,v = eigenvalue(x[int(4400)])\n",
    "for i in range(len(w)):\n",
    "    print(w[i],'\\n',v[:,i])"
   ]
  },
  {
   "cell_type": "code",
   "execution_count": 69,
   "metadata": {},
   "outputs": [
    {
     "name": "stdout",
     "output_type": "stream",
     "text": [
      "(-1768.836024113208+0j) \n",
      " [ 8.61863919e-09+0.j  1.12252058e-02+0.j  1.17329442e-02+0.j\n",
      "  1.23465761e-04+0.j -9.99868150e-01+0.j]\n",
      "(-0.024205070708052445+0j) \n",
      " [-4.65674921e-01+0.j  2.75081720e-02+0.j -8.84488283e-01+0.j\n",
      "  8.40475803e-03+0.j -7.55655175e-05+0.j]\n",
      "(-0.15588333332227028+0j) \n",
      " [-9.66579548e-03+0.j  6.27149374e-02+0.j -9.97934048e-01+0.j\n",
      "  1.00391238e-02+0.j -5.10265199e-04+0.j]\n",
      "(1.8630228107480566+9.707474118854746j) \n",
      " [ 1.81495845e-05-9.34796056e-05j -6.88598319e-01+4.39347930e-03j\n",
      " -7.24735408e-01+0.00000000e+00j -5.87589574e-03-1.28711076e-03j\n",
      "  4.48918218e-03+2.27001474e-02j]\n",
      "(1.8630228107480566-9.707474118854746j) \n",
      " [ 1.81495845e-05+9.34796056e-05j -6.88598319e-01-4.39347930e-03j\n",
      " -7.24735408e-01-0.00000000e+00j -5.87589574e-03+1.28711076e-03j\n",
      "  4.48918218e-03-2.27001474e-02j]\n"
     ]
    }
   ],
   "source": [
    "\n",
    "w,v = eigenvalue(x[int(4600)])\n",
    "for i in range(len(w)):\n",
    "    print(w[i],'\\n',v[:,i])"
   ]
  },
  {
   "cell_type": "code",
   "execution_count": 153,
   "metadata": {},
   "outputs": [
    {
     "name": "stdout",
     "output_type": "stream",
     "text": [
      "(1.3974620053231668+0j) \n",
      " [ 0.00161994+0.j -0.61484522+0.j -0.70680871+0.j -0.0126482 +0.j\n",
      " -0.34960577+0.j]\n",
      "(-0.13208228823802243+0.11995165605954951j) \n",
      " [ 0.01304953+0.01098273j -0.02116042+0.01166899j  0.99948615+0.j\n",
      " -0.00182579+0.00026544j -0.01081844+0.0056713j ]\n",
      "(-0.13208228823802243-0.11995165605954951j) \n",
      " [ 0.01304953-0.01098273j -0.02116042-0.01166899j  0.99948615-0.j\n",
      " -0.00182579-0.00026544j -0.01081844-0.0056713j ]\n",
      "(-12.960293507410576+0j) \n",
      " [ 1.98036470e-04+0.j  5.84939297e-01+0.j  8.08037050e-01+0.j\n",
      "  1.44577714e-02+0.j -6.86518665e-02+0.j]\n",
      "(-9.520600193788134+0j) \n",
      " [ 2.98810135e-04+0.j  4.38168242e-01+0.j  8.95895217e-01+0.j\n",
      " -3.74730271e-03+0.j -7.32544877e-02+0.j]\n"
     ]
    }
   ],
   "source": [
    "w,v = eigenvalue(x[int(5200)])\n",
    "for i in range(len(w)):\n",
    "    print(w[i],'\\n',v[:,i])"
   ]
  },
  {
   "cell_type": "code",
   "execution_count": 157,
   "metadata": {},
   "outputs": [
    {
     "name": "stdout",
     "output_type": "stream",
     "text": [
      "(-391.5259875209356+0j) \n",
      " [-2.88379663e-07+0.j -5.15156115e-02+0.j -6.45937644e-02+0.j\n",
      " -7.06846037e-04+0.j  9.96580798e-01+0.j]\n",
      "(-0.04169128255840321+0j) \n",
      " [-0.06789646+0.j  0.01135046+0.j -0.99761319+0.j  0.00528723+0.j\n",
      " -0.00109418+0.j]\n",
      "(-0.20996397296329244+0j) \n",
      " [ 0.00901037+0.j -0.01450788+0.j  0.99983041+0.j -0.00539597+0.j\n",
      "  0.0042851 +0.j]\n",
      "(-5.980263945971549+5.484236898446388j) \n",
      " [1.26058559e-04+0.00011591j 5.94665576e-01+0.02345995j\n",
      " 7.93832090e-01+0.j         6.19934037e-03+0.00282767j\n",
      " 9.03769877e-02-0.08624755j]\n",
      "(-5.980263945971549-5.484236898446388j) \n",
      " [1.26058559e-04-0.00011591j 5.94665576e-01-0.02345995j\n",
      " 7.93832090e-01-0.j         6.19934037e-03-0.00282767j\n",
      " 9.03769877e-02+0.08624755j]\n"
     ]
    }
   ],
   "source": [
    "w,v = eigenvalue(x[int(6000)])\n",
    "for i in range(len(w)):\n",
    "    print(w[i],'\\n',v[:,i])"
   ]
  },
  {
   "cell_type": "markdown",
   "metadata": {},
   "source": [
    "## fast eigenvalues"
   ]
  },
  {
   "cell_type": "code",
   "execution_count": 184,
   "metadata": {},
   "outputs": [],
   "source": [
    "def fast_eigenvalue(value):\n",
    "\n",
    "    #parameter\n",
    "    theta,eta,s0,alpha,bb,mu,rho,w,tv = [10,10,10**-6,0.01,-0.5,25,0.1,0.5,0.1]\n",
    "       #theta,eta,s0,alpha,bb,mu,rho,w,tv = [10,10,0,0.01,-0.5,25,0.1,0.5,0.1]\n",
    "\n",
    "    #value\n",
    "    W,L,p,n,s = value\n",
    "    \n",
    "    Mat = np.zeros((3,3))\n",
    "    A = n*p / w\n",
    "    lambda_ = alpha*(s+s0)**bb\n",
    "    \n",
    "\n",
    "    Mat[0,0] = -theta*lambda_\n",
    "    Mat[0,1] = theta*(lambda_-1)*n/w\n",
    "    Mat[0,2] = theta*(A-L)\n",
    "\n",
    "    dot_L = theta*(lambda_*(A-L)-A)\n",
    "    dot_p = ((1-n)*rho*(mu-p)+eta*(w-W)*(E-A+L)+w*dot_L) / (1-n*w-(1-n)*W)\n",
    "\n",
    "    #df3dW = -eta*(E-A+L) / (1-w*n-(1-n)*W) - (1-n)*dot_p / (1-n*w-(1-n)*W)**2\n",
    "    df3dW = -eta*(E-A+L) / (1-w*n-(1-n)*W) + (1-n)*dot_p / (1-n*w-(1-n)*W)**2 # change sign\n",
    "    df3dl = ( (w-W)*eta + w*Mat[1,1] ) / (1-w*n-(1-n)*W)\n",
    "    df3dp =  ( (1-n)*(-rho)-(w-W)*eta*n/w + w*Mat[0,1] ) / (1-w*n-(1-n)*W)\n",
    "    df3dlambda = w*(theta*(A-L)) / (1-w*n-(1-n)*W)\n",
    "\n",
    "    Mat[1,0] = df3dl\n",
    "    Mat[1,1] = df3dp\n",
    "    Mat[1,2] = df3dlambda\n",
    "\n",
    "    \n",
    "    df4dl = w/p*(eta+Mat[0,0])\n",
    "    df4dp = -w/p**2*(eta*(E-A+L)+theta*(lambda_*(A-L)-A)) + w/p * (eta*(-n/w)+Mat[0,1])\n",
    "    df4dlambda = w/p*theta*(A-L)\n",
    "\n",
    "    a0 = ((1-n)*rho*(mu-p)*eta*(w-W)*(E-A+L)+w*theta*(-A)) / (p*(1-n*w-(1-n)*W))\n",
    "    a1 = w*theta*(A-L) / (p*(1-n*w-(1-n)*W))\n",
    "\n",
    "\n",
    "\n",
    "    #Mat[4,0] = delta / (2*alpha**2) * tv**2 *lambda_**2*2*dot_p/p * df3dW /p\n",
    "    #Mat[4,1] = delta / (2*alpha**2) * tv**2 *lambda_**2*2*dot_p/p * df3dl /p\n",
    "    #Mat[4,2] = delta / (2*alpha**2) * tv**2 *lambda_**2*2*dot_p/p * (df3dp /p - dot_p/p**2)\n",
    "    #Mat[4,3] = delta / (2*alpha**2) * tv**2 *lambda_**2*2*dot_p/p * (df3dn /p)\n",
    "    #Mat[4,4] = delta / (2*alpha**2) * (alpha**2 - 3*s0*lambda_**2 + tv**2*lambda_**2*(3*a0**2+2*4*a0*a1*lambda_+5*a1**2*lambda_**2))\n",
    "\n",
    "    \n",
    "    Mat[2,0] = - delta / (2*alpha**2) * tv**2 *lambda_**3*2*dot_p/p * df3dl /p\n",
    "    Mat[2,1] = - delta / (2*alpha**2) * tv**2 *lambda_**3*2*dot_p/p * (df3dp /p - dot_p/p**2)\n",
    "    Mat[2,2] = delta / (2*alpha**2) * (alpha**2 - 3*s0*lambda_**2 - tv**2*lambda_**2*(3*a0**2+2*4*a0*a1*lambda_+5*a1**2*lambda_**2))\n",
    "\n",
    "    \n",
    "    eigva, v = LA.eig(Mat)\n",
    "    return(eigva,v)"
   ]
  },
  {
   "cell_type": "code",
   "execution_count": 185,
   "metadata": {},
   "outputs": [],
   "source": [
    "list_values = np.array([fast_eigenvalue(value)[0] for value in x])"
   ]
  },
  {
   "cell_type": "code",
   "execution_count": 186,
   "metadata": {},
   "outputs": [
    {
     "name": "stdout",
     "output_type": "stream",
     "text": [
      "0\n",
      "1\n",
      "2\n"
     ]
    },
    {
     "name": "stderr",
     "output_type": "stream",
     "text": [
      "/home/lcbob/anaconda3/lib/python3.7/site-packages/ipykernel_launcher.py:9: MatplotlibDeprecationWarning: Adding an axes using the same arguments as a previous axes currently reuses the earlier instance.  In a future version, a new instance will always be created and returned.  Meanwhile, this warning can be suppressed, and the future behavior ensured, by passing a unique label to each axes instance.\n",
      "  if __name__ == '__main__':\n",
      "/home/lcbob/anaconda3/lib/python3.7/site-packages/ipykernel_launcher.py:10: MatplotlibDeprecationWarning: Adding an axes using the same arguments as a previous axes currently reuses the earlier instance.  In a future version, a new instance will always be created and returned.  Meanwhile, this warning can be suppressed, and the future behavior ensured, by passing a unique label to each axes instance.\n",
      "  # Remove the CWD from sys.path while we load stuff.\n",
      "/home/lcbob/anaconda3/lib/python3.7/site-packages/ipykernel_launcher.py:11: MatplotlibDeprecationWarning: Adding an axes using the same arguments as a previous axes currently reuses the earlier instance.  In a future version, a new instance will always be created and returned.  Meanwhile, this warning can be suppressed, and the future behavior ensured, by passing a unique label to each axes instance.\n",
      "  # This is added back by InteractiveShellApp.init_path()\n",
      "/home/lcbob/anaconda3/lib/python3.7/site-packages/ipykernel_launcher.py:9: MatplotlibDeprecationWarning: Adding an axes using the same arguments as a previous axes currently reuses the earlier instance.  In a future version, a new instance will always be created and returned.  Meanwhile, this warning can be suppressed, and the future behavior ensured, by passing a unique label to each axes instance.\n",
      "  if __name__ == '__main__':\n",
      "/home/lcbob/anaconda3/lib/python3.7/site-packages/ipykernel_launcher.py:10: MatplotlibDeprecationWarning: Adding an axes using the same arguments as a previous axes currently reuses the earlier instance.  In a future version, a new instance will always be created and returned.  Meanwhile, this warning can be suppressed, and the future behavior ensured, by passing a unique label to each axes instance.\n",
      "  # Remove the CWD from sys.path while we load stuff.\n",
      "/home/lcbob/anaconda3/lib/python3.7/site-packages/ipykernel_launcher.py:11: MatplotlibDeprecationWarning: Adding an axes using the same arguments as a previous axes currently reuses the earlier instance.  In a future version, a new instance will always be created and returned.  Meanwhile, this warning can be suppressed, and the future behavior ensured, by passing a unique label to each axes instance.\n",
      "  # This is added back by InteractiveShellApp.init_path()\n"
     ]
    }
   ],
   "source": [
    "fig = plt.figure(figsize=(8,8))\n",
    "\n",
    "T1 = 0\n",
    "T2 = 20000\n",
    "\n",
    "for i in range(3):\n",
    "    print(i)\n",
    "    fig.subplots_adjust(wspace = 0.5, hspace = 0.3)\n",
    "    ax1 = fig.add_subplot(3,1,1)\n",
    "    ax2 = fig.add_subplot(3,1,2)\n",
    "    ax3 = fig.add_subplot(3,1,3)\n",
    "    \n",
    "    ax1.plot(t[T1:T2],lambda_[T1:T2], 'g-',label ='s',markersize=0.1)\n",
    "        \n",
    "    ax2.plot(t[T1:T2],list_values[:,i][T1:T2].real,'+--',markersize=1,alpha=0.5)\n",
    "    #ax2.plot(tt[T1:T2],0+0*list_values[:,i][T1:T2].real,'k--',alpha=0.5)\n",
    "    #ax2.plot(t[T1:T2],-1+0*list_values[:,i][T1:T2].real,'k--',alpha=0.5)\n",
    "    #ax2.plot(t[T1:T2],np.absolute(list_values[:,i][T1:T2]),'-',alpha=0.5)\n",
    "    \n",
    "    ax3.plot(t[T1:T2],list_values[:,i][T1:T2].imag,'.',markersize=0.5)\n",
    "\n",
    "ax1.set_ylabel('$\\lambda$')        \n",
    "ax2.set_ylabel('$Re(\\lambda_i)$') \n",
    "ax2.grid()\n",
    "ax3.set_ylabel('$Imag(\\lambda_i)$')         \n",
    "ax3.set_xlabel('$t$')     \n",
    "\n",
    "plt.show()"
   ]
  },
  {
   "cell_type": "code",
   "execution_count": 204,
   "metadata": {},
   "outputs": [
    {
     "name": "stdout",
     "output_type": "stream",
     "text": [
      "-1025.8665861412558 \n",
      " [ 0.01818889  0.01427371 -0.99973268]\n",
      "-8.692051613757886 \n",
      " [-0.90286107  0.4298292  -0.0094205 ]\n",
      "-2.2308237009128664 \n",
      " [ 0.04833987 -0.99878526 -0.00955258]\n"
     ]
    }
   ],
   "source": [
    "w,v = fast_eigenvalue(x[int(3620)])\n",
    "for i in range(len(w)):\n",
    "    print(w[i],'\\n',v[:,i])"
   ]
  },
  {
   "cell_type": "code",
   "execution_count": 205,
   "metadata": {
    "scrolled": false
   },
   "outputs": [
    {
     "name": "stdout",
     "output_type": "stream",
     "text": [
      "(-3.8650328730316614+3.241485488980759j) \n",
      " [0.7466503 +0.00000000e+00j 0.15725448-6.46350703e-01j\n",
      " 0.00385633+5.02292761e-04j]\n",
      "(-3.8650328730316614-3.241485488980759j) \n",
      " [0.7466503 -0.00000000e+00j 0.15725448+6.46350703e-01j\n",
      " 0.00385633-5.02292761e-04j]\n",
      "(-127.77874098424516+0j) \n",
      " [-0.12541357+0.j -0.09486438+0.j  0.9875587 +0.j]\n"
     ]
    }
   ],
   "source": [
    "w,v = fast_eigenvalue(x[int(3621)])\n",
    "for i in range(len(w)):\n",
    "    print(w[i],'\\n',v[:,i])"
   ]
  },
  {
   "cell_type": "code",
   "execution_count": 203,
   "metadata": {},
   "outputs": [
    {
     "name": "stdout",
     "output_type": "stream",
     "text": [
      "(-30.975443398425504+5.888543134672153j) \n",
      " [ 0.92494225+0.j         -0.07932327-0.16213152j  0.10951597+0.31608427j]\n",
      "(-30.975443398425504-5.888543134672153j) \n",
      " [ 0.92494225-0.j         -0.07932327+0.16213152j  0.10951597-0.31608427j]\n",
      "(1.75544464859462+0j) \n",
      " [ 0.07800718+0.j  0.98757056+0.j -0.13645245+0.j]\n"
     ]
    }
   ],
   "source": [
    "w,v = fast_eigenvalue(x[int(5090)])\n",
    "for i in range(len(w)):\n",
    "    print(w[i],'\\n',v[:,i])"
   ]
  },
  {
   "cell_type": "code",
   "execution_count": 190,
   "metadata": {},
   "outputs": [],
   "source": [
    "def fast_det(value):\n",
    "\n",
    "    #parameter\n",
    "    theta,eta,s0,alpha,bb,mu,rho,w,tv = [10,10,10**-6,0.01,-0.5,25,0.1,0.5,0.1]\n",
    "       #theta,eta,s0,alpha,bb,mu,rho,w,tv = [10,10,0,0.01,-0.5,25,0.1,0.5,0.1]\n",
    "\n",
    "    #value\n",
    "    W,L,p,n,s = value\n",
    "    \n",
    "    Mat = np.zeros((3,3))\n",
    "    A = n*p / w\n",
    "    lambda_ = alpha*(s+s0)**bb\n",
    "    \n",
    "\n",
    "    Mat[0,0] = -theta*lambda_\n",
    "    Mat[0,1] = theta*(lambda_-1)*n/w\n",
    "    Mat[0,2] = theta*(A-L)\n",
    "\n",
    "    dot_L = theta*(lambda_*(A-L)-A)\n",
    "    dot_p = ((1-n)*rho*(mu-p)+eta*(w-W)*(E-A+L)+w*dot_L) / (1-n*w-(1-n)*W)\n",
    "\n",
    "    #df3dW = -eta*(E-A+L) / (1-w*n-(1-n)*W) - (1-n)*dot_p / (1-n*w-(1-n)*W)**2\n",
    "    df3dW = -eta*(E-A+L) / (1-w*n-(1-n)*W) + (1-n)*dot_p / (1-n*w-(1-n)*W)**2 # change sign\n",
    "    df3dl = ( (w-W)*eta + w*Mat[1,1] ) / (1-w*n-(1-n)*W)\n",
    "    df3dp =  ( (1-n)*(-rho)-(w-W)*eta*n/w + w*Mat[0,1] ) / (1-w*n-(1-n)*W)\n",
    "    df3dlambda = w*(theta*(A-L)) / (1-w*n-(1-n)*W)\n",
    "\n",
    "    Mat[1,0] = df3dl\n",
    "    Mat[1,1] = df3dp\n",
    "    Mat[1,2] = df3dlambda\n",
    "\n",
    "    \n",
    "    df4dl = w/p*(eta+Mat[0,0])\n",
    "    df4dp = -w/p**2*(eta*(E-A+L)+theta*(lambda_*(A-L)-A)) + w/p * (eta*(-n/w)+Mat[0,1])\n",
    "    df4dlambda = w/p*theta*(A-L)\n",
    "\n",
    "    a0 = ((1-n)*rho*(mu-p)*eta*(w-W)*(E-A+L)+w*theta*(-A)) / (p*(1-n*w-(1-n)*W))\n",
    "    a1 = w*theta*(A-L) / (p*(1-n*w-(1-n)*W))\n",
    "\n",
    "\n",
    "\n",
    "    #Mat[4,0] = delta / (2*alpha**2) * tv**2 *lambda_**2*2*dot_p/p * df3dW /p\n",
    "    #Mat[4,1] = delta / (2*alpha**2) * tv**2 *lambda_**2*2*dot_p/p * df3dl /p\n",
    "    #Mat[4,2] = delta / (2*alpha**2) * tv**2 *lambda_**2*2*dot_p/p * (df3dp /p - dot_p/p**2)\n",
    "    #Mat[4,3] = delta / (2*alpha**2) * tv**2 *lambda_**2*2*dot_p/p * (df3dn /p)\n",
    "    #Mat[4,4] = delta / (2*alpha**2) * (alpha**2 - 3*s0*lambda_**2 + tv**2*lambda_**2*(3*a0**2+2*4*a0*a1*lambda_+5*a1**2*lambda_**2))\n",
    "\n",
    "    \n",
    "    Mat[2,0] = - delta / (2*alpha**2) * tv**2 *lambda_**3*2*dot_p/p * df3dl /p\n",
    "    Mat[2,1] = - delta / (2*alpha**2) * tv**2 *lambda_**3*2*dot_p/p * (df3dp /p - dot_p/p**2)\n",
    "    Mat[2,2] = delta / (2*alpha**2) * (alpha**2 - 3*s0*lambda_**2 - tv**2*lambda_**2*(3*a0**2+2*4*a0*a1*lambda_+5*a1**2*lambda_**2))\n",
    "\n",
    "    return(np.linalg.det(Mat))"
   ]
  },
  {
   "cell_type": "code",
   "execution_count": 191,
   "metadata": {},
   "outputs": [],
   "source": [
    "list_det = np.array([fast_det(value) for value in x])/10**7"
   ]
  },
  {
   "cell_type": "code",
   "execution_count": 192,
   "metadata": {},
   "outputs": [
    {
     "data": {
      "text/plain": [
       "[<matplotlib.lines.Line2D at 0x7f1a79ef7e90>]"
      ]
     },
     "execution_count": 192,
     "metadata": {},
     "output_type": "execute_result"
    }
   ],
   "source": [
    "fig = plt.figure(figsize=(8,8))\n",
    "\n",
    "fig.subplots_adjust(wspace = 0.5, hspace = 0.3)\n",
    "ax1 = fig.add_subplot(3,1,1)\n",
    "ax2 = fig.add_subplot(3,1,2)\n",
    "ax3 = fig.add_subplot(3,1,3)\n",
    "\n",
    "T1,T2 = 3640,4700\n",
    "\n",
    "ax1.plot(t[T1:T2],lambda_[T1:T2], 'g-',label ='s',markersize=0.1)\n",
    "ax2.plot(t[T1:T2],0*list_det[T1:T2],'black',markersize=1,alpha=0.5)\n",
    "ax2.plot(t[T1:T2],list_det[T1:T2],'+--',markersize=1,alpha=0.8)\n"
   ]
  },
  {
   "cell_type": "code",
   "execution_count": null,
   "metadata": {},
   "outputs": [],
   "source": []
  }
 ],
 "metadata": {
  "kernelspec": {
   "display_name": "Python 3",
   "language": "python",
   "name": "python3"
  },
  "language_info": {
   "codemirror_mode": {
    "name": "ipython",
    "version": 3
   },
   "file_extension": ".py",
   "mimetype": "text/x-python",
   "name": "python",
   "nbconvert_exporter": "python",
   "pygments_lexer": "ipython3",
   "version": "3.7.6"
  }
 },
 "nbformat": 4,
 "nbformat_minor": 4
}
