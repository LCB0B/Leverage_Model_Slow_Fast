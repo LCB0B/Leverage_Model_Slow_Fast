{
 "cells": [
  {
   "cell_type": "code",
   "execution_count": 11,
   "metadata": {},
   "outputs": [],
   "source": [
    "\n",
    "import numpy as np\n",
    "import matplotlib.pyplot as plt\n",
    "%matplotlib qt\n",
    "\n",
    "from sympy.solvers import solve\n",
    "from sympy import Symbol\n",
    "import math\n",
    "import random\n",
    "import matplotlib.pyplot as plt\n",
    "from mpl_toolkits.mplot3d import Axes3D\n",
    "from matplotlib import cm\n",
    "from matplotlib.ticker import LinearLocator, FormatStrFormatter"
   ]
  },
  {
   "cell_type": "code",
   "execution_count": 2,
   "metadata": {},
   "outputs": [],
   "source": [
    "def sys(iv, dt, time,function,E,theta,eta,w,delta,alpha,s_0,b,rho):\n",
    "    n = int(time/dt)\n",
    "    t = np.linspace(0,time,n)\n",
    "    x = np.array([[ i for i in iv]]*n)\n",
    "    n_ord = len(iv)\n",
    "    \n",
    "    a = iv\n",
    "    \n",
    "    for i in range(1,n):\n",
    "        X = function(a,E,theta,eta,w,delta,alpha,s_0,b,rho)\n",
    "        #X[0] = X[0] + np.random.normal(0,0.1,1)\n",
    "        a = a + np.array(X)*dt\n",
    "        x[i] = a\n",
    "    return np.array(x)\n"
   ]
  },
  {
   "cell_type": "code",
   "execution_count": 3,
   "metadata": {},
   "outputs": [],
   "source": [
    "def function(x,E,theta,eta,w,delta,alpha,s_0,b,rho):\n",
    "\n",
    "    lambda_ = alpha*(x[4]+s_0)**b\n",
    "    \n",
    "    \n",
    "    A = x[2]*x[3]/w\n",
    "    \n",
    "    mu = 25\n",
    "    dot_W = x[0]*rho*(mu/x[2]-1)\n",
    "    dot_L = theta*(lambda_*(A-x[1])-A)\n",
    "    \n",
    "    #dot_L = theta*(lambda_*(E*lambda_-x[1])-E*lambda_ )\n",
    "    \n",
    "    dot_p = (x[2]* (1-x[3]) * dot_W / x[0] + eta*(w-x[0])*(E-A+x[1])+ w*dot_L ) / (1-x[3]*w-(1-x[3])*x[0])\n",
    "    # / (1-x[3]*w-(1-x[3])*x[0])\n",
    "    dot_n = x[3]* (-(1-w)*dot_p/x[2] + 1/A*(eta*(E-A+x[1])+dot_L))\n",
    "    #dot_n = 0\n",
    "    \n",
    "    #dot_s = -delta*(x[4]) + delta * (np.log(1-dot_p/x[2]))**2\n",
    "    #dot_s = -delta*(x[4]) + delta * (np.log(1-dot_p/x[2]))**2\n",
    "    dot_s = -delta*(x[4]) + delta * (-dot_p/x[2])**2\n",
    "    \n",
    "    \n",
    "    return([dot_W, dot_L, dot_p, dot_n, dot_s])\n",
    "   \n"
   ]
  },
  {
   "cell_type": "code",
   "execution_count": 12,
   "metadata": {},
   "outputs": [],
   "source": [
    "rho= 0.1\n",
    "#rho = 100\n",
    "E = 2\n",
    "\n",
    "mu = 25\n",
    "theta = 10\n",
    "eta = 10\n",
    "w = 0.5\n",
    "\n",
    "delta = 0.5\n",
    "alpha = 0.1\n",
    "#alpha = 0.1\n",
    "\n",
    "s_0 = 10**-6\n",
    "b = -0.5"
   ]
  },
  {
   "cell_type": "code",
   "execution_count": 15,
   "metadata": {},
   "outputs": [],
   "source": [
    "time = 100\n",
    "dt = 10**-2\n",
    "\n",
    "\n",
    "p0 = 15\n",
    "L0 = 5\n",
    "x= sys([0.30,L0,p0,0.8,0.01], dt,time,function,E,theta,eta,w,delta,alpha,s_0,b,rho)\n",
    "\n",
    "n = int(time/dt)\n",
    "t = np.linspace(0,time,n)"
   ]
  },
  {
   "cell_type": "code",
   "execution_count": 21,
   "metadata": {
    "scrolled": false
   },
   "outputs": [
    {
     "name": "stdout",
     "output_type": "stream",
     "text": [
      "10.655574791771485 33.22206145999568\n"
     ]
    }
   ],
   "source": [
    "fig = plt.figure(figsize=(5,5))\n",
    "fig.subplots_adjust(wspace = 0.5, hspace = 0.3)\n",
    "ax1 = fig.add_subplot(5,1,1)\n",
    "ax2 = fig.add_subplot(5,1,2)\n",
    "ax3 = fig.add_subplot(5,1,3)\n",
    "\n",
    "ax5 = fig.add_subplot(5,1,4)\n",
    "ax6 = fig.add_subplot(5,1,5)\n",
    "\n",
    "\n",
    "\n",
    "\n",
    "lambda_ = alpha * (x[:,4] + s_0)**b\n",
    "w = 0.5\n",
    "A = x[:,2]*x[:,3]/w\n",
    "\n",
    "\n",
    "ax1.plot(t,x[:,0], 'r-',label ='W')\n",
    "ax1.set_ylabel('W')\n",
    "\n",
    "ax2.plot(t,x[:,2], 'm-',label ='p')\n",
    "#ax2.plot(t[1000:],w/x[:,3][1000:] * (E+x[:,1][1000:]), 'r-',alpha=0.4)\n",
    "#ax2.plot(t,(lambda_-1)*2.27 + ((lambda_-1)*2.27 - A*(1-1/lambda_))*0.5, 'b--',linewidth=2,label ='L_slow-manifold')\n",
    "#ax2.plot(t,(lambda_-1)*E, 'b--',linewidth=2,label ='L_slow-manifold',alpha=0.5)\n",
    "#ax2.plot(t,(np.log(1-theta*(lambda_*(E*lambda_-x[:,1])-E*lambda_ ) / (w*((lambda_-1)*E-L0)+p0)))**2, 'm+-',linewidth=2,label ='L_slow-manifold',alpha=0.5)\n",
    "\n",
    "ax3.plot(t,x[:,1], 'g-',label ='L',alpha=0.5)\n",
    "\n",
    "#ax2.plot(t,(1-lambda_**-1)*A, 'g--',linewidth=2,label ='L_slow-manifold')\n",
    "ax2.legend(loc=1)\n",
    "ax2.set_ylabel('p')\n",
    "ax3.set_ylabel('L')\n",
    "\n",
    "\n",
    "\n",
    "\n",
    "#ax5.plot(t,x[:,4], 'c-',label ='s')\n",
    "ax5.plot(t,lambda_, 'g-',label ='s')\n",
    "#ax5.plot(t,(np.log(1-theta*lambda_*(E*(lambda_-1)-x[:,1]) / (x[:,1]+10)))**2, 'g--',label ='s')\n",
    "ax5.set_ylabel('s')\n",
    "\n",
    "ax6.plot(t,x[:,3], 'k-',label ='n')\n",
    "ax6.plot(t,w/x[:,2] * (E+x[:,1]), 'r-',alpha=0.4)\n",
    "\n",
    "\n",
    "a = np.linspace(10**-6,1,10000)\n",
    "\n",
    "#ax2.plot(x[:,0][10000:], x[:,1][10000:],'g+-',alpha=0.7)\n",
    "#ax2.plot(x[:,0], x[:,1],'g+-',alpha=0.7)\n",
    "plt.grid()\n",
    "plt.show()\n",
    "print(np.min(x[:,2][200:]),np.max(x[:,2][200:]))"
   ]
  },
  {
   "cell_type": "code",
   "execution_count": 19,
   "metadata": {},
   "outputs": [],
   "source": [
    "fig = plt.figure()\n",
    "ax = fig.add_subplot(111, projection='3d')\n",
    "T1 = 20000\n",
    "T2 = 100000\n",
    "m=25\n",
    "\n",
    "A = x[:,2]*x[:,3] / w\n",
    "\n",
    "#ax.plot(x[:,1][T1:T2], x[:,2][T1:T2]*x[:,3][T1:T2]/w,lambda_[T1:T2],\".\",markersize=0.7,alpha=0.8)\n",
    "#ax.plot((1-1/lambda_[T1:T2])*x[:,3][T1:T2]*x[:,2][T1:T2]/w,    x[:,2][T1:T2]*x[:,3][T1:T2]/w,    lambda_[T1:T2],\"r.\",markersize=0.7,alpha=0.8)\n",
    "\n",
    "#Complete dot(p)=0\n",
    "#NN = (1-x[:,3])*rho*mu + eta*(w-x[:,0])*(E+x[:,1])-w*theta*lambda_*x[:,1]\n",
    "#DD = (1-x[:,3])*rho + eta*(w-x[:,0])*x[:,3]/w-x[:,3]*theta*(lambda_-1)\n",
    "#pp =  NN / DD\n",
    "#ax.plot(x[:,1][T1:T2] , x[:,2][T1:T2] , lambda_[T1:T2],\".-\",markersize=0.7,alpha=0.8)\n",
    "#ax.plot(x[:,1][T1:T2],    pp[T1:T2],    lambda_[T1:T2],\"r.-\",markersize=0.7,alpha=0.8,linewidth=0.1)\n",
    "#ax.set_ylim3d(-100,400)\n",
    "\n",
    "#Complete dot(A) =0\n",
    "#NN = eta*(1-x[:,0])*(E+x[:,1])+x[:,3]*(1-x[:,3])*rho*(mu/x[:,2]-1)-(1-x[:,0]*(1-x[:,3]))*theta*lambda_*x[:,1] \n",
    "#NN = eta*(1-x[:,0])*(E+x[:,1])-(1-x[:,0]*(1-x[:,3]))*theta*lambda_*x[:,1] \n",
    "#DD = eta*(1-x[:,0])-(1-x[:,0]*(1-x[:,3]))*theta*(lambda_-1)\n",
    "#AA = NN / DD\n",
    "\n",
    "ax.plot(x[:,0][T1:T2], x[:,2][T1:T2]*x[:,3][T1:T2]/w,lambda_[T1:T2],\".\",markersize=0.7,alpha=0.8)\n",
    "ax.plot(x[:,0][T1:T2], E+x[:,1][T1:T2],lambda_[T1:T2],\".\",markersize=0.5,alpha=0.5)\n",
    "#ax.plot(x[:,0][T1:T2],    AA[T1:T2],    lambda_[T1:T2],\".\",markersize=0.2,alpha=0.5)\n",
    "\n",
    "#ax.plot(x[:,2][T1:T2]*x[:,3][T1:T2]/w -2,    x[:,2][T1:T2]*x[:,3][T1:T2]/w,    lambda_[T1:T2],\"g-.\",markersize=0.7,alpha=0.8)\n",
    "\n",
    "#pp = mu + eta*(0.5-x[:,0][T1:T2])*(E-A[T1:T2]+x[:,1][T1:T2])/(rho*(1-x[:,3][T1:T2])) + w*theta/rho * (lambda_[T1:T2]*(A[T1:T2]-x[:,1][T1:T2])-A[T1:T2])/(1-x[:,3][T1:T2])\n",
    "\n",
    "#ax.plot(x[:,1][T1:T2], x[:,2][T1:T2],lambda_[T1:T2],\".\",markersize=0.7,alpha=0.8)\n",
    "#ax.plot(x[:,1][T1:T2],pp,lambda_[T1:T2],\"r-\",markersize=0.7,alpha=0.4)\n",
    "\n",
    "\n",
    "ax.set_xlabel('L')\n",
    "ax.set_ylabel('A')\n",
    "ax.set_zlabel('lambda')\n",
    "\n",
    "plt.show()"
   ]
  },
  {
   "cell_type": "code",
   "execution_count": 8,
   "metadata": {},
   "outputs": [],
   "source": [
    "\n",
    "def plot_implicit(fn,fn2, bbox=(0.2,25)):\n",
    "    ''' create a plot of an implicit function\n",
    "    fn  ...implicit function (plot where fn==0)\n",
    "    bbox ..the x,y,and z limits of plotted interval'''\n",
    "    xmin, xmax, ymin, ymax, zmin, zmax = bbox*3\n",
    "    fig = plt.figure()\n",
    "    ax = fig.add_subplot(111, projection='3d')\n",
    "    A = np.linspace(-12, 25, 100) # resolution of the contour #L\n",
    "    B = np.linspace(10,35, 100) # number of slices #n\n",
    "     # grid on which the contour is plotted\n",
    "    A1,A2 = np.meshgrid(A,A)\n",
    "\n",
    "\n",
    "    for y in B: # plot contours in the XZ plane\n",
    "        X,Z = A1,A2\n",
    "        Y = fn(X,y,Z)\n",
    "        for i in range(len(Z)):\n",
    "            for j in range(len(Z[i])):\n",
    "                if Z[i][j]<0.1:\n",
    "                    Z[i][j]=0\n",
    "                    \n",
    "        cset = ax.contour(X, Y+y, Z, [y], zdir='y',linewidth=4,alpha=0.5)\n",
    "    \n",
    "    for y in B: # plot contours in the XZ plane\n",
    "        X,Z = A1,A2\n",
    "        Y = fn2(X,y,Z)\n",
    "        \n",
    "        for i in range(len(Z)):\n",
    "            for j in range(len(Z[i])):\n",
    "                if Z[i][j]<0.1:\n",
    "                    Z[i][j]=0\n",
    "                    \n",
    "        #cset = ax.contour(X, Y+y, Z, [y], zdir='y',linewidth=4,alpha=0.5, colors=('c'))\n",
    "\n",
    "\n",
    "\n",
    "    # must set plot limits because the contour will likely extend\n",
    "    # way beyond the displayed level.  Otherwise matplotlib extends the plot limits\n",
    "    # to encompass all values in the contour.\n",
    "    #ax.set_zlim3d(zmin,zmax)\n",
    "    ax.set_xlim3d(min(A), max(A))\n",
    "    ax.set_ylim3d(min(B),max(B))\n",
    "    ax.set_zlim3d( zmin, zmax)\n",
    "    \n",
    "    ax.set_xlabel('L')\n",
    "    ax.set_ylabel('p')\n",
    "    ax.set_zlabel('lambda_')\n",
    "\n",
    "    plt.show()"
   ]
  },
  {
   "cell_type": "code",
   "execution_count": 9,
   "metadata": {},
   "outputs": [
    {
     "name": "stderr",
     "output_type": "stream",
     "text": [
      "C:\\Users\\kk\\Anaconda3\\lib\\site-packages\\matplotlib\\contour.py:1000: UserWarning: The following kwargs were not used by contour: 'linewidth'\n",
      "  s)\n"
     ]
    },
    {
     "data": {
      "image/png": "[encoded data removed]",
      "text/plain": [
       "<Figure size 432x288 with 1 Axes>"
      ]
     },
     "metadata": {
      "needs_background": "light"
     },
     "output_type": "display_data"
    }
   ],
   "source": [
    "## A IS FAST\n",
    "\n",
    "def df_surf(L,p,z):\n",
    "    mu = 25\n",
    "    rho= 0.1\n",
    "    E = 2\n",
    "    theta = 10\n",
    "    w = 0.5\n",
    "    delta = 0.5\n",
    "    alpha = 0.1\n",
    "    s0=10**-6\n",
    "    \n",
    "    n = w*(E+L)/p\n",
    "    W = 0.54\n",
    "    #return -(alpha/z)**2 + ( rho*(mu/p-1) - z*(E*w/p*rho*(mu/p-1)+w*theta*(L+E)/p) + z**2*(w*theta*E /p))**2\n",
    "    return -alpha + z*((rho*(mu/p-1)*(1-n) + w *theta /p * (z*E-(E+L))) / (1-n*w-(1-n)*W))\n",
    "    \n",
    "    #return -z + ( rho*(mu/p-1) - alpha*z**(-0.5)*(E*w/p*rho*(mu/p-1)+w*theta*(L+E)/p) + (alpha**2/z) *(w*theta*E /p))**2\n",
    "\n",
    "    \n",
    "def df_surf2(L,p,z):\n",
    "    mu = 25\n",
    "    rho= 0.1\n",
    "    E = 2\n",
    "    theta = 10\n",
    "    w = 0.5\n",
    "    delta = 0.5\n",
    "    alpha = 0.1\n",
    "    s0=10**-6\n",
    "    \n",
    "    n = w*(E+L)/p\n",
    "    W = 0.54\n",
    "    #return -(alpha/z)**2 + ( rho*(mu/p-1) - z*(E*w/p*rho*(mu/p-1)+w*theta*(L+E)/p) + z**2*(w*theta*E /p))**2\n",
    "    return +alpha + z*((rho*(mu/p-1)*(1-n) + w *theta /p * (z*E-(E+L))) / (1-n*w-(1-n)*W))\n",
    "    #return -z + ( rho*(mu/p-1) - alpha*z**(-0.5)*(E*w/p*rho*(mu/p-1)+w*theta*(L+E)/p) + (alpha**2/z) *(w*theta*E /p))**2\n",
    "\n",
    "\n",
    "\n",
    "plot_implicit(df_surf,df_surf2)"
   ]
  },
  {
   "cell_type": "code",
   "execution_count": null,
   "metadata": {},
   "outputs": [],
   "source": []
  },
  {
   "cell_type": "code",
   "execution_count": 10,
   "metadata": {},
   "outputs": [
    {
     "data": {
      "image/png": "[encoded data removed]",
      "text/plain": [
       "<Figure size 432x288 with 1 Axes>"
      ]
     },
     "metadata": {
      "needs_background": "light"
     },
     "output_type": "display_data"
    }
   ],
   "source": [
    "\n",
    "mu=25\n",
    "#s = (alpha/lambda_[T1:T2])**2\n",
    "plt.plot(x[:,1][T1:2*T2],x[:,2][T1:2*T2], lambda_[T1:2*T2],'r.',markersize=0.6,alpha=0.8)\n",
    "#plt.plot(x[:,1][T1:T2], x[:,2][T1:T2],lambda_[T1:T2],'--',markersize=0.6)\n",
    "#ax.plot(x[:,0][T1:T2]*0+0.2, x[:,2][T1:T2],alpha*w /( E*rho*(mu/x[:,2][T1:T2]-1)),'m--')\n",
    "\n",
    "ax.set_xlabel('L')\n",
    "ax.set_ylabel('p')\n",
    "ax.set_zlabel('lambda')\n",
    "\n",
    "plt.show()"
   ]
  },
  {
   "cell_type": "code",
   "execution_count": null,
   "metadata": {},
   "outputs": [],
   "source": []
  },
  {
   "cell_type": "code",
   "execution_count": null,
   "metadata": {},
   "outputs": [],
   "source": []
  },
  {
   "cell_type": "code",
   "execution_count": 48,
   "metadata": {},
   "outputs": [
    {
     "name": "stdout",
     "output_type": "stream",
     "text": [
      "30000\n"
     ]
    }
   ],
   "source": [
    "print(len(x))\n",
    "T1 = 10000\n",
    "T2 = 20000"
   ]
  },
  {
   "cell_type": "code",
   "execution_count": 49,
   "metadata": {},
   "outputs": [],
   "source": [
    "def a0(x): \n",
    "    W,L,p,n,s = x\n",
    "    return((rho*(mu/p-1)*(1-n) - w *theta /p *(E+L) ) / (1-n*w-(1-n)*W))\n",
    "\n",
    "def a1(x): \n",
    "    W,L,p,n,s = x\n",
    "    return(w*theta /p *E / (1-n*w-(1-n)*W))\n",
    "\n",
    "a00 = np.array([a0(i) for i in x[T1:T2]])\n",
    "a11 = np.array([a1(i) for i in x[T1:T2]])\n",
    "\n",
    "plt.figure()\n",
    "plt.plot(t[T1:T2],a00**2 )\n",
    "plt.plot(t[T1:T2],a11**2 )\n",
    "plt.plot(t[T1:T2],a11*a00*2 )\n",
    "\n",
    "plt.show()"
   ]
  },
  {
   "cell_type": "code",
   "execution_count": 89,
   "metadata": {},
   "outputs": [],
   "source": [
    "s0=10**-6\n",
    "T1 = 10000\n",
    "T2 = 20000\n",
    "\n",
    "lam = np.real([np.roots([(w*theta /p *E / (1-n*w-(1-n)*W))**2,2*(( rho*(mu/p-1)*(1-n) - w *theta /p *(E+L) ) / (1-n*w-(1-n)*W))*(w*theta /p *E / (1-n*w-(1-n)*W)),(( rho*(mu/p-1)*(1-n) - w *theta /p *(E+L) ) / (1-n*w-(1-n)*W))**2+s0,0,-alpha**2,0  ])[0] for W,L,p,n,s in x[T1:T2]])\n",
    "lam2 = np.real([np.roots([(w*theta /p *E / (1-n*w-(1-n)*W))**2,2*(( rho*(mu/p-1)*(1-n) - w *theta /p *(E+L) ) / (1-n*w-(1-n)*W))*(w*theta /p *E / (1-n*w-(1-n)*W)),(( rho*(mu/p-1)*(1-n) - w *theta /p *(E+L) ) / (1-n*w-(1-n)*W))**2+s0,0,-alpha**2,0  ])[1] for W,L,p,n,s in x[T1:T2]])\n",
    "lam3 = np.real([np.roots([(w*theta /p *E / (1-n*w-(1-n)*W))**2,2*(( rho*(mu/p-1)*(1-n) - w *theta /p *(E+L) ) / (1-n*w-(1-n)*W))*(w*theta /p *E / (1-n*w-(1-n)*W)),(( rho*(mu/p-1)*(1-n) - w *theta /p *(E+L) ) / (1-n*w-(1-n)*W))**2+s0,0,-alpha**2,0  ])[2] for W,L,p,n,s in x[T1:T2]])\n",
    "lam4 = np.real([np.roots([(w*theta /p *E / (1-n*w-(1-n)*W))**2,2*(( rho*(mu/p-1)*(1-n) - w *theta /p *(E+L) ) / (1-n*w-(1-n)*W))*(w*theta /p *E / (1-n*w-(1-n)*W)),(( rho*(mu/p-1)*(1-n) - w *theta /p *(E+L) ) / (1-n*w-(1-n)*W))**2+s0,0,-alpha**2,0  ])[3] for W,L,p,n,s in x[T1:T2]])\n",
    "lam5 = np.real([np.roots([(w*theta /p *E / (1-n*w-(1-n)*W))**2,2*(( rho*(mu/p-1)*(1-n) - w *theta /p *(E+L) ) / (1-n*w-(1-n)*W))*(w*theta /p *E / (1-n*w-(1-n)*W)),(( rho*(mu/p-1)*(1-n) - w *theta /p *(E+L) ) / (1-n*w-(1-n)*W))**2+s0,0,-alpha**2,0  ])[4] for W,L,p,n,s in x[T1:T2]])\n",
    "\n",
    "lami = np.imag([np.roots([(w*theta /p *E / (1-n*w-(1-n)*W))**2,2*(( rho*(mu/p-1)*(1-n) - w *theta /p *(E+L) ) / (1-n*w-(1-n)*W))*(w*theta /p *E / (1-n*w-(1-n)*W)),(( rho*(mu/p-1)*(1-n) - w *theta /p *(E+L) ) / (1-n*w-(1-n)*W))**2+s0,0,-alpha**2,0  ])[0] for W,L,p,n,s in x[T1:T2]])\n",
    "lam2i = np.imag([np.roots([(w*theta /p *E / (1-n*w-(1-n)*W))**2,2*(( rho*(mu/p-1)*(1-n) - w *theta /p *(E+L) ) / (1-n*w-(1-n)*W))*(w*theta /p *E / (1-n*w-(1-n)*W)),(( rho*(mu/p-1)*(1-n) - w *theta /p *(E+L) ) / (1-n*w-(1-n)*W))**2+s0,0,-alpha**2,0  ])[1] for W,L,p,n,s in x[T1:T2]])\n",
    "lam3i = np.imag([np.roots([(w*theta /p *E / (1-n*w-(1-n)*W))**2,2*(( rho*(mu/p-1)*(1-n) - w *theta /p *(E+L) ) / (1-n*w-(1-n)*W))*(w*theta /p *E / (1-n*w-(1-n)*W)),(( rho*(mu/p-1)*(1-n) - w *theta /p *(E+L) ) / (1-n*w-(1-n)*W))**2+s0,0,-alpha**2,0  ])[2] for W,L,p,n,s in x[T1:T2]])\n",
    "lam4i = np.imag([np.roots([(w*theta /p *E / (1-n*w-(1-n)*W))**2,2*(( rho*(mu/p-1)*(1-n) - w *theta /p *(E+L) ) / (1-n*w-(1-n)*W))*(w*theta /p *E / (1-n*w-(1-n)*W)),(( rho*(mu/p-1)*(1-n) - w *theta /p *(E+L) ) / (1-n*w-(1-n)*W))**2+s0,0,-alpha**2,0  ])[3] for W,L,p,n,s in x[T1:T2]])\n",
    "lam5i = np.imag([np.roots([(w*theta /p *E / (1-n*w-(1-n)*W))**2,2*(( rho*(mu/p-1)*(1-n) - w *theta /p *(E+L) ) / (1-n*w-(1-n)*W))*(w*theta /p *E / (1-n*w-(1-n)*W)),(( rho*(mu/p-1)*(1-n) - w *theta /p *(E+L) ) / (1-n*w-(1-n)*W))**2+s0,0,-alpha**2,0  ])[4] for W,L,p,n,s in x[T1:T2]])\n"
   ]
  },
  {
   "cell_type": "code",
   "execution_count": 67,
   "metadata": {},
   "outputs": [],
   "source": [
    "fig = plt.figure(figsize=(5,5))\n",
    "fig.subplots_adjust(wspace = 0.5, hspace = 0.3)\n",
    "ax1 = fig.add_subplot(2,1,1)\n",
    "# ax2 = fig.add_subplot(2,1,2)\n",
    "\n",
    "ax1.plot(t[T1:T2],lambda_[T1:T2])\n",
    "\n",
    "ax1.plot(t[T1:T2],lam,'.-',markersize=0.8,linewidth=0.2)\n",
    "ax1.plot(t[T1:T2],lam2,'.-',markersize=0.8,linewidth=0.2)\n",
    "ax1.plot(t[T1:T2],lam3,'.-',markersize=0.8,linewidth=0.2)\n",
    "ax1.plot(t[T1:T2],lam4,'.-',markersize=0.8,linewidth=0.2)\n",
    "ax1.plot(t[T1:T2],lam5,'.-',markersize=0.8,linewidth=0.2)\n",
    "\n",
    "# ax2.plot(t[T1:T2],lami,'.-',markersize=0.8,linewidth=0.2)\n",
    "# ax2.plot(t[T1:T2],lam2i,'.-',markersize=0.8,linewidth=0.2)\n",
    "# ax2.plot(t[T1:T2],lam3i,'.-',markersize=0.8,linewidth=0.2)\n",
    "# ax2.plot(t[T1:T2],lam4i,'.-',markersize=0.8,linewidth=0.2)\n",
    "# ax2.plot(t[T1:T2],lam5i,'.-',markersize=0.8,linewidth=0.2)\n",
    "\n",
    "plt.show()"
   ]
  },
  {
   "cell_type": "code",
   "execution_count": null,
   "metadata": {},
   "outputs": [],
   "source": []
  },
  {
   "cell_type": "code",
   "execution_count": null,
   "metadata": {},
   "outputs": [],
   "source": []
  },
  {
   "cell_type": "code",
   "execution_count": null,
   "metadata": {},
   "outputs": [],
   "source": []
  },
  {
   "cell_type": "code",
   "execution_count": 183,
   "metadata": {},
   "outputs": [],
   "source": [
    "lam3 = np.real([np.roots([(w *theta /p *(n*p/w -L)) / (1-n*w-(1-n)*W),( rho*(mu/p-1)*(1-n) + 1/p *eta*(w-W)*(E-n*p/w+L) -n*theta )/(1-n*w-(1-n)*W),alpha  ])[0] for W,L,p,n,s in x[T1:T2]])\n",
    "lam2 = np.real([np.roots([(w *theta /p *(n*p/w -L)) / (1-n*w-(1-n)*W),( rho*(mu/p-1)*(1-n) + 1/p *eta*(w-W)*(E-n*p/w+L) -n*theta )/(1-n*w-(1-n)*W),alpha  ])[1] for W,L,p,n,s in x[T1:T2]])\n",
    "\n",
    "\n",
    "    "
   ]
  },
  {
   "cell_type": "code",
   "execution_count": 184,
   "metadata": {},
   "outputs": [],
   "source": [
    "plt.figure()\n",
    "#plt.plot(x[:,1][T1:T2],lam)\n",
    "plt.plot(x[:,1][T1:T2],alpha * (x[:,4][T1:T2] + s_0)**b,alpha=0.5)\n",
    "plt.plot(x[:,1][T1:T2],lam,'g-')\n",
    "plt.plot(x[:,1][T1:T2],lam3)\n",
    "plt.plot(x[:,1][T1:T2],lam2)\n",
    "\n",
    "\n",
    "\n",
    "plt.show()"
   ]
  },
  {
   "cell_type": "code",
   "execution_count": 90,
   "metadata": {},
   "outputs": [],
   "source": [
    "def deriv_traj(Lx,l_lam):\n",
    "    W = Lx[:,0]\n",
    "    L = Lx[:,1]\n",
    "    p = Lx[:,2]\n",
    "    n = Lx[:,3]\n",
    "    lambda_ = l_lam\n",
    "    \n",
    "    mu = 25\n",
    "    rho= 0.1\n",
    "    E = 2\n",
    "    theta = 10\n",
    "    w = 0.5\n",
    "    delta = 0.5\n",
    "    alpha = 0.1\n",
    "    s0 = 10**-6\n",
    "    \n",
    "    a0 = ( rho*(mu/p-1)*(1-n) - w *theta /p *(E+L) ) / (1-n*w-(1-n)*W)\n",
    "    a1 = w*theta /p *E / (1-n*w-(1-n)*W)\n",
    "    \n",
    "    df = alpha**2 - lambda_**2 * 3*(a0**2+s0) - 4*lambda_**3 * (2*a0*a1) - 5 *lambda_**4 * a1**2\n",
    "    return delta*df"
   ]
  },
  {
   "cell_type": "code",
   "execution_count": 17,
   "metadata": {},
   "outputs": [
    {
     "ename": "NameError",
     "evalue": "name 'deriv_traj' is not defined",
     "output_type": "error",
     "traceback": [
      "\u001b[1;31m---------------------------------------------------------------------------\u001b[0m",
      "\u001b[1;31mNameError\u001b[0m                                 Traceback (most recent call last)",
      "\u001b[1;32m<ipython-input-17-0c63c32c3456>\u001b[0m in \u001b[0;36m<module>\u001b[1;34m\u001b[0m\n\u001b[0;32m      1\u001b[0m \u001b[1;33m\u001b[0m\u001b[0m\n\u001b[1;32m----> 2\u001b[1;33m \u001b[0mdf0\u001b[0m \u001b[1;33m=\u001b[0m \u001b[0mderiv_traj\u001b[0m\u001b[1;33m(\u001b[0m\u001b[0mx\u001b[0m\u001b[1;33m[\u001b[0m\u001b[0mT1\u001b[0m\u001b[1;33m:\u001b[0m\u001b[0mT2\u001b[0m\u001b[1;33m]\u001b[0m\u001b[1;33m,\u001b[0m\u001b[0mlambda_\u001b[0m\u001b[1;33m[\u001b[0m\u001b[0mT1\u001b[0m\u001b[1;33m:\u001b[0m\u001b[0mT2\u001b[0m\u001b[1;33m]\u001b[0m\u001b[1;33m)\u001b[0m\u001b[1;33m\u001b[0m\u001b[1;33m\u001b[0m\u001b[0m\n\u001b[0m\u001b[0;32m      3\u001b[0m \u001b[1;33m\u001b[0m\u001b[0m\n\u001b[0;32m      4\u001b[0m \u001b[0ml_lam\u001b[0m \u001b[1;33m=\u001b[0m \u001b[0mlam\u001b[0m\u001b[1;33m\u001b[0m\u001b[1;33m\u001b[0m\u001b[0m\n\u001b[0;32m      5\u001b[0m \u001b[0mdf\u001b[0m \u001b[1;33m=\u001b[0m \u001b[0mderiv_traj\u001b[0m\u001b[1;33m(\u001b[0m\u001b[0mx\u001b[0m\u001b[1;33m[\u001b[0m\u001b[0mT1\u001b[0m\u001b[1;33m:\u001b[0m\u001b[0mT2\u001b[0m\u001b[1;33m]\u001b[0m\u001b[1;33m,\u001b[0m\u001b[0ml_lam\u001b[0m\u001b[1;33m)\u001b[0m\u001b[1;33m\u001b[0m\u001b[1;33m\u001b[0m\u001b[0m\n",
      "\u001b[1;31mNameError\u001b[0m: name 'deriv_traj' is not defined"
     ]
    }
   ],
   "source": [
    "\n",
    "df0 = deriv_traj(x[T1:T2],lambda_[T1:T2])\n",
    "\n",
    "l_lam = lam\n",
    "df = deriv_traj(x[T1:T2],l_lam)\n",
    "\n",
    "l_lam2 = lam2\n",
    "df2 = deriv_traj(x[T1:T2],l_lam2)\n",
    "\n",
    "l_lam3 = lam3\n",
    "df3 = deriv_traj(x[T1:T2],l_lam3)\n",
    "\n",
    "l_lam4 = lam4\n",
    "df4 = deriv_traj(x[T1:T2],l_lam4)"
   ]
  },
  {
   "cell_type": "code",
   "execution_count": 93,
   "metadata": {},
   "outputs": [
    {
     "data": {
      "text/plain": [
       "[<matplotlib.lines.Line2D at 0x61c7666550>]"
      ]
     },
     "execution_count": 93,
     "metadata": {},
     "output_type": "execute_result"
    }
   ],
   "source": [
    "fig = plt.figure(figsize=(5,5))\n",
    "fig.subplots_adjust(wspace = 0.5, hspace = 0.3)\n",
    "ax1 = fig.add_subplot(2,1,1)\n",
    "ax2 = fig.add_subplot(2,1,2)\n",
    "\n",
    "lambda_ = alpha * (x[:,4] + s_0)**b\n",
    "\n",
    "ax1.plot(t[T1:T2],lambda_[T1:T2])\n",
    "ax1.plot(t[T1:T2],lam,'.-',markersize=0.8,linewidth=0.2)\n",
    "ax1.plot(t[T1:T2],lam2,'.-',markersize=0.8,linewidth=0.2)\n",
    "ax1.plot(t[T1:T2],lam3,'.-',markersize=0.8,linewidth=0.2)\n",
    "ax1.plot(t[T1:T2],lam4,'.-',markersize=0.8,linewidth=0.2)\n",
    "\n",
    "\n",
    "ax2.plot(t[T1:T2],0*df, 'k--',label ='s',alpha=0.6)\n",
    "ax2.plot(t[T1:T2],df, 'g-',label ='s')\n",
    "ax2.plot(t[T1:T2],df2, 'c-',label ='s')\n",
    "ax2.plot(t[T1:T2],df3, 'm-',label ='s')\n",
    "ax2.plot(t[T1:T2],df4, 'm-',label ='s')\n",
    "\n",
    "ax2.plot(t[T1:T2],df0, 'k.-',markersize=0.5,linewidth=0.3)\n",
    "\n",
    "\n",
    "#ax2.set_ylim([-20,20])"
   ]
  },
  {
   "cell_type": "code",
   "execution_count": null,
   "metadata": {},
   "outputs": [],
   "source": []
  },
  {
   "cell_type": "code",
   "execution_count": null,
   "metadata": {},
   "outputs": [],
   "source": []
  },
  {
   "cell_type": "code",
   "execution_count": null,
   "metadata": {},
   "outputs": [],
   "source": []
  },
  {
   "cell_type": "code",
   "execution_count": null,
   "metadata": {},
   "outputs": [],
   "source": []
  },
  {
   "cell_type": "code",
   "execution_count": 187,
   "metadata": {},
   "outputs": [],
   "source": [
    "def stability(Lx,lam):\n",
    "    d = deriv_traj(Lx,lam)\n",
    "    u = d.copy()\n",
    "    s = d.copy()\n",
    "    for i in range(len(d)):\n",
    "        if np.sign(d[i])<0:\n",
    "            s[i] = 1\n",
    "            u[i] = np.nan\n",
    "        elif np.sign(d[i])>0:\n",
    "            u[i] = 1\n",
    "            s[i] = np.nan\n",
    "    return(s,u)\n",
    "    "
   ]
  },
  {
   "cell_type": "code",
   "execution_count": 188,
   "metadata": {
    "scrolled": true
   },
   "outputs": [],
   "source": [
    "s1,u1 = stability(x[T1:T2],lam)\n",
    "s2,u2 = stability(x[T1:T2],lam2)\n",
    "s3,u3 = stability(x[T1:T2],lam3)"
   ]
  },
  {
   "cell_type": "code",
   "execution_count": 191,
   "metadata": {},
   "outputs": [
    {
     "name": "stderr",
     "output_type": "stream",
     "text": [
      "C:\\Users\\kk\\Anaconda3\\lib\\site-packages\\ipykernel_launcher.py:10: UserWarning: Requested projection is different from current axis projection, creating new axis with requested projection.\n",
      "  # Remove the CWD from sys.path while we load stuff.\n"
     ]
    }
   ],
   "source": [
    "\n",
    "l_L = np.linspace(0,3,100)\n",
    "l_lambda = np.linspace(0,2.4,100)\n",
    "\n",
    "X,Y = np.meshgrid(l_L,l_lambda)\n",
    "df = deriv_traj(X,Y)\n",
    "\n",
    "fig = plt.figure()\n",
    "ax = fig.add_subplot(1,1,1)\n",
    "ax = fig.gca(projection='3d')\n",
    "#surf = ax.plot_surface(X, Y, df, cmap=cm.bwr,linewidth=1, antialiased=False,alpha=0.6)\n",
    "#surf = ax.plot_surface(X, Y, 0*df,cmap = cm.RdGy,linewidth=0, antialiased=False,alpha=0.5)\n",
    "#surf = ax.plot_surface(X, Y, df, cmap=cm.bwr,linewidth=1, antialiased=False,alpha=0.6)\n",
    "\n",
    "\n",
    "#fig.colorbar(surf, shrink=0.5, aspect=5)\n",
    "ax.set_xlabel('L')\n",
    "ax.set_ylabel('n')\n",
    "ax.set_zlabel('lamda_')\n",
    "plt.plot(x[:,1][T1:T2],x[:,3][T1:T2],alpha * (x[:,4][T1:T2] + s_0)**b,'-',alpha=0.5,label ='Trajectory')\n",
    "#plt.plot(x[:,1][T1:T2],lam,deriv_traj(x[:,1][T1:T2],lam),'c--',markersize=10,alpha=0.8)\n",
    "\n",
    "ax.plot(x[:,1][T1:T2],x[:,3][T1:T2],lam*s1,'r-',label ='Attracting')\n",
    "ax.plot(x[:,1][T1:T2],x[:,3][T1:T2],lam2*s2,'r-')\n",
    "#ax.plot(x[:,1][T1:T2],x[:,3][T1:T2],lam3*s3,'r-') #strange\n",
    "#ax.plot(x[:,1][T1:T2],x[:,3][T1:T2],lam*u1,'k-')\n",
    "#ax.plot(x[:,1][T1:T2],x[:,3][T1:T2],lam2*u2,'k-')\n",
    "ax.plot(x[:,1][T1:T2],x[:,3][T1:T2],lam3,'k-')\n",
    "\n",
    "#ax.plot(x[:,1][T1:T2],lam3,'k-',label ='Repelling')\n",
    "ax.legend()\n",
    "plt.show()"
   ]
  },
  {
   "cell_type": "code",
   "execution_count": 432,
   "metadata": {},
   "outputs": [
    {
     "name": "stdout",
     "output_type": "stream",
     "text": [
      "10000 12000\n"
     ]
    }
   ],
   "source": [
    "print(T1,T2)"
   ]
  },
  {
   "cell_type": "code",
   "execution_count": 304,
   "metadata": {},
   "outputs": [
    {
     "data": {
      "text/plain": [
       "-1"
      ]
     },
     "execution_count": 304,
     "metadata": {},
     "output_type": "execute_result"
    }
   ],
   "source": [
    "np.sign(-2)"
   ]
  },
  {
   "cell_type": "code",
   "execution_count": 320,
   "metadata": {},
   "outputs": [
    {
     "name": "stdout",
     "output_type": "stream",
     "text": [
      "[-17.8   0.    nan  40.   54. ]\n"
     ]
    }
   ],
   "source": [
    "a = np.array([-1,0,2,5,6])\n",
    "b = np.array([17.8,5,np.nan,8,9])\n",
    "print(a*b)"
   ]
  },
  {
   "cell_type": "code",
   "execution_count": 321,
   "metadata": {},
   "outputs": [],
   "source": [
    "plt.figure()\n",
    "plt.plot(a,a*b)\n",
    "plt.show()"
   ]
  },
  {
   "cell_type": "code",
   "execution_count": null,
   "metadata": {},
   "outputs": [],
   "source": []
  }
 ],
 "metadata": {
  "kernelspec": {
   "display_name": "Python 3",
   "language": "python",
   "name": "python3"
  },
  "language_info": {
   "codemirror_mode": {
    "name": "ipython",
    "version": 3
   },
   "file_extension": ".py",
   "mimetype": "text/x-python",
   "name": "python",
   "nbconvert_exporter": "python",
   "pygments_lexer": "ipython3",
   "version": "3.7.3"
  }
 },
 "nbformat": 4,
 "nbformat_minor": 2
}
