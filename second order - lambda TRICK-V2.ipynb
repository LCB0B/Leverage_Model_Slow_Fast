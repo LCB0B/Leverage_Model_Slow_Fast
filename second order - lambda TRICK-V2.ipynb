{
 "cells": [
  {
   "cell_type": "code",
   "execution_count": 1,
   "metadata": {},
   "outputs": [],
   "source": [
    "\n",
    "import numpy as np\n",
    "import matplotlib.pyplot as plt\n",
    "%matplotlib qt\n",
    "\n",
    "from sympy.solvers import solve\n",
    "from sympy import Symbol"
   ]
  },
  {
   "cell_type": "code",
   "execution_count": 2,
   "metadata": {},
   "outputs": [],
   "source": [
    "\n",
    "def second_order(X,Y,delta,alpha,s_0): # ddot in first derivative, dot and ln order one.\n",
    "    #return(delta*X - 2*Y + 3*Y**2/X + delta /(4*alpha**2) * X**3 *  (np.log(1+2*Y/X))**2)\n",
    "    return(delta*X -delta*s_0*X**3 / alpha**2 - 2*Y + Y**2 * (3/X- delta*X /(4*alpha**2)))\n",
    "   \n",
    "def second_order(X,Y,delta,alpha,s_0): # ddot in first derivative, dot and ln order one.\n",
    "    return(delta*X -delta*s_0*X**3 / alpha**2 - 2*Y + 3*Y**2/X - delta /(4*alpha**2) * X**3 *  (np.log(1+Y/X))**2)\n",
    "    #return(delta*X -delta*s_0*X**3 / alpha**2 - 2*Y + Y**2 * (3/X- delta*X /(4*alpha**2)))\n",
    "\n"
   ]
  },
  {
   "cell_type": "code",
   "execution_count": 3,
   "metadata": {},
   "outputs": [],
   "source": [
    "def sys(iv1, iv2, dt, time,function,delta,alpha,s_O):\n",
    "    n = int(time/dt)\n",
    "    t = np.linspace(0,time,n)\n",
    "    x = [iv1]* n\n",
    "    y = [iv2]* n\n",
    "    \n",
    "    for i in range(1,n):\n",
    "        y[i] = y[i-1] + function(x[i-1],y[i-1],delta,alpha,s_O)*dt\n",
    "        x[i] = x[i-1] + y[i-1]*dt\n",
    "        #z.append(z[i] + (h(x[i],y[i],z[i])) * dt)\n",
    "    return np.array(x), np.array(y)\n",
    "\n"
   ]
  },
  {
   "cell_type": "code",
   "execution_count": 10,
   "metadata": {},
   "outputs": [],
   "source": [
    "time = 2000\n",
    "dt = 0.01\n",
    "delta = 0.1\n",
    "alpha = 0.1\n",
    "s_0 = 10**-4\n",
    "\n",
    "x,y = sys(0.4,0.1, dt,time,second_order,delta,alpha,s_0)\n",
    "\n",
    "n = int(time/dt)\n",
    "t = np.linspace(0,time,n)\n"
   ]
  },
  {
   "cell_type": "code",
   "execution_count": 11,
   "metadata": {},
   "outputs": [
    {
     "name": "stdout",
     "output_type": "stream",
     "text": [
      "9.999999999999202\n"
     ]
    }
   ],
   "source": [
    "fig = plt.figure(figsize=(15,5))\n",
    "fig.subplots_adjust(wspace = 0.5, hspace = 0.3)\n",
    "ax1 = fig.add_subplot(1,2,1)\n",
    "ax2 = fig.add_subplot(1,2,2)\n",
    "\n",
    "\n",
    "#ax1.plot(z, 'g-', label='prey')\n",
    "ax1.set_title(\"Dynamics in time\")\n",
    "ax1.set_xlabel(\"t\")\n",
    "ax1.grid()\n",
    "\n",
    "T1,T2 = 100,200\n",
    "T1,T2 = 0,2000\n",
    "T1,T2 = int(T1/dt),int(T2/dt)\n",
    "    \n",
    "#ax1.plot(t[T1:T2],1/x[T1:T2]**2, 'r-', label=r'$\\sigma=0$')\n",
    "ax1.plot(t[T1:T2],x[T1:T2], 'r-', label=r'$\\sigma=0$')\n",
    "#ax1.plot(t,y, 'b-', label=r'$\\dot{\\sigma}=0$')\n",
    "\n",
    "a = np.linspace(0,0.4,10000)\n",
    "\n",
    "#ax2.plot(a,np.array(imp(a,delta))[0],'r+-')\n",
    "#ax2.plot(a,np.array(imp(a,delta))[1],'r+-')\n",
    "#ax2.plot(a,np.array(ddot(a,delta))[0])\n",
    "#ax2.plot(a,np.array(ddot(a,delta))[1])\n",
    "#ax2.plot(delta**2/3,imp(delta**2/3,delta),'go')\n",
    "\n",
    "#ax2.plot(1/x[T1:T2]**2, 1/y[T1:T2]**2,'g+--',alpha=0.7)\n",
    "ax2.plot(x[T1:T2], y[T1:T2],'g+--',alpha=0.7)\n",
    "\n",
    "plt.grid()\n",
    "plt.show()\n",
    "print(x[-1])"
   ]
  },
  {
   "cell_type": "code",
   "execution_count": null,
   "metadata": {},
   "outputs": [],
   "source": [
    "\n"
   ]
  },
  {
   "cell_type": "code",
   "execution_count": 6,
   "metadata": {},
   "outputs": [
    {
     "data": {
      "text/plain": [
       "[<matplotlib.lines.Line2D at 0x7f7b58adc5d0>]"
      ]
     },
     "execution_count": 6,
     "metadata": {},
     "output_type": "execute_result"
    }
   ],
   "source": [
    "plt.figure()\n",
    "Z = delta * x**3 + y*x**2 - (delta/4)*y**2\n",
    "plt.plot(t[T1:T2],y[T1:T2]/x[T1:T2], '+--')\n",
    "plt.plot(t[T1:T2],Z[T1:T2], '+--')\n"
   ]
  },
  {
   "cell_type": "markdown",
   "metadata": {},
   "source": [
    "## SLOW MANIFOLD"
   ]
  },
  {
   "cell_type": "code",
   "execution_count": 12,
   "metadata": {},
   "outputs": [
    {
     "name": "stderr",
     "output_type": "stream",
     "text": [
      "/home/lcbob/anaconda3/lib/python3.7/site-packages/ipykernel_launcher.py:15: RuntimeWarning: divide by zero encountered in true_divide\n",
      "  from ipykernel import kernelapp as app\n",
      "/home/lcbob/anaconda3/lib/python3.7/site-packages/ipykernel_launcher.py:15: RuntimeWarning: divide by zero encountered in log\n",
      "  from ipykernel import kernelapp as app\n",
      "/home/lcbob/anaconda3/lib/python3.7/site-packages/ipykernel_launcher.py:15: RuntimeWarning: invalid value encountered in log\n",
      "  from ipykernel import kernelapp as app\n",
      "/home/lcbob/anaconda3/lib/python3.7/site-packages/ipykernel_launcher.py:15: RuntimeWarning: invalid value encountered in multiply\n",
      "  from ipykernel import kernelapp as app\n"
     ]
    },
    {
     "data": {
      "text/plain": [
       "<matplotlib.contour.QuadContourSet at 0x7f86631d9b50>"
      ]
     },
     "execution_count": 12,
     "metadata": {},
     "output_type": "execute_result"
    }
   ],
   "source": [
    "from numpy import arange\n",
    "from numpy import meshgrid\n",
    "\n",
    "d = 0.01\n",
    "\n",
    "\n",
    "xrange = arange(0, 100, d)\n",
    "yrange = arange(-10, 100, d)\n",
    "X, Y = meshgrid(xrange,yrange)\n",
    "\n",
    "# F is one side of the equation, G is the other\n",
    "#F = delta * Y**4 + (X*Y)**2 - delta/4 * X**6\n",
    "\n",
    "\n",
    "F = delta*X -delta*s_0*X**3 / alpha**2 - 2*Y + 3*Y**2/X - delta /(4*alpha**2) * X**3 *  (np.log(1+Y/X))**2\n",
    "\n",
    "plt.figure()\n",
    "plt.grid()\n",
    "plt.contour(X, Y, F , [0])\n"
   ]
  },
  {
   "cell_type": "code",
   "execution_count": 13,
   "metadata": {},
   "outputs": [
    {
     "data": {
      "text/plain": [
       "[<matplotlib.lines.Line2D at 0x7f866321c310>]"
      ]
     },
     "execution_count": 13,
     "metadata": {},
     "output_type": "execute_result"
    }
   ],
   "source": [
    "plt.plot(x,y)\n"
   ]
  },
  {
   "cell_type": "code",
   "execution_count": 43,
   "metadata": {
    "scrolled": false
   },
   "outputs": [
    {
     "data": {
      "text/plain": [
       "[<matplotlib.lines.Line2D at 0x7f11d1518950>]"
      ]
     },
     "execution_count": 43,
     "metadata": {},
     "output_type": "execute_result"
    }
   ],
   "source": [
    "T1,T2 = 100,110\n",
    "T1,T2 = int(T1/dt),int(T2/dt)\n",
    "plt.plot(1/x[T1:T2]**2, 1/y[T1:T2]**2,'g+--',alpha=0.7)\n"
   ]
  },
  {
   "cell_type": "code",
   "execution_count": null,
   "metadata": {},
   "outputs": [],
   "source": []
  },
  {
   "cell_type": "code",
   "execution_count": null,
   "metadata": {},
   "outputs": [],
   "source": []
  },
  {
   "cell_type": "code",
   "execution_count": null,
   "metadata": {},
   "outputs": [],
   "source": []
  },
  {
   "cell_type": "code",
   "execution_count": null,
   "metadata": {},
   "outputs": [],
   "source": []
  },
  {
   "cell_type": "code",
   "execution_count": null,
   "metadata": {},
   "outputs": [],
   "source": []
  },
  {
   "cell_type": "code",
   "execution_count": null,
   "metadata": {},
   "outputs": [],
   "source": []
  },
  {
   "cell_type": "code",
   "execution_count": null,
   "metadata": {},
   "outputs": [],
   "source": []
  },
  {
   "cell_type": "code",
   "execution_count": 85,
   "metadata": {},
   "outputs": [
    {
     "name": "stderr",
     "output_type": "stream",
     "text": [
      "/home/lcbob/anaconda3/lib/python3.7/site-packages/ipykernel_launcher.py:22: RuntimeWarning: divide by zero encountered in true_divide\n",
      "/home/lcbob/anaconda3/lib/python3.7/site-packages/ipykernel_launcher.py:22: RuntimeWarning: divide by zero encountered in log\n",
      "/home/lcbob/anaconda3/lib/python3.7/site-packages/ipykernel_launcher.py:22: RuntimeWarning: invalid value encountered in log\n"
     ]
    },
    {
     "ename": "NameError",
     "evalue": "name 'imp_domain' is not defined",
     "output_type": "error",
     "traceback": [
      "\u001b[0;31m---------------------------------------------------------------------------\u001b[0m",
      "\u001b[0;31mNameError\u001b[0m                                 Traceback (most recent call last)",
      "\u001b[0;32m<ipython-input-85-e85eb8823a49>\u001b[0m in \u001b[0;36m<module>\u001b[0;34m\u001b[0m\n\u001b[1;32m     24\u001b[0m \u001b[0;34m\u001b[0m\u001b[0m\n\u001b[1;32m     25\u001b[0m \u001b[0ma\u001b[0m\u001b[0;34m=\u001b[0m \u001b[0mnp\u001b[0m\u001b[0;34m.\u001b[0m\u001b[0mlinspace\u001b[0m\u001b[0;34m(\u001b[0m\u001b[0;36m10\u001b[0m\u001b[0;34m**\u001b[0m\u001b[0;34m-\u001b[0m\u001b[0;36m5\u001b[0m\u001b[0;34m,\u001b[0m\u001b[0;36m1\u001b[0m\u001b[0;34m,\u001b[0m\u001b[0;36m1000\u001b[0m\u001b[0;34m)\u001b[0m\u001b[0;34m\u001b[0m\u001b[0;34m\u001b[0m\u001b[0m\n\u001b[0;32m---> 26\u001b[0;31m \u001b[0max\u001b[0m\u001b[0;34m.\u001b[0m\u001b[0mplot\u001b[0m\u001b[0;34m(\u001b[0m\u001b[0ma\u001b[0m\u001b[0;34m,\u001b[0m\u001b[0mimp_domain\u001b[0m\u001b[0;34m(\u001b[0m\u001b[0ma\u001b[0m\u001b[0;34m,\u001b[0m\u001b[0mdelta\u001b[0m\u001b[0;34m)\u001b[0m\u001b[0;34m,\u001b[0m\u001b[0mcolor\u001b[0m\u001b[0;34m=\u001b[0m\u001b[0;34m'red'\u001b[0m\u001b[0;34m,\u001b[0m \u001b[0mlinestyle\u001b[0m\u001b[0;34m=\u001b[0m\u001b[0;34m'--'\u001b[0m\u001b[0;34m,\u001b[0m \u001b[0mlw\u001b[0m\u001b[0;34m=\u001b[0m\u001b[0;36m0.9\u001b[0m\u001b[0;34m,\u001b[0m \u001b[0mlabel\u001b[0m\u001b[0;34m=\u001b[0m\u001b[0;34m'sqrt=0'\u001b[0m\u001b[0;34m)\u001b[0m\u001b[0;34m\u001b[0m\u001b[0;34m\u001b[0m\u001b[0m\n\u001b[0m\u001b[1;32m     27\u001b[0m \u001b[0;34m\u001b[0m\u001b[0m\n\u001b[1;32m     28\u001b[0m \u001b[0max\u001b[0m\u001b[0;34m.\u001b[0m\u001b[0mset_xlabel\u001b[0m\u001b[0;34m(\u001b[0m\u001b[0;34mr'$\\sigma$'\u001b[0m\u001b[0;34m)\u001b[0m\u001b[0;34m\u001b[0m\u001b[0;34m\u001b[0m\u001b[0m\n",
      "\u001b[0;31mNameError\u001b[0m: name 'imp_domain' is not defined"
     ]
    }
   ],
   "source": [
    "\n",
    "x0,x1,y0,y1 = 0,1,-1,1\n",
    "\n",
    "x = np.linspace(x0,x1,40)\n",
    "y = np.linspace(y0,y1,30)\n",
    "\n",
    "fig, ax = plt.subplots()\n",
    "\n",
    "\n",
    "ax.grid()\n",
    "X, Y = np.meshgrid(x, y)\n",
    "u = Y\n",
    "v = second_order(X,Y,sgn,delta)\n",
    "\n",
    "n = -2\n",
    "color_array = np.sqrt(((v-n)/2)**2 + ((u-n)/2)**2)\n",
    "\n",
    "ax.set_xlim([x0,x1])\n",
    "ax.set_ylim([y0,y1])\n",
    "\n",
    "ax.quiver(X,Y,u,v, alpha=0.8)\n",
    "\n",
    "\n",
    "a= np.linspace(10**-5,1,1000)\n",
    "\n",
    "a= np.linspace(10**-5,1,1000)\n",
    "ax.plot(a,imp_domain(a,delta),color='red', linestyle='--', lw=0.9, label='sqrt=0')\n",
    "\n",
    "ax.set_xlabel(r'$\\sigma$')\n",
    "ax.set_ylabel(r'$\\dot{\\sigma}$')    \n",
    "    \n",
    "plt.savefig('quiver_plot_2nd.png', dpi=800)\n",
    "plt.show()"
   ]
  },
  {
   "cell_type": "code",
   "execution_count": null,
   "metadata": {},
   "outputs": [],
   "source": []
  }
 ],
 "metadata": {
  "kernelspec": {
   "display_name": "Python 3",
   "language": "python",
   "name": "python3"
  },
  "language_info": {
   "codemirror_mode": {
    "name": "ipython",
    "version": 3
   },
   "file_extension": ".py",
   "mimetype": "text/x-python",
   "name": "python",
   "nbconvert_exporter": "python",
   "pygments_lexer": "ipython3",
   "version": "3.7.6"
  }
 },
 "nbformat": 4,
 "nbformat_minor": 2
}
